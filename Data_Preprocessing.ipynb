{
 "cells": [
  {
   "cell_type": "markdown",
   "id": "33802498-16aa-4f6c-ba80-bc88728cef25",
   "metadata": {},
   "source": [
    "# Data Collection"
   ]
  },
  {
   "cell_type": "code",
   "execution_count": null,
   "id": "115a81c1-ab8f-4ba1-a8a8-e31f0f840acb",
   "metadata": {},
   "outputs": [],
   "source": [
    "pip install numpy pandas scikit-learn nltk tensorflow keras statsmodels tqdm matplotlib graphviz"
   ]
  },
  {
   "cell_type": "code",
   "execution_count": null,
   "id": "bf7f313b-fd8e-4dfb-a5f4-7ac0c97ede2d",
   "metadata": {},
   "outputs": [],
   "source": [
    "pip install transformers datasets evaluate torch"
   ]
  },
  {
   "cell_type": "code",
   "execution_count": null,
   "id": "fe955823-84ea-4b8e-8116-251a8ef6fea9",
   "metadata": {},
   "outputs": [],
   "source": [
    "pip install tf-keras"
   ]
  },
  {
   "cell_type": "code",
   "execution_count": 74,
   "id": "da56fdfe-ad2a-46e6-9440-0c88ab6316b5",
   "metadata": {},
   "outputs": [
    {
     "name": "stdout",
     "output_type": "stream",
     "text": [
      "Collecting keras-tuner\n",
      "  Obtaining dependency information for keras-tuner from https://files.pythonhosted.org/packages/db/5d/945296512980b0827e93418514c8be9236baa6f0a1e8ca8be3a2026665b0/keras_tuner-1.4.7-py3-none-any.whl.metadata\n",
      "  Downloading keras_tuner-1.4.7-py3-none-any.whl.metadata (5.4 kB)\n",
      "Requirement already satisfied: keras in /Users/jack/anaconda3/lib/python3.11/site-packages (from keras-tuner) (3.7.0)\n",
      "Requirement already satisfied: packaging in /Users/jack/anaconda3/lib/python3.11/site-packages (from keras-tuner) (24.2)\n",
      "Requirement already satisfied: requests in /Users/jack/anaconda3/lib/python3.11/site-packages (from keras-tuner) (2.32.3)\n",
      "Collecting kt-legacy (from keras-tuner)\n",
      "  Obtaining dependency information for kt-legacy from https://files.pythonhosted.org/packages/16/53/aca9f36da2516db008017db85a1f3cafaee0efc5fc7a25d94c909651792f/kt_legacy-1.0.5-py3-none-any.whl.metadata\n",
      "  Downloading kt_legacy-1.0.5-py3-none-any.whl.metadata (221 bytes)\n",
      "Requirement already satisfied: absl-py in /Users/jack/anaconda3/lib/python3.11/site-packages (from keras->keras-tuner) (2.1.0)\n",
      "Requirement already satisfied: numpy in /Users/jack/anaconda3/lib/python3.11/site-packages (from keras->keras-tuner) (1.26.4)\n",
      "Requirement already satisfied: rich in /Users/jack/anaconda3/lib/python3.11/site-packages (from keras->keras-tuner) (13.9.4)\n",
      "Requirement already satisfied: namex in /Users/jack/anaconda3/lib/python3.11/site-packages (from keras->keras-tuner) (0.0.8)\n",
      "Requirement already satisfied: h5py in /Users/jack/anaconda3/lib/python3.11/site-packages (from keras->keras-tuner) (3.12.1)\n",
      "Requirement already satisfied: optree in /Users/jack/anaconda3/lib/python3.11/site-packages (from keras->keras-tuner) (0.13.1)\n",
      "Requirement already satisfied: ml-dtypes in /Users/jack/anaconda3/lib/python3.11/site-packages (from keras->keras-tuner) (0.4.1)\n",
      "Requirement already satisfied: charset-normalizer<4,>=2 in /Users/jack/anaconda3/lib/python3.11/site-packages (from requests->keras-tuner) (3.3.2)\n",
      "Requirement already satisfied: idna<4,>=2.5 in /Users/jack/anaconda3/lib/python3.11/site-packages (from requests->keras-tuner) (3.7)\n",
      "Requirement already satisfied: urllib3<3,>=1.21.1 in /Users/jack/anaconda3/lib/python3.11/site-packages (from requests->keras-tuner) (2.2.3)\n",
      "Requirement already satisfied: certifi>=2017.4.17 in /Users/jack/anaconda3/lib/python3.11/site-packages (from requests->keras-tuner) (2024.12.14)\n",
      "Requirement already satisfied: typing-extensions>=4.5.0 in /Users/jack/anaconda3/lib/python3.11/site-packages (from optree->keras->keras-tuner) (4.10.0)\n",
      "Requirement already satisfied: markdown-it-py>=2.2.0 in /Users/jack/anaconda3/lib/python3.11/site-packages (from rich->keras->keras-tuner) (2.2.0)\n",
      "Requirement already satisfied: pygments<3.0.0,>=2.13.0 in /Users/jack/anaconda3/lib/python3.11/site-packages (from rich->keras->keras-tuner) (2.15.1)\n",
      "Requirement already satisfied: mdurl~=0.1 in /Users/jack/anaconda3/lib/python3.11/site-packages (from markdown-it-py>=2.2.0->rich->keras->keras-tuner) (0.1.0)\n",
      "Downloading keras_tuner-1.4.7-py3-none-any.whl (129 kB)\n",
      "\u001b[2K   \u001b[90m━━━━━━━━━━━━━━━━━━━━━━━━━━━━━━━━━━━━━━━━\u001b[0m \u001b[32m129.1/129.1 kB\u001b[0m \u001b[31m7.2 MB/s\u001b[0m eta \u001b[36m0:00:00\u001b[0m\n",
      "\u001b[?25hDownloading kt_legacy-1.0.5-py3-none-any.whl (9.6 kB)\n",
      "Installing collected packages: kt-legacy, keras-tuner\n",
      "Successfully installed keras-tuner-1.4.7 kt-legacy-1.0.5\n",
      "\u001b[33mWARNING: There was an error checking the latest version of pip.\u001b[0m\u001b[33m\n",
      "\u001b[0mNote: you may need to restart the kernel to use updated packages.\n"
     ]
    }
   ],
   "source": [
    "pip install keras-tuner"
   ]
  },
  {
   "cell_type": "code",
   "execution_count": 2,
   "id": "a4c614f2-c302-41c8-82be-4edc5fc10299",
   "metadata": {},
   "outputs": [],
   "source": [
    "import pandas as pd\n",
    "import re\n",
    "import nltk\n",
    "from nltk.tokenize import word_tokenize\n",
    "from nltk.corpus import stopwords\n",
    "from nltk.stem import WordNetLemmatizer"
   ]
  },
  {
   "cell_type": "code",
   "execution_count": 3,
   "id": "50a35162-b231-4836-b753-435e0eee263a",
   "metadata": {},
   "outputs": [],
   "source": [
    "df_x = pd.read_csv('Twitter_data.csv')\n",
    "df_reddit = pd.read_csv('Reddit_data.csv')\n",
    "df_news = pd.read_csv('News.csv')\n"
   ]
  },
  {
   "cell_type": "markdown",
   "id": "dd2314fe-e21b-47ee-b68e-5ff502fe775a",
   "metadata": {},
   "source": [
    "## X(Twitter)"
   ]
  },
  {
   "cell_type": "markdown",
   "id": "c01baff4-e35b-4fcf-be98-4f6259790009",
   "metadata": {},
   "source": [
    "### Data Cleaning"
   ]
  },
  {
   "cell_type": "code",
   "execution_count": 7,
   "id": "aa722272-6dae-4ffb-9f4e-8a3727cacba4",
   "metadata": {},
   "outputs": [],
   "source": [
    "valid_values = {0, 1, -1}\n",
    "df_x = df_x[df_x['category'].isin(valid_values)]"
   ]
  },
  {
   "cell_type": "code",
   "execution_count": 10,
   "id": "e3a08d3b-6d8f-4275-b300-e0d3bd1fc2f3",
   "metadata": {},
   "outputs": [],
   "source": [
    "# Function to clean tweets\n",
    "\n",
    "# Convert all entries in 'text' column to strings\n",
    "df_x['text'] = df_x['text'].astype(str)\n",
    "\n",
    "def clean_tweet(tweet):\n",
    "    # Remove mentions (@username)\n",
    "    tweet = re.sub(r'@\\w+', '', tweet)\n",
    "    # Remove URLs\n",
    "    tweet = re.sub(r'http\\S+|www\\S+|https\\S+', '', tweet, flags=re.MULTILINE)\n",
    "    # Remove special characters, numbers, and punctuations\n",
    "    tweet = re.sub(r'\\W', ' ', tweet)\n",
    "    # Remove extra spaces\n",
    "    tweet = re.sub(r'\\s+', ' ', tweet).strip()\n",
    "    # Convert to lowercase\n",
    "    tweet = tweet.lower()\n",
    "    return tweet\n",
    "\n",
    "# Apply the cleaning function to the 'Tweet' column\n",
    "df_x['Cleaned_Tweet'] = df_x['text'].apply(clean_tweet)"
   ]
  },
  {
   "cell_type": "code",
   "execution_count": 11,
   "id": "adb5c45d-3504-4e06-8aad-d5c6f8edd2d0",
   "metadata": {},
   "outputs": [
    {
     "name": "stderr",
     "output_type": "stream",
     "text": [
      "[nltk_data] Downloading package punkt to /Users/jack/nltk_data...\n",
      "[nltk_data]   Package punkt is already up-to-date!\n",
      "[nltk_data] Downloading package punkt_tab to /Users/jack/nltk_data...\n",
      "[nltk_data]   Package punkt_tab is already up-to-date!\n",
      "[nltk_data] Downloading package stopwords to /Users/jack/nltk_data...\n",
      "[nltk_data]   Package stopwords is already up-to-date!\n",
      "[nltk_data] Downloading package wordnet to /Users/jack/nltk_data...\n",
      "[nltk_data]   Package wordnet is already up-to-date!\n"
     ]
    }
   ],
   "source": [
    "# Tokenization\n",
    "nltk.download('punkt')\n",
    "nltk.download('punkt_tab')\n",
    "df_x['Tokens'] = df_x['Cleaned_Tweet'].apply(word_tokenize)\n",
    "\n",
    "\n",
    "# Removing Stopwords \n",
    "nltk.download('stopwords')\n",
    "stop_words = set(stopwords.words('english'))\n",
    "df_x['Tokens'] = df_x['Tokens'].apply(lambda x: [word for word in x if word not in stop_words])\n",
    "\n",
    "# Lemmatization\n",
    "nltk.download('wordnet')\n",
    "lemmatizer = WordNetLemmatizer()\n",
    "df_x['Tokens'] = df_x['Tokens'].apply(lambda x: [lemmatizer.lemmatize(word) for word in x])"
   ]
  },
  {
   "cell_type": "code",
   "execution_count": 12,
   "id": "bee9069c-6c72-4222-bff2-cd7359c19dd8",
   "metadata": {},
   "outputs": [
    {
     "data": {
      "text/html": [
       "<div>\n",
       "<style scoped>\n",
       "    .dataframe tbody tr th:only-of-type {\n",
       "        vertical-align: middle;\n",
       "    }\n",
       "\n",
       "    .dataframe tbody tr th {\n",
       "        vertical-align: top;\n",
       "    }\n",
       "\n",
       "    .dataframe thead th {\n",
       "        text-align: right;\n",
       "    }\n",
       "</style>\n",
       "<table border=\"1\" class=\"dataframe\">\n",
       "  <thead>\n",
       "    <tr style=\"text-align: right;\">\n",
       "      <th></th>\n",
       "      <th>text</th>\n",
       "      <th>category</th>\n",
       "      <th>Cleaned_Tweet</th>\n",
       "      <th>Tokens</th>\n",
       "    </tr>\n",
       "  </thead>\n",
       "  <tbody>\n",
       "    <tr>\n",
       "      <th>0</th>\n",
       "      <td>when modi promised “minimum government maximum...</td>\n",
       "      <td>-1.0</td>\n",
       "      <td>modi promised minimum government maximum gover...</td>\n",
       "      <td>[modi, promised, minimum, government, maximum,...</td>\n",
       "    </tr>\n",
       "    <tr>\n",
       "      <th>1</th>\n",
       "      <td>talk all the nonsense and continue all the dra...</td>\n",
       "      <td>0.0</td>\n",
       "      <td>talk nonsense continue drama vote modi</td>\n",
       "      <td>[talk, nonsense, continue, drama, vote, modi]</td>\n",
       "    </tr>\n",
       "    <tr>\n",
       "      <th>2</th>\n",
       "      <td>what did just say vote for modi  welcome bjp t...</td>\n",
       "      <td>1.0</td>\n",
       "      <td>say vote modi welcome bjp told rahul main camp...</td>\n",
       "      <td>[say, vote, modi, welcome, bjp, told, rahul, m...</td>\n",
       "    </tr>\n",
       "    <tr>\n",
       "      <th>3</th>\n",
       "      <td>asking his supporters prefix chowkidar their n...</td>\n",
       "      <td>1.0</td>\n",
       "      <td>asking supporter prefix chowkidar name modi gr...</td>\n",
       "      <td>[asking, supporter, prefix, chowkidar, name, m...</td>\n",
       "    </tr>\n",
       "    <tr>\n",
       "      <th>4</th>\n",
       "      <td>answer who among these the most powerful world...</td>\n",
       "      <td>1.0</td>\n",
       "      <td>answer among powerful world leader today trump...</td>\n",
       "      <td>[answer, among, powerful, world, leader, today...</td>\n",
       "    </tr>\n",
       "  </tbody>\n",
       "</table>\n",
       "</div>"
      ],
      "text/plain": [
       "                                                text  category  \\\n",
       "0  when modi promised “minimum government maximum...      -1.0   \n",
       "1  talk all the nonsense and continue all the dra...       0.0   \n",
       "2  what did just say vote for modi  welcome bjp t...       1.0   \n",
       "3  asking his supporters prefix chowkidar their n...       1.0   \n",
       "4  answer who among these the most powerful world...       1.0   \n",
       "\n",
       "                                       Cleaned_Tweet  \\\n",
       "0  modi promised minimum government maximum gover...   \n",
       "1             talk nonsense continue drama vote modi   \n",
       "2  say vote modi welcome bjp told rahul main camp...   \n",
       "3  asking supporter prefix chowkidar name modi gr...   \n",
       "4  answer among powerful world leader today trump...   \n",
       "\n",
       "                                              Tokens  \n",
       "0  [modi, promised, minimum, government, maximum,...  \n",
       "1      [talk, nonsense, continue, drama, vote, modi]  \n",
       "2  [say, vote, modi, welcome, bjp, told, rahul, m...  \n",
       "3  [asking, supporter, prefix, chowkidar, name, m...  \n",
       "4  [answer, among, powerful, world, leader, today...  "
      ]
     },
     "execution_count": 12,
     "metadata": {},
     "output_type": "execute_result"
    }
   ],
   "source": [
    "df_x['Cleaned_Tweet'] = df_x['Tokens'].apply(lambda x: ' '.join(x))\n",
    "df_x = df_x.dropna(subset=['Cleaned_Tweet'])\n",
    "df_x = df_x.drop_duplicates(subset=['Cleaned_Tweet'])\n",
    "\n",
    "df_x.head()"
   ]
  },
  {
   "cell_type": "markdown",
   "id": "9c9d2fb5-37aa-462c-b87e-eb7ed73af08b",
   "metadata": {},
   "source": [
    "## Data Splitting"
   ]
  },
  {
   "cell_type": "code",
   "execution_count": 14,
   "id": "0e7587a5-fa90-45a4-a5a8-6dc7a940643f",
   "metadata": {},
   "outputs": [],
   "source": [
    "from sklearn.model_selection import train_test_split"
   ]
  },
  {
   "cell_type": "code",
   "execution_count": 15,
   "id": "8af4afaf-b013-40aa-9536-67825c84e430",
   "metadata": {},
   "outputs": [],
   "source": [
    "# Split into train (70%) and temp (30%)\n",
    "df_train, df_temp = train_test_split(\n",
    "    df_x, test_size=0.3, random_state=42, stratify=df_x['category']\n",
    ")\n",
    "\n",
    "\n",
    "# Split the temp dataset into validate (15%) and test (15%)\n",
    "df_validate, df_test = train_test_split(\n",
    "    df_temp, test_size=0.5, random_state=42, stratify=df_temp['category']\n",
    ")"
   ]
  },
  {
   "cell_type": "markdown",
   "id": "1364ad94-3af4-49f3-a5a4-2a6903f070ac",
   "metadata": {},
   "source": [
    "## Sentiment Analysis"
   ]
  },
  {
   "cell_type": "code",
   "execution_count": 17,
   "id": "801c7a8a-1790-45c6-ad48-9747a634b64d",
   "metadata": {},
   "outputs": [],
   "source": [
    "import numpy as np\n",
    "import pandas as pd\n",
    "import re\n",
    "import nltk\n",
    "import matplotlib.pyplot as plt\n",
    "import seaborn as sns\n",
    "\n",
    "# Deep learning imports\n",
    "import tensorflow as tf\n",
    "from tensorflow.keras.preprocessing.text import Tokenizer\n",
    "from tensorflow.keras.preprocessing.sequence import pad_sequences\n",
    "from tensorflow.keras.models import Sequential\n",
    "from tensorflow.keras.layers import Embedding, Conv1D, GlobalMaxPooling1D, Dense, Dropout\n",
    "from tensorflow.keras.optimizers import Adam\n",
    "\n",
    "# Sklearn imports for label encoding and metrics\n",
    "from sklearn.preprocessing import LabelEncoder\n",
    "from sklearn.metrics import accuracy_score, precision_score, recall_score, f1_score, classification_report, confusion_matrix"
   ]
  },
  {
   "cell_type": "markdown",
   "id": "004b8c08-bb73-447c-a50e-e5e843907583",
   "metadata": {},
   "source": [
    "### Data Preparation"
   ]
  },
  {
   "cell_type": "code",
   "execution_count": 20,
   "id": "0163aaa9-4fe8-452d-89dc-ee45fad41404",
   "metadata": {},
   "outputs": [],
   "source": [
    "# Extract texts and labels\n",
    "X_train_texts = df_train['Cleaned_Tweet'].tolist()\n",
    "X_val_texts   = df_validate['Cleaned_Tweet'].tolist()\n",
    "X_test_texts  = df_test['Cleaned_Tweet'].tolist()\n",
    "\n",
    "y_train = df_train['category'].values\n",
    "y_val   = df_validate['category'].values\n",
    "y_test  = df_test['category'].values\n",
    "\n",
    "# If your labels are numeric (-1, 0, 1), no need for LabelEncoder; otherwise, encode them\n",
    "if y_train.dtype != int:  # Encode only if not already integers\n",
    "    label_encoder = LabelEncoder()\n",
    "    label_encoder.fit(y_train)  # Fit on train set\n",
    "    y_train_enc = label_encoder.transform(y_train)\n",
    "    y_val_enc   = label_encoder.transform(y_val)\n",
    "    y_test_enc  = label_encoder.transform(y_test)\n",
    "\n",
    "# Tokenize texts\n",
    "tokenizer = Tokenizer(num_words=10000, lower=True, oov_token=\"<OOV>\")\n",
    "tokenizer.fit_on_texts(X_train_texts)\n",
    "\n",
    "# Convert texts to sequences\n",
    "X_train_seq = tokenizer.texts_to_sequences(X_train_texts)\n",
    "X_val_seq   = tokenizer.texts_to_sequences(X_val_texts)\n",
    "X_test_seq  = tokenizer.texts_to_sequences(X_test_texts)\n",
    "\n",
    "# Define a predefined max length for padding\n",
    "max_len = 200  # You can use a fixed max length (e.g., 200 tokens)\n",
    "\n",
    "# Pad sequences\n",
    "X_train_pad = pad_sequences(X_train_seq, maxlen=max_len, padding='post', truncating='post')\n",
    "X_val_pad   = pad_sequences(X_val_seq, maxlen=max_len, padding='post', truncating='post')\n",
    "X_test_pad  = pad_sequences(X_test_seq, maxlen=max_len, padding='post', truncating='post')"
   ]
  },
  {
   "cell_type": "markdown",
   "id": "1dcfd4c8-a8dc-4e34-841d-dee31a01fc34",
   "metadata": {},
   "source": [
    "## Logistic Regression"
   ]
  },
  {
   "cell_type": "code",
   "execution_count": 22,
   "id": "66e43fc4-475a-4a4f-ba01-179b3fca49a0",
   "metadata": {},
   "outputs": [],
   "source": [
    "from sklearn.model_selection import train_test_split\n",
    "from sklearn.feature_extraction.text import TfidfVectorizer\n",
    "from sklearn.linear_model import LogisticRegression\n",
    "from sklearn.model_selection import GridSearchCV"
   ]
  },
  {
   "cell_type": "markdown",
   "id": "5e94207a-cf7c-4ad1-a988-855bba8d5b75",
   "metadata": {},
   "source": [
    "### TF–IDF Vectorization"
   ]
  },
  {
   "cell_type": "code",
   "execution_count": 24,
   "id": "d5842467-5286-4b14-a748-82c15dd36df5",
   "metadata": {},
   "outputs": [],
   "source": [
    "tfidf_vectorizer = TfidfVectorizer(\n",
    "    lowercase=True,\n",
    "    max_features=10000,           # You can tune this\n",
    "    ngram_range=(1, 2),           # You can tune this as well\n",
    "    stop_words='english'          # Optionally set stopwords\n",
    ")\n",
    "\n",
    "X_train_tfidf = tfidf_vectorizer.fit_transform(X_train_texts)\n",
    "X_val_tfidf   = tfidf_vectorizer.transform(X_val_texts)\n",
    "X_test_tfidf  = tfidf_vectorizer.transform(X_test_texts)"
   ]
  },
  {
   "cell_type": "markdown",
   "id": "a110e473-c7e5-45e3-aa41-9106947b3130",
   "metadata": {},
   "source": [
    "### Logistic Regression + Regularization"
   ]
  },
  {
   "cell_type": "code",
   "execution_count": 26,
   "id": "397632c6-6e94-4c9c-92e1-07de96cd1a50",
   "metadata": {},
   "outputs": [
    {
     "name": "stdout",
     "output_type": "stream",
     "text": [
      "Fitting 5 folds for each of 3 candidates, totalling 15 fits\n",
      "[CV 1/5] END C=0.1, penalty=l2, solver=liblinear;, score=0.707 total time=   0.4s\n",
      "[CV 2/5] END C=0.1, penalty=l2, solver=liblinear;, score=0.704 total time=   0.4s\n",
      "[CV 3/5] END C=0.1, penalty=l2, solver=liblinear;, score=0.705 total time=   0.4s\n",
      "[CV 4/5] END C=0.1, penalty=l2, solver=liblinear;, score=0.703 total time=   0.4s\n",
      "[CV 5/5] END C=0.1, penalty=l2, solver=liblinear;, score=0.705 total time=   0.5s\n",
      "[CV 1/5] END C=1.0, penalty=l2, solver=liblinear;, score=0.814 total time=   0.7s\n",
      "[CV 2/5] END C=1.0, penalty=l2, solver=liblinear;, score=0.811 total time=   0.7s\n",
      "[CV 3/5] END C=1.0, penalty=l2, solver=liblinear;, score=0.808 total time=   0.7s\n",
      "[CV 4/5] END C=1.0, penalty=l2, solver=liblinear;, score=0.814 total time=   0.7s\n",
      "[CV 5/5] END C=1.0, penalty=l2, solver=liblinear;, score=0.812 total time=   0.7s\n",
      "[CV 1/5] END C=10.0, penalty=l2, solver=liblinear;, score=0.831 total time=   1.1s\n",
      "[CV 2/5] END C=10.0, penalty=l2, solver=liblinear;, score=0.827 total time=   1.1s\n",
      "[CV 3/5] END C=10.0, penalty=l2, solver=liblinear;, score=0.826 total time=   1.2s\n",
      "[CV 4/5] END C=10.0, penalty=l2, solver=liblinear;, score=0.833 total time=   1.2s\n",
      "[CV 5/5] END C=10.0, penalty=l2, solver=liblinear;, score=0.831 total time=   1.2s\n"
     ]
    }
   ],
   "source": [
    "# Define hyperparameter grid\n",
    "param_grid = {\n",
    "    'C': [0.1, 1.0, 10.0],  # Fewer values for C\n",
    "    'penalty': ['l2'],      # Use only L2 regularization\n",
    "    'solver': ['liblinear'] # Use only one solver\n",
    "}\n",
    "\n",
    "# Perform Grid Search with Logistic Regression\n",
    "grid_search = GridSearchCV(\n",
    "    LogisticRegression(max_iter=1000, random_state=42),  # Base model\n",
    "    param_grid,\n",
    "    scoring='f1_macro',  # Optimize for F1-score\n",
    "    cv=5,              # 5-fold cross-validation\n",
    "    verbose=3\n",
    ")\n",
    "\n",
    "# Fit the grid search\n",
    "grid_search.fit(X_train_tfidf, y_train_enc)\n",
    "\n",
    "# Best model based on grid search\n",
    "best_log_reg_model = grid_search.best_estimator_\n",
    "\n",
    "# Predict on validation set using the best model\n",
    "y_val_pred = best_log_reg_model.predict(X_val_tfidf)"
   ]
  },
  {
   "cell_type": "markdown",
   "id": "43b6e02a-2a92-46be-b686-4626a723370a",
   "metadata": {},
   "source": [
    "### Evaluation on the Validation Set"
   ]
  },
  {
   "cell_type": "code",
   "execution_count": 28,
   "id": "2afb5fc6-d04f-4d9e-a0f5-0f1fe28e0cff",
   "metadata": {},
   "outputs": [
    {
     "name": "stdout",
     "output_type": "stream",
     "text": [
      "Validation Accuracy : 0.8408812729498164\n",
      "Validation Precision: 0.8378101989685819\n",
      "Validation Recall   : 0.8314021440699754\n",
      "Validation F1-score : 0.832301549411761\n",
      "\n",
      "Validation Classification Report:\n",
      "              precision    recall  f1-score   support\n",
      "\n",
      "           0       0.83      0.75      0.79      5219\n",
      "           1       0.80      0.92      0.86      7890\n",
      "           2       0.88      0.83      0.86     10584\n",
      "\n",
      "    accuracy                           0.84     23693\n",
      "   macro avg       0.84      0.83      0.83     23693\n",
      "weighted avg       0.84      0.84      0.84     23693\n",
      "\n"
     ]
    }
   ],
   "source": [
    "val_accuracy = accuracy_score(y_val_enc, y_val_pred)\n",
    "val_precision = precision_score(y_val_enc, y_val_pred, average='macro')\n",
    "val_recall = recall_score(y_val_enc, y_val_pred, average='macro')\n",
    "val_f1 = f1_score(y_val_enc, y_val_pred, average='macro')\n",
    "\n",
    "print(\"Validation Accuracy :\", val_accuracy)\n",
    "print(\"Validation Precision:\", val_precision)\n",
    "print(\"Validation Recall   :\", val_recall)\n",
    "print(\"Validation F1-score :\", val_f1)\n",
    "print(\"\\nValidation Classification Report:\")\n",
    "print(classification_report(y_val_enc, y_val_pred))"
   ]
  },
  {
   "cell_type": "markdown",
   "id": "0ac6de0d-40c7-4f82-b0a1-65b4ee5dea94",
   "metadata": {},
   "source": [
    "### Final Evaluation on the Testing Set"
   ]
  },
  {
   "cell_type": "code",
   "execution_count": 67,
   "id": "99539198-d1fb-4d0a-9d66-9f9958714643",
   "metadata": {},
   "outputs": [
    {
     "name": "stdout",
     "output_type": "stream",
     "text": [
      "\n",
      "Test Accuracy : 0.8442577976617567\n",
      "Test Precision: 0.8405038206828163\n",
      "Test Recall   : 0.8336537041381048\n",
      "Test F1-score : 0.8349268218673546\n",
      "\n",
      "Test Classification Report:\n",
      "              precision    recall  f1-score   support\n",
      "\n",
      "           0       0.83      0.74      0.79      5220\n",
      "           1       0.81      0.92      0.86      7889\n",
      "           2       0.88      0.84      0.86     10584\n",
      "\n",
      "    accuracy                           0.84     23693\n",
      "   macro avg       0.84      0.83      0.83     23693\n",
      "weighted avg       0.85      0.84      0.84     23693\n",
      "\n"
     ]
    },
    {
     "data": {
      "image/png": "[encoded data removed]",
      "text/plain": [
       "<Figure size 640x480 with 2 Axes>"
      ]
     },
     "metadata": {},
     "output_type": "display_data"
    }
   ],
   "source": [
    "y_test_pred = best_log_reg_model.predict(X_test_tfidf)\n",
    "\n",
    "test_accuracy = accuracy_score(y_test_enc, y_test_pred)\n",
    "test_precision = precision_score(y_test_enc, y_test_pred, average='macro')\n",
    "test_recall = recall_score(y_test_enc, y_test_pred, average='macro')\n",
    "test_f1 = f1_score(y_test_enc, y_test_pred, average='macro')\n",
    "\n",
    "print(\"\\nTest Accuracy :\", test_accuracy)\n",
    "print(\"Test Precision:\", test_precision)\n",
    "print(\"Test Recall   :\", test_recall)\n",
    "print(\"Test F1-score :\", test_f1)\n",
    "print(\"\\nTest Classification Report:\")\n",
    "print(classification_report(y_test_enc, y_test_pred))\n",
    "\n",
    "cm = confusion_matrix(y_test_enc, y_test_pred)\n",
    "sns.heatmap(cm, annot=True, fmt='d', cmap='Reds')\n",
    "plt.title(\"Confusion Matrix - Logistic Regression\")\n",
    "plt.xlabel(\"Predicted Label\")\n",
    "plt.ylabel(\"True Label\")\n",
    "plt.show()"
   ]
  },
  {
   "cell_type": "markdown",
   "id": "48d5bfe7-d2ad-4216-821f-e0cf88b347d5",
   "metadata": {},
   "source": [
    "## SVM"
   ]
  },
  {
   "cell_type": "code",
   "execution_count": 32,
   "id": "d5e9cb55-8706-446a-a5ca-6621029732eb",
   "metadata": {},
   "outputs": [],
   "source": [
    "from sklearn.svm import SVC  # Support Vector Classifier"
   ]
  },
  {
   "cell_type": "markdown",
   "id": "b1e8a89c-d170-4aff-b49e-b90ca312e35c",
   "metadata": {},
   "source": [
    "### TF–IDF Vectorization"
   ]
  },
  {
   "cell_type": "code",
   "execution_count": 34,
   "id": "89aa3567-ce7c-4bcb-93d4-5c255f7d82b1",
   "metadata": {},
   "outputs": [],
   "source": [
    "tfidf_vectorizer = TfidfVectorizer(\n",
    "    lowercase=True,\n",
    "    max_features=10000,    # Tune as needed\n",
    "    ngram_range=(1, 2),    # Optionally use bigrams\n",
    "    stop_words='english'   # Can remove if you don't want to remove stop words\n",
    ")\n",
    "\n",
    "X_train_tfidf = tfidf_vectorizer.fit_transform(X_train_texts)\n",
    "X_val_tfidf   = tfidf_vectorizer.transform(X_val_texts)\n",
    "X_test_tfidf  = tfidf_vectorizer.transform(X_test_texts)"
   ]
  },
  {
   "cell_type": "markdown",
   "id": "655dbc5a-d25c-453e-b5b1-63fac4d40282",
   "metadata": {},
   "source": [
    "### SVM Classifier"
   ]
  },
  {
   "cell_type": "code",
   "execution_count": 36,
   "id": "47a011c7-7ad1-487e-a283-2bd217505b65",
   "metadata": {},
   "outputs": [],
   "source": [
    "from sklearn.svm import LinearSVC"
   ]
  },
  {
   "cell_type": "code",
   "execution_count": 37,
   "id": "0a20a809-42e1-4251-b9de-98d9268037be",
   "metadata": {},
   "outputs": [
    {
     "name": "stdout",
     "output_type": "stream",
     "text": [
      "[LibLinear]iter  1 act 3.465e+04 pre 3.465e+04 delta 5.576e-01 f 1.106e+05 |g| 1.243e+05 CG   1\n",
      "cg reaches trust region boundary\n",
      "iter  2 act 1.679e+03 pre 1.679e+03 delta 2.230e+00 f 7.591e+04 |g| 3.141e+03 CG   1\n",
      "cg reaches trust region boundary\n",
      "iter  3 act 5.893e+03 pre 5.891e+03 delta 8.921e+00 f 7.423e+04 |g| 4.265e+03 CG   2\n",
      "cg reaches trust region boundary\n",
      "iter  4 act 1.417e+04 pre 1.364e+04 delta 1.335e+01 f 6.834e+04 |g| 3.232e+03 CG   2\n",
      "cg reaches trust region boundary\n",
      "iter  5 act 1.057e+04 pre 1.036e+04 delta 1.608e+01 f 5.417e+04 |g| 3.498e+03 CG   3\n",
      "cg reaches trust region boundary\n",
      "iter  6 act 6.897e+03 pre 6.434e+03 delta 1.837e+01 f 4.360e+04 |g| 3.017e+03 CG   4\n",
      "cg reaches trust region boundary\n",
      "iter  7 act 4.095e+03 pre 3.777e+03 delta 2.090e+01 f 3.670e+04 |g| 2.883e+03 CG   6\n",
      "iter  8 act 1.734e+03 pre 1.615e+03 delta 2.090e+01 f 3.260e+04 |g| 2.123e+03 CG   9\n",
      "iter  9 act 5.042e+01 pre 5.025e+01 delta 2.090e+01 f 3.087e+04 |g| 1.138e+03 CG   2\n",
      "iter 10 act 2.812e+02 pre 2.769e+02 delta 2.090e+01 f 3.082e+04 |g| 1.189e+02 CG  23\n",
      "iter 11 act 1.562e+00 pre 1.560e+00 delta 2.090e+01 f 3.054e+04 |g| 2.700e+02 CG   2\n",
      "iter 12 act 6.023e+00 pre 6.012e+00 delta 2.090e+01 f 3.054e+04 |g| 1.320e+01 CG  32\n",
      "iter 13 act 4.220e-02 pre 4.220e-02 delta 2.090e+01 f 3.053e+04 |g| 5.140e+00 CG  16\n",
      "iter  1 act 1.242e+04 pre 1.242e+04 delta 3.342e-01 f 1.106e+05 |g| 7.432e+04 CG   1\n",
      "cg reaches trust region boundary\n",
      "iter  2 act 1.316e+03 pre 1.316e+03 delta 1.337e+00 f 9.815e+04 |g| 4.126e+03 CG   1\n",
      "cg reaches trust region boundary\n",
      "iter  3 act 4.946e+03 pre 4.946e+03 delta 5.347e+00 f 9.683e+04 |g| 5.577e+03 CG   2\n",
      "cg reaches trust region boundary\n",
      "iter  4 act 1.398e+04 pre 1.348e+04 delta 1.098e+01 f 9.189e+04 |g| 4.888e+03 CG   2\n",
      "cg reaches trust region boundary\n",
      "iter  5 act 1.587e+04 pre 1.446e+04 delta 1.660e+01 f 7.791e+04 |g| 2.379e+03 CG   2\n",
      "cg reaches trust region boundary\n",
      "iter  6 act 1.319e+04 pre 1.207e+04 delta 2.226e+01 f 6.203e+04 |g| 5.323e+03 CG   3\n",
      "cg reaches trust region boundary\n",
      "iter  7 act 9.487e+03 pre 8.453e+03 delta 2.735e+01 f 4.884e+04 |g| 5.701e+03 CG   5\n",
      "iter  8 act 8.365e+02 pre 8.715e+02 delta 2.735e+01 f 3.936e+04 |g| 5.287e+03 CG   2\n",
      "cg reaches trust region boundary\n",
      "iter  9 act 4.488e+03 pre 4.082e+03 delta 3.106e+01 f 3.852e+04 |g| 5.023e+02 CG   6\n",
      "iter 10 act 2.688e+02 pre 3.005e+02 delta 3.106e+01 f 3.403e+04 |g| 2.143e+03 CG   3\n",
      "iter 11 act 9.849e+02 pre 9.545e+02 delta 3.106e+01 f 3.376e+04 |g| 3.380e+02 CG  20\n",
      "iter 12 act 3.068e+00 pre 3.063e+00 delta 3.106e+01 f 3.278e+04 |g| 3.399e+02 CG   2\n",
      "iter 13 act 2.488e+01 pre 2.479e+01 delta 3.106e+01 f 3.277e+04 |g| 2.927e+01 CG  30\n",
      "iter 14 act 2.027e-01 pre 2.026e-01 delta 3.106e+01 f 3.275e+04 |g| 1.127e+01 CG  16\n",
      "iter  1 act 4.327e+04 pre 4.003e+04 delta 2.060e+01 f 1.106e+05 |g| 2.404e+04 CG   3\n",
      "cg reaches trust region boundary\n",
      "iter  2 act 1.610e+04 pre 1.468e+04 delta 2.468e+01 f 6.730e+04 |g| 6.098e+03 CG   4\n",
      "cg reaches trust region boundary\n",
      "iter  3 act 7.504e+03 pre 6.723e+03 delta 2.862e+01 f 5.120e+04 |g| 2.383e+03 CG   6\n",
      "iter  4 act 2.904e+03 pre 2.712e+03 delta 2.862e+01 f 4.370e+04 |g| 1.172e+03 CG  13\n",
      "iter  5 act 2.518e+02 pre 2.464e+02 delta 2.862e+01 f 4.079e+04 |g| 1.080e+02 CG  28\n",
      "iter  6 act 3.672e+00 pre 3.678e+00 delta 2.862e+01 f 4.054e+04 |g| 1.746e+01 CG  29\n",
      "iter  7 act 6.322e-02 pre 6.323e-02 delta 2.862e+01 f 4.054e+04 |g| 1.686e+00 CG  37\n"
     ]
    },
    {
     "data": {
      "text/html": [
       "<style>#sk-container-id-1 {\n",
       "  /* Definition of color scheme common for light and dark mode */\n",
       "  --sklearn-color-text: black;\n",
       "  --sklearn-color-line: gray;\n",
       "  /* Definition of color scheme for unfitted estimators */\n",
       "  --sklearn-color-unfitted-level-0: #fff5e6;\n",
       "  --sklearn-color-unfitted-level-1: #f6e4d2;\n",
       "  --sklearn-color-unfitted-level-2: #ffe0b3;\n",
       "  --sklearn-color-unfitted-level-3: chocolate;\n",
       "  /* Definition of color scheme for fitted estimators */\n",
       "  --sklearn-color-fitted-level-0: #f0f8ff;\n",
       "  --sklearn-color-fitted-level-1: #d4ebff;\n",
       "  --sklearn-color-fitted-level-2: #b3dbfd;\n",
       "  --sklearn-color-fitted-level-3: cornflowerblue;\n",
       "\n",
       "  /* Specific color for light theme */\n",
       "  --sklearn-color-text-on-default-background: var(--sg-text-color, var(--theme-code-foreground, var(--jp-content-font-color1, black)));\n",
       "  --sklearn-color-background: var(--sg-background-color, var(--theme-background, var(--jp-layout-color0, white)));\n",
       "  --sklearn-color-border-box: var(--sg-text-color, var(--theme-code-foreground, var(--jp-content-font-color1, black)));\n",
       "  --sklearn-color-icon: #696969;\n",
       "\n",
       "  @media (prefers-color-scheme: dark) {\n",
       "    /* Redefinition of color scheme for dark theme */\n",
       "    --sklearn-color-text-on-default-background: var(--sg-text-color, var(--theme-code-foreground, var(--jp-content-font-color1, white)));\n",
       "    --sklearn-color-background: var(--sg-background-color, var(--theme-background, var(--jp-layout-color0, #111)));\n",
       "    --sklearn-color-border-box: var(--sg-text-color, var(--theme-code-foreground, var(--jp-content-font-color1, white)));\n",
       "    --sklearn-color-icon: #878787;\n",
       "  }\n",
       "}\n",
       "\n",
       "#sk-container-id-1 {\n",
       "  color: var(--sklearn-color-text);\n",
       "}\n",
       "\n",
       "#sk-container-id-1 pre {\n",
       "  padding: 0;\n",
       "}\n",
       "\n",
       "#sk-container-id-1 input.sk-hidden--visually {\n",
       "  border: 0;\n",
       "  clip: rect(1px 1px 1px 1px);\n",
       "  clip: rect(1px, 1px, 1px, 1px);\n",
       "  height: 1px;\n",
       "  margin: -1px;\n",
       "  overflow: hidden;\n",
       "  padding: 0;\n",
       "  position: absolute;\n",
       "  width: 1px;\n",
       "}\n",
       "\n",
       "#sk-container-id-1 div.sk-dashed-wrapped {\n",
       "  border: 1px dashed var(--sklearn-color-line);\n",
       "  margin: 0 0.4em 0.5em 0.4em;\n",
       "  box-sizing: border-box;\n",
       "  padding-bottom: 0.4em;\n",
       "  background-color: var(--sklearn-color-background);\n",
       "}\n",
       "\n",
       "#sk-container-id-1 div.sk-container {\n",
       "  /* jupyter's `normalize.less` sets `[hidden] { display: none; }`\n",
       "     but bootstrap.min.css set `[hidden] { display: none !important; }`\n",
       "     so we also need the `!important` here to be able to override the\n",
       "     default hidden behavior on the sphinx rendered scikit-learn.org.\n",
       "     See: https://github.com/scikit-learn/scikit-learn/issues/21755 */\n",
       "  display: inline-block !important;\n",
       "  position: relative;\n",
       "}\n",
       "\n",
       "#sk-container-id-1 div.sk-text-repr-fallback {\n",
       "  display: none;\n",
       "}\n",
       "\n",
       "div.sk-parallel-item,\n",
       "div.sk-serial,\n",
       "div.sk-item {\n",
       "  /* draw centered vertical line to link estimators */\n",
       "  background-image: linear-gradient(var(--sklearn-color-text-on-default-background), var(--sklearn-color-text-on-default-background));\n",
       "  background-size: 2px 100%;\n",
       "  background-repeat: no-repeat;\n",
       "  background-position: center center;\n",
       "}\n",
       "\n",
       "/* Parallel-specific style estimator block */\n",
       "\n",
       "#sk-container-id-1 div.sk-parallel-item::after {\n",
       "  content: \"\";\n",
       "  width: 100%;\n",
       "  border-bottom: 2px solid var(--sklearn-color-text-on-default-background);\n",
       "  flex-grow: 1;\n",
       "}\n",
       "\n",
       "#sk-container-id-1 div.sk-parallel {\n",
       "  display: flex;\n",
       "  align-items: stretch;\n",
       "  justify-content: center;\n",
       "  background-color: var(--sklearn-color-background);\n",
       "  position: relative;\n",
       "}\n",
       "\n",
       "#sk-container-id-1 div.sk-parallel-item {\n",
       "  display: flex;\n",
       "  flex-direction: column;\n",
       "}\n",
       "\n",
       "#sk-container-id-1 div.sk-parallel-item:first-child::after {\n",
       "  align-self: flex-end;\n",
       "  width: 50%;\n",
       "}\n",
       "\n",
       "#sk-container-id-1 div.sk-parallel-item:last-child::after {\n",
       "  align-self: flex-start;\n",
       "  width: 50%;\n",
       "}\n",
       "\n",
       "#sk-container-id-1 div.sk-parallel-item:only-child::after {\n",
       "  width: 0;\n",
       "}\n",
       "\n",
       "/* Serial-specific style estimator block */\n",
       "\n",
       "#sk-container-id-1 div.sk-serial {\n",
       "  display: flex;\n",
       "  flex-direction: column;\n",
       "  align-items: center;\n",
       "  background-color: var(--sklearn-color-background);\n",
       "  padding-right: 1em;\n",
       "  padding-left: 1em;\n",
       "}\n",
       "\n",
       "\n",
       "/* Toggleable style: style used for estimator/Pipeline/ColumnTransformer box that is\n",
       "clickable and can be expanded/collapsed.\n",
       "- Pipeline and ColumnTransformer use this feature and define the default style\n",
       "- Estimators will overwrite some part of the style using the `sk-estimator` class\n",
       "*/\n",
       "\n",
       "/* Pipeline and ColumnTransformer style (default) */\n",
       "\n",
       "#sk-container-id-1 div.sk-toggleable {\n",
       "  /* Default theme specific background. It is overwritten whether we have a\n",
       "  specific estimator or a Pipeline/ColumnTransformer */\n",
       "  background-color: var(--sklearn-color-background);\n",
       "}\n",
       "\n",
       "/* Toggleable label */\n",
       "#sk-container-id-1 label.sk-toggleable__label {\n",
       "  cursor: pointer;\n",
       "  display: block;\n",
       "  width: 100%;\n",
       "  margin-bottom: 0;\n",
       "  padding: 0.5em;\n",
       "  box-sizing: border-box;\n",
       "  text-align: center;\n",
       "}\n",
       "\n",
       "#sk-container-id-1 label.sk-toggleable__label-arrow:before {\n",
       "  /* Arrow on the left of the label */\n",
       "  content: \"▸\";\n",
       "  float: left;\n",
       "  margin-right: 0.25em;\n",
       "  color: var(--sklearn-color-icon);\n",
       "}\n",
       "\n",
       "#sk-container-id-1 label.sk-toggleable__label-arrow:hover:before {\n",
       "  color: var(--sklearn-color-text);\n",
       "}\n",
       "\n",
       "/* Toggleable content - dropdown */\n",
       "\n",
       "#sk-container-id-1 div.sk-toggleable__content {\n",
       "  max-height: 0;\n",
       "  max-width: 0;\n",
       "  overflow: hidden;\n",
       "  text-align: left;\n",
       "  /* unfitted */\n",
       "  background-color: var(--sklearn-color-unfitted-level-0);\n",
       "}\n",
       "\n",
       "#sk-container-id-1 div.sk-toggleable__content.fitted {\n",
       "  /* fitted */\n",
       "  background-color: var(--sklearn-color-fitted-level-0);\n",
       "}\n",
       "\n",
       "#sk-container-id-1 div.sk-toggleable__content pre {\n",
       "  margin: 0.2em;\n",
       "  border-radius: 0.25em;\n",
       "  color: var(--sklearn-color-text);\n",
       "  /* unfitted */\n",
       "  background-color: var(--sklearn-color-unfitted-level-0);\n",
       "}\n",
       "\n",
       "#sk-container-id-1 div.sk-toggleable__content.fitted pre {\n",
       "  /* unfitted */\n",
       "  background-color: var(--sklearn-color-fitted-level-0);\n",
       "}\n",
       "\n",
       "#sk-container-id-1 input.sk-toggleable__control:checked~div.sk-toggleable__content {\n",
       "  /* Expand drop-down */\n",
       "  max-height: 200px;\n",
       "  max-width: 100%;\n",
       "  overflow: auto;\n",
       "}\n",
       "\n",
       "#sk-container-id-1 input.sk-toggleable__control:checked~label.sk-toggleable__label-arrow:before {\n",
       "  content: \"▾\";\n",
       "}\n",
       "\n",
       "/* Pipeline/ColumnTransformer-specific style */\n",
       "\n",
       "#sk-container-id-1 div.sk-label input.sk-toggleable__control:checked~label.sk-toggleable__label {\n",
       "  color: var(--sklearn-color-text);\n",
       "  background-color: var(--sklearn-color-unfitted-level-2);\n",
       "}\n",
       "\n",
       "#sk-container-id-1 div.sk-label.fitted input.sk-toggleable__control:checked~label.sk-toggleable__label {\n",
       "  background-color: var(--sklearn-color-fitted-level-2);\n",
       "}\n",
       "\n",
       "/* Estimator-specific style */\n",
       "\n",
       "/* Colorize estimator box */\n",
       "#sk-container-id-1 div.sk-estimator input.sk-toggleable__control:checked~label.sk-toggleable__label {\n",
       "  /* unfitted */\n",
       "  background-color: var(--sklearn-color-unfitted-level-2);\n",
       "}\n",
       "\n",
       "#sk-container-id-1 div.sk-estimator.fitted input.sk-toggleable__control:checked~label.sk-toggleable__label {\n",
       "  /* fitted */\n",
       "  background-color: var(--sklearn-color-fitted-level-2);\n",
       "}\n",
       "\n",
       "#sk-container-id-1 div.sk-label label.sk-toggleable__label,\n",
       "#sk-container-id-1 div.sk-label label {\n",
       "  /* The background is the default theme color */\n",
       "  color: var(--sklearn-color-text-on-default-background);\n",
       "}\n",
       "\n",
       "/* On hover, darken the color of the background */\n",
       "#sk-container-id-1 div.sk-label:hover label.sk-toggleable__label {\n",
       "  color: var(--sklearn-color-text);\n",
       "  background-color: var(--sklearn-color-unfitted-level-2);\n",
       "}\n",
       "\n",
       "/* Label box, darken color on hover, fitted */\n",
       "#sk-container-id-1 div.sk-label.fitted:hover label.sk-toggleable__label.fitted {\n",
       "  color: var(--sklearn-color-text);\n",
       "  background-color: var(--sklearn-color-fitted-level-2);\n",
       "}\n",
       "\n",
       "/* Estimator label */\n",
       "\n",
       "#sk-container-id-1 div.sk-label label {\n",
       "  font-family: monospace;\n",
       "  font-weight: bold;\n",
       "  display: inline-block;\n",
       "  line-height: 1.2em;\n",
       "}\n",
       "\n",
       "#sk-container-id-1 div.sk-label-container {\n",
       "  text-align: center;\n",
       "}\n",
       "\n",
       "/* Estimator-specific */\n",
       "#sk-container-id-1 div.sk-estimator {\n",
       "  font-family: monospace;\n",
       "  border: 1px dotted var(--sklearn-color-border-box);\n",
       "  border-radius: 0.25em;\n",
       "  box-sizing: border-box;\n",
       "  margin-bottom: 0.5em;\n",
       "  /* unfitted */\n",
       "  background-color: var(--sklearn-color-unfitted-level-0);\n",
       "}\n",
       "\n",
       "#sk-container-id-1 div.sk-estimator.fitted {\n",
       "  /* fitted */\n",
       "  background-color: var(--sklearn-color-fitted-level-0);\n",
       "}\n",
       "\n",
       "/* on hover */\n",
       "#sk-container-id-1 div.sk-estimator:hover {\n",
       "  /* unfitted */\n",
       "  background-color: var(--sklearn-color-unfitted-level-2);\n",
       "}\n",
       "\n",
       "#sk-container-id-1 div.sk-estimator.fitted:hover {\n",
       "  /* fitted */\n",
       "  background-color: var(--sklearn-color-fitted-level-2);\n",
       "}\n",
       "\n",
       "/* Specification for estimator info (e.g. \"i\" and \"?\") */\n",
       "\n",
       "/* Common style for \"i\" and \"?\" */\n",
       "\n",
       ".sk-estimator-doc-link,\n",
       "a:link.sk-estimator-doc-link,\n",
       "a:visited.sk-estimator-doc-link {\n",
       "  float: right;\n",
       "  font-size: smaller;\n",
       "  line-height: 1em;\n",
       "  font-family: monospace;\n",
       "  background-color: var(--sklearn-color-background);\n",
       "  border-radius: 1em;\n",
       "  height: 1em;\n",
       "  width: 1em;\n",
       "  text-decoration: none !important;\n",
       "  margin-left: 1ex;\n",
       "  /* unfitted */\n",
       "  border: var(--sklearn-color-unfitted-level-1) 1pt solid;\n",
       "  color: var(--sklearn-color-unfitted-level-1);\n",
       "}\n",
       "\n",
       ".sk-estimator-doc-link.fitted,\n",
       "a:link.sk-estimator-doc-link.fitted,\n",
       "a:visited.sk-estimator-doc-link.fitted {\n",
       "  /* fitted */\n",
       "  border: var(--sklearn-color-fitted-level-1) 1pt solid;\n",
       "  color: var(--sklearn-color-fitted-level-1);\n",
       "}\n",
       "\n",
       "/* On hover */\n",
       "div.sk-estimator:hover .sk-estimator-doc-link:hover,\n",
       ".sk-estimator-doc-link:hover,\n",
       "div.sk-label-container:hover .sk-estimator-doc-link:hover,\n",
       ".sk-estimator-doc-link:hover {\n",
       "  /* unfitted */\n",
       "  background-color: var(--sklearn-color-unfitted-level-3);\n",
       "  color: var(--sklearn-color-background);\n",
       "  text-decoration: none;\n",
       "}\n",
       "\n",
       "div.sk-estimator.fitted:hover .sk-estimator-doc-link.fitted:hover,\n",
       ".sk-estimator-doc-link.fitted:hover,\n",
       "div.sk-label-container:hover .sk-estimator-doc-link.fitted:hover,\n",
       ".sk-estimator-doc-link.fitted:hover {\n",
       "  /* fitted */\n",
       "  background-color: var(--sklearn-color-fitted-level-3);\n",
       "  color: var(--sklearn-color-background);\n",
       "  text-decoration: none;\n",
       "}\n",
       "\n",
       "/* Span, style for the box shown on hovering the info icon */\n",
       ".sk-estimator-doc-link span {\n",
       "  display: none;\n",
       "  z-index: 9999;\n",
       "  position: relative;\n",
       "  font-weight: normal;\n",
       "  right: .2ex;\n",
       "  padding: .5ex;\n",
       "  margin: .5ex;\n",
       "  width: min-content;\n",
       "  min-width: 20ex;\n",
       "  max-width: 50ex;\n",
       "  color: var(--sklearn-color-text);\n",
       "  box-shadow: 2pt 2pt 4pt #999;\n",
       "  /* unfitted */\n",
       "  background: var(--sklearn-color-unfitted-level-0);\n",
       "  border: .5pt solid var(--sklearn-color-unfitted-level-3);\n",
       "}\n",
       "\n",
       ".sk-estimator-doc-link.fitted span {\n",
       "  /* fitted */\n",
       "  background: var(--sklearn-color-fitted-level-0);\n",
       "  border: var(--sklearn-color-fitted-level-3);\n",
       "}\n",
       "\n",
       ".sk-estimator-doc-link:hover span {\n",
       "  display: block;\n",
       "}\n",
       "\n",
       "/* \"?\"-specific style due to the `<a>` HTML tag */\n",
       "\n",
       "#sk-container-id-1 a.estimator_doc_link {\n",
       "  float: right;\n",
       "  font-size: 1rem;\n",
       "  line-height: 1em;\n",
       "  font-family: monospace;\n",
       "  background-color: var(--sklearn-color-background);\n",
       "  border-radius: 1rem;\n",
       "  height: 1rem;\n",
       "  width: 1rem;\n",
       "  text-decoration: none;\n",
       "  /* unfitted */\n",
       "  color: var(--sklearn-color-unfitted-level-1);\n",
       "  border: var(--sklearn-color-unfitted-level-1) 1pt solid;\n",
       "}\n",
       "\n",
       "#sk-container-id-1 a.estimator_doc_link.fitted {\n",
       "  /* fitted */\n",
       "  border: var(--sklearn-color-fitted-level-1) 1pt solid;\n",
       "  color: var(--sklearn-color-fitted-level-1);\n",
       "}\n",
       "\n",
       "/* On hover */\n",
       "#sk-container-id-1 a.estimator_doc_link:hover {\n",
       "  /* unfitted */\n",
       "  background-color: var(--sklearn-color-unfitted-level-3);\n",
       "  color: var(--sklearn-color-background);\n",
       "  text-decoration: none;\n",
       "}\n",
       "\n",
       "#sk-container-id-1 a.estimator_doc_link.fitted:hover {\n",
       "  /* fitted */\n",
       "  background-color: var(--sklearn-color-fitted-level-3);\n",
       "}\n",
       "</style><div id=\"sk-container-id-1\" class=\"sk-top-container\"><div class=\"sk-text-repr-fallback\"><pre>LinearSVC(random_state=42, verbose=1)</pre><b>In a Jupyter environment, please rerun this cell to show the HTML representation or trust the notebook. <br />On GitHub, the HTML representation is unable to render, please try loading this page with nbviewer.org.</b></div><div class=\"sk-container\" hidden><div class=\"sk-item\"><div class=\"sk-estimator fitted sk-toggleable\"><input class=\"sk-toggleable__control sk-hidden--visually\" id=\"sk-estimator-id-1\" type=\"checkbox\" checked><label for=\"sk-estimator-id-1\" class=\"sk-toggleable__label fitted sk-toggleable__label-arrow fitted\">&nbsp;&nbsp;LinearSVC<a class=\"sk-estimator-doc-link fitted\" rel=\"noreferrer\" target=\"_blank\" href=\"https://scikit-learn.org/1.5/modules/generated/sklearn.svm.LinearSVC.html\">?<span>Documentation for LinearSVC</span></a><span class=\"sk-estimator-doc-link fitted\">i<span>Fitted</span></span></label><div class=\"sk-toggleable__content fitted\"><pre>LinearSVC(random_state=42, verbose=1)</pre></div> </div></div></div></div>"
      ],
      "text/plain": [
       "LinearSVC(random_state=42, verbose=1)"
      ]
     },
     "execution_count": 37,
     "metadata": {},
     "output_type": "execute_result"
    }
   ],
   "source": [
    "svm_model = LinearSVC(\n",
    "    C=1.0,             # Regularization parameter\n",
    "    random_state=42,\n",
    "    verbose=1          # Enable progress updates\n",
    ")\n",
    "\n",
    "# Fit the model\n",
    "svm_model.fit(X_train_tfidf, y_train_enc)"
   ]
  },
  {
   "cell_type": "code",
   "execution_count": 38,
   "id": "c53d2513-af87-4a8a-9488-c2fcf0fedcda",
   "metadata": {},
   "outputs": [],
   "source": [
    "# Predict on validation\n",
    "y_val_pred = svm_model.predict(X_val_tfidf)"
   ]
  },
  {
   "cell_type": "markdown",
   "id": "26ad85a9-fee7-44b8-a970-5b9c2b4fb730",
   "metadata": {},
   "source": [
    "### Evaluate on the Validation Set"
   ]
  },
  {
   "cell_type": "code",
   "execution_count": 60,
   "id": "ae73e4f9-fd44-4aca-b391-a4038b2c8f4e",
   "metadata": {},
   "outputs": [
    {
     "name": "stdout",
     "output_type": "stream",
     "text": [
      "Validation Accuracy : 0.8438779386316634\n",
      "Validation Precision: 0.8411187289117569\n",
      "Validation Recall   : 0.8353177172955735\n",
      "Validation F1-score : 0.8353879568455849\n",
      "\n",
      "Validation Classification Report:\n",
      "              precision    recall  f1-score   support\n",
      "\n",
      "           0       0.83      0.75      0.79      5219\n",
      "           1       0.80      0.93      0.86      7890\n",
      "           2       0.89      0.83      0.86     10584\n",
      "\n",
      "    accuracy                           0.84     23693\n",
      "   macro avg       0.84      0.84      0.84     23693\n",
      "weighted avg       0.85      0.84      0.84     23693\n",
      "\n"
     ]
    }
   ],
   "source": [
    "# Evaluate on validation set\n",
    "val_accuracy = accuracy_score(y_val_enc, y_val_pred)\n",
    "val_precision = precision_score(y_val_enc, y_val_pred, average='macro')\n",
    "val_recall = recall_score(y_val_enc, y_val_pred, average='macro')\n",
    "val_f1 = f1_score(y_val_enc, y_val_pred, average='macro')\n",
    "\n",
    "print(\"Validation Accuracy :\", val_accuracy)\n",
    "print(\"Validation Precision:\", val_precision)\n",
    "print(\"Validation Recall   :\", val_recall)\n",
    "print(\"Validation F1-score :\", val_f1)\n",
    "print(\"\\nValidation Classification Report:\")\n",
    "print(classification_report(y_val_enc, y_val_pred))\n"
   ]
  },
  {
   "cell_type": "markdown",
   "id": "16db98fc-7bf0-4da4-9a85-fa10bbf227db",
   "metadata": {},
   "source": [
    "### Final Evaluation on Testing Data"
   ]
  },
  {
   "cell_type": "code",
   "execution_count": 65,
   "id": "c20b53d8-6240-4824-afb6-42177fe7cd7b",
   "metadata": {},
   "outputs": [
    {
     "name": "stdout",
     "output_type": "stream",
     "text": [
      "\n",
      "Test Accuracy : 0.8475077026969992\n",
      "Test Precision: 0.8438519310045303\n",
      "Test Recall   : 0.8377480099708272\n",
      "Test F1-score : 0.8382317763707815\n",
      "\n",
      "Test Classification Report:\n",
      "              precision    recall  f1-score   support\n",
      "\n",
      "           0       0.83      0.75      0.79      5220\n",
      "           1       0.81      0.93      0.86      7889\n",
      "           2       0.89      0.83      0.86     10584\n",
      "\n",
      "    accuracy                           0.85     23693\n",
      "   macro avg       0.84      0.84      0.84     23693\n",
      "weighted avg       0.85      0.85      0.85     23693\n",
      "\n"
     ]
    },
    {
     "data": {
      "image/png": "[encoded data removed]",
      "text/plain": [
       "<Figure size 640x480 with 2 Axes>"
      ]
     },
     "metadata": {},
     "output_type": "display_data"
    }
   ],
   "source": [
    "y_test_pred = svm_model.predict(X_test_tfidf)\n",
    "\n",
    "test_accuracy = accuracy_score(y_test_enc, y_test_pred)\n",
    "test_precision = precision_score(y_test_enc, y_test_pred, average='macro')\n",
    "test_recall = recall_score(y_test_enc, y_test_pred, average='macro')\n",
    "test_f1 = f1_score(y_test_enc, y_test_pred, average='macro')\n",
    "\n",
    "print(\"\\nTest Accuracy :\", test_accuracy)\n",
    "print(\"Test Precision:\", test_precision)\n",
    "print(\"Test Recall   :\", test_recall)\n",
    "print(\"Test F1-score :\", test_f1)\n",
    "print(\"\\nTest Classification Report:\")\n",
    "print(classification_report(y_test_enc, y_test_pred))\n",
    "\n",
    "cm = confusion_matrix(y_test_enc, y_test_pred)\n",
    "sns.heatmap(cm, annot=True, fmt='d', cmap='Reds')\n",
    "plt.title(\"Confusion Matrix - SVM\")\n",
    "plt.xlabel(\"Predicted Label\")\n",
    "plt.ylabel(\"True Label\")\n",
    "plt.show()\n"
   ]
  },
  {
   "cell_type": "markdown",
   "id": "ae9c1ecf-986e-49cd-8298-a398f76ddd43",
   "metadata": {},
   "source": [
    "## CNN"
   ]
  },
  {
   "cell_type": "code",
   "execution_count": 76,
   "id": "4e00c6b2-7960-4d40-9b03-70bbb99c3633",
   "metadata": {},
   "outputs": [],
   "source": [
    "from tensorflow.keras.models import Sequential\n",
    "from tensorflow.keras.layers import Embedding, Conv1D, GlobalMaxPooling1D, Dense, Dropout\n",
    "from tensorflow.keras.optimizers import Adam\n",
    "import keras_tuner as kt"
   ]
  },
  {
   "cell_type": "markdown",
   "id": "f237b1e1-c868-4d23-8a23-fb4b7303f442",
   "metadata": {},
   "source": [
    "### Build CNN Model"
   ]
  },
  {
   "cell_type": "code",
   "execution_count": 83,
   "id": "a31ecc52-623e-48bb-95ea-ff4bcd5f7535",
   "metadata": {},
   "outputs": [],
   "source": [
    "# Define global variables\n",
    "vocab_size = 10000  # Vocabulary size\n",
    "input_length = max_len  # Maximum length of padded sequences\n",
    "num_classes = len(np.unique(y_train_enc))  # Number of output classes"
   ]
  },
  {
   "cell_type": "code",
   "execution_count": 85,
   "id": "a8c6b034-2fae-4e39-b4c7-6f700d9d1904",
   "metadata": {},
   "outputs": [],
   "source": [
    "def build_model(hp):\n",
    "    \"\"\"\n",
    "    Build a CNN model with tunable hyperparameters for text classification.\n",
    "    :param hp: Hyperparameter object from Keras Tuner\n",
    "    :return: Compiled Keras model\n",
    "    \"\"\"\n",
    "    model = Sequential()\n",
    "\n",
    "    # Embedding layer\n",
    "    model.add(Embedding(\n",
    "        input_dim=vocab_size,\n",
    "        output_dim=hp.Choice('embedding_dim', [50, 100, 200]),  # Tune embedding dimensions\n",
    "        input_length=input_length\n",
    "    ))\n",
    "    \n",
    "    # Convolutional layer\n",
    "    model.add(Conv1D(\n",
    "        filters=hp.Choice('filters', [64, 128, 256]),   # Tune number of filters\n",
    "        kernel_size=hp.Choice('kernel_size', [3, 5, 7]), # Tune kernel size\n",
    "        activation='relu'\n",
    "    ))\n",
    "    model.add(GlobalMaxPooling1D())\n",
    "    \n",
    "    # Dense layer\n",
    "    model.add(Dense(\n",
    "        hp.Choice('dense_units', [32, 64, 128]),  # Tune number of units in Dense layer\n",
    "        activation='relu'\n",
    "    ))\n",
    "    model.add(Dropout(hp.Choice('dropout', [0.3, 0.5, 0.7])))  # Tune dropout rate\n",
    "    \n",
    "    # Output layer\n",
    "    model.add(Dense(num_classes, activation='softmax'))\n",
    "    \n",
    "    # Compile the model\n",
    "    model.compile(\n",
    "        optimizer=Adam(learning_rate=hp.Choice('learning_rate', [1e-2, 1e-3, 1e-4])),  # Tune learning rate\n",
    "        loss='sparse_categorical_crossentropy',\n",
    "        metrics=['accuracy']\n",
    "    )\n",
    "    \n",
    "    return model"
   ]
  },
  {
   "cell_type": "markdown",
   "id": "3ddfa850-659d-438c-b85f-4d19c0d86a6c",
   "metadata": {},
   "source": [
    "### Setup Keras Tuner"
   ]
  },
  {
   "cell_type": "code",
   "execution_count": 88,
   "id": "4aa17c4a-f302-4673-9cec-ab49bb07c14c",
   "metadata": {},
   "outputs": [
    {
     "name": "stderr",
     "output_type": "stream",
     "text": [
      "/Users/jack/anaconda3/lib/python3.11/site-packages/keras/src/layers/core/embedding.py:90: UserWarning: Argument `input_length` is deprecated. Just remove it.\n",
      "  warnings.warn(\n"
     ]
    }
   ],
   "source": [
    "tuner = kt.RandomSearch(\n",
    "    build_model,  # Pass the model-building function\n",
    "    objective='val_accuracy',  # Optimize for validation accuracy\n",
    "    max_trials=10,             # Number of hyperparameter combinations to try\n",
    "    executions_per_trial=1,    # Number of times to train each model configuration\n",
    "    directory='tuning_results',  # Folder to save tuning logs\n",
    "    project_name='cnn_text_classification'\n",
    ")"
   ]
  },
  {
   "cell_type": "markdown",
   "id": "63de5209-5b04-4af1-b923-c253edd89d44",
   "metadata": {},
   "source": [
    "### Hyperparameter Search"
   ]
  },
  {
   "cell_type": "code",
   "execution_count": 91,
   "id": "bda90d02-a7aa-4033-9aff-bc0c94f40329",
   "metadata": {},
   "outputs": [
    {
     "name": "stdout",
     "output_type": "stream",
     "text": [
      "Trial 10 Complete [00h 03m 30s]\n",
      "val_accuracy: 0.8981555700302124\n",
      "\n",
      "Best val_accuracy So Far: 0.9011522531509399\n",
      "Total elapsed time: 00h 54m 25s\n"
     ]
    }
   ],
   "source": [
    "tuner.search(\n",
    "    X_train_pad, \n",
    "    y_train_enc,\n",
    "    validation_data=(X_val_pad, y_val_enc),\n",
    "    epochs=5,  # You can increase this to allow more training for each trial\n",
    "    batch_size=32,  # Fixed for now, or you can also tune it\n",
    "    verbose=1\n",
    ")"
   ]
  },
  {
   "cell_type": "code",
   "execution_count": 93,
   "id": "ede224f0-7505-41e9-a426-bc23c4ff290f",
   "metadata": {},
   "outputs": [
    {
     "name": "stdout",
     "output_type": "stream",
     "text": [
      "Best Embedding Dimension: 200\n",
      "Best Number of Filters: 128\n",
      "Best Kernel Size: 7\n",
      "Best Dense Units: 128\n",
      "Best Dropout Rate: 0.3\n",
      "Best Learning Rate: 0.0001\n"
     ]
    }
   ],
   "source": [
    "best_hps = tuner.get_best_hyperparameters(num_trials=1)[0]\n",
    "\n",
    "print(f\"Best Embedding Dimension: {best_hps.get('embedding_dim')}\")\n",
    "print(f\"Best Number of Filters: {best_hps.get('filters')}\")\n",
    "print(f\"Best Kernel Size: {best_hps.get('kernel_size')}\")\n",
    "print(f\"Best Dense Units: {best_hps.get('dense_units')}\")\n",
    "print(f\"Best Dropout Rate: {best_hps.get('dropout')}\")\n",
    "print(f\"Best Learning Rate: {best_hps.get('learning_rate')}\")"
   ]
  },
  {
   "cell_type": "markdown",
   "id": "ebeceb0b-3c11-4649-b208-ddeb8bab8fd4",
   "metadata": {},
   "source": [
    "### Train the Model"
   ]
  },
  {
   "cell_type": "code",
   "execution_count": 97,
   "id": "a95f45c7-da7e-42e7-ae87-0a58911518e6",
   "metadata": {},
   "outputs": [
    {
     "name": "stdout",
     "output_type": "stream",
     "text": [
      "Epoch 1/5\n",
      "\u001b[1m3456/3456\u001b[0m \u001b[32m━━━━━━━━━━━━━━━━━━━━\u001b[0m\u001b[37m\u001b[0m \u001b[1m81s\u001b[0m 23ms/step - accuracy: 0.6394 - loss: 0.8007 - val_accuracy: 0.8875 - val_loss: 0.3451\n",
      "Epoch 2/5\n",
      "\u001b[1m3456/3456\u001b[0m \u001b[32m━━━━━━━━━━━━━━━━━━━━\u001b[0m\u001b[37m\u001b[0m \u001b[1m80s\u001b[0m 23ms/step - accuracy: 0.9017 - loss: 0.3048 - val_accuracy: 0.9006 - val_loss: 0.3176\n",
      "Epoch 3/5\n",
      "\u001b[1m3456/3456\u001b[0m \u001b[32m━━━━━━━━━━━━━━━━━━━━\u001b[0m\u001b[37m\u001b[0m \u001b[1m79s\u001b[0m 23ms/step - accuracy: 0.9207 - loss: 0.2503 - val_accuracy: 0.9007 - val_loss: 0.3184\n",
      "Epoch 4/5\n",
      "\u001b[1m3456/3456\u001b[0m \u001b[32m━━━━━━━━━━━━━━━━━━━━\u001b[0m\u001b[37m\u001b[0m \u001b[1m79s\u001b[0m 23ms/step - accuracy: 0.9381 - loss: 0.2026 - val_accuracy: 0.8980 - val_loss: 0.3287\n",
      "Epoch 5/5\n",
      "\u001b[1m3456/3456\u001b[0m \u001b[32m━━━━━━━━━━━━━━━━━━━━\u001b[0m\u001b[37m\u001b[0m \u001b[1m78s\u001b[0m 23ms/step - accuracy: 0.9558 - loss: 0.1525 - val_accuracy: 0.8909 - val_loss: 0.3566\n"
     ]
    }
   ],
   "source": [
    "best_model = tuner.hypermodel.build(best_hps)\n",
    "\n",
    "# Train the best model\n",
    "history = best_model.fit(\n",
    "    X_train_pad, \n",
    "    y_train_enc,\n",
    "    validation_data=(X_val_pad, y_val_enc),\n",
    "    epochs=5,  # Train for more epochs with the best configuration\n",
    "    batch_size=32,  # Fixed for now\n",
    "    verbose=1\n",
    ")"
   ]
  },
  {
   "cell_type": "markdown",
   "id": "da3edbbf-5062-4ecc-8218-52614d30605d",
   "metadata": {},
   "source": [
    "### Evaluate the test set"
   ]
  },
  {
   "cell_type": "code",
   "execution_count": 104,
   "id": "9031021a-108e-4e24-a82b-4697d8b15bf2",
   "metadata": {},
   "outputs": [
    {
     "name": "stdout",
     "output_type": "stream",
     "text": [
      "\u001b[1m741/741\u001b[0m \u001b[32m━━━━━━━━━━━━━━━━━━━━\u001b[0m\u001b[37m\u001b[0m \u001b[1m4s\u001b[0m 6ms/step\n",
      "Test Accuracy:  0.8927\n",
      "Test Precision: 0.8925\n",
      "Test Recall:    0.8927\n",
      "Test F1-score:  0.8925\n",
      "\n",
      "Classification Report:\n",
      "              precision    recall  f1-score   support\n",
      "\n",
      "           0       0.84      0.83      0.83      5220\n",
      "           1       0.90      0.93      0.92      7889\n",
      "           2       0.91      0.90      0.90     10584\n",
      "\n",
      "    accuracy                           0.89     23693\n",
      "   macro avg       0.88      0.88      0.88     23693\n",
      "weighted avg       0.89      0.89      0.89     23693\n",
      "\n"
     ]
    },
    {
     "data": {
      "image/png": "[encoded data removed]",
      "text/plain": [
       "<Figure size 600x400 with 2 Axes>"
      ]
     },
     "metadata": {},
     "output_type": "display_data"
    }
   ],
   "source": [
    "# Predictions\n",
    "y_pred_probs = best_model.predict(X_test_pad)  # Use the best_model from hyperparameter tuning\n",
    "y_pred = np.argmax(y_pred_probs, axis=1)  # Convert probabilities to class predictions\n",
    "\n",
    "# Metrics\n",
    "accuracy = accuracy_score(y_test_enc, y_pred)\n",
    "precision = precision_score(y_test_enc, y_pred, average='weighted', zero_division=0)\n",
    "recall = recall_score(y_test_enc, y_pred, average='weighted', zero_division=0)\n",
    "f1 = f1_score(y_test_enc, y_pred, average='weighted', zero_division=0)\n",
    "\n",
    "print(\"Test Accuracy:  {:.4f}\".format(accuracy))\n",
    "print(\"Test Precision: {:.4f}\".format(precision))\n",
    "print(\"Test Recall:    {:.4f}\".format(recall))\n",
    "print(\"Test F1-score:  {:.4f}\".format(f1))\n",
    "\n",
    "# Classification Report\n",
    "print(\"\\nClassification Report:\")\n",
    "print(classification_report(y_test_enc, y_pred, zero_division=0))\n",
    "\n",
    "# Confusion Matrix\n",
    "cm = confusion_matrix(y_test_enc, y_pred)\n",
    "plt.figure(figsize=(6, 4))\n",
    "sns.heatmap(cm, annot=True, fmt='d', cmap='Greens', xticklabels=np.unique(y_test_enc), yticklabels=np.unique(y_test_enc))\n",
    "plt.title('CNN Confusion Matrix')\n",
    "plt.xlabel('Predicted')\n",
    "plt.ylabel('True')\n",
    "plt.show()"
   ]
  },
  {
   "cell_type": "markdown",
   "id": "cc0e2372-2ffc-4e10-a327-b3963deca047",
   "metadata": {},
   "source": [
    "### Plot Training History"
   ]
  },
  {
   "cell_type": "code",
   "execution_count": 106,
   "id": "82a3df35-fa44-4e96-8d53-0988b9478502",
   "metadata": {},
   "outputs": [
    {
     "data": {
      "image/png": "[encoded data removed]",
      "text/plain": [
       "<Figure size 1200x500 with 2 Axes>"
      ]
     },
     "metadata": {},
     "output_type": "display_data"
    }
   ],
   "source": [
    "def plot_training_history(history):\n",
    "    \"\"\"\n",
    "    Plots the accuracy and loss curves from the training history.\n",
    "    \"\"\"\n",
    "    # Accuracy\n",
    "    plt.figure(figsize=(12, 5))\n",
    "    \n",
    "    # Subplot 1: Accuracy\n",
    "    plt.subplot(1, 2, 1)\n",
    "    plt.plot(history.history['accuracy'], label='Train Accuracy', marker='o')\n",
    "    plt.plot(history.history['val_accuracy'], label='Val Accuracy', marker='o')\n",
    "    plt.title('Training & Validation Accuracy')\n",
    "    plt.xlabel('Epoch')\n",
    "    plt.ylabel('Accuracy')\n",
    "    plt.legend()\n",
    "    \n",
    "    # Subplot 2: Loss\n",
    "    plt.subplot(1, 2, 2)\n",
    "    plt.plot(history.history['loss'], label='Train Loss', marker='o')\n",
    "    plt.plot(history.history['val_loss'], label='Val Loss', marker='o')\n",
    "    plt.title('Training & Validation Loss')\n",
    "    plt.xlabel('Epoch')\n",
    "    plt.ylabel('Loss')\n",
    "    plt.legend()\n",
    "    \n",
    "    plt.tight_layout()\n",
    "    plt.show()\n",
    "\n",
    "plot_training_history(history)"
   ]
  },
  {
   "cell_type": "markdown",
   "id": "4229e1f5-458f-4169-9cf6-081b26c214f4",
   "metadata": {},
   "source": [
    "## RNN (Abandoned)"
   ]
  },
  {
   "cell_type": "code",
   "execution_count": null,
   "id": "1868f8fc-d0e2-4606-bb82-22bbb88f7504",
   "metadata": {},
   "outputs": [],
   "source": [
    "from tensorflow.keras.layers import Embedding, SimpleRNN, Dense, Dropout"
   ]
  },
  {
   "cell_type": "code",
   "execution_count": null,
   "id": "7563ab7e-3a63-4eff-9d75-46a812d01d76",
   "metadata": {},
   "outputs": [],
   "source": [
    "# Hyperparameters\n",
    "vocab_size    = 10000   # Should match the tokenizer.num_words if used\n",
    "embedding_dim = 100\n",
    "input_length  = X_train_pad.shape[1]  # The max_len used for padding\n",
    "num_classes   = len(np.unique(y_train_enc))"
   ]
  },
  {
   "cell_type": "markdown",
   "id": "1ce047d3-5efc-41c7-a560-da5edd0a5818",
   "metadata": {},
   "source": [
    "### Build RNN Model "
   ]
  },
  {
   "cell_type": "code",
   "execution_count": null,
   "id": "7bdbae1a-caa9-4322-a7ec-3b09353f6f40",
   "metadata": {},
   "outputs": [],
   "source": [
    "def build_rnn_model(vocab_size, embedding_dim, input_length, num_classes):\n",
    "    \"\"\"\n",
    "    Build a simple RNN model for text classification.\n",
    "    :param vocab_size: size of vocabulary for embedding layer\n",
    "    :param embedding_dim: dimension of the embeddings\n",
    "    :param input_length: maximum length of input sequences\n",
    "    :param num_classes: number of output classes\n",
    "    :return: compiled Keras model\n",
    "    \"\"\"\n",
    "    model = Sequential()\n",
    "    model.add(Embedding(input_dim=vocab_size, \n",
    "                        output_dim=embedding_dim, \n",
    "                        input_length=input_length))\n",
    "    \n",
    "    # Simple Recurrent Layer\n",
    "    model.add(SimpleRNN(128, activation='relu'))  \n",
    "    # You can also try activation='tanh' or different units\n",
    "\n",
    "    model.add(Dropout(0.5))\n",
    "    model.add(Dense(64, activation='relu'))\n",
    "    \n",
    "    # Output layer\n",
    "    model.add(Dense(num_classes, activation='softmax'))\n",
    "    \n",
    "    model.compile(\n",
    "        loss='sparse_categorical_crossentropy',\n",
    "        optimizer=Adam(learning_rate=1e-3),\n",
    "        metrics=['accuracy']\n",
    "    )\n",
    "    return model"
   ]
  },
  {
   "cell_type": "markdown",
   "id": "da5ad350-10cc-405e-8a0c-77a0f221d71c",
   "metadata": {},
   "source": [
    "### Train the Model"
   ]
  },
  {
   "cell_type": "code",
   "execution_count": null,
   "id": "dbaec641-cb45-4837-b503-432a5786dea8",
   "metadata": {},
   "outputs": [],
   "source": [
    "rnn_model = build_rnn_model(vocab_size, embedding_dim, input_length, num_classes)\n",
    "rnn_model.build(input_shape=(None, input_length))\n",
    "print(rnn_model.summary())\n",
    "\n",
    "batch_size = 32\n",
    "epochs     = 5\n",
    "\n",
    "history_rnn = rnn_model.fit(\n",
    "    X_train_pad, \n",
    "    y_train_enc, \n",
    "    validation_data=(X_val_pad, y_val_enc),\n",
    "    batch_size=batch_size,\n",
    "    epochs=epochs,\n",
    "    verbose=1\n",
    ")\n"
   ]
  },
  {
   "cell_type": "markdown",
   "id": "2eddc095-9db7-40e3-a620-854ccdf0c3c7",
   "metadata": {},
   "source": [
    "### Evaluate on Test Set"
   ]
  },
  {
   "cell_type": "code",
   "execution_count": null,
   "id": "55dacf02-81db-493e-a06b-126084715105",
   "metadata": {},
   "outputs": [],
   "source": [
    "y_pred_probs_rnn = rnn_model.predict(X_test_pad)\n",
    "y_pred_rnn        = np.argmax(y_pred_probs_rnn, axis=1)\n",
    "\n",
    "# Calculate metrics\n",
    "accuracy_rnn  = accuracy_score(y_test_enc, y_pred_rnn)\n",
    "precision_rnn = precision_score(y_test_enc, y_pred_rnn, average='weighted', zero_division=0)\n",
    "recall_rnn    = recall_score(y_test_enc, y_pred_rnn, average='weighted', zero_division=0)\n",
    "f1_rnn        = f1_score(y_test_enc, y_pred_rnn, average='weighted', zero_division=0)\n",
    "\n",
    "print(\"RNN Test Accuracy:  {:.4f}\".format(accuracy_rnn))\n",
    "print(\"RNN Test Precision: {:.4f}\".format(precision_rnn))\n",
    "print(\"RNN Test Recall:    {:.4f}\".format(recall_rnn))\n",
    "print(\"RNN Test F1-score:  {:.4f}\".format(f1_rnn))\n",
    "\n",
    "print(\"\\nRNN Classification Report:\")\n",
    "print(classification_report(y_test_enc, y_pred_rnn, zero_division=0))\n",
    "\n",
    "# Confusion Matrix\n",
    "cm_rnn = confusion_matrix(y_test_enc, y_pred_rnn)\n",
    "plt.figure(figsize=(6,4))\n",
    "sns.heatmap(cm_rnn, annot=True, fmt='d', cmap='Blues')\n",
    "plt.title('RNN Confusion Matrix')\n",
    "plt.xlabel('Predicted')\n",
    "plt.ylabel('True')\n",
    "plt.show()"
   ]
  },
  {
   "cell_type": "markdown",
   "id": "3c77b0aa-4579-4011-9996-a7b554c474da",
   "metadata": {},
   "source": [
    "### Plot Training History"
   ]
  },
  {
   "cell_type": "code",
   "execution_count": null,
   "id": "0bf52ed8-3e1c-44a0-905b-e5dc8a8ebefb",
   "metadata": {},
   "outputs": [],
   "source": [
    "def plot_training_history_rnn(history):\n",
    "    \"\"\"\n",
    "    Plots the accuracy and loss curves from the RNN training history.\n",
    "    \"\"\"\n",
    "    plt.figure(figsize=(12, 5))\n",
    "    \n",
    "    # Subplot 1: Accuracy\n",
    "    plt.subplot(1, 2, 1)\n",
    "    plt.plot(history.history['accuracy'], label='Train Accuracy', marker='o')\n",
    "    plt.plot(history.history['val_accuracy'], label='Val Accuracy', marker='o')\n",
    "    plt.title('RNN: Training & Validation Accuracy')\n",
    "    plt.xlabel('Epoch')\n",
    "    plt.ylabel('Accuracy')\n",
    "    plt.legend()\n",
    "    \n",
    "    # Subplot 2: Loss\n",
    "    plt.subplot(1, 2, 2)\n",
    "    plt.plot(history.history['loss'], label='Train Loss', marker='o')\n",
    "    plt.plot(history.history['val_loss'], label='Val Loss', marker='o')\n",
    "    plt.title('RNN: Training & Validation Loss')\n",
    "    plt.xlabel('Epoch')\n",
    "    plt.ylabel('Loss')\n",
    "    plt.legend()\n",
    "\n",
    "    plt.tight_layout()\n",
    "    plt.show()\n",
    "\n",
    "plot_training_history_rnn(history_rnn)"
   ]
  },
  {
   "cell_type": "markdown",
   "id": "3ac8f923-8bca-4f35-a3ca-bd36e9fa49b7",
   "metadata": {},
   "source": [
    "## LSTM"
   ]
  },
  {
   "cell_type": "code",
   "execution_count": 110,
   "id": "b0b69984-35e5-440a-a244-9169bbb08e72",
   "metadata": {},
   "outputs": [],
   "source": [
    "from tensorflow.keras.models import Sequential\n",
    "from tensorflow.keras.layers import Embedding, LSTM, Dense, Dropout\n",
    "from tensorflow.keras.optimizers import Adam\n",
    "import keras_tuner as kt"
   ]
  },
  {
   "cell_type": "code",
   "execution_count": 112,
   "id": "5cc6b156-a724-446a-8669-2efa85fd6f81",
   "metadata": {},
   "outputs": [],
   "source": [
    "def build_lstm_model(hp):\n",
    "    \"\"\"\n",
    "    Build an LSTM model with tunable hyperparameters for text classification.\n",
    "    :param hp: Hyperparameter object from Keras Tuner\n",
    "    :return: Compiled Keras model\n",
    "    \"\"\"\n",
    "    model = Sequential()\n",
    "    \n",
    "    # Embedding layer with tunable embedding dimensions\n",
    "    model.add(Embedding(\n",
    "        input_dim=vocab_size,\n",
    "        output_dim=hp.Choice('embedding_dim', [50, 100, 200]),  # Tune embedding dimensions\n",
    "        input_length=input_length\n",
    "    ))\n",
    "    \n",
    "    # LSTM layer with tunable units\n",
    "    model.add(LSTM(\n",
    "        units=hp.Choice('lstm_units', [64, 128, 256]),  # Tune number of units in LSTM\n",
    "        return_sequences=False, \n",
    "        activation='tanh'\n",
    "    ))\n",
    "    \n",
    "    # Dropout layer with tunable dropout rate\n",
    "    model.add(Dropout(hp.Choice('dropout', [0.3, 0.5, 0.7])))\n",
    "\n",
    "    # Dense layer with tunable units\n",
    "    model.add(Dense(\n",
    "        units=hp.Choice('dense_units', [32, 64, 128]),  # Tune number of units in Dense layer\n",
    "        activation='relu'\n",
    "    ))\n",
    "\n",
    "    # Output layer\n",
    "    model.add(Dense(num_classes, activation='softmax'))\n",
    "    \n",
    "    # Compile the model with a tunable learning rate\n",
    "    model.compile(\n",
    "        optimizer=Adam(learning_rate=hp.Choice('learning_rate', [1e-2, 1e-3, 1e-4])),  # Tune learning rate\n",
    "        loss='sparse_categorical_crossentropy',\n",
    "        metrics=['accuracy']\n",
    "    )\n",
    "    \n",
    "    return model"
   ]
  },
  {
   "cell_type": "markdown",
   "id": "ce0504e2-4faa-4f4a-8fae-3ebc73b92e89",
   "metadata": {},
   "source": [
    "### Initialize the Keras Tuner"
   ]
  },
  {
   "cell_type": "code",
   "execution_count": 132,
   "id": "942e4a6e-584f-432a-bf77-69c24ee26505",
   "metadata": {},
   "outputs": [],
   "source": [
    "# Initialize the tuner\n",
    "tuner = kt.RandomSearch(\n",
    "    build_lstm_model,  # Pass the model-building function\n",
    "    objective='val_accuracy',  # Optimize for validation accuracy\n",
    "    max_trials=5,  # Number of combinations to try\n",
    "    directory='lstm_tuning_results',  # Save tuning logs here\n",
    "    project_name='lstm_text_classification'  # Name of the project\n",
    ")"
   ]
  },
  {
   "cell_type": "markdown",
   "id": "9d587da7-c91d-42ba-850e-4c8d040ab2b5",
   "metadata": {},
   "source": [
    "### Hyperparameter Search"
   ]
  },
  {
   "cell_type": "code",
   "execution_count": 141,
   "id": "e63c4c1a-fc61-4287-8905-bd9a69d2aaf8",
   "metadata": {},
   "outputs": [
    {
     "name": "stdout",
     "output_type": "stream",
     "text": [
      "Epoch 1/5\n"
     ]
    },
    {
     "name": "stderr",
     "output_type": "stream",
     "text": [
      "/Users/jack/anaconda3/lib/python3.11/site-packages/keras/src/layers/core/embedding.py:90: UserWarning: Argument `input_length` is deprecated. Just remove it.\n",
      "  warnings.warn(\n"
     ]
    },
    {
     "name": "stdout",
     "output_type": "stream",
     "text": [
      "\u001b[1m3456/3456\u001b[0m \u001b[32m━━━━━━━━━━━━━━━━━━━━\u001b[0m\u001b[37m\u001b[0m \u001b[1m987s\u001b[0m 285ms/step - accuracy: 0.4445 - loss: 1.0745 - val_accuracy: 0.4467 - val_loss: 1.0595\n",
      "Epoch 2/5\n",
      "\u001b[1m  29/3456\u001b[0m \u001b[37m━━━━━━━━━━━━━━━━━━━━\u001b[0m \u001b[1m15:46\u001b[0m 276ms/step - accuracy: 0.4302 - loss: 1.0734"
     ]
    },
    {
     "ename": "KeyboardInterrupt",
     "evalue": "",
     "output_type": "error",
     "traceback": [
      "\u001b[0;31m---------------------------------------------------------------------------\u001b[0m",
      "\u001b[0;31mKeyboardInterrupt\u001b[0m                         Traceback (most recent call last)",
      "Cell \u001b[0;32mIn[141], line 2\u001b[0m\n\u001b[1;32m      1\u001b[0m \u001b[38;5;66;03m# Perform the hyperparameter search\u001b[39;00m\n\u001b[0;32m----> 2\u001b[0m tuner\u001b[38;5;241m.\u001b[39msearch(\n\u001b[1;32m      3\u001b[0m     X_train_pad, \n\u001b[1;32m      4\u001b[0m     y_train_enc, \n\u001b[1;32m      5\u001b[0m     validation_data\u001b[38;5;241m=\u001b[39m(X_val_pad, y_val_enc),\n\u001b[1;32m      6\u001b[0m     epochs\u001b[38;5;241m=\u001b[39m\u001b[38;5;241m5\u001b[39m,  \u001b[38;5;66;03m# You can increase this for better tuning\u001b[39;00m\n\u001b[1;32m      7\u001b[0m     batch_size\u001b[38;5;241m=\u001b[39m\u001b[38;5;241m32\u001b[39m,  \u001b[38;5;66;03m# Fixed batch size for now; can also tune this\u001b[39;00m\n\u001b[1;32m      8\u001b[0m     verbose\u001b[38;5;241m=\u001b[39m\u001b[38;5;241m1\u001b[39m\n\u001b[1;32m      9\u001b[0m )\n",
      "File \u001b[0;32m~/anaconda3/lib/python3.11/site-packages/keras_tuner/src/engine/base_tuner.py:234\u001b[0m, in \u001b[0;36mBaseTuner.search\u001b[0;34m(self, *fit_args, **fit_kwargs)\u001b[0m\n\u001b[1;32m    231\u001b[0m         \u001b[38;5;28;01mcontinue\u001b[39;00m\n\u001b[1;32m    233\u001b[0m     \u001b[38;5;28mself\u001b[39m\u001b[38;5;241m.\u001b[39mon_trial_begin(trial)\n\u001b[0;32m--> 234\u001b[0m     \u001b[38;5;28mself\u001b[39m\u001b[38;5;241m.\u001b[39m_try_run_and_update_trial(trial, \u001b[38;5;241m*\u001b[39mfit_args, \u001b[38;5;241m*\u001b[39m\u001b[38;5;241m*\u001b[39mfit_kwargs)\n\u001b[1;32m    235\u001b[0m     \u001b[38;5;28mself\u001b[39m\u001b[38;5;241m.\u001b[39mon_trial_end(trial)\n\u001b[1;32m    236\u001b[0m \u001b[38;5;28mself\u001b[39m\u001b[38;5;241m.\u001b[39mon_search_end()\n",
      "File \u001b[0;32m~/anaconda3/lib/python3.11/site-packages/keras_tuner/src/engine/base_tuner.py:274\u001b[0m, in \u001b[0;36mBaseTuner._try_run_and_update_trial\u001b[0;34m(self, trial, *fit_args, **fit_kwargs)\u001b[0m\n\u001b[1;32m    272\u001b[0m \u001b[38;5;28;01mdef\u001b[39;00m \u001b[38;5;21m_try_run_and_update_trial\u001b[39m(\u001b[38;5;28mself\u001b[39m, trial, \u001b[38;5;241m*\u001b[39mfit_args, \u001b[38;5;241m*\u001b[39m\u001b[38;5;241m*\u001b[39mfit_kwargs):\n\u001b[1;32m    273\u001b[0m     \u001b[38;5;28;01mtry\u001b[39;00m:\n\u001b[0;32m--> 274\u001b[0m         \u001b[38;5;28mself\u001b[39m\u001b[38;5;241m.\u001b[39m_run_and_update_trial(trial, \u001b[38;5;241m*\u001b[39mfit_args, \u001b[38;5;241m*\u001b[39m\u001b[38;5;241m*\u001b[39mfit_kwargs)\n\u001b[1;32m    275\u001b[0m         trial\u001b[38;5;241m.\u001b[39mstatus \u001b[38;5;241m=\u001b[39m trial_module\u001b[38;5;241m.\u001b[39mTrialStatus\u001b[38;5;241m.\u001b[39mCOMPLETED\n\u001b[1;32m    276\u001b[0m         \u001b[38;5;28;01mreturn\u001b[39;00m\n",
      "File \u001b[0;32m~/anaconda3/lib/python3.11/site-packages/keras_tuner/src/engine/base_tuner.py:239\u001b[0m, in \u001b[0;36mBaseTuner._run_and_update_trial\u001b[0;34m(self, trial, *fit_args, **fit_kwargs)\u001b[0m\n\u001b[1;32m    238\u001b[0m \u001b[38;5;28;01mdef\u001b[39;00m \u001b[38;5;21m_run_and_update_trial\u001b[39m(\u001b[38;5;28mself\u001b[39m, trial, \u001b[38;5;241m*\u001b[39mfit_args, \u001b[38;5;241m*\u001b[39m\u001b[38;5;241m*\u001b[39mfit_kwargs):\n\u001b[0;32m--> 239\u001b[0m     results \u001b[38;5;241m=\u001b[39m \u001b[38;5;28mself\u001b[39m\u001b[38;5;241m.\u001b[39mrun_trial(trial, \u001b[38;5;241m*\u001b[39mfit_args, \u001b[38;5;241m*\u001b[39m\u001b[38;5;241m*\u001b[39mfit_kwargs)\n\u001b[1;32m    240\u001b[0m     \u001b[38;5;28;01mif\u001b[39;00m \u001b[38;5;28mself\u001b[39m\u001b[38;5;241m.\u001b[39moracle\u001b[38;5;241m.\u001b[39mget_trial(trial\u001b[38;5;241m.\u001b[39mtrial_id)\u001b[38;5;241m.\u001b[39mmetrics\u001b[38;5;241m.\u001b[39mexists(\n\u001b[1;32m    241\u001b[0m         \u001b[38;5;28mself\u001b[39m\u001b[38;5;241m.\u001b[39moracle\u001b[38;5;241m.\u001b[39mobjective\u001b[38;5;241m.\u001b[39mname\n\u001b[1;32m    242\u001b[0m     ):\n\u001b[1;32m    243\u001b[0m         \u001b[38;5;66;03m# The oracle is updated by calling `self.oracle.update_trial()` in\u001b[39;00m\n\u001b[1;32m    244\u001b[0m         \u001b[38;5;66;03m# `Tuner.run_trial()`. For backward compatibility, we support this\u001b[39;00m\n\u001b[1;32m    245\u001b[0m         \u001b[38;5;66;03m# use case. No further action needed in this case.\u001b[39;00m\n\u001b[1;32m    246\u001b[0m         warnings\u001b[38;5;241m.\u001b[39mwarn(\n\u001b[1;32m    247\u001b[0m             \u001b[38;5;124m\"\u001b[39m\u001b[38;5;124mThe use case of calling \u001b[39m\u001b[38;5;124m\"\u001b[39m\n\u001b[1;32m    248\u001b[0m             \u001b[38;5;124m\"\u001b[39m\u001b[38;5;124m`self.oracle.update_trial(trial_id, metrics)` \u001b[39m\u001b[38;5;124m\"\u001b[39m\n\u001b[0;32m   (...)\u001b[0m\n\u001b[1;32m    254\u001b[0m             stacklevel\u001b[38;5;241m=\u001b[39m\u001b[38;5;241m2\u001b[39m,\n\u001b[1;32m    255\u001b[0m         )\n",
      "File \u001b[0;32m~/anaconda3/lib/python3.11/site-packages/keras_tuner/src/engine/tuner.py:314\u001b[0m, in \u001b[0;36mTuner.run_trial\u001b[0;34m(self, trial, *args, **kwargs)\u001b[0m\n\u001b[1;32m    312\u001b[0m     callbacks\u001b[38;5;241m.\u001b[39mappend(model_checkpoint)\n\u001b[1;32m    313\u001b[0m     copied_kwargs[\u001b[38;5;124m\"\u001b[39m\u001b[38;5;124mcallbacks\u001b[39m\u001b[38;5;124m\"\u001b[39m] \u001b[38;5;241m=\u001b[39m callbacks\n\u001b[0;32m--> 314\u001b[0m     obj_value \u001b[38;5;241m=\u001b[39m \u001b[38;5;28mself\u001b[39m\u001b[38;5;241m.\u001b[39m_build_and_fit_model(trial, \u001b[38;5;241m*\u001b[39margs, \u001b[38;5;241m*\u001b[39m\u001b[38;5;241m*\u001b[39mcopied_kwargs)\n\u001b[1;32m    316\u001b[0m     histories\u001b[38;5;241m.\u001b[39mappend(obj_value)\n\u001b[1;32m    317\u001b[0m \u001b[38;5;28;01mreturn\u001b[39;00m histories\n",
      "File \u001b[0;32m~/anaconda3/lib/python3.11/site-packages/keras_tuner/src/engine/tuner.py:233\u001b[0m, in \u001b[0;36mTuner._build_and_fit_model\u001b[0;34m(self, trial, *args, **kwargs)\u001b[0m\n\u001b[1;32m    231\u001b[0m hp \u001b[38;5;241m=\u001b[39m trial\u001b[38;5;241m.\u001b[39mhyperparameters\n\u001b[1;32m    232\u001b[0m model \u001b[38;5;241m=\u001b[39m \u001b[38;5;28mself\u001b[39m\u001b[38;5;241m.\u001b[39m_try_build(hp)\n\u001b[0;32m--> 233\u001b[0m results \u001b[38;5;241m=\u001b[39m \u001b[38;5;28mself\u001b[39m\u001b[38;5;241m.\u001b[39mhypermodel\u001b[38;5;241m.\u001b[39mfit(hp, model, \u001b[38;5;241m*\u001b[39margs, \u001b[38;5;241m*\u001b[39m\u001b[38;5;241m*\u001b[39mkwargs)\n\u001b[1;32m    235\u001b[0m \u001b[38;5;66;03m# Save the build config for model loading later.\u001b[39;00m\n\u001b[1;32m    236\u001b[0m \u001b[38;5;28;01mif\u001b[39;00m backend\u001b[38;5;241m.\u001b[39mconfig\u001b[38;5;241m.\u001b[39mmulti_backend():\n",
      "File \u001b[0;32m~/anaconda3/lib/python3.11/site-packages/keras_tuner/src/engine/hypermodel.py:149\u001b[0m, in \u001b[0;36mHyperModel.fit\u001b[0;34m(self, hp, model, *args, **kwargs)\u001b[0m\n\u001b[1;32m    125\u001b[0m \u001b[38;5;28;01mdef\u001b[39;00m \u001b[38;5;21mfit\u001b[39m(\u001b[38;5;28mself\u001b[39m, hp, model, \u001b[38;5;241m*\u001b[39margs, \u001b[38;5;241m*\u001b[39m\u001b[38;5;241m*\u001b[39mkwargs):\n\u001b[1;32m    126\u001b[0m \u001b[38;5;250m    \u001b[39m\u001b[38;5;124;03m\"\"\"Train the model.\u001b[39;00m\n\u001b[1;32m    127\u001b[0m \n\u001b[1;32m    128\u001b[0m \u001b[38;5;124;03m    Args:\u001b[39;00m\n\u001b[0;32m   (...)\u001b[0m\n\u001b[1;32m    147\u001b[0m \u001b[38;5;124;03m        If return a float, it should be the `objective` value.\u001b[39;00m\n\u001b[1;32m    148\u001b[0m \u001b[38;5;124;03m    \"\"\"\u001b[39;00m\n\u001b[0;32m--> 149\u001b[0m     \u001b[38;5;28;01mreturn\u001b[39;00m model\u001b[38;5;241m.\u001b[39mfit(\u001b[38;5;241m*\u001b[39margs, \u001b[38;5;241m*\u001b[39m\u001b[38;5;241m*\u001b[39mkwargs)\n",
      "File \u001b[0;32m~/anaconda3/lib/python3.11/site-packages/keras/src/utils/traceback_utils.py:117\u001b[0m, in \u001b[0;36mfilter_traceback.<locals>.error_handler\u001b[0;34m(*args, **kwargs)\u001b[0m\n\u001b[1;32m    115\u001b[0m filtered_tb \u001b[38;5;241m=\u001b[39m \u001b[38;5;28;01mNone\u001b[39;00m\n\u001b[1;32m    116\u001b[0m \u001b[38;5;28;01mtry\u001b[39;00m:\n\u001b[0;32m--> 117\u001b[0m     \u001b[38;5;28;01mreturn\u001b[39;00m fn(\u001b[38;5;241m*\u001b[39margs, \u001b[38;5;241m*\u001b[39m\u001b[38;5;241m*\u001b[39mkwargs)\n\u001b[1;32m    118\u001b[0m \u001b[38;5;28;01mexcept\u001b[39;00m \u001b[38;5;167;01mException\u001b[39;00m \u001b[38;5;28;01mas\u001b[39;00m e:\n\u001b[1;32m    119\u001b[0m     filtered_tb \u001b[38;5;241m=\u001b[39m _process_traceback_frames(e\u001b[38;5;241m.\u001b[39m__traceback__)\n",
      "File \u001b[0;32m~/anaconda3/lib/python3.11/site-packages/keras/src/backend/tensorflow/trainer.py:368\u001b[0m, in \u001b[0;36mTensorFlowTrainer.fit\u001b[0;34m(self, x, y, batch_size, epochs, verbose, callbacks, validation_split, validation_data, shuffle, class_weight, sample_weight, initial_epoch, steps_per_epoch, validation_steps, validation_batch_size, validation_freq)\u001b[0m\n\u001b[1;32m    366\u001b[0m \u001b[38;5;28;01mfor\u001b[39;00m step, iterator \u001b[38;5;129;01min\u001b[39;00m epoch_iterator:\n\u001b[1;32m    367\u001b[0m     callbacks\u001b[38;5;241m.\u001b[39mon_train_batch_begin(step)\n\u001b[0;32m--> 368\u001b[0m     logs \u001b[38;5;241m=\u001b[39m \u001b[38;5;28mself\u001b[39m\u001b[38;5;241m.\u001b[39mtrain_function(iterator)\n\u001b[1;32m    369\u001b[0m     callbacks\u001b[38;5;241m.\u001b[39mon_train_batch_end(step, logs)\n\u001b[1;32m    370\u001b[0m     \u001b[38;5;28;01mif\u001b[39;00m \u001b[38;5;28mself\u001b[39m\u001b[38;5;241m.\u001b[39mstop_training:\n",
      "File \u001b[0;32m~/anaconda3/lib/python3.11/site-packages/keras/src/backend/tensorflow/trainer.py:216\u001b[0m, in \u001b[0;36mTensorFlowTrainer._make_function.<locals>.function\u001b[0;34m(iterator)\u001b[0m\n\u001b[1;32m    212\u001b[0m \u001b[38;5;28;01mdef\u001b[39;00m \u001b[38;5;21mfunction\u001b[39m(iterator):\n\u001b[1;32m    213\u001b[0m     \u001b[38;5;28;01mif\u001b[39;00m \u001b[38;5;28misinstance\u001b[39m(\n\u001b[1;32m    214\u001b[0m         iterator, (tf\u001b[38;5;241m.\u001b[39mdata\u001b[38;5;241m.\u001b[39mIterator, tf\u001b[38;5;241m.\u001b[39mdistribute\u001b[38;5;241m.\u001b[39mDistributedIterator)\n\u001b[1;32m    215\u001b[0m     ):\n\u001b[0;32m--> 216\u001b[0m         opt_outputs \u001b[38;5;241m=\u001b[39m multi_step_on_iterator(iterator)\n\u001b[1;32m    217\u001b[0m         \u001b[38;5;28;01mif\u001b[39;00m \u001b[38;5;129;01mnot\u001b[39;00m opt_outputs\u001b[38;5;241m.\u001b[39mhas_value():\n\u001b[1;32m    218\u001b[0m             \u001b[38;5;28;01mraise\u001b[39;00m \u001b[38;5;167;01mStopIteration\u001b[39;00m\n",
      "File \u001b[0;32m~/anaconda3/lib/python3.11/site-packages/tensorflow/python/util/traceback_utils.py:150\u001b[0m, in \u001b[0;36mfilter_traceback.<locals>.error_handler\u001b[0;34m(*args, **kwargs)\u001b[0m\n\u001b[1;32m    148\u001b[0m filtered_tb \u001b[38;5;241m=\u001b[39m \u001b[38;5;28;01mNone\u001b[39;00m\n\u001b[1;32m    149\u001b[0m \u001b[38;5;28;01mtry\u001b[39;00m:\n\u001b[0;32m--> 150\u001b[0m   \u001b[38;5;28;01mreturn\u001b[39;00m fn(\u001b[38;5;241m*\u001b[39margs, \u001b[38;5;241m*\u001b[39m\u001b[38;5;241m*\u001b[39mkwargs)\n\u001b[1;32m    151\u001b[0m \u001b[38;5;28;01mexcept\u001b[39;00m \u001b[38;5;167;01mException\u001b[39;00m \u001b[38;5;28;01mas\u001b[39;00m e:\n\u001b[1;32m    152\u001b[0m   filtered_tb \u001b[38;5;241m=\u001b[39m _process_traceback_frames(e\u001b[38;5;241m.\u001b[39m__traceback__)\n",
      "File \u001b[0;32m~/anaconda3/lib/python3.11/site-packages/tensorflow/python/eager/polymorphic_function/polymorphic_function.py:833\u001b[0m, in \u001b[0;36mFunction.__call__\u001b[0;34m(self, *args, **kwds)\u001b[0m\n\u001b[1;32m    830\u001b[0m compiler \u001b[38;5;241m=\u001b[39m \u001b[38;5;124m\"\u001b[39m\u001b[38;5;124mxla\u001b[39m\u001b[38;5;124m\"\u001b[39m \u001b[38;5;28;01mif\u001b[39;00m \u001b[38;5;28mself\u001b[39m\u001b[38;5;241m.\u001b[39m_jit_compile \u001b[38;5;28;01melse\u001b[39;00m \u001b[38;5;124m\"\u001b[39m\u001b[38;5;124mnonXla\u001b[39m\u001b[38;5;124m\"\u001b[39m\n\u001b[1;32m    832\u001b[0m \u001b[38;5;28;01mwith\u001b[39;00m OptionalXlaContext(\u001b[38;5;28mself\u001b[39m\u001b[38;5;241m.\u001b[39m_jit_compile):\n\u001b[0;32m--> 833\u001b[0m   result \u001b[38;5;241m=\u001b[39m \u001b[38;5;28mself\u001b[39m\u001b[38;5;241m.\u001b[39m_call(\u001b[38;5;241m*\u001b[39margs, \u001b[38;5;241m*\u001b[39m\u001b[38;5;241m*\u001b[39mkwds)\n\u001b[1;32m    835\u001b[0m new_tracing_count \u001b[38;5;241m=\u001b[39m \u001b[38;5;28mself\u001b[39m\u001b[38;5;241m.\u001b[39mexperimental_get_tracing_count()\n\u001b[1;32m    836\u001b[0m without_tracing \u001b[38;5;241m=\u001b[39m (tracing_count \u001b[38;5;241m==\u001b[39m new_tracing_count)\n",
      "File \u001b[0;32m~/anaconda3/lib/python3.11/site-packages/tensorflow/python/eager/polymorphic_function/polymorphic_function.py:878\u001b[0m, in \u001b[0;36mFunction._call\u001b[0;34m(self, *args, **kwds)\u001b[0m\n\u001b[1;32m    875\u001b[0m \u001b[38;5;28mself\u001b[39m\u001b[38;5;241m.\u001b[39m_lock\u001b[38;5;241m.\u001b[39mrelease()\n\u001b[1;32m    876\u001b[0m \u001b[38;5;66;03m# In this case we have not created variables on the first call. So we can\u001b[39;00m\n\u001b[1;32m    877\u001b[0m \u001b[38;5;66;03m# run the first trace but we should fail if variables are created.\u001b[39;00m\n\u001b[0;32m--> 878\u001b[0m results \u001b[38;5;241m=\u001b[39m tracing_compilation\u001b[38;5;241m.\u001b[39mcall_function(\n\u001b[1;32m    879\u001b[0m     args, kwds, \u001b[38;5;28mself\u001b[39m\u001b[38;5;241m.\u001b[39m_variable_creation_config\n\u001b[1;32m    880\u001b[0m )\n\u001b[1;32m    881\u001b[0m \u001b[38;5;28;01mif\u001b[39;00m \u001b[38;5;28mself\u001b[39m\u001b[38;5;241m.\u001b[39m_created_variables:\n\u001b[1;32m    882\u001b[0m   \u001b[38;5;28;01mraise\u001b[39;00m \u001b[38;5;167;01mValueError\u001b[39;00m(\u001b[38;5;124m\"\u001b[39m\u001b[38;5;124mCreating variables on a non-first call to a function\u001b[39m\u001b[38;5;124m\"\u001b[39m\n\u001b[1;32m    883\u001b[0m                    \u001b[38;5;124m\"\u001b[39m\u001b[38;5;124m decorated with tf.function.\u001b[39m\u001b[38;5;124m\"\u001b[39m)\n",
      "File \u001b[0;32m~/anaconda3/lib/python3.11/site-packages/tensorflow/python/eager/polymorphic_function/tracing_compilation.py:139\u001b[0m, in \u001b[0;36mcall_function\u001b[0;34m(args, kwargs, tracing_options)\u001b[0m\n\u001b[1;32m    137\u001b[0m bound_args \u001b[38;5;241m=\u001b[39m function\u001b[38;5;241m.\u001b[39mfunction_type\u001b[38;5;241m.\u001b[39mbind(\u001b[38;5;241m*\u001b[39margs, \u001b[38;5;241m*\u001b[39m\u001b[38;5;241m*\u001b[39mkwargs)\n\u001b[1;32m    138\u001b[0m flat_inputs \u001b[38;5;241m=\u001b[39m function\u001b[38;5;241m.\u001b[39mfunction_type\u001b[38;5;241m.\u001b[39munpack_inputs(bound_args)\n\u001b[0;32m--> 139\u001b[0m \u001b[38;5;28;01mreturn\u001b[39;00m function\u001b[38;5;241m.\u001b[39m_call_flat(  \u001b[38;5;66;03m# pylint: disable=protected-access\u001b[39;00m\n\u001b[1;32m    140\u001b[0m     flat_inputs, captured_inputs\u001b[38;5;241m=\u001b[39mfunction\u001b[38;5;241m.\u001b[39mcaptured_inputs\n\u001b[1;32m    141\u001b[0m )\n",
      "File \u001b[0;32m~/anaconda3/lib/python3.11/site-packages/tensorflow/python/eager/polymorphic_function/concrete_function.py:1322\u001b[0m, in \u001b[0;36mConcreteFunction._call_flat\u001b[0;34m(self, tensor_inputs, captured_inputs)\u001b[0m\n\u001b[1;32m   1318\u001b[0m possible_gradient_type \u001b[38;5;241m=\u001b[39m gradients_util\u001b[38;5;241m.\u001b[39mPossibleTapeGradientTypes(args)\n\u001b[1;32m   1319\u001b[0m \u001b[38;5;28;01mif\u001b[39;00m (possible_gradient_type \u001b[38;5;241m==\u001b[39m gradients_util\u001b[38;5;241m.\u001b[39mPOSSIBLE_GRADIENT_TYPES_NONE\n\u001b[1;32m   1320\u001b[0m     \u001b[38;5;129;01mand\u001b[39;00m executing_eagerly):\n\u001b[1;32m   1321\u001b[0m   \u001b[38;5;66;03m# No tape is watching; skip to running the function.\u001b[39;00m\n\u001b[0;32m-> 1322\u001b[0m   \u001b[38;5;28;01mreturn\u001b[39;00m \u001b[38;5;28mself\u001b[39m\u001b[38;5;241m.\u001b[39m_inference_function\u001b[38;5;241m.\u001b[39mcall_preflattened(args)\n\u001b[1;32m   1323\u001b[0m forward_backward \u001b[38;5;241m=\u001b[39m \u001b[38;5;28mself\u001b[39m\u001b[38;5;241m.\u001b[39m_select_forward_and_backward_functions(\n\u001b[1;32m   1324\u001b[0m     args,\n\u001b[1;32m   1325\u001b[0m     possible_gradient_type,\n\u001b[1;32m   1326\u001b[0m     executing_eagerly)\n\u001b[1;32m   1327\u001b[0m forward_function, args_with_tangents \u001b[38;5;241m=\u001b[39m forward_backward\u001b[38;5;241m.\u001b[39mforward()\n",
      "File \u001b[0;32m~/anaconda3/lib/python3.11/site-packages/tensorflow/python/eager/polymorphic_function/atomic_function.py:216\u001b[0m, in \u001b[0;36mAtomicFunction.call_preflattened\u001b[0;34m(self, args)\u001b[0m\n\u001b[1;32m    214\u001b[0m \u001b[38;5;28;01mdef\u001b[39;00m \u001b[38;5;21mcall_preflattened\u001b[39m(\u001b[38;5;28mself\u001b[39m, args: Sequence[core\u001b[38;5;241m.\u001b[39mTensor]) \u001b[38;5;241m-\u001b[39m\u001b[38;5;241m>\u001b[39m Any:\n\u001b[1;32m    215\u001b[0m \u001b[38;5;250m  \u001b[39m\u001b[38;5;124;03m\"\"\"Calls with flattened tensor inputs and returns the structured output.\"\"\"\u001b[39;00m\n\u001b[0;32m--> 216\u001b[0m   flat_outputs \u001b[38;5;241m=\u001b[39m \u001b[38;5;28mself\u001b[39m\u001b[38;5;241m.\u001b[39mcall_flat(\u001b[38;5;241m*\u001b[39margs)\n\u001b[1;32m    217\u001b[0m   \u001b[38;5;28;01mreturn\u001b[39;00m \u001b[38;5;28mself\u001b[39m\u001b[38;5;241m.\u001b[39mfunction_type\u001b[38;5;241m.\u001b[39mpack_output(flat_outputs)\n",
      "File \u001b[0;32m~/anaconda3/lib/python3.11/site-packages/tensorflow/python/eager/polymorphic_function/atomic_function.py:251\u001b[0m, in \u001b[0;36mAtomicFunction.call_flat\u001b[0;34m(self, *args)\u001b[0m\n\u001b[1;32m    249\u001b[0m \u001b[38;5;28;01mwith\u001b[39;00m record\u001b[38;5;241m.\u001b[39mstop_recording():\n\u001b[1;32m    250\u001b[0m   \u001b[38;5;28;01mif\u001b[39;00m \u001b[38;5;28mself\u001b[39m\u001b[38;5;241m.\u001b[39m_bound_context\u001b[38;5;241m.\u001b[39mexecuting_eagerly():\n\u001b[0;32m--> 251\u001b[0m     outputs \u001b[38;5;241m=\u001b[39m \u001b[38;5;28mself\u001b[39m\u001b[38;5;241m.\u001b[39m_bound_context\u001b[38;5;241m.\u001b[39mcall_function(\n\u001b[1;32m    252\u001b[0m         \u001b[38;5;28mself\u001b[39m\u001b[38;5;241m.\u001b[39mname,\n\u001b[1;32m    253\u001b[0m         \u001b[38;5;28mlist\u001b[39m(args),\n\u001b[1;32m    254\u001b[0m         \u001b[38;5;28mlen\u001b[39m(\u001b[38;5;28mself\u001b[39m\u001b[38;5;241m.\u001b[39mfunction_type\u001b[38;5;241m.\u001b[39mflat_outputs),\n\u001b[1;32m    255\u001b[0m     )\n\u001b[1;32m    256\u001b[0m   \u001b[38;5;28;01melse\u001b[39;00m:\n\u001b[1;32m    257\u001b[0m     outputs \u001b[38;5;241m=\u001b[39m make_call_op_in_graph(\n\u001b[1;32m    258\u001b[0m         \u001b[38;5;28mself\u001b[39m,\n\u001b[1;32m    259\u001b[0m         \u001b[38;5;28mlist\u001b[39m(args),\n\u001b[1;32m    260\u001b[0m         \u001b[38;5;28mself\u001b[39m\u001b[38;5;241m.\u001b[39m_bound_context\u001b[38;5;241m.\u001b[39mfunction_call_options\u001b[38;5;241m.\u001b[39mas_attrs(),\n\u001b[1;32m    261\u001b[0m     )\n",
      "File \u001b[0;32m~/anaconda3/lib/python3.11/site-packages/tensorflow/python/eager/context.py:1683\u001b[0m, in \u001b[0;36mContext.call_function\u001b[0;34m(self, name, tensor_inputs, num_outputs)\u001b[0m\n\u001b[1;32m   1681\u001b[0m cancellation_context \u001b[38;5;241m=\u001b[39m cancellation\u001b[38;5;241m.\u001b[39mcontext()\n\u001b[1;32m   1682\u001b[0m \u001b[38;5;28;01mif\u001b[39;00m cancellation_context \u001b[38;5;129;01mis\u001b[39;00m \u001b[38;5;28;01mNone\u001b[39;00m:\n\u001b[0;32m-> 1683\u001b[0m   outputs \u001b[38;5;241m=\u001b[39m execute\u001b[38;5;241m.\u001b[39mexecute(\n\u001b[1;32m   1684\u001b[0m       name\u001b[38;5;241m.\u001b[39mdecode(\u001b[38;5;124m\"\u001b[39m\u001b[38;5;124mutf-8\u001b[39m\u001b[38;5;124m\"\u001b[39m),\n\u001b[1;32m   1685\u001b[0m       num_outputs\u001b[38;5;241m=\u001b[39mnum_outputs,\n\u001b[1;32m   1686\u001b[0m       inputs\u001b[38;5;241m=\u001b[39mtensor_inputs,\n\u001b[1;32m   1687\u001b[0m       attrs\u001b[38;5;241m=\u001b[39mattrs,\n\u001b[1;32m   1688\u001b[0m       ctx\u001b[38;5;241m=\u001b[39m\u001b[38;5;28mself\u001b[39m,\n\u001b[1;32m   1689\u001b[0m   )\n\u001b[1;32m   1690\u001b[0m \u001b[38;5;28;01melse\u001b[39;00m:\n\u001b[1;32m   1691\u001b[0m   outputs \u001b[38;5;241m=\u001b[39m execute\u001b[38;5;241m.\u001b[39mexecute_with_cancellation(\n\u001b[1;32m   1692\u001b[0m       name\u001b[38;5;241m.\u001b[39mdecode(\u001b[38;5;124m\"\u001b[39m\u001b[38;5;124mutf-8\u001b[39m\u001b[38;5;124m\"\u001b[39m),\n\u001b[1;32m   1693\u001b[0m       num_outputs\u001b[38;5;241m=\u001b[39mnum_outputs,\n\u001b[0;32m   (...)\u001b[0m\n\u001b[1;32m   1697\u001b[0m       cancellation_manager\u001b[38;5;241m=\u001b[39mcancellation_context,\n\u001b[1;32m   1698\u001b[0m   )\n",
      "File \u001b[0;32m~/anaconda3/lib/python3.11/site-packages/tensorflow/python/eager/execute.py:53\u001b[0m, in \u001b[0;36mquick_execute\u001b[0;34m(op_name, num_outputs, inputs, attrs, ctx, name)\u001b[0m\n\u001b[1;32m     51\u001b[0m \u001b[38;5;28;01mtry\u001b[39;00m:\n\u001b[1;32m     52\u001b[0m   ctx\u001b[38;5;241m.\u001b[39mensure_initialized()\n\u001b[0;32m---> 53\u001b[0m   tensors \u001b[38;5;241m=\u001b[39m pywrap_tfe\u001b[38;5;241m.\u001b[39mTFE_Py_Execute(ctx\u001b[38;5;241m.\u001b[39m_handle, device_name, op_name,\n\u001b[1;32m     54\u001b[0m                                       inputs, attrs, num_outputs)\n\u001b[1;32m     55\u001b[0m \u001b[38;5;28;01mexcept\u001b[39;00m core\u001b[38;5;241m.\u001b[39m_NotOkStatusException \u001b[38;5;28;01mas\u001b[39;00m e:\n\u001b[1;32m     56\u001b[0m   \u001b[38;5;28;01mif\u001b[39;00m name \u001b[38;5;129;01mis\u001b[39;00m \u001b[38;5;129;01mnot\u001b[39;00m \u001b[38;5;28;01mNone\u001b[39;00m:\n",
      "\u001b[0;31mKeyboardInterrupt\u001b[0m: "
     ]
    }
   ],
   "source": [
    "# Perform the hyperparameter search\n",
    "tuner.search(\n",
    "    X_train_pad, \n",
    "    y_train_enc, \n",
    "    validation_data=(X_val_pad, y_val_enc),\n",
    "    epochs=5,  # You can increase this for better tuning\n",
    "    batch_size=32,  # Fixed batch size for now; can also tune this\n",
    "    verbose=1\n",
    ")"
   ]
  },
  {
   "cell_type": "markdown",
   "id": "25040ff7-8100-4dee-a376-3dee768650d0",
   "metadata": {},
   "source": [
    "### Train the model"
   ]
  },
  {
   "cell_type": "code",
   "execution_count": null,
   "id": "7f3de74f-6762-475d-aaa2-54bb6a7f81f9",
   "metadata": {},
   "outputs": [],
   "source": [
    "lstm_model = build_lstm_model(\n",
    "    vocab_size=vocab_size, \n",
    "    embedding_dim=embedding_dim, \n",
    "    input_length=input_length, \n",
    "    num_classes=num_classes\n",
    ")\n",
    "lstm_model.build(input_shape=(None, input_length))\n",
    "print(lstm_model.summary())\n",
    "\n",
    "batch_size = 32\n",
    "epochs     = 5\n",
    "\n",
    "history_lstm = lstm_model.fit(\n",
    "    X_train_pad, \n",
    "    y_train_enc, \n",
    "    validation_data=(X_val_pad, y_val_enc),\n",
    "    batch_size=batch_size,\n",
    "    epochs=epochs,\n",
    "    verbose=1\n",
    ")"
   ]
  },
  {
   "cell_type": "markdown",
   "id": "0f2983bb-3ba2-441c-a4a9-693da84aaf9b",
   "metadata": {},
   "source": [
    "### Evaluate the test set"
   ]
  },
  {
   "cell_type": "code",
   "execution_count": null,
   "id": "00de78b9-bd7e-4a5c-a935-4c604841f590",
   "metadata": {},
   "outputs": [],
   "source": [
    "y_pred_probs_lstm = lstm_model.predict(X_test_pad)\n",
    "y_pred_lstm       = np.argmax(y_pred_probs_lstm, axis=1)\n",
    "\n",
    "accuracy_lstm  = accuracy_score(y_test_enc, y_pred_lstm)\n",
    "precision_lstm = precision_score(y_test_enc, y_pred_lstm, average='weighted', zero_division=0)\n",
    "recall_lstm    = recall_score(y_test_enc, y_pred_lstm, average='weighted', zero_division=0)\n",
    "f1_lstm        = f1_score(y_test_enc, y_pred_lstm, average='weighted', zero_division=0)\n",
    "\n",
    "print(\"LSTM Test Accuracy:  {:.4f}\".format(accuracy_lstm))\n",
    "print(\"LSTM Test Precision: {:.4f}\".format(precision_lstm))\n",
    "print(\"LSTM Test Recall:    {:.4f}\".format(recall_lstm))\n",
    "print(\"LSTM Test F1-score:  {:.4f}\".format(f1_lstm))\n",
    "\n",
    "print(\"\\nLSTM Classification Report:\")\n",
    "print(classification_report(y_test_enc, y_pred_lstm, zero_division=0))\n",
    "\n",
    "# Confusion Matrix\n",
    "cm_lstm = confusion_matrix(y_test_enc, y_pred_lstm)\n",
    "plt.figure(figsize=(6,4))\n",
    "sns.heatmap(cm_lstm, annot=True, fmt='d', cmap='Blues')\n",
    "plt.title('LSTM Confusion Matrix')\n",
    "plt.xlabel('Predicted')\n",
    "plt.ylabel('True')\n",
    "plt.show()"
   ]
  },
  {
   "cell_type": "markdown",
   "id": "afbf0d60-99dd-42d7-ab4b-45a3731b8f74",
   "metadata": {},
   "source": [
    "### Plot the training history"
   ]
  },
  {
   "cell_type": "code",
   "execution_count": null,
   "id": "71353c9c-7bec-4f0a-9b15-e9f65f243e26",
   "metadata": {},
   "outputs": [],
   "source": [
    "def plot_training_history_lstm(history):\n",
    "    \"\"\"\n",
    "    Plots the accuracy and loss curves from the LSTM training history.\n",
    "    \"\"\"\n",
    "    plt.figure(figsize=(12, 5))\n",
    "    \n",
    "    # Subplot 1: Accuracy\n",
    "    plt.subplot(1, 2, 1)a\n",
    "    plt.plot(history.history['accuracy'], label='Train Accuracy', marker='o')\n",
    "    plt.plot(history.history['val_accuracy'], label='Val Accuracy', marker='o')\n",
    "    plt.title('LSTM: Training & Validation Accuracy')\n",
    "    plt.xlabel('Epoch')\n",
    "    plt.ylabel('Accuracy')\n",
    "    plt.legend()\n",
    "    \n",
    "    # Subplot 2: Loss\n",
    "    plt.subplot(1, 2, 2)\n",
    "    plt.plot(history.history['loss'], label='Train Loss', marker='o')\n",
    "    plt.plot(history.history['val_loss'], label='Val Loss', marker='o')\n",
    "    plt.title('LSTM: Training & Validation Loss')\n",
    "    plt.xlabel('Epoch')\n",
    "    plt.ylabel('Loss')\n",
    "    plt.legend()\n",
    "    \n",
    "    plt.tight_layout()\n",
    "    plt.show()\n",
    "\n",
    "plot_training_history_lstm(history_lstm)"
   ]
  },
  {
   "cell_type": "markdown",
   "id": "59d91a71-a5b6-4be0-9e87-dc16b79f0de9",
   "metadata": {},
   "source": [
    "## FinBert"
   ]
  },
  {
   "cell_type": "code",
   "execution_count": null,
   "id": "0c399a3b-d24d-4ba6-8bf6-2cbf532f59ea",
   "metadata": {},
   "outputs": [],
   "source": [
    "import numpy as np\n",
    "import pandas as pd\n",
    "import torch\n",
    "import evaluate\n",
    "import matplotlib.pyplot as plt\n",
    "import seaborn as sns\n",
    "\n",
    "from sklearn.metrics import confusion_matrix\n",
    "from transformers import AutoTokenizer, AutoModelForSequenceClassification, TrainingArguments, Trainer\n",
    "from datasets import Dataset, DatasetDict"
   ]
  },
  {
   "cell_type": "code",
   "execution_count": null,
   "id": "c25bae49-884a-42cd-ab6d-a54630097ba4",
   "metadata": {},
   "outputs": [],
   "source": [
    "train_df = pd.DataFrame({\n",
    "    'text': df_x_train['Cleaned_Tweet'].tolist(),\n",
    "    'label': y_train_enc\n",
    "})\n",
    "val_df = pd.DataFrame({\n",
    "    'text': df_x_validate['Cleaned_Tweet'].tolist(),\n",
    "    'label': y_val_enc\n",
    "})\n",
    "test_df = pd.DataFrame({\n",
    "    'text': df_x_test['Cleaned_Tweet'].tolist(),\n",
    "    'label': y_test_enc\n",
    "})\n",
    "\n",
    "hf_train_dataset = Dataset.from_pandas(train_df)\n",
    "hf_val_dataset   = Dataset.from_pandas(val_df)\n",
    "hf_test_dataset  = Dataset.from_pandas(test_df)\n",
    "\n",
    "dataset_dict = DatasetDict({\n",
    "    'train': hf_train_dataset,\n",
    "    'validation': hf_val_dataset,\n",
    "    'test': hf_test_dataset\n",
    "})"
   ]
  },
  {
   "cell_type": "markdown",
   "id": "9795b58f-208a-4fab-ab51-2002d9e0e5b9",
   "metadata": {},
   "source": [
    "### Load FinBERT tokenizer & model"
   ]
  },
  {
   "cell_type": "code",
   "execution_count": null,
   "id": "b99b9a38-f8f0-4839-904a-b0dd3f3f4e2b",
   "metadata": {},
   "outputs": [],
   "source": [
    "model_name = \"ProsusAI/finbert\"\n",
    "tokenizer = AutoTokenizer.from_pretrained(model_name)\n",
    "model = AutoModelForSequenceClassification.from_pretrained(model_name, num_labels=len(np.unique(y_train_enc)))"
   ]
  },
  {
   "cell_type": "markdown",
   "id": "9273438d-80fb-4cce-a70f-e361c53c842e",
   "metadata": {},
   "source": [
    "### Tokenize function"
   ]
  },
  {
   "cell_type": "code",
   "execution_count": null,
   "id": "01ce5d44-ec70-4594-9f94-5c620dee7152",
   "metadata": {},
   "outputs": [],
   "source": [
    "def tokenize_function(example):\n",
    "    return tokenizer(example['text'], truncation=True, padding='max_length', max_length=128)\n",
    "\n",
    "tokenized_dataset = dataset_dict.map(tokenize_function, batched=True)"
   ]
  },
  {
   "cell_type": "code",
   "execution_count": null,
   "id": "3f09a2ff-d768-4b70-9582-caeb6bf714bf",
   "metadata": {},
   "outputs": [],
   "source": [
    "# Set format for Pytorch\n",
    "tokenized_dataset.set_format(\"torch\")"
   ]
  },
  {
   "cell_type": "markdown",
   "id": "396dcda5-0c0a-4611-ae2a-0e2233a5d69b",
   "metadata": {},
   "source": [
    "### Define Metric Function"
   ]
  },
  {
   "cell_type": "code",
   "execution_count": null,
   "id": "dc15b765-6e3c-43ee-895e-f9082472bacb",
   "metadata": {},
   "outputs": [],
   "source": [
    "accuracy_metric  = evaluate.load(\"accuracy\")\n",
    "precision_metric = evaluate.load(\"precision\")\n",
    "recall_metric    = evaluate.load(\"recall\")\n",
    "f1_metric        = evaluate.load(\"f1\")\n",
    "\n",
    "def compute_metrics(eval_pred):\n",
    "    logits, labels = eval_pred\n",
    "    predictions = np.argmax(logits, axis=-1)\n",
    "    \n",
    "    acc  = accuracy_metric.compute(predictions=predictions, references=labels)\n",
    "    prec = precision_metric.compute(predictions=predictions, references=labels, average='weighted')\n",
    "    rec  = recall_metric.compute(predictions=predictions, references=labels, average='weighted')\n",
    "    f1   = f1_metric.compute(predictions=predictions, references=labels, average='weighted')\n",
    "    \n",
    "    return {\n",
    "        \"accuracy\": acc[\"accuracy\"],\n",
    "        \"precision\": prec[\"precision\"],\n",
    "        \"recall\": rec[\"recall\"],\n",
    "        \"f1\": f1[\"f1\"]\n",
    "    }"
   ]
  },
  {
   "cell_type": "markdown",
   "id": "33b1019c-3be1-4f04-a8ef-927533862670",
   "metadata": {},
   "source": [
    "### Training"
   ]
  },
  {
   "cell_type": "code",
   "execution_count": null,
   "id": "7e96fe9c-c26c-4b56-9329-68262627dfcd",
   "metadata": {},
   "outputs": [],
   "source": [
    "training_args = TrainingArguments(\n",
    "    output_dir=\"finbert-sentiment-checkpoints\",\n",
    "    evaluation_strategy=\"epoch\",     # Evaluate every epoch\n",
    "    save_strategy=\"epoch\",           # Save checkpoints every epoch\n",
    "    learning_rate=2e-5,\n",
    "    per_device_train_batch_size=8,\n",
    "    per_device_eval_batch_size=8,\n",
    "    num_train_epochs=3,\n",
    "    weight_decay=0.01,\n",
    "    logging_dir=\"finbert-logs\",\n",
    "    load_best_model_at_end=True,\n",
    "    metric_for_best_model=\"f1\"       # We'll use F1 to pick best model\n",
    ")"
   ]
  },
  {
   "cell_type": "code",
   "execution_count": null,
   "id": "f7ff0ea9-dc57-4b5e-a9aa-b2bb38ce986f",
   "metadata": {},
   "outputs": [],
   "source": [
    "trainer = Trainer(\n",
    "    model=model,\n",
    "    args=training_args,\n",
    "    train_dataset=tokenized_dataset[\"train\"],\n",
    "    eval_dataset=tokenized_dataset[\"validation\"],\n",
    "    tokenizer=tokenizer,\n",
    "    compute_metrics=compute_metrics\n",
    ")"
   ]
  },
  {
   "cell_type": "code",
   "execution_count": null,
   "id": "f42092a7-6fcf-4ffc-a881-0136a4aef8ca",
   "metadata": {},
   "outputs": [],
   "source": [
    "train_result = trainer.train()\n",
    "trainer.save_model(\"finbert-sentiment-model\")  # Save final model"
   ]
  },
  {
   "cell_type": "markdown",
   "id": "dad0b943-4c71-41f0-8b2b-faa348b321c6",
   "metadata": {},
   "source": [
    "### Evaluate on Validation and Test set\n"
   ]
  },
  {
   "cell_type": "code",
   "execution_count": null,
   "id": "d5f0480b-93b5-4e09-8b4a-27c0c58797bd",
   "metadata": {},
   "outputs": [],
   "source": [
    "print(\"Validation Set Evaluation:\")\n",
    "val_metrics = trainer.evaluate(eval_dataset=tokenized_dataset[\"validation\"])\n",
    "print(val_metrics)\n",
    "\n",
    "print(\"\\nTest Set Evaluation:\")\n",
    "test_metrics = trainer.evaluate(eval_dataset=tokenized_dataset[\"test\"])\n",
    "print(test_metrics)"
   ]
  },
  {
   "cell_type": "markdown",
   "id": "d5507373-06fe-4d5c-a45c-bf73896e11d8",
   "metadata": {},
   "source": [
    "### Predictions"
   ]
  },
  {
   "cell_type": "code",
   "execution_count": null,
   "id": "eef6e65a-1f91-4d61-a038-b209c53bc2c1",
   "metadata": {},
   "outputs": [],
   "source": [
    "predictions_output = trainer.predict(tokenized_dataset[\"test\"])\n",
    "logits = predictions_output.predictions\n",
    "labels = predictions_output.label_ids\n",
    "\n",
    "predictions = np.argmax(logits, axis=-1)\n",
    "\n",
    "# Confusion matrix\n",
    "cm = confusion_matrix(labels, predictions)\n",
    "plt.figure(figsize=(6,4))\n",
    "sns.heatmap(cm, annot=True, fmt='d', cmap='Blues')\n",
    "plt.title('FinBERT Confusion Matrix')\n",
    "plt.xlabel('Predicted')\n",
    "plt.ylabel('True')\n",
    "plt.show()\n",
    "\n",
    "# If you want classification report via sklearn:\n",
    "from sklearn.metrics import classification_report\n",
    "print(\"Classification Report (Test Set):\")\n",
    "print(classification_report(labels, predictions, zero_division=0))"
   ]
  },
  {
   "cell_type": "markdown",
   "id": "fd7fe7ff-24cd-4b3c-81ef-25c9a499ab8f",
   "metadata": {},
   "source": [
    "## Reddit"
   ]
  },
  {
   "cell_type": "markdown",
   "id": "afc2f8cb-bb07-46ee-94db-9fca4561bd0d",
   "metadata": {},
   "source": [
    "### Data Cleaning"
   ]
  },
  {
   "cell_type": "code",
   "execution_count": 137,
   "id": "46c1f792-c4ec-4017-b321-25a962a9dc1a",
   "metadata": {},
   "outputs": [],
   "source": [
    "# Function to clean tweets\n",
    "\n",
    "# Convert all entries in 'comment' column to strings\n",
    "df_reddit['comment'] = df_reddit['comment'].astype(str)\n",
    "\n",
    "# Convert all entries in 'text' column to strings\n",
    "df_reddit['Cleaned_Comment'] = df_reddit['comment'].astype(str)\n",
    "\n",
    "def clean_comment(comment):\n",
    "    # Remove mentions (@username)\n",
    "    comment = re.sub(r'@\\w+', '', comment)\n",
    "    # Remove URLs\n",
    "    comment = re.sub(r'http\\S+|www\\S+|https\\S+', '', comment, flags=re.MULTILINE)\n",
    "    # Remove special characters, numbers, and punctuations\n",
    "    comment = re.sub(r'\\W', ' ', comment)\n",
    "    # Remove extra spaces\n",
    "    comment = re.sub(r'\\s+', ' ', comment).strip()\n",
    "    # Convert to lowercase\n",
    "    comment = comment.lower()\n",
    "    return comment\n",
    "\n",
    "# Apply the cleaning function to the 'Tweet' column\n",
    "df_reddit['Cleaned_Comment'] = df_reddit['comment'].apply(clean_comment)"
   ]
  },
  {
   "cell_type": "code",
   "execution_count": 139,
   "id": "424583c2-371b-44b5-b6c7-0dd59b33ad40",
   "metadata": {},
   "outputs": [],
   "source": [
    "# Tokenization\n",
    "df_reddit['Tokens'] = df_reddit['Cleaned_Comment'].apply(word_tokenize)\n",
    "\n",
    "# Removing Stopwords \n",
    "stop_words = set(stopwords.words('english'))\n",
    "df_reddit['Tokens'] = df_reddit['Tokens'].apply(lambda x: [word for word in x if word not in stop_words])\n",
    "\n",
    "# Lemmatization\n",
    "lemmatizer = WordNetLemmatizer()\n",
    "df_reddit['Tokens'] = df_reddit['Tokens'].apply(lambda x: [lemmatizer.lemmatize(word) for word in x])"
   ]
  },
  {
   "cell_type": "code",
   "execution_count": null,
   "id": "3dfaa705-8638-4183-ad86-b8a116679e85",
   "metadata": {},
   "outputs": [],
   "source": []
  },
  {
   "cell_type": "markdown",
   "id": "0b4d191e-7c3d-4d43-9307-871e8735d5b8",
   "metadata": {},
   "source": [
    "## Financial News"
   ]
  },
  {
   "cell_type": "code",
   "execution_count": null,
   "id": "9a4630b4-3868-4aff-bdd2-3291486f24da",
   "metadata": {},
   "outputs": [],
   "source": [
    "df_news.head()"
   ]
  },
  {
   "cell_type": "code",
   "execution_count": null,
   "id": "d5bb3f6f-b4df-4813-845a-d3a6cda31de0",
   "metadata": {},
   "outputs": [],
   "source": []
  },
  {
   "cell_type": "code",
   "execution_count": null,
   "id": "c317568e-c37a-46c3-9716-82a3274bc728",
   "metadata": {},
   "outputs": [],
   "source": []
  }
 ],
 "metadata": {
  "kernelspec": {
   "display_name": "Python 3 (ipykernel)",
   "language": "python",
   "name": "python3"
  },
  "language_info": {
   "codemirror_mode": {
    "name": "ipython",
    "version": 3
   },
   "file_extension": ".py",
   "mimetype": "text/x-python",
   "name": "python",
   "nbconvert_exporter": "python",
   "pygments_lexer": "ipython3",
   "version": "3.11.5"
  }
 },
 "nbformat": 4,
 "nbformat_minor": 5
}

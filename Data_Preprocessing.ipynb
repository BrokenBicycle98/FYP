{
 "cells": [
  {
   "cell_type": "markdown",
   "id": "33802498-16aa-4f6c-ba80-bc88728cef25",
   "metadata": {},
   "source": [
    "# Data Collection"
   ]
  },
  {
   "cell_type": "code",
   "execution_count": 2,
   "id": "115a81c1-ab8f-4ba1-a8a8-e31f0f840acb",
   "metadata": {},
   "outputs": [
    {
     "name": "stdout",
     "output_type": "stream",
     "text": [
      "Collecting numpy\n",
      "  Downloading numpy-2.2.2-cp313-cp313-win_amd64.whl.metadata (60 kB)\n",
      "Collecting pandas\n",
      "  Downloading pandas-2.2.3-cp313-cp313-win_amd64.whl.metadata (19 kB)\n",
      "Collecting scikit-learn\n",
      "  Downloading scikit_learn-1.6.1-cp313-cp313-win_amd64.whl.metadata (15 kB)\n",
      "Collecting nltk\n",
      "  Using cached nltk-3.9.1-py3-none-any.whl.metadata (2.9 kB)\n",
      "Collecting keras\n",
      "  Using cached keras-3.8.0-py3-none-any.whl.metadata (5.8 kB)\n",
      "Collecting statsmodels\n",
      "  Downloading statsmodels-0.14.4-cp313-cp313-win_amd64.whl.metadata (9.5 kB)\n",
      "Collecting tqdm\n",
      "  Using cached tqdm-4.67.1-py3-none-any.whl.metadata (57 kB)\n",
      "Collecting matplotlib\n",
      "  Downloading matplotlib-3.10.0-cp313-cp313-win_amd64.whl.metadata (11 kB)\n",
      "Collecting graphviz\n",
      "  Using cached graphviz-0.20.3-py3-none-any.whl.metadata (12 kB)\n",
      "Requirement already satisfied: python-dateutil>=2.8.2 in c:\\users\\admin\\anaconda3\\envs\\test\\lib\\site-packages (from pandas) (2.9.0.post0)\n",
      "Collecting pytz>=2020.1 (from pandas)\n",
      "  Using cached pytz-2024.2-py2.py3-none-any.whl.metadata (22 kB)\n",
      "Collecting tzdata>=2022.7 (from pandas)\n",
      "  Downloading tzdata-2025.1-py2.py3-none-any.whl.metadata (1.4 kB)\n",
      "Collecting scipy>=1.6.0 (from scikit-learn)\n",
      "  Downloading scipy-1.15.1-cp313-cp313-win_amd64.whl.metadata (60 kB)\n",
      "Collecting joblib>=1.2.0 (from scikit-learn)\n",
      "  Using cached joblib-1.4.2-py3-none-any.whl.metadata (5.4 kB)\n",
      "Collecting threadpoolctl>=3.1.0 (from scikit-learn)\n",
      "  Using cached threadpoolctl-3.5.0-py3-none-any.whl.metadata (13 kB)\n",
      "Collecting click (from nltk)\n",
      "  Using cached click-8.1.8-py3-none-any.whl.metadata (2.3 kB)\n",
      "Collecting regex>=2021.8.3 (from nltk)\n",
      "  Downloading regex-2024.11.6-cp313-cp313-win_amd64.whl.metadata (41 kB)\n",
      "Collecting absl-py (from keras)\n",
      "  Using cached absl_py-2.1.0-py3-none-any.whl.metadata (2.3 kB)\n",
      "Collecting rich (from keras)\n",
      "  Using cached rich-13.9.4-py3-none-any.whl.metadata (18 kB)\n",
      "Collecting namex (from keras)\n",
      "  Using cached namex-0.0.8-py3-none-any.whl.metadata (246 bytes)\n",
      "Collecting h5py (from keras)\n",
      "  Downloading h5py-3.12.1-cp313-cp313-win_amd64.whl.metadata (2.5 kB)\n",
      "Collecting optree (from keras)\n",
      "  Downloading optree-0.14.0-cp313-cp313-win_amd64.whl.metadata (48 kB)\n",
      "Collecting ml-dtypes (from keras)\n",
      "  Downloading ml_dtypes-0.5.1-cp313-cp313-win_amd64.whl.metadata (22 kB)\n",
      "Requirement already satisfied: packaging in c:\\users\\admin\\anaconda3\\envs\\test\\lib\\site-packages (from keras) (24.2)\n",
      "Collecting patsy>=0.5.6 (from statsmodels)\n",
      "  Using cached patsy-1.0.1-py2.py3-none-any.whl.metadata (3.3 kB)\n",
      "Requirement already satisfied: colorama in c:\\users\\admin\\anaconda3\\envs\\test\\lib\\site-packages (from tqdm) (0.4.6)\n",
      "Collecting contourpy>=1.0.1 (from matplotlib)\n",
      "  Downloading contourpy-1.3.1-cp313-cp313-win_amd64.whl.metadata (5.4 kB)\n",
      "Collecting cycler>=0.10 (from matplotlib)\n",
      "  Using cached cycler-0.12.1-py3-none-any.whl.metadata (3.8 kB)\n",
      "Collecting fonttools>=4.22.0 (from matplotlib)\n",
      "  Downloading fonttools-4.55.4-cp313-cp313-win_amd64.whl.metadata (169 kB)\n",
      "Collecting kiwisolver>=1.3.1 (from matplotlib)\n",
      "  Downloading kiwisolver-1.4.8-cp313-cp313-win_amd64.whl.metadata (6.3 kB)\n",
      "Collecting pillow>=8 (from matplotlib)\n",
      "  Downloading pillow-11.1.0-cp313-cp313-win_amd64.whl.metadata (9.3 kB)\n",
      "Collecting pyparsing>=2.3.1 (from matplotlib)\n",
      "  Using cached pyparsing-3.2.1-py3-none-any.whl.metadata (5.0 kB)\n",
      "Requirement already satisfied: six>=1.5 in c:\\users\\admin\\anaconda3\\envs\\test\\lib\\site-packages (from python-dateutil>=2.8.2->pandas) (1.17.0)\n",
      "Requirement already satisfied: typing-extensions>=4.5.0 in c:\\users\\admin\\anaconda3\\envs\\test\\lib\\site-packages (from optree->keras) (4.12.2)\n",
      "Collecting markdown-it-py>=2.2.0 (from rich->keras)\n",
      "  Using cached markdown_it_py-3.0.0-py3-none-any.whl.metadata (6.9 kB)\n",
      "Requirement already satisfied: pygments<3.0.0,>=2.13.0 in c:\\users\\admin\\anaconda3\\envs\\test\\lib\\site-packages (from rich->keras) (2.19.1)\n",
      "Collecting mdurl~=0.1 (from markdown-it-py>=2.2.0->rich->keras)\n",
      "  Using cached mdurl-0.1.2-py3-none-any.whl.metadata (1.6 kB)\n",
      "Downloading numpy-2.2.2-cp313-cp313-win_amd64.whl (12.6 MB)\n",
      "   ---------------------------------------- 0.0/12.6 MB ? eta -:--:--\n",
      "   ----- ---------------------------------- 1.8/12.6 MB 8.7 MB/s eta 0:00:02\n",
      "   ----------- ---------------------------- 3.7/12.6 MB 9.1 MB/s eta 0:00:01\n",
      "   ------------------ --------------------- 5.8/12.6 MB 9.6 MB/s eta 0:00:01\n",
      "   ------------------- -------------------- 6.0/12.6 MB 7.4 MB/s eta 0:00:01\n",
      "   -------------------------- ------------- 8.4/12.6 MB 8.2 MB/s eta 0:00:01\n",
      "   --------------------------------- ------ 10.5/12.6 MB 8.4 MB/s eta 0:00:01\n",
      "   ---------------------------------------  12.3/12.6 MB 8.4 MB/s eta 0:00:01\n",
      "   ---------------------------------------- 12.6/12.6 MB 8.4 MB/s eta 0:00:00\n",
      "Downloading pandas-2.2.3-cp313-cp313-win_amd64.whl (11.5 MB)\n",
      "   ---------------------------------------- 0.0/11.5 MB ? eta -:--:--\n",
      "   ----- ---------------------------------- 1.6/11.5 MB 11.1 MB/s eta 0:00:01\n",
      "   ------------ --------------------------- 3.7/11.5 MB 9.2 MB/s eta 0:00:01\n",
      "   -------------------- ------------------- 5.8/11.5 MB 9.6 MB/s eta 0:00:01\n",
      "   --------------------------- ------------ 7.9/11.5 MB 9.4 MB/s eta 0:00:01\n",
      "   --------------------------------- ------ 9.7/11.5 MB 9.3 MB/s eta 0:00:01\n",
      "   ---------------------------------------  11.3/11.5 MB 9.1 MB/s eta 0:00:01\n",
      "   ---------------------------------------- 11.5/11.5 MB 9.1 MB/s eta 0:00:00\n",
      "Downloading scikit_learn-1.6.1-cp313-cp313-win_amd64.whl (11.1 MB)\n",
      "   ---------------------------------------- 0.0/11.1 MB ? eta -:--:--\n",
      "   ------ --------------------------------- 1.8/11.1 MB 9.2 MB/s eta 0:00:02\n",
      "   ------------- -------------------------- 3.7/11.1 MB 9.2 MB/s eta 0:00:01\n",
      "   ------------------- -------------------- 5.5/11.1 MB 9.1 MB/s eta 0:00:01\n",
      "   -------------------------- ------------- 7.3/11.1 MB 9.1 MB/s eta 0:00:01\n",
      "   --------------------------------- ------ 9.2/11.1 MB 9.2 MB/s eta 0:00:01\n",
      "   ---------------------------------------- 11.1/11.1 MB 9.1 MB/s eta 0:00:00\n",
      "Using cached nltk-3.9.1-py3-none-any.whl (1.5 MB)\n",
      "Using cached keras-3.8.0-py3-none-any.whl (1.3 MB)\n",
      "Downloading statsmodels-0.14.4-cp313-cp313-win_amd64.whl (9.8 MB)\n",
      "   ---------------------------------------- 0.0/9.8 MB ? eta -:--:--\n",
      "   ------- -------------------------------- 1.8/9.8 MB 8.8 MB/s eta 0:00:01\n",
      "   ----------- ---------------------------- 2.9/9.8 MB 6.7 MB/s eta 0:00:02\n",
      "   -------------- ------------------------- 3.7/9.8 MB 5.9 MB/s eta 0:00:02\n",
      "   ------------------ --------------------- 4.5/9.8 MB 5.6 MB/s eta 0:00:01\n",
      "   ----------------------- ---------------- 5.8/9.8 MB 5.8 MB/s eta 0:00:01\n",
      "   ----------------------------- ---------- 7.3/9.8 MB 6.1 MB/s eta 0:00:01\n",
      "   ----------------------------------- ---- 8.7/9.8 MB 6.3 MB/s eta 0:00:01\n",
      "   ---------------------------------------- 9.8/9.8 MB 6.0 MB/s eta 0:00:00\n",
      "Using cached tqdm-4.67.1-py3-none-any.whl (78 kB)\n",
      "Downloading matplotlib-3.10.0-cp313-cp313-win_amd64.whl (8.0 MB)\n",
      "   ---------------------------------------- 0.0/8.0 MB ? eta -:--:--\n",
      "   ------ --------------------------------- 1.3/8.0 MB 10.3 MB/s eta 0:00:01\n",
      "   ---------- ----------------------------- 2.1/8.0 MB 5.7 MB/s eta 0:00:02\n",
      "   -------------------- ------------------- 4.2/8.0 MB 6.3 MB/s eta 0:00:01\n",
      "   ------------------------------ --------- 6.0/8.0 MB 7.1 MB/s eta 0:00:01\n",
      "   ---------------------------------------  7.9/8.0 MB 7.6 MB/s eta 0:00:01\n",
      "   ---------------------------------------- 8.0/8.0 MB 7.5 MB/s eta 0:00:00\n",
      "Using cached graphviz-0.20.3-py3-none-any.whl (47 kB)\n",
      "Downloading contourpy-1.3.1-cp313-cp313-win_amd64.whl (220 kB)\n",
      "Using cached cycler-0.12.1-py3-none-any.whl (8.3 kB)\n",
      "Downloading fonttools-4.55.4-cp313-cp313-win_amd64.whl (2.2 MB)\n",
      "   ---------------------------------------- 0.0/2.2 MB ? eta -:--:--\n",
      "   ------------------------------------- -- 2.1/2.2 MB 9.7 MB/s eta 0:00:01\n",
      "   ---------------------------------------- 2.2/2.2 MB 9.4 MB/s eta 0:00:00\n",
      "Using cached joblib-1.4.2-py3-none-any.whl (301 kB)\n",
      "Downloading kiwisolver-1.4.8-cp313-cp313-win_amd64.whl (71 kB)\n",
      "Using cached patsy-1.0.1-py2.py3-none-any.whl (232 kB)\n",
      "Downloading pillow-11.1.0-cp313-cp313-win_amd64.whl (2.6 MB)\n",
      "   ---------------------------------------- 0.0/2.6 MB ? eta -:--:--\n",
      "   --------------------------- ------------ 1.8/2.6 MB 9.1 MB/s eta 0:00:01\n",
      "   ---------------------------------------- 2.6/2.6 MB 8.9 MB/s eta 0:00:00\n",
      "Using cached pyparsing-3.2.1-py3-none-any.whl (107 kB)\n",
      "Using cached pytz-2024.2-py2.py3-none-any.whl (508 kB)\n",
      "Downloading regex-2024.11.6-cp313-cp313-win_amd64.whl (273 kB)\n",
      "Downloading scipy-1.15.1-cp313-cp313-win_amd64.whl (43.6 MB)\n",
      "   ---------------------------------------- 0.0/43.6 MB ? eta -:--:--\n",
      "   - -------------------------------------- 1.8/43.6 MB 8.5 MB/s eta 0:00:05\n",
      "   --- ------------------------------------ 3.7/43.6 MB 9.0 MB/s eta 0:00:05\n",
      "   ----- ---------------------------------- 5.5/43.6 MB 9.1 MB/s eta 0:00:05\n",
      "   ------ --------------------------------- 7.6/43.6 MB 9.2 MB/s eta 0:00:04\n",
      "   -------- ------------------------------- 9.4/43.6 MB 9.2 MB/s eta 0:00:04\n",
      "   ---------- ----------------------------- 11.3/43.6 MB 9.3 MB/s eta 0:00:04\n",
      "   ----------- ---------------------------- 12.6/43.6 MB 8.7 MB/s eta 0:00:04\n",
      "   ------------- -------------------------- 14.4/43.6 MB 8.7 MB/s eta 0:00:04\n",
      "   --------------- ------------------------ 16.5/43.6 MB 8.8 MB/s eta 0:00:04\n",
      "   ---------------- ----------------------- 18.4/43.6 MB 8.9 MB/s eta 0:00:03\n",
      "   ------------------ --------------------- 19.9/43.6 MB 8.8 MB/s eta 0:00:03\n",
      "   -------------------- ------------------- 22.0/43.6 MB 8.9 MB/s eta 0:00:03\n",
      "   --------------------- ------------------ 23.9/43.6 MB 8.9 MB/s eta 0:00:03\n",
      "   ----------------------- ---------------- 26.0/43.6 MB 8.9 MB/s eta 0:00:02\n",
      "   ------------------------- -------------- 27.8/43.6 MB 8.9 MB/s eta 0:00:02\n",
      "   --------------------------- ------------ 29.9/43.6 MB 9.0 MB/s eta 0:00:02\n",
      "   ----------------------------- ---------- 32.0/43.6 MB 9.1 MB/s eta 0:00:02\n",
      "   ------------------------------ --------- 33.0/43.6 MB 8.9 MB/s eta 0:00:02\n",
      "   ------------------------------- -------- 34.6/43.6 MB 8.8 MB/s eta 0:00:02\n",
      "   --------------------------------- ------ 36.2/43.6 MB 8.8 MB/s eta 0:00:01\n",
      "   ---------------------------------- ----- 37.7/43.6 MB 8.8 MB/s eta 0:00:01\n",
      "   ------------------------------------ --- 39.3/43.6 MB 8.7 MB/s eta 0:00:01\n",
      "   ------------------------------------- -- 40.9/43.6 MB 8.7 MB/s eta 0:00:01\n",
      "   -------------------------------------- - 42.5/43.6 MB 8.6 MB/s eta 0:00:01\n",
      "   ---------------------------------------- 43.6/43.6 MB 8.4 MB/s eta 0:00:00\n",
      "Using cached threadpoolctl-3.5.0-py3-none-any.whl (18 kB)\n",
      "Downloading tzdata-2025.1-py2.py3-none-any.whl (346 kB)\n",
      "Using cached absl_py-2.1.0-py3-none-any.whl (133 kB)\n",
      "Using cached click-8.1.8-py3-none-any.whl (98 kB)\n",
      "Downloading h5py-3.12.1-cp313-cp313-win_amd64.whl (3.0 MB)\n",
      "   ---------------------------------------- 0.0/3.0 MB ? eta -:--:--\n",
      "   ------------------------ --------------- 1.8/3.0 MB 8.7 MB/s eta 0:00:01\n",
      "   ---------------------------------------- 3.0/3.0 MB 7.9 MB/s eta 0:00:00\n",
      "Downloading ml_dtypes-0.5.1-cp313-cp313-win_amd64.whl (210 kB)\n",
      "Using cached namex-0.0.8-py3-none-any.whl (5.8 kB)\n",
      "Downloading optree-0.14.0-cp313-cp313-win_amd64.whl (302 kB)\n",
      "Using cached rich-13.9.4-py3-none-any.whl (242 kB)\n",
      "Using cached markdown_it_py-3.0.0-py3-none-any.whl (87 kB)\n",
      "Using cached mdurl-0.1.2-py3-none-any.whl (10.0 kB)\n",
      "Installing collected packages: pytz, namex, tzdata, tqdm, threadpoolctl, regex, pyparsing, pillow, optree, numpy, mdurl, kiwisolver, joblib, graphviz, fonttools, cycler, click, absl-py, scipy, patsy, pandas, nltk, ml-dtypes, markdown-it-py, h5py, contourpy, statsmodels, scikit-learn, rich, matplotlib, keras\n",
      "Successfully installed absl-py-2.1.0 click-8.1.8 contourpy-1.3.1 cycler-0.12.1 fonttools-4.55.4 graphviz-0.20.3 h5py-3.12.1 joblib-1.4.2 keras-3.8.0 kiwisolver-1.4.8 markdown-it-py-3.0.0 matplotlib-3.10.0 mdurl-0.1.2 ml-dtypes-0.5.1 namex-0.0.8 nltk-3.9.1 numpy-2.2.2 optree-0.14.0 pandas-2.2.3 patsy-1.0.1 pillow-11.1.0 pyparsing-3.2.1 pytz-2024.2 regex-2024.11.6 rich-13.9.4 scikit-learn-1.6.1 scipy-1.15.1 statsmodels-0.14.4 threadpoolctl-3.5.0 tqdm-4.67.1 tzdata-2025.1\n",
      "Note: you may need to restart the kernel to use updated packages.\n"
     ]
    }
   ],
   "source": [
    "pip install numpy pandas scikit-learn nltk keras statsmodels tqdm matplotlib graphviz"
   ]
  },
  {
   "cell_type": "code",
   "execution_count": 3,
   "id": "bf7f313b-fd8e-4dfb-a5f4-7ac0c97ede2d",
   "metadata": {},
   "outputs": [
    {
     "name": "stdout",
     "output_type": "stream",
     "text": [
      "Collecting transformers\n",
      "  Downloading transformers-4.48.1-py3-none-any.whl.metadata (44 kB)\n",
      "Collecting datasets\n",
      "  Using cached datasets-3.2.0-py3-none-any.whl.metadata (20 kB)\n",
      "Collecting evaluate\n",
      "  Using cached evaluate-0.4.3-py3-none-any.whl.metadata (9.2 kB)\n",
      "Note: you may need to restart the kernel to use updated packages.\n"
     ]
    },
    {
     "name": "stderr",
     "output_type": "stream",
     "text": [
      "ERROR: Could not find a version that satisfies the requirement torch (from versions: none)\n",
      "ERROR: No matching distribution found for torch\n"
     ]
    }
   ],
   "source": [
    "pip install transformers datasets evaluate torch"
   ]
  },
  {
   "cell_type": "code",
   "execution_count": 4,
   "id": "9fd58ce1",
   "metadata": {},
   "outputs": [
    {
     "name": "stdout",
     "output_type": "stream",
     "text": [
      "Collecting seaborn\n",
      "  Using cached seaborn-0.13.2-py3-none-any.whl.metadata (5.4 kB)\n",
      "Requirement already satisfied: numpy!=1.24.0,>=1.20 in c:\\users\\admin\\anaconda3\\envs\\test\\lib\\site-packages (from seaborn) (2.2.2)\n",
      "Requirement already satisfied: pandas>=1.2 in c:\\users\\admin\\anaconda3\\envs\\test\\lib\\site-packages (from seaborn) (2.2.3)\n",
      "Requirement already satisfied: matplotlib!=3.6.1,>=3.4 in c:\\users\\admin\\anaconda3\\envs\\test\\lib\\site-packages (from seaborn) (3.10.0)\n",
      "Requirement already satisfied: contourpy>=1.0.1 in c:\\users\\admin\\anaconda3\\envs\\test\\lib\\site-packages (from matplotlib!=3.6.1,>=3.4->seaborn) (1.3.1)\n",
      "Requirement already satisfied: cycler>=0.10 in c:\\users\\admin\\anaconda3\\envs\\test\\lib\\site-packages (from matplotlib!=3.6.1,>=3.4->seaborn) (0.12.1)\n",
      "Requirement already satisfied: fonttools>=4.22.0 in c:\\users\\admin\\anaconda3\\envs\\test\\lib\\site-packages (from matplotlib!=3.6.1,>=3.4->seaborn) (4.55.4)\n",
      "Requirement already satisfied: kiwisolver>=1.3.1 in c:\\users\\admin\\anaconda3\\envs\\test\\lib\\site-packages (from matplotlib!=3.6.1,>=3.4->seaborn) (1.4.8)\n",
      "Requirement already satisfied: packaging>=20.0 in c:\\users\\admin\\anaconda3\\envs\\test\\lib\\site-packages (from matplotlib!=3.6.1,>=3.4->seaborn) (24.2)\n",
      "Requirement already satisfied: pillow>=8 in c:\\users\\admin\\anaconda3\\envs\\test\\lib\\site-packages (from matplotlib!=3.6.1,>=3.4->seaborn) (11.1.0)\n",
      "Requirement already satisfied: pyparsing>=2.3.1 in c:\\users\\admin\\anaconda3\\envs\\test\\lib\\site-packages (from matplotlib!=3.6.1,>=3.4->seaborn) (3.2.1)\n",
      "Requirement already satisfied: python-dateutil>=2.7 in c:\\users\\admin\\anaconda3\\envs\\test\\lib\\site-packages (from matplotlib!=3.6.1,>=3.4->seaborn) (2.9.0.post0)\n",
      "Requirement already satisfied: pytz>=2020.1 in c:\\users\\admin\\anaconda3\\envs\\test\\lib\\site-packages (from pandas>=1.2->seaborn) (2024.2)\n",
      "Requirement already satisfied: tzdata>=2022.7 in c:\\users\\admin\\anaconda3\\envs\\test\\lib\\site-packages (from pandas>=1.2->seaborn) (2025.1)\n",
      "Requirement already satisfied: six>=1.5 in c:\\users\\admin\\anaconda3\\envs\\test\\lib\\site-packages (from python-dateutil>=2.7->matplotlib!=3.6.1,>=3.4->seaborn) (1.17.0)\n",
      "Using cached seaborn-0.13.2-py3-none-any.whl (294 kB)\n",
      "Installing collected packages: seaborn\n",
      "Successfully installed seaborn-0.13.2\n",
      "Note: you may need to restart the kernel to use updated packages.\n"
     ]
    }
   ],
   "source": [
    "pip install seaborn"
   ]
  },
  {
   "cell_type": "code",
   "execution_count": 5,
   "id": "fe955823-84ea-4b8e-8116-251a8ef6fea9",
   "metadata": {},
   "outputs": [
    {
     "name": "stdout",
     "output_type": "stream",
     "text": [
      "Collecting tf-keras\n",
      "  Using cached tf_keras-2.18.0-py3-none-any.whl.metadata (1.6 kB)\n",
      "INFO: pip is looking at multiple versions of tf-keras to determine which version is compatible with other requirements. This could take a while.\n",
      "  Downloading tf_keras-2.17.0-py3-none-any.whl.metadata (1.6 kB)\n",
      "  Downloading tf_keras-2.16.0-py3-none-any.whl.metadata (1.6 kB)\n",
      "  Using cached tf_keras-2.15.1-py3-none-any.whl.metadata (1.7 kB)\n",
      "  Using cached tf_keras-2.15.0-py3-none-any.whl.metadata (1.6 kB)\n",
      "Using cached tf_keras-2.15.0-py3-none-any.whl (1.7 MB)\n",
      "Installing collected packages: tf-keras\n",
      "Successfully installed tf-keras-2.15.0\n",
      "Note: you may need to restart the kernel to use updated packages.\n"
     ]
    }
   ],
   "source": [
    "pip install tf-keras"
   ]
  },
  {
   "cell_type": "code",
   "execution_count": 6,
   "id": "da56fdfe-ad2a-46e6-9440-0c88ab6316b5",
   "metadata": {},
   "outputs": [
    {
     "name": "stdout",
     "output_type": "stream",
     "text": [
      "Collecting keras-tuner\n",
      "  Using cached keras_tuner-1.4.7-py3-none-any.whl.metadata (5.4 kB)\n",
      "Requirement already satisfied: keras in c:\\users\\admin\\anaconda3\\envs\\test\\lib\\site-packages (from keras-tuner) (3.8.0)\n",
      "Requirement already satisfied: packaging in c:\\users\\admin\\anaconda3\\envs\\test\\lib\\site-packages (from keras-tuner) (24.2)\n",
      "Collecting requests (from keras-tuner)\n",
      "  Using cached requests-2.32.3-py3-none-any.whl.metadata (4.6 kB)\n",
      "Collecting kt-legacy (from keras-tuner)\n",
      "  Using cached kt_legacy-1.0.5-py3-none-any.whl.metadata (221 bytes)\n",
      "Requirement already satisfied: absl-py in c:\\users\\admin\\anaconda3\\envs\\test\\lib\\site-packages (from keras->keras-tuner) (2.1.0)\n",
      "Requirement already satisfied: numpy in c:\\users\\admin\\anaconda3\\envs\\test\\lib\\site-packages (from keras->keras-tuner) (2.2.2)\n",
      "Requirement already satisfied: rich in c:\\users\\admin\\anaconda3\\envs\\test\\lib\\site-packages (from keras->keras-tuner) (13.9.4)\n",
      "Requirement already satisfied: namex in c:\\users\\admin\\anaconda3\\envs\\test\\lib\\site-packages (from keras->keras-tuner) (0.0.8)\n",
      "Requirement already satisfied: h5py in c:\\users\\admin\\anaconda3\\envs\\test\\lib\\site-packages (from keras->keras-tuner) (3.12.1)\n",
      "Requirement already satisfied: optree in c:\\users\\admin\\anaconda3\\envs\\test\\lib\\site-packages (from keras->keras-tuner) (0.14.0)\n",
      "Requirement already satisfied: ml-dtypes in c:\\users\\admin\\anaconda3\\envs\\test\\lib\\site-packages (from keras->keras-tuner) (0.5.1)\n",
      "Collecting charset-normalizer<4,>=2 (from requests->keras-tuner)\n",
      "  Downloading charset_normalizer-3.4.1-cp313-cp313-win_amd64.whl.metadata (36 kB)\n",
      "Collecting idna<4,>=2.5 (from requests->keras-tuner)\n",
      "  Using cached idna-3.10-py3-none-any.whl.metadata (10 kB)\n",
      "Collecting urllib3<3,>=1.21.1 (from requests->keras-tuner)\n",
      "  Downloading urllib3-2.3.0-py3-none-any.whl.metadata (6.5 kB)\n",
      "Collecting certifi>=2017.4.17 (from requests->keras-tuner)\n",
      "  Using cached certifi-2024.12.14-py3-none-any.whl.metadata (2.3 kB)\n",
      "Requirement already satisfied: typing-extensions>=4.5.0 in c:\\users\\admin\\anaconda3\\envs\\test\\lib\\site-packages (from optree->keras->keras-tuner) (4.12.2)\n",
      "Requirement already satisfied: markdown-it-py>=2.2.0 in c:\\users\\admin\\anaconda3\\envs\\test\\lib\\site-packages (from rich->keras->keras-tuner) (3.0.0)\n",
      "Requirement already satisfied: pygments<3.0.0,>=2.13.0 in c:\\users\\admin\\anaconda3\\envs\\test\\lib\\site-packages (from rich->keras->keras-tuner) (2.19.1)\n",
      "Requirement already satisfied: mdurl~=0.1 in c:\\users\\admin\\anaconda3\\envs\\test\\lib\\site-packages (from markdown-it-py>=2.2.0->rich->keras->keras-tuner) (0.1.2)\n",
      "Using cached keras_tuner-1.4.7-py3-none-any.whl (129 kB)\n",
      "Using cached kt_legacy-1.0.5-py3-none-any.whl (9.6 kB)\n",
      "Using cached requests-2.32.3-py3-none-any.whl (64 kB)\n",
      "Using cached certifi-2024.12.14-py3-none-any.whl (164 kB)\n",
      "Downloading charset_normalizer-3.4.1-cp313-cp313-win_amd64.whl (102 kB)\n",
      "Using cached idna-3.10-py3-none-any.whl (70 kB)\n",
      "Downloading urllib3-2.3.0-py3-none-any.whl (128 kB)\n",
      "Installing collected packages: kt-legacy, urllib3, idna, charset-normalizer, certifi, requests, keras-tuner\n",
      "Successfully installed certifi-2024.12.14 charset-normalizer-3.4.1 idna-3.10 keras-tuner-1.4.7 kt-legacy-1.0.5 requests-2.32.3 urllib3-2.3.0\n",
      "Note: you may need to restart the kernel to use updated packages.\n"
     ]
    }
   ],
   "source": [
    "pip install keras-tuner"
   ]
  },
  {
   "cell_type": "code",
   "execution_count": 8,
   "id": "a4c614f2-c302-41c8-82be-4edc5fc10299",
   "metadata": {},
   "outputs": [],
   "source": [
    "import pandas as pd\n",
    "import re\n",
    "import nltk\n",
    "from nltk.tokenize import word_tokenize\n",
    "from nltk.corpus import stopwords\n",
    "from nltk.stem import WordNetLemmatizer"
   ]
  },
  {
   "cell_type": "code",
   "execution_count": 9,
   "id": "50a35162-b231-4836-b753-435e0eee263a",
   "metadata": {},
   "outputs": [],
   "source": [
    "df_x = pd.read_csv('Twitter_data.csv')\n",
    "df_reddit = pd.read_csv('Reddit_data.csv')\n",
    "df_news = pd.read_csv('News.csv')\n"
   ]
  },
  {
   "cell_type": "markdown",
   "id": "dd2314fe-e21b-47ee-b68e-5ff502fe775a",
   "metadata": {},
   "source": [
    "## X(Twitter)"
   ]
  },
  {
   "cell_type": "markdown",
   "id": "c01baff4-e35b-4fcf-be98-4f6259790009",
   "metadata": {},
   "source": [
    "### Data Cleaning"
   ]
  },
  {
   "cell_type": "code",
   "execution_count": 10,
   "id": "aa722272-6dae-4ffb-9f4e-8a3727cacba4",
   "metadata": {},
   "outputs": [],
   "source": [
    "valid_values = {0, 1, -1}\n",
    "df_x = df_x[df_x['category'].isin(valid_values)]"
   ]
  },
  {
   "cell_type": "code",
   "execution_count": 11,
   "id": "e3a08d3b-6d8f-4275-b300-e0d3bd1fc2f3",
   "metadata": {},
   "outputs": [],
   "source": [
    "# Function to clean tweets\n",
    "\n",
    "# Convert all entries in 'text' column to strings\n",
    "df_x['text'] = df_x['text'].astype(str)\n",
    "\n",
    "def clean_tweet(tweet):\n",
    "    # Remove mentions (@username)\n",
    "    tweet = re.sub(r'@\\w+', '', tweet)\n",
    "    # Remove URLs\n",
    "    tweet = re.sub(r'http\\S+|www\\S+|https\\S+', '', tweet, flags=re.MULTILINE)\n",
    "    # Remove special characters, numbers, and punctuations\n",
    "    tweet = re.sub(r'\\W', ' ', tweet)\n",
    "    # Remove extra spaces\n",
    "    tweet = re.sub(r'\\s+', ' ', tweet).strip()\n",
    "    # Convert to lowercase\n",
    "    tweet = tweet.lower()\n",
    "    return tweet\n",
    "\n",
    "# Apply the cleaning function to the 'Tweet' column\n",
    "df_x['Cleaned_Tweet'] = df_x['text'].apply(clean_tweet)"
   ]
  },
  {
   "cell_type": "code",
   "execution_count": 12,
   "id": "adb5c45d-3504-4e06-8aad-d5c6f8edd2d0",
   "metadata": {},
   "outputs": [
    {
     "name": "stderr",
     "output_type": "stream",
     "text": [
      "[nltk_data] Downloading package punkt to\n",
      "[nltk_data]     C:\\Users\\admin\\AppData\\Roaming\\nltk_data...\n",
      "[nltk_data]   Package punkt is already up-to-date!\n",
      "[nltk_data] Downloading package punkt_tab to\n",
      "[nltk_data]     C:\\Users\\admin\\AppData\\Roaming\\nltk_data...\n",
      "[nltk_data]   Package punkt_tab is already up-to-date!\n",
      "[nltk_data] Downloading package stopwords to\n",
      "[nltk_data]     C:\\Users\\admin\\AppData\\Roaming\\nltk_data...\n",
      "[nltk_data]   Package stopwords is already up-to-date!\n",
      "[nltk_data] Downloading package wordnet to\n",
      "[nltk_data]     C:\\Users\\admin\\AppData\\Roaming\\nltk_data...\n",
      "[nltk_data]   Package wordnet is already up-to-date!\n"
     ]
    }
   ],
   "source": [
    "# Tokenization\n",
    "nltk.download('punkt')\n",
    "nltk.download('punkt_tab')\n",
    "df_x['Tokens'] = df_x['Cleaned_Tweet'].apply(word_tokenize)\n",
    "\n",
    "\n",
    "# Removing Stopwords \n",
    "nltk.download('stopwords')\n",
    "stop_words = set(stopwords.words('english'))\n",
    "df_x['Tokens'] = df_x['Tokens'].apply(lambda x: [word for word in x if word not in stop_words])\n",
    "\n",
    "# Lemmatization\n",
    "nltk.download('wordnet')\n",
    "lemmatizer = WordNetLemmatizer()\n",
    "df_x['Tokens'] = df_x['Tokens'].apply(lambda x: [lemmatizer.lemmatize(word) for word in x])"
   ]
  },
  {
   "cell_type": "code",
   "execution_count": 13,
   "id": "bee9069c-6c72-4222-bff2-cd7359c19dd8",
   "metadata": {},
   "outputs": [
    {
     "data": {
      "text/html": [
       "<div>\n",
       "<style scoped>\n",
       "    .dataframe tbody tr th:only-of-type {\n",
       "        vertical-align: middle;\n",
       "    }\n",
       "\n",
       "    .dataframe tbody tr th {\n",
       "        vertical-align: top;\n",
       "    }\n",
       "\n",
       "    .dataframe thead th {\n",
       "        text-align: right;\n",
       "    }\n",
       "</style>\n",
       "<table border=\"1\" class=\"dataframe\">\n",
       "  <thead>\n",
       "    <tr style=\"text-align: right;\">\n",
       "      <th></th>\n",
       "      <th>text</th>\n",
       "      <th>category</th>\n",
       "      <th>Cleaned_Tweet</th>\n",
       "      <th>Tokens</th>\n",
       "    </tr>\n",
       "  </thead>\n",
       "  <tbody>\n",
       "    <tr>\n",
       "      <th>0</th>\n",
       "      <td>when modi promised “minimum government maximum...</td>\n",
       "      <td>-1.0</td>\n",
       "      <td>modi promised minimum government maximum gover...</td>\n",
       "      <td>[modi, promised, minimum, government, maximum,...</td>\n",
       "    </tr>\n",
       "    <tr>\n",
       "      <th>1</th>\n",
       "      <td>talk all the nonsense and continue all the dra...</td>\n",
       "      <td>0.0</td>\n",
       "      <td>talk nonsense continue drama vote modi</td>\n",
       "      <td>[talk, nonsense, continue, drama, vote, modi]</td>\n",
       "    </tr>\n",
       "    <tr>\n",
       "      <th>2</th>\n",
       "      <td>what did just say vote for modi  welcome bjp t...</td>\n",
       "      <td>1.0</td>\n",
       "      <td>say vote modi welcome bjp told rahul main camp...</td>\n",
       "      <td>[say, vote, modi, welcome, bjp, told, rahul, m...</td>\n",
       "    </tr>\n",
       "    <tr>\n",
       "      <th>3</th>\n",
       "      <td>asking his supporters prefix chowkidar their n...</td>\n",
       "      <td>1.0</td>\n",
       "      <td>asking supporter prefix chowkidar name modi gr...</td>\n",
       "      <td>[asking, supporter, prefix, chowkidar, name, m...</td>\n",
       "    </tr>\n",
       "    <tr>\n",
       "      <th>4</th>\n",
       "      <td>answer who among these the most powerful world...</td>\n",
       "      <td>1.0</td>\n",
       "      <td>answer among powerful world leader today trump...</td>\n",
       "      <td>[answer, among, powerful, world, leader, today...</td>\n",
       "    </tr>\n",
       "  </tbody>\n",
       "</table>\n",
       "</div>"
      ],
      "text/plain": [
       "                                                text  category  \\\n",
       "0  when modi promised “minimum government maximum...      -1.0   \n",
       "1  talk all the nonsense and continue all the dra...       0.0   \n",
       "2  what did just say vote for modi  welcome bjp t...       1.0   \n",
       "3  asking his supporters prefix chowkidar their n...       1.0   \n",
       "4  answer who among these the most powerful world...       1.0   \n",
       "\n",
       "                                       Cleaned_Tweet  \\\n",
       "0  modi promised minimum government maximum gover...   \n",
       "1             talk nonsense continue drama vote modi   \n",
       "2  say vote modi welcome bjp told rahul main camp...   \n",
       "3  asking supporter prefix chowkidar name modi gr...   \n",
       "4  answer among powerful world leader today trump...   \n",
       "\n",
       "                                              Tokens  \n",
       "0  [modi, promised, minimum, government, maximum,...  \n",
       "1      [talk, nonsense, continue, drama, vote, modi]  \n",
       "2  [say, vote, modi, welcome, bjp, told, rahul, m...  \n",
       "3  [asking, supporter, prefix, chowkidar, name, m...  \n",
       "4  [answer, among, powerful, world, leader, today...  "
      ]
     },
     "execution_count": 13,
     "metadata": {},
     "output_type": "execute_result"
    }
   ],
   "source": [
    "df_x['Cleaned_Tweet'] = df_x['Tokens'].apply(lambda x: ' '.join(x))\n",
    "df_x = df_x.dropna(subset=['Cleaned_Tweet'])\n",
    "df_x = df_x.drop_duplicates(subset=['Cleaned_Tweet'])\n",
    "\n",
    "df_x.head()"
   ]
  },
  {
   "cell_type": "markdown",
   "id": "9c9d2fb5-37aa-462c-b87e-eb7ed73af08b",
   "metadata": {},
   "source": [
    "## Data Splitting"
   ]
  },
  {
   "cell_type": "code",
   "execution_count": 14,
   "id": "0e7587a5-fa90-45a4-a5a8-6dc7a940643f",
   "metadata": {},
   "outputs": [],
   "source": [
    "from sklearn.model_selection import train_test_split"
   ]
  },
  {
   "cell_type": "code",
   "execution_count": 15,
   "id": "8af4afaf-b013-40aa-9536-67825c84e430",
   "metadata": {},
   "outputs": [],
   "source": [
    "# Split into train (70%) and temp (30%)\n",
    "df_train, df_temp = train_test_split(\n",
    "    df_x, test_size=0.3, random_state=42, stratify=df_x['category']\n",
    ")\n",
    "\n",
    "\n",
    "# Split the temp dataset into validate (15%) and test (15%)\n",
    "df_validate, df_test = train_test_split(\n",
    "    df_temp, test_size=0.5, random_state=42, stratify=df_temp['category']\n",
    ")"
   ]
  },
  {
   "cell_type": "markdown",
   "id": "1364ad94-3af4-49f3-a5a4-2a6903f070ac",
   "metadata": {},
   "source": [
    "## Sentiment Analysis"
   ]
  },
  {
   "cell_type": "code",
   "execution_count": 16,
   "id": "801c7a8a-1790-45c6-ad48-9747a634b64d",
   "metadata": {},
   "outputs": [
    {
     "ename": "ModuleNotFoundError",
     "evalue": "No module named 'tensorflow'",
     "output_type": "error",
     "traceback": [
      "\u001b[1;31m---------------------------------------------------------------------------\u001b[0m",
      "\u001b[1;31mModuleNotFoundError\u001b[0m                       Traceback (most recent call last)",
      "Cell \u001b[1;32mIn[16], line 9\u001b[0m\n\u001b[0;32m      6\u001b[0m \u001b[38;5;28;01mimport\u001b[39;00m\u001b[38;5;250m \u001b[39m\u001b[38;5;21;01mseaborn\u001b[39;00m\u001b[38;5;250m \u001b[39m\u001b[38;5;28;01mas\u001b[39;00m\u001b[38;5;250m \u001b[39m\u001b[38;5;21;01msns\u001b[39;00m\n\u001b[0;32m      8\u001b[0m \u001b[38;5;66;03m# Deep learning imports\u001b[39;00m\n\u001b[1;32m----> 9\u001b[0m \u001b[38;5;28;01mimport\u001b[39;00m\u001b[38;5;250m \u001b[39m\u001b[38;5;21;01mtensorflow\u001b[39;00m\u001b[38;5;250m \u001b[39m\u001b[38;5;28;01mas\u001b[39;00m\u001b[38;5;250m \u001b[39m\u001b[38;5;21;01mtf\u001b[39;00m\n\u001b[0;32m     10\u001b[0m \u001b[38;5;28;01mfrom\u001b[39;00m\u001b[38;5;250m \u001b[39m\u001b[38;5;21;01mtensorflow\u001b[39;00m\u001b[38;5;21;01m.\u001b[39;00m\u001b[38;5;21;01mkeras\u001b[39;00m\u001b[38;5;21;01m.\u001b[39;00m\u001b[38;5;21;01mpreprocessing\u001b[39;00m\u001b[38;5;21;01m.\u001b[39;00m\u001b[38;5;21;01mtext\u001b[39;00m\u001b[38;5;250m \u001b[39m\u001b[38;5;28;01mimport\u001b[39;00m Tokenizer\n\u001b[0;32m     11\u001b[0m \u001b[38;5;28;01mfrom\u001b[39;00m\u001b[38;5;250m \u001b[39m\u001b[38;5;21;01mtensorflow\u001b[39;00m\u001b[38;5;21;01m.\u001b[39;00m\u001b[38;5;21;01mkeras\u001b[39;00m\u001b[38;5;21;01m.\u001b[39;00m\u001b[38;5;21;01mpreprocessing\u001b[39;00m\u001b[38;5;21;01m.\u001b[39;00m\u001b[38;5;21;01msequence\u001b[39;00m\u001b[38;5;250m \u001b[39m\u001b[38;5;28;01mimport\u001b[39;00m pad_sequences\n",
      "\u001b[1;31mModuleNotFoundError\u001b[0m: No module named 'tensorflow'"
     ]
    }
   ],
   "source": [
    "import numpy as np\n",
    "import pandas as pd\n",
    "import re\n",
    "import nltk\n",
    "import matplotlib.pyplot as plt\n",
    "import seaborn as sns\n",
    "\n",
    "# Deep learning imports\n",
    "import tensorflow as tf\n",
    "from tensorflow.keras.preprocessing.text import Tokenizer\n",
    "from tensorflow.keras.preprocessing.sequence import pad_sequences\n",
    "from tensorflow.keras.models import Sequential\n",
    "from tensorflow.keras.layers import Embedding, Conv1D, GlobalMaxPooling1D, Dense, Dropout\n",
    "from tensorflow.keras.optimizers import Adam\n",
    "\n",
    "# Sklearn imports for label encoding and metrics\n",
    "from sklearn.preprocessing import LabelEncoder\n",
    "from sklearn.metrics import accuracy_score, precision_score, recall_score, f1_score, classification_report, confusion_matrix"
   ]
  },
  {
   "cell_type": "markdown",
   "id": "fc84c330",
   "metadata": {},
   "source": [
    "### Preparing GPU"
   ]
  },
  {
   "cell_type": "code",
   "execution_count": 1,
   "id": "2308f04b",
   "metadata": {},
   "outputs": [
    {
     "name": "stdout",
     "output_type": "stream",
     "text": [
      "Note: you may need to restart the kernel to use updated packages.\n"
     ]
    },
    {
     "name": "stderr",
     "output_type": "stream",
     "text": [
      "ERROR: Could not find a version that satisfies the requirement tensorflow (from versions: none)\n",
      "ERROR: No matching distribution found for tensorflow\n"
     ]
    }
   ],
   "source": [
    "pip install tensorflow"
   ]
  },
  {
   "cell_type": "code",
   "execution_count": 10,
   "id": "7c277566",
   "metadata": {},
   "outputs": [
    {
     "name": "stdout",
     "output_type": "stream",
     "text": [
      "2.10.0\n",
      "/device:GPU:0\n",
      "<function set_visible_devices at 0x000002A22EC9EAF0>\n",
      "<function set_visible_devices at 0x000002A22EC9EAF0>\n",
      "GPU: [PhysicalDevice(name='/physical_device:GPU:0', device_type='GPU')]\n",
      "CPU: [PhysicalDevice(name='/physical_device:CPU:0', device_type='CPU')]\n",
      "[PhysicalDevice(name='/physical_device:GPU:0', device_type='GPU')]\n",
      "WARNING:tensorflow:From C:\\Users\\admin\\AppData\\Local\\Temp\\ipykernel_102128\\1943151892.py:8: is_gpu_available (from tensorflow.python.framework.test_util) is deprecated and will be removed in a future version.\n",
      "Instructions for updating:\n",
      "Use `tf.config.list_physical_devices('GPU')` instead.\n",
      "True\n",
      "Num GPUs Available:  1\n"
     ]
    }
   ],
   "source": [
    "print(tf.__version__)\n",
    "print(tf.test.gpu_device_name())\n",
    "print(tf.config.experimental.set_visible_devices)\n",
    "print(tf.config.experimental.set_visible_devices)\n",
    "print('GPU:', tf.config.list_physical_devices('GPU'))\n",
    "print('CPU:', tf.config.list_physical_devices(device_type='CPU'))\n",
    "print(tf.config.list_physical_devices('GPU'))\n",
    "print(tf.test.is_gpu_available())\n",
    "print(\"Num GPUs Available: \", len(tf.config.experimental.list_physical_devices('GPU')))\n"
   ]
  },
  {
   "cell_type": "code",
   "execution_count": 11,
   "id": "a3dd1386",
   "metadata": {},
   "outputs": [
    {
     "name": "stdout",
     "output_type": "stream",
     "text": [
      "tf.Tensor([[32.]], shape=(1, 1), dtype=float32)\n",
      "TensorFlow is using: /job:localhost/replica:0/task:0/device:GPU:0\n"
     ]
    }
   ],
   "source": [
    "import tensorflow as tf\n",
    "\n",
    "# Perform a simple operation\n",
    "a = tf.constant([[1.0, 2.0, 3.0]])\n",
    "b = tf.constant([[4.0], [5.0], [6.0]])\n",
    "c = tf.matmul(a, b)\n",
    "\n",
    "print(c)\n",
    "print(\"TensorFlow is using:\", c.device)"
   ]
  },
  {
   "cell_type": "markdown",
   "id": "004b8c08-bb73-447c-a50e-e5e843907583",
   "metadata": {},
   "source": [
    "### Data Preparation"
   ]
  },
  {
   "cell_type": "code",
   "execution_count": 12,
   "id": "0163aaa9-4fe8-452d-89dc-ee45fad41404",
   "metadata": {},
   "outputs": [],
   "source": [
    "# Extract texts and labels\n",
    "X_train_texts = df_train['Cleaned_Tweet'].tolist()\n",
    "X_val_texts   = df_validate['Cleaned_Tweet'].tolist()\n",
    "X_test_texts  = df_test['Cleaned_Tweet'].tolist()\n",
    "\n",
    "y_train = df_train['category'].values\n",
    "y_val   = df_validate['category'].values\n",
    "y_test  = df_test['category'].values\n",
    "\n",
    "# If your labels are numeric (-1, 0, 1), no need for LabelEncoder; otherwise, encode them\n",
    "if y_train.dtype != int:  # Encode only if not already integers\n",
    "    label_encoder = LabelEncoder()\n",
    "    label_encoder.fit(y_train)  # Fit on train set\n",
    "    y_train_enc = label_encoder.transform(y_train)\n",
    "    y_val_enc   = label_encoder.transform(y_val)\n",
    "    y_test_enc  = label_encoder.transform(y_test)\n",
    "\n",
    "# Tokenize texts\n",
    "tokenizer = Tokenizer(num_words=10000, lower=True, oov_token=\"<OOV>\")\n",
    "tokenizer.fit_on_texts(X_train_texts)\n",
    "\n",
    "# Convert texts to sequences\n",
    "X_train_seq = tokenizer.texts_to_sequences(X_train_texts)\n",
    "X_val_seq   = tokenizer.texts_to_sequences(X_val_texts)\n",
    "X_test_seq  = tokenizer.texts_to_sequences(X_test_texts)\n",
    "\n",
    "# Define a predefined max length for padding\n",
    "max_len = 200  # You can use a fixed max length (e.g., 200 tokens)\n",
    "\n",
    "# Pad sequences\n",
    "X_train_pad = pad_sequences(X_train_seq, maxlen=max_len, padding='post', truncating='post')\n",
    "X_val_pad   = pad_sequences(X_val_seq, maxlen=max_len, padding='post', truncating='post')\n",
    "X_test_pad  = pad_sequences(X_test_seq, maxlen=max_len, padding='post', truncating='post')"
   ]
  },
  {
   "cell_type": "markdown",
   "id": "1dcfd4c8-a8dc-4e34-841d-dee31a01fc34",
   "metadata": {},
   "source": [
    "## Logistic Regression"
   ]
  },
  {
   "cell_type": "code",
   "execution_count": 13,
   "id": "66e43fc4-475a-4a4f-ba01-179b3fca49a0",
   "metadata": {},
   "outputs": [],
   "source": [
    "from sklearn.model_selection import train_test_split\n",
    "from sklearn.feature_extraction.text import TfidfVectorizer\n",
    "from sklearn.linear_model import LogisticRegression\n",
    "from sklearn.model_selection import GridSearchCV"
   ]
  },
  {
   "cell_type": "markdown",
   "id": "5e94207a-cf7c-4ad1-a988-855bba8d5b75",
   "metadata": {},
   "source": [
    "### TF–IDF Vectorization"
   ]
  },
  {
   "cell_type": "code",
   "execution_count": 14,
   "id": "d5842467-5286-4b14-a748-82c15dd36df5",
   "metadata": {},
   "outputs": [],
   "source": [
    "tfidf_vectorizer = TfidfVectorizer(\n",
    "    lowercase=True,\n",
    "    max_features=10000,           # You can tune this\n",
    "    ngram_range=(1, 2),           # You can tune this as well\n",
    "    stop_words='english'          # Optionally set stopwords\n",
    ")\n",
    "\n",
    "X_train_tfidf = tfidf_vectorizer.fit_transform(X_train_texts)\n",
    "X_val_tfidf   = tfidf_vectorizer.transform(X_val_texts)\n",
    "X_test_tfidf  = tfidf_vectorizer.transform(X_test_texts)"
   ]
  },
  {
   "cell_type": "markdown",
   "id": "a110e473-c7e5-45e3-aa41-9106947b3130",
   "metadata": {},
   "source": [
    "### Logistic Regression + Regularization"
   ]
  },
  {
   "cell_type": "code",
   "execution_count": 15,
   "id": "397632c6-6e94-4c9c-92e1-07de96cd1a50",
   "metadata": {},
   "outputs": [
    {
     "name": "stdout",
     "output_type": "stream",
     "text": [
      "Fitting 5 folds for each of 3 candidates, totalling 15 fits\n",
      "[CV 1/5] END C=0.1, penalty=l2, solver=liblinear;, score=0.707 total time=   0.4s\n",
      "[CV 2/5] END C=0.1, penalty=l2, solver=liblinear;, score=0.704 total time=   0.4s\n",
      "[CV 3/5] END C=0.1, penalty=l2, solver=liblinear;, score=0.705 total time=   0.4s\n",
      "[CV 4/5] END C=0.1, penalty=l2, solver=liblinear;, score=0.703 total time=   0.4s\n",
      "[CV 5/5] END C=0.1, penalty=l2, solver=liblinear;, score=0.705 total time=   0.4s\n",
      "[CV 1/5] END C=1.0, penalty=l2, solver=liblinear;, score=0.814 total time=   0.9s\n",
      "[CV 2/5] END C=1.0, penalty=l2, solver=liblinear;, score=0.811 total time=   1.0s\n",
      "[CV 3/5] END C=1.0, penalty=l2, solver=liblinear;, score=0.808 total time=   0.8s\n",
      "[CV 4/5] END C=1.0, penalty=l2, solver=liblinear;, score=0.814 total time=   0.9s\n",
      "[CV 5/5] END C=1.0, penalty=l2, solver=liblinear;, score=0.812 total time=   0.8s\n",
      "[CV 1/5] END C=10.0, penalty=l2, solver=liblinear;, score=0.831 total time=   1.4s\n",
      "[CV 2/5] END C=10.0, penalty=l2, solver=liblinear;, score=0.827 total time=   1.3s\n",
      "[CV 3/5] END C=10.0, penalty=l2, solver=liblinear;, score=0.826 total time=   1.4s\n",
      "[CV 4/5] END C=10.0, penalty=l2, solver=liblinear;, score=0.833 total time=   1.4s\n",
      "[CV 5/5] END C=10.0, penalty=l2, solver=liblinear;, score=0.831 total time=   1.4s\n"
     ]
    }
   ],
   "source": [
    "# Define hyperparameter grid\n",
    "param_grid = {\n",
    "    'C': [0.1, 1.0, 10.0],  # Fewer values for C\n",
    "    'penalty': ['l2'],      # Use only L2 regularization\n",
    "    'solver': ['liblinear'] # Use only one solver\n",
    "}\n",
    "\n",
    "# Perform Grid Search with Logistic Regression\n",
    "grid_search = GridSearchCV(\n",
    "    LogisticRegression(max_iter=1000, random_state=42),  # Base model\n",
    "    param_grid,\n",
    "    scoring='f1_macro',  # Optimize for F1-score\n",
    "    cv=5,              # 5-fold cross-validation\n",
    "    verbose=3\n",
    ")\n",
    "\n",
    "# Fit the grid search\n",
    "grid_search.fit(X_train_tfidf, y_train_enc)\n",
    "\n",
    "# Best model based on grid search\n",
    "best_log_reg_model = grid_search.best_estimator_\n",
    "\n",
    "# Predict on validation set using the best model\n",
    "y_val_pred = best_log_reg_model.predict(X_val_tfidf)"
   ]
  },
  {
   "cell_type": "markdown",
   "id": "43b6e02a-2a92-46be-b686-4626a723370a",
   "metadata": {},
   "source": [
    "### Evaluation on the Validation Set"
   ]
  },
  {
   "cell_type": "code",
   "execution_count": 16,
   "id": "2afb5fc6-d04f-4d9e-a0f5-0f1fe28e0cff",
   "metadata": {},
   "outputs": [
    {
     "name": "stdout",
     "output_type": "stream",
     "text": [
      "Validation Accuracy : 0.8408812729498164\n",
      "Validation Precision: 0.8378150524695088\n",
      "Validation Recall   : 0.8314237656950976\n",
      "Validation F1-score : 0.8323228235068134\n",
      "\n",
      "Validation Classification Report:\n",
      "              precision    recall  f1-score   support\n",
      "\n",
      "           0       0.83      0.75      0.79      5219\n",
      "           1       0.80      0.92      0.86      7890\n",
      "           2       0.88      0.83      0.86     10584\n",
      "\n",
      "    accuracy                           0.84     23693\n",
      "   macro avg       0.84      0.83      0.83     23693\n",
      "weighted avg       0.84      0.84      0.84     23693\n",
      "\n"
     ]
    }
   ],
   "source": [
    "val_accuracy = accuracy_score(y_val_enc, y_val_pred)\n",
    "val_precision = precision_score(y_val_enc, y_val_pred, average='macro')\n",
    "val_recall = recall_score(y_val_enc, y_val_pred, average='macro')\n",
    "val_f1 = f1_score(y_val_enc, y_val_pred, average='macro')\n",
    "\n",
    "print(\"Validation Accuracy :\", val_accuracy)\n",
    "print(\"Validation Precision:\", val_precision)\n",
    "print(\"Validation Recall   :\", val_recall)\n",
    "print(\"Validation F1-score :\", val_f1)\n",
    "print(\"\\nValidation Classification Report:\")\n",
    "print(classification_report(y_val_enc, y_val_pred))"
   ]
  },
  {
   "cell_type": "markdown",
   "id": "0ac6de0d-40c7-4f82-b0a1-65b4ee5dea94",
   "metadata": {},
   "source": [
    "### Final Evaluation on the Testing Set"
   ]
  },
  {
   "cell_type": "code",
   "execution_count": 17,
   "id": "99539198-d1fb-4d0a-9d66-9f9958714643",
   "metadata": {},
   "outputs": [
    {
     "name": "stdout",
     "output_type": "stream",
     "text": [
      "\n",
      "Test Accuracy : 0.8442155911028574\n",
      "Test Precision: 0.8404415407459357\n",
      "Test Recall   : 0.8336222100589916\n",
      "Test F1-score : 0.8348850834684973\n",
      "\n",
      "Test Classification Report:\n",
      "              precision    recall  f1-score   support\n",
      "\n",
      "           0       0.83      0.74      0.78      5220\n",
      "           1       0.81      0.92      0.86      7889\n",
      "           2       0.88      0.84      0.86     10584\n",
      "\n",
      "    accuracy                           0.84     23693\n",
      "   macro avg       0.84      0.83      0.83     23693\n",
      "weighted avg       0.85      0.84      0.84     23693\n",
      "\n"
     ]
    },
    {
     "data": {
      "image/png": "[encoded data removed]",
      "text/plain": [
       "<Figure size 640x480 with 2 Axes>"
      ]
     },
     "metadata": {},
     "output_type": "display_data"
    }
   ],
   "source": [
    "y_test_pred = best_log_reg_model.predict(X_test_tfidf)\n",
    "\n",
    "test_accuracy = accuracy_score(y_test_enc, y_test_pred)\n",
    "test_precision = precision_score(y_test_enc, y_test_pred, average='macro')\n",
    "test_recall = recall_score(y_test_enc, y_test_pred, average='macro')\n",
    "test_f1 = f1_score(y_test_enc, y_test_pred, average='macro')\n",
    "\n",
    "print(\"\\nTest Accuracy :\", test_accuracy)\n",
    "print(\"Test Precision:\", test_precision)\n",
    "print(\"Test Recall   :\", test_recall)\n",
    "print(\"Test F1-score :\", test_f1)\n",
    "print(\"\\nTest Classification Report:\")\n",
    "print(classification_report(y_test_enc, y_test_pred))\n",
    "\n",
    "cm = confusion_matrix(y_test_enc, y_test_pred)\n",
    "sns.heatmap(cm, annot=True, fmt='d', cmap='Reds')\n",
    "plt.title(\"Confusion Matrix - Logistic Regression\")\n",
    "plt.xlabel(\"Predicted Label\")\n",
    "plt.ylabel(\"True Label\")\n",
    "plt.show()"
   ]
  },
  {
   "cell_type": "markdown",
   "id": "48d5bfe7-d2ad-4216-821f-e0cf88b347d5",
   "metadata": {},
   "source": [
    "## SVM"
   ]
  },
  {
   "cell_type": "code",
   "execution_count": 18,
   "id": "d5e9cb55-8706-446a-a5ca-6621029732eb",
   "metadata": {},
   "outputs": [],
   "source": [
    "from sklearn.svm import SVC  # Support Vector Classifier"
   ]
  },
  {
   "cell_type": "markdown",
   "id": "b1e8a89c-d170-4aff-b49e-b90ca312e35c",
   "metadata": {},
   "source": [
    "### TF–IDF Vectorization"
   ]
  },
  {
   "cell_type": "code",
   "execution_count": 19,
   "id": "89aa3567-ce7c-4bcb-93d4-5c255f7d82b1",
   "metadata": {},
   "outputs": [],
   "source": [
    "tfidf_vectorizer = TfidfVectorizer(\n",
    "    lowercase=True,\n",
    "    max_features=10000,    # Tune as needed\n",
    "    ngram_range=(1, 2),    # Optionally use bigrams\n",
    "    stop_words='english'   # Can remove if you don't want to remove stop words\n",
    ")\n",
    "\n",
    "X_train_tfidf = tfidf_vectorizer.fit_transform(X_train_texts)\n",
    "X_val_tfidf   = tfidf_vectorizer.transform(X_val_texts)\n",
    "X_test_tfidf  = tfidf_vectorizer.transform(X_test_texts)"
   ]
  },
  {
   "cell_type": "markdown",
   "id": "655dbc5a-d25c-453e-b5b1-63fac4d40282",
   "metadata": {},
   "source": [
    "### SVM Classifier"
   ]
  },
  {
   "cell_type": "code",
   "execution_count": 20,
   "id": "47a011c7-7ad1-487e-a283-2bd217505b65",
   "metadata": {},
   "outputs": [],
   "source": [
    "from sklearn.svm import LinearSVC"
   ]
  },
  {
   "cell_type": "code",
   "execution_count": 21,
   "id": "0a20a809-42e1-4251-b9de-98d9268037be",
   "metadata": {},
   "outputs": [
    {
     "name": "stderr",
     "output_type": "stream",
     "text": [
      "c:\\Users\\admin\\anaconda3\\envs\\GPU_based\\lib\\site-packages\\sklearn\\svm\\_classes.py:32: FutureWarning: The default value of `dual` will change from `True` to `'auto'` in 1.5. Set the value of `dual` explicitly to suppress the warning.\n",
      "  warnings.warn(\n"
     ]
    },
    {
     "name": "stdout",
     "output_type": "stream",
     "text": [
      "[LibLinear]"
     ]
    },
    {
     "data": {
      "text/html": [
       "<style>#sk-container-id-1 {color: black;}#sk-container-id-1 pre{padding: 0;}#sk-container-id-1 div.sk-toggleable {background-color: white;}#sk-container-id-1 label.sk-toggleable__label {cursor: pointer;display: block;width: 100%;margin-bottom: 0;padding: 0.3em;box-sizing: border-box;text-align: center;}#sk-container-id-1 label.sk-toggleable__label-arrow:before {content: \"▸\";float: left;margin-right: 0.25em;color: #696969;}#sk-container-id-1 label.sk-toggleable__label-arrow:hover:before {color: black;}#sk-container-id-1 div.sk-estimator:hover label.sk-toggleable__label-arrow:before {color: black;}#sk-container-id-1 div.sk-toggleable__content {max-height: 0;max-width: 0;overflow: hidden;text-align: left;background-color: #f0f8ff;}#sk-container-id-1 div.sk-toggleable__content pre {margin: 0.2em;color: black;border-radius: 0.25em;background-color: #f0f8ff;}#sk-container-id-1 input.sk-toggleable__control:checked~div.sk-toggleable__content {max-height: 200px;max-width: 100%;overflow: auto;}#sk-container-id-1 input.sk-toggleable__control:checked~label.sk-toggleable__label-arrow:before {content: \"▾\";}#sk-container-id-1 div.sk-estimator input.sk-toggleable__control:checked~label.sk-toggleable__label {background-color: #d4ebff;}#sk-container-id-1 div.sk-label input.sk-toggleable__control:checked~label.sk-toggleable__label {background-color: #d4ebff;}#sk-container-id-1 input.sk-hidden--visually {border: 0;clip: rect(1px 1px 1px 1px);clip: rect(1px, 1px, 1px, 1px);height: 1px;margin: -1px;overflow: hidden;padding: 0;position: absolute;width: 1px;}#sk-container-id-1 div.sk-estimator {font-family: monospace;background-color: #f0f8ff;border: 1px dotted black;border-radius: 0.25em;box-sizing: border-box;margin-bottom: 0.5em;}#sk-container-id-1 div.sk-estimator:hover {background-color: #d4ebff;}#sk-container-id-1 div.sk-parallel-item::after {content: \"\";width: 100%;border-bottom: 1px solid gray;flex-grow: 1;}#sk-container-id-1 div.sk-label:hover label.sk-toggleable__label {background-color: #d4ebff;}#sk-container-id-1 div.sk-serial::before {content: \"\";position: absolute;border-left: 1px solid gray;box-sizing: border-box;top: 0;bottom: 0;left: 50%;z-index: 0;}#sk-container-id-1 div.sk-serial {display: flex;flex-direction: column;align-items: center;background-color: white;padding-right: 0.2em;padding-left: 0.2em;position: relative;}#sk-container-id-1 div.sk-item {position: relative;z-index: 1;}#sk-container-id-1 div.sk-parallel {display: flex;align-items: stretch;justify-content: center;background-color: white;position: relative;}#sk-container-id-1 div.sk-item::before, #sk-container-id-1 div.sk-parallel-item::before {content: \"\";position: absolute;border-left: 1px solid gray;box-sizing: border-box;top: 0;bottom: 0;left: 50%;z-index: -1;}#sk-container-id-1 div.sk-parallel-item {display: flex;flex-direction: column;z-index: 1;position: relative;background-color: white;}#sk-container-id-1 div.sk-parallel-item:first-child::after {align-self: flex-end;width: 50%;}#sk-container-id-1 div.sk-parallel-item:last-child::after {align-self: flex-start;width: 50%;}#sk-container-id-1 div.sk-parallel-item:only-child::after {width: 0;}#sk-container-id-1 div.sk-dashed-wrapped {border: 1px dashed gray;margin: 0 0.4em 0.5em 0.4em;box-sizing: border-box;padding-bottom: 0.4em;background-color: white;}#sk-container-id-1 div.sk-label label {font-family: monospace;font-weight: bold;display: inline-block;line-height: 1.2em;}#sk-container-id-1 div.sk-label-container {text-align: center;}#sk-container-id-1 div.sk-container {/* jupyter's `normalize.less` sets `[hidden] { display: none; }` but bootstrap.min.css set `[hidden] { display: none !important; }` so we also need the `!important` here to be able to override the default hidden behavior on the sphinx rendered scikit-learn.org. See: https://github.com/scikit-learn/scikit-learn/issues/21755 */display: inline-block !important;position: relative;}#sk-container-id-1 div.sk-text-repr-fallback {display: none;}</style><div id=\"sk-container-id-1\" class=\"sk-top-container\"><div class=\"sk-text-repr-fallback\"><pre>LinearSVC(random_state=42, verbose=1)</pre><b>In a Jupyter environment, please rerun this cell to show the HTML representation or trust the notebook. <br />On GitHub, the HTML representation is unable to render, please try loading this page with nbviewer.org.</b></div><div class=\"sk-container\" hidden><div class=\"sk-item\"><div class=\"sk-estimator sk-toggleable\"><input class=\"sk-toggleable__control sk-hidden--visually\" id=\"sk-estimator-id-1\" type=\"checkbox\" checked><label for=\"sk-estimator-id-1\" class=\"sk-toggleable__label sk-toggleable__label-arrow\">LinearSVC</label><div class=\"sk-toggleable__content\"><pre>LinearSVC(random_state=42, verbose=1)</pre></div></div></div></div></div>"
      ],
      "text/plain": [
       "LinearSVC(random_state=42, verbose=1)"
      ]
     },
     "execution_count": 21,
     "metadata": {},
     "output_type": "execute_result"
    }
   ],
   "source": [
    "svm_model = LinearSVC(\n",
    "    C=1.0,             # Regularization parameter\n",
    "    random_state=42,\n",
    "    verbose=1          # Enable progress updates\n",
    ")\n",
    "\n",
    "# Fit the model\n",
    "svm_model.fit(X_train_tfidf, y_train_enc)"
   ]
  },
  {
   "cell_type": "code",
   "execution_count": 22,
   "id": "c53d2513-af87-4a8a-9488-c2fcf0fedcda",
   "metadata": {},
   "outputs": [],
   "source": [
    "# Predict on validation\n",
    "y_val_pred = svm_model.predict(X_val_tfidf)"
   ]
  },
  {
   "cell_type": "markdown",
   "id": "26ad85a9-fee7-44b8-a970-5b9c2b4fb730",
   "metadata": {},
   "source": [
    "### Evaluate on the Validation Set"
   ]
  },
  {
   "cell_type": "code",
   "execution_count": 23,
   "id": "ae73e4f9-fd44-4aca-b391-a4038b2c8f4e",
   "metadata": {},
   "outputs": [
    {
     "name": "stdout",
     "output_type": "stream",
     "text": [
      "Validation Accuracy : 0.8438357320727641\n",
      "Validation Precision: 0.8410558539313872\n",
      "Validation Recall   : 0.8352862232164604\n",
      "Validation F1-score : 0.8353427348409098\n",
      "\n",
      "Validation Classification Report:\n",
      "              precision    recall  f1-score   support\n",
      "\n",
      "           0       0.83      0.75      0.79      5219\n",
      "           1       0.80      0.93      0.86      7890\n",
      "           2       0.89      0.83      0.86     10584\n",
      "\n",
      "    accuracy                           0.84     23693\n",
      "   macro avg       0.84      0.84      0.84     23693\n",
      "weighted avg       0.85      0.84      0.84     23693\n",
      "\n"
     ]
    }
   ],
   "source": [
    "# Evaluate on validation set\n",
    "val_accuracy = accuracy_score(y_val_enc, y_val_pred)\n",
    "val_precision = precision_score(y_val_enc, y_val_pred, average='macro')\n",
    "val_recall = recall_score(y_val_enc, y_val_pred, average='macro')\n",
    "val_f1 = f1_score(y_val_enc, y_val_pred, average='macro')\n",
    "\n",
    "print(\"Validation Accuracy :\", val_accuracy)\n",
    "print(\"Validation Precision:\", val_precision)\n",
    "print(\"Validation Recall   :\", val_recall)\n",
    "print(\"Validation F1-score :\", val_f1)\n",
    "print(\"\\nValidation Classification Report:\")\n",
    "print(classification_report(y_val_enc, y_val_pred))\n"
   ]
  },
  {
   "cell_type": "markdown",
   "id": "16db98fc-7bf0-4da4-9a85-fa10bbf227db",
   "metadata": {},
   "source": [
    "### Final Evaluation on Testing Data"
   ]
  },
  {
   "cell_type": "code",
   "execution_count": 24,
   "id": "c20b53d8-6240-4824-afb6-42177fe7cd7b",
   "metadata": {},
   "outputs": [
    {
     "name": "stdout",
     "output_type": "stream",
     "text": [
      "\n",
      "Test Accuracy : 0.8475077026969992\n",
      "Test Precision: 0.8438519310045303\n",
      "Test Recall   : 0.8377480099708272\n",
      "Test F1-score : 0.8382317763707815\n",
      "\n",
      "Test Classification Report:\n",
      "              precision    recall  f1-score   support\n",
      "\n",
      "           0       0.83      0.75      0.79      5220\n",
      "           1       0.81      0.93      0.86      7889\n",
      "           2       0.89      0.83      0.86     10584\n",
      "\n",
      "    accuracy                           0.85     23693\n",
      "   macro avg       0.84      0.84      0.84     23693\n",
      "weighted avg       0.85      0.85      0.85     23693\n",
      "\n"
     ]
    },
    {
     "data": {
      "image/png": "[encoded data removed]",
      "text/plain": [
       "<Figure size 640x480 with 2 Axes>"
      ]
     },
     "metadata": {},
     "output_type": "display_data"
    }
   ],
   "source": [
    "y_test_pred = svm_model.predict(X_test_tfidf)\n",
    "\n",
    "test_accuracy = accuracy_score(y_test_enc, y_test_pred)\n",
    "test_precision = precision_score(y_test_enc, y_test_pred, average='macro')\n",
    "test_recall = recall_score(y_test_enc, y_test_pred, average='macro')\n",
    "test_f1 = f1_score(y_test_enc, y_test_pred, average='macro')\n",
    "\n",
    "print(\"\\nTest Accuracy :\", test_accuracy)\n",
    "print(\"Test Precision:\", test_precision)\n",
    "print(\"Test Recall   :\", test_recall)\n",
    "print(\"Test F1-score :\", test_f1)\n",
    "print(\"\\nTest Classification Report:\")\n",
    "print(classification_report(y_test_enc, y_test_pred))\n",
    "\n",
    "cm = confusion_matrix(y_test_enc, y_test_pred)\n",
    "sns.heatmap(cm, annot=True, fmt='d', cmap='Reds')\n",
    "plt.title(\"Confusion Matrix - SVM\")\n",
    "plt.xlabel(\"Predicted Label\")\n",
    "plt.ylabel(\"True Label\")\n",
    "plt.show()\n"
   ]
  },
  {
   "cell_type": "markdown",
   "id": "ae9c1ecf-986e-49cd-8298-a398f76ddd43",
   "metadata": {},
   "source": [
    "## CNN"
   ]
  },
  {
   "cell_type": "code",
   "execution_count": 25,
   "id": "4e00c6b2-7960-4d40-9b03-70bbb99c3633",
   "metadata": {},
   "outputs": [],
   "source": [
    "from tensorflow.keras.models import Sequential\n",
    "from tensorflow.keras.layers import Embedding, Conv1D, GlobalMaxPooling1D, Dense, Dropout\n",
    "from tensorflow.keras.optimizers import Adam\n",
    "import keras_tuner as kt"
   ]
  },
  {
   "cell_type": "markdown",
   "id": "f237b1e1-c868-4d23-8a23-fb4b7303f442",
   "metadata": {},
   "source": [
    "### Build CNN Model"
   ]
  },
  {
   "cell_type": "code",
   "execution_count": 26,
   "id": "a31ecc52-623e-48bb-95ea-ff4bcd5f7535",
   "metadata": {},
   "outputs": [],
   "source": [
    "# Define global variables\n",
    "vocab_size = 10000  # Vocabulary size\n",
    "input_length = max_len  # Maximum length of padded sequences\n",
    "num_classes = len(np.unique(y_train_enc))  # Number of output classes"
   ]
  },
  {
   "cell_type": "code",
   "execution_count": 27,
   "id": "a8c6b034-2fae-4e39-b4c7-6f700d9d1904",
   "metadata": {},
   "outputs": [],
   "source": [
    "def build_model(hp):\n",
    "    \"\"\"\n",
    "    Build a CNN model with tunable hyperparameters for text classification.\n",
    "    :param hp: Hyperparameter object from Keras Tuner\n",
    "    :return: Compiled Keras model\n",
    "    \"\"\"\n",
    "    model = Sequential()\n",
    "\n",
    "    # Embedding layer\n",
    "    model.add(Embedding(\n",
    "        input_dim=vocab_size,\n",
    "        output_dim=hp.Choice('embedding_dim', [50, 100, 200]),  # Tune embedding dimensions\n",
    "        input_length=input_length\n",
    "    ))\n",
    "    \n",
    "    # Convolutional layer\n",
    "    model.add(Conv1D(\n",
    "        filters=hp.Choice('filters', [64, 128, 256]),   # Tune number of filters\n",
    "        kernel_size=hp.Choice('kernel_size', [3, 5, 7]), # Tune kernel size\n",
    "        activation='relu'\n",
    "    ))\n",
    "    model.add(GlobalMaxPooling1D())\n",
    "    \n",
    "    # Dense layer\n",
    "    model.add(Dense(\n",
    "        hp.Choice('dense_units', [32, 64, 128]),  # Tune number of units in Dense layer\n",
    "        activation='relu'\n",
    "    ))\n",
    "    model.add(Dropout(hp.Choice('dropout', [0.3, 0.5, 0.7])))  # Tune dropout rate\n",
    "    \n",
    "    # Output layer\n",
    "    model.add(Dense(num_classes, activation='softmax'))\n",
    "    \n",
    "    # Compile the model\n",
    "    model.compile(\n",
    "        optimizer=Adam(learning_rate=hp.Choice('learning_rate', [1e-2, 1e-3, 1e-4])),  # Tune learning rate\n",
    "        loss='sparse_categorical_crossentropy',\n",
    "        metrics=['accuracy']\n",
    "    )\n",
    "    \n",
    "    return model"
   ]
  },
  {
   "cell_type": "markdown",
   "id": "3ddfa850-659d-438c-b85f-4d19c0d86a6c",
   "metadata": {},
   "source": [
    "### Setup Keras Tuner"
   ]
  },
  {
   "cell_type": "code",
   "execution_count": 28,
   "id": "4aa17c4a-f302-4673-9cec-ab49bb07c14c",
   "metadata": {},
   "outputs": [
    {
     "name": "stdout",
     "output_type": "stream",
     "text": [
      "Reloading Tuner from tuning_results\\cnn_text_classification\\tuner0.json\n"
     ]
    }
   ],
   "source": [
    "tuner = kt.RandomSearch(\n",
    "    build_model,  # Pass the model-building function\n",
    "    objective='val_accuracy',  # Optimize for validation accuracy\n",
    "    max_trials=10,             # Number of hyperparameter combinations to try\n",
    "    executions_per_trial=1,    # Number of times to train each model configuration\n",
    "    directory='tuning_results',  # Folder to save tuning logs\n",
    "    project_name='cnn_text_classification'\n",
    ")"
   ]
  },
  {
   "cell_type": "markdown",
   "id": "63de5209-5b04-4af1-b923-c253edd89d44",
   "metadata": {},
   "source": [
    "### Hyperparameter Search"
   ]
  },
  {
   "cell_type": "code",
   "execution_count": 29,
   "id": "bda90d02-a7aa-4033-9aff-bc0c94f40329",
   "metadata": {},
   "outputs": [],
   "source": [
    "tuner.search(\n",
    "    X_train_pad, \n",
    "    y_train_enc,\n",
    "    validation_data=(X_val_pad, y_val_enc),\n",
    "    epochs=5,  # You can increase this to allow more training for each trial\n",
    "    batch_size=32,  # Fixed for now, or you can also tune it\n",
    "    verbose=1\n",
    ")"
   ]
  },
  {
   "cell_type": "code",
   "execution_count": 30,
   "id": "ede224f0-7505-41e9-a426-bc23c4ff290f",
   "metadata": {},
   "outputs": [
    {
     "name": "stdout",
     "output_type": "stream",
     "text": [
      "Best Embedding Dimension: 200\n",
      "Best Number of Filters: 256\n",
      "Best Kernel Size: 3\n",
      "Best Dense Units: 64\n",
      "Best Dropout Rate: 0.5\n",
      "Best Learning Rate: 0.0001\n"
     ]
    }
   ],
   "source": [
    "best_hps = tuner.get_best_hyperparameters(num_trials=1)[0]\n",
    "\n",
    "print(f\"Best Embedding Dimension: {best_hps.get('embedding_dim')}\")\n",
    "print(f\"Best Number of Filters: {best_hps.get('filters')}\")\n",
    "print(f\"Best Kernel Size: {best_hps.get('kernel_size')}\")\n",
    "print(f\"Best Dense Units: {best_hps.get('dense_units')}\")\n",
    "print(f\"Best Dropout Rate: {best_hps.get('dropout')}\")\n",
    "print(f\"Best Learning Rate: {best_hps.get('learning_rate')}\")"
   ]
  },
  {
   "cell_type": "markdown",
   "id": "ebeceb0b-3c11-4649-b208-ddeb8bab8fd4",
   "metadata": {},
   "source": [
    "### Train the Model"
   ]
  },
  {
   "cell_type": "code",
   "execution_count": 31,
   "id": "a95f45c7-da7e-42e7-ae87-0a58911518e6",
   "metadata": {},
   "outputs": [
    {
     "name": "stdout",
     "output_type": "stream",
     "text": [
      "Epoch 1/5\n",
      "3456/3456 [==============================] - 16s 4ms/step - loss: 0.5877 - accuracy: 0.7683 - val_loss: 0.3459 - val_accuracy: 0.8901\n",
      "Epoch 2/5\n",
      "3456/3456 [==============================] - 12s 4ms/step - loss: 0.3246 - accuracy: 0.8999 - val_loss: 0.3203 - val_accuracy: 0.8997\n",
      "Epoch 3/5\n",
      "3456/3456 [==============================] - 12s 3ms/step - loss: 0.2830 - accuracy: 0.9127 - val_loss: 0.3161 - val_accuracy: 0.9013\n",
      "Epoch 4/5\n",
      "3456/3456 [==============================] - 12s 3ms/step - loss: 0.2529 - accuracy: 0.9232 - val_loss: 0.3180 - val_accuracy: 0.8992\n",
      "Epoch 5/5\n",
      "3456/3456 [==============================] - 12s 3ms/step - loss: 0.2206 - accuracy: 0.9342 - val_loss: 0.3336 - val_accuracy: 0.8984\n"
     ]
    }
   ],
   "source": [
    "best_model = tuner.hypermodel.build(best_hps)\n",
    "\n",
    "# Train the best model\n",
    "history = best_model.fit(\n",
    "    X_train_pad, \n",
    "    y_train_enc,\n",
    "    validation_data=(X_val_pad, y_val_enc),\n",
    "    epochs=5,  # Train for more epochs with the best configuration\n",
    "    batch_size=32,  # Fixed for now\n",
    "    verbose=1\n",
    ")"
   ]
  },
  {
   "cell_type": "markdown",
   "id": "da3edbbf-5062-4ecc-8218-52614d30605d",
   "metadata": {},
   "source": [
    "### Evaluate the test set"
   ]
  },
  {
   "cell_type": "code",
   "execution_count": 32,
   "id": "9031021a-108e-4e24-a82b-4697d8b15bf2",
   "metadata": {},
   "outputs": [
    {
     "name": "stdout",
     "output_type": "stream",
     "text": [
      "741/741 [==============================] - 1s 1ms/step\n",
      "Test Accuracy:  0.8989\n",
      "Test Precision: 0.8985\n",
      "Test Recall:    0.8989\n",
      "Test F1-score:  0.8983\n",
      "\n",
      "Classification Report:\n",
      "              precision    recall  f1-score   support\n",
      "\n",
      "           0       0.87      0.82      0.84      5220\n",
      "           1       0.90      0.94      0.92      7889\n",
      "           2       0.91      0.91      0.91     10584\n",
      "\n",
      "    accuracy                           0.90     23693\n",
      "   macro avg       0.89      0.89      0.89     23693\n",
      "weighted avg       0.90      0.90      0.90     23693\n",
      "\n"
     ]
    },
    {
     "data": {
      "image/png": "[encoded data removed]",
      "text/plain": [
       "<Figure size 600x400 with 2 Axes>"
      ]
     },
     "metadata": {},
     "output_type": "display_data"
    }
   ],
   "source": [
    "# Predictions\n",
    "y_pred_probs = best_model.predict(X_test_pad)  # Use the best_model from hyperparameter tuning\n",
    "y_pred = np.argmax(y_pred_probs, axis=1)  # Convert probabilities to class predictions\n",
    "\n",
    "# Metrics\n",
    "accuracy = accuracy_score(y_test_enc, y_pred)\n",
    "precision = precision_score(y_test_enc, y_pred, average='weighted', zero_division=0)\n",
    "recall = recall_score(y_test_enc, y_pred, average='weighted', zero_division=0)\n",
    "f1 = f1_score(y_test_enc, y_pred, average='weighted', zero_division=0)\n",
    "\n",
    "print(\"Test Accuracy:  {:.4f}\".format(accuracy))\n",
    "print(\"Test Precision: {:.4f}\".format(precision))\n",
    "print(\"Test Recall:    {:.4f}\".format(recall))\n",
    "print(\"Test F1-score:  {:.4f}\".format(f1))\n",
    "\n",
    "# Classification Report\n",
    "print(\"\\nClassification Report:\")\n",
    "print(classification_report(y_test_enc, y_pred, zero_division=0))\n",
    "\n",
    "# Confusion Matrix\n",
    "cm = confusion_matrix(y_test_enc, y_pred)\n",
    "plt.figure(figsize=(6, 4))\n",
    "sns.heatmap(cm, annot=True, fmt='d', cmap='Greens', xticklabels=np.unique(y_test_enc), yticklabels=np.unique(y_test_enc))\n",
    "plt.title('CNN Confusion Matrix')\n",
    "plt.xlabel('Predicted')\n",
    "plt.ylabel('True')\n",
    "plt.show()"
   ]
  },
  {
   "cell_type": "markdown",
   "id": "cc0e2372-2ffc-4e10-a327-b3963deca047",
   "metadata": {},
   "source": [
    "### Plot Training History"
   ]
  },
  {
   "cell_type": "code",
   "execution_count": 33,
   "id": "82a3df35-fa44-4e96-8d53-0988b9478502",
   "metadata": {},
   "outputs": [
    {
     "data": {
      "image/png": "[encoded data removed]",
      "text/plain": [
       "<Figure size 1200x500 with 2 Axes>"
      ]
     },
     "metadata": {},
     "output_type": "display_data"
    }
   ],
   "source": [
    "def plot_training_history(history):\n",
    "    \"\"\"\n",
    "    Plots the accuracy and loss curves from the training history.\n",
    "    \"\"\"\n",
    "    # Accuracy\n",
    "    plt.figure(figsize=(12, 5))\n",
    "    \n",
    "    # Subplot 1: Accuracy\n",
    "    plt.subplot(1, 2, 1)\n",
    "    plt.plot(history.history['accuracy'], label='Train Accuracy', marker='o')\n",
    "    plt.plot(history.history['val_accuracy'], label='Val Accuracy', marker='o')\n",
    "    plt.title('Training & Validation Accuracy')\n",
    "    plt.xlabel('Epoch')\n",
    "    plt.ylabel('Accuracy')\n",
    "    plt.legend()\n",
    "    \n",
    "    # Subplot 2: Loss\n",
    "    plt.subplot(1, 2, 2)\n",
    "    plt.plot(history.history['loss'], label='Train Loss', marker='o')\n",
    "    plt.plot(history.history['val_loss'], label='Val Loss', marker='o')\n",
    "    plt.title('Training & Validation Loss')\n",
    "    plt.xlabel('Epoch')\n",
    "    plt.ylabel('Loss')\n",
    "    plt.legend()\n",
    "    \n",
    "    plt.tight_layout()\n",
    "    plt.show()\n",
    "\n",
    "plot_training_history(history)"
   ]
  },
  {
   "cell_type": "markdown",
   "id": "4229e1f5-458f-4169-9cf6-081b26c214f4",
   "metadata": {},
   "source": [
    "## RNN (Abandoned)"
   ]
  },
  {
   "cell_type": "code",
   "execution_count": null,
   "id": "1868f8fc-d0e2-4606-bb82-22bbb88f7504",
   "metadata": {},
   "outputs": [],
   "source": [
    "from tensorflow.keras.layers import Embedding, SimpleRNN, Dense, Dropout"
   ]
  },
  {
   "cell_type": "code",
   "execution_count": null,
   "id": "7563ab7e-3a63-4eff-9d75-46a812d01d76",
   "metadata": {},
   "outputs": [],
   "source": [
    "# Hyperparameters\n",
    "vocab_size    = 10000   # Should match the tokenizer.num_words if used\n",
    "embedding_dim = 100\n",
    "input_length  = X_train_pad.shape[1]  # The max_len used for padding\n",
    "num_classes   = len(np.unique(y_train_enc))"
   ]
  },
  {
   "cell_type": "code",
   "execution_count": 51,
   "id": "8c7675c8",
   "metadata": {},
   "outputs": [
    {
     "name": "stdout",
     "output_type": "stream",
     "text": [
      "3\n"
     ]
    }
   ],
   "source": [
    "print(num_classes)"
   ]
  },
  {
   "cell_type": "markdown",
   "id": "1ce047d3-5efc-41c7-a560-da5edd0a5818",
   "metadata": {},
   "source": [
    "### Build RNN Model "
   ]
  },
  {
   "cell_type": "code",
   "execution_count": null,
   "id": "7bdbae1a-caa9-4322-a7ec-3b09353f6f40",
   "metadata": {},
   "outputs": [],
   "source": [
    "def build_rnn_model(vocab_size, embedding_dim, input_length, num_classes):\n",
    "    \"\"\"\n",
    "    Build a simple RNN model for text classification.\n",
    "    :param vocab_size: size of vocabulary for embedding layer\n",
    "    :param embedding_dim: dimension of the embeddings\n",
    "    :param input_length: maximum length of input sequences\n",
    "    :param num_classes: number of output classes\n",
    "    :return: compiled Keras model\n",
    "    \"\"\"\n",
    "    model = Sequential()\n",
    "    model.add(Embedding(input_dim=vocab_size, \n",
    "                        output_dim=embedding_dim, \n",
    "                        input_length=input_length))\n",
    "    \n",
    "    # Simple Recurrent Layer\n",
    "    model.add(SimpleRNN(128, activation='relu'))  \n",
    "    # You can also try activation='tanh' or different units\n",
    "\n",
    "    model.add(Dropout(0.5))\n",
    "    model.add(Dense(64, activation='relu'))\n",
    "    \n",
    "    # Output layer\n",
    "    model.add(Dense(num_classes, activation='softmax'))\n",
    "    \n",
    "    model.compile(\n",
    "        loss='sparse_categorical_crossentropy',\n",
    "        optimizer=Adam(learning_rate=1e-3),\n",
    "        metrics=['accuracy']\n",
    "    )\n",
    "    return model"
   ]
  },
  {
   "cell_type": "markdown",
   "id": "da5ad350-10cc-405e-8a0c-77a0f221d71c",
   "metadata": {},
   "source": [
    "### Train the Model"
   ]
  },
  {
   "cell_type": "code",
   "execution_count": null,
   "id": "dbaec641-cb45-4837-b503-432a5786dea8",
   "metadata": {},
   "outputs": [],
   "source": [
    "rnn_model = build_rnn_model(vocab_size, embedding_dim, input_length, num_classes)\n",
    "rnn_model.build(input_shape=(None, input_length))\n",
    "print(rnn_model.summary())\n",
    "\n",
    "batch_size = 32\n",
    "epochs     = 5\n",
    "\n",
    "history_rnn = rnn_model.fit(\n",
    "    X_train_pad, \n",
    "    y_train_enc, \n",
    "    validation_data=(X_val_pad, y_val_enc),\n",
    "    batch_size=batch_size,\n",
    "    epochs=epochs,\n",
    "    verbose=1\n",
    ")\n"
   ]
  },
  {
   "cell_type": "markdown",
   "id": "2eddc095-9db7-40e3-a620-854ccdf0c3c7",
   "metadata": {},
   "source": [
    "### Evaluate on Test Set"
   ]
  },
  {
   "cell_type": "code",
   "execution_count": null,
   "id": "55dacf02-81db-493e-a06b-126084715105",
   "metadata": {},
   "outputs": [],
   "source": [
    "y_pred_probs_rnn = rnn_model.predict(X_test_pad)\n",
    "y_pred_rnn        = np.argmax(y_pred_probs_rnn, axis=1)\n",
    "\n",
    "# Calculate metrics\n",
    "accuracy_rnn  = accuracy_score(y_test_enc, y_pred_rnn)\n",
    "precision_rnn = precision_score(y_test_enc, y_pred_rnn, average='weighted', zero_division=0)\n",
    "recall_rnn    = recall_score(y_test_enc, y_pred_rnn, average='weighted', zero_division=0)\n",
    "f1_rnn        = f1_score(y_test_enc, y_pred_rnn, average='weighted', zero_division=0)\n",
    "\n",
    "print(\"RNN Test Accuracy:  {:.4f}\".format(accuracy_rnn))\n",
    "print(\"RNN Test Precision: {:.4f}\".format(precision_rnn))\n",
    "print(\"RNN Test Recall:    {:.4f}\".format(recall_rnn))\n",
    "print(\"RNN Test F1-score:  {:.4f}\".format(f1_rnn))\n",
    "\n",
    "print(\"\\nRNN Classification Report:\")\n",
    "print(classification_report(y_test_enc, y_pred_rnn, zero_division=0))\n",
    "\n",
    "# Confusion Matrix\n",
    "cm_rnn = confusion_matrix(y_test_enc, y_pred_rnn)\n",
    "plt.figure(figsize=(6,4))\n",
    "sns.heatmap(cm_rnn, annot=True, fmt='d', cmap='Blues')\n",
    "plt.title('RNN Confusion Matrix')\n",
    "plt.xlabel('Predicted')\n",
    "plt.ylabel('True')\n",
    "plt.show()"
   ]
  },
  {
   "cell_type": "markdown",
   "id": "3c77b0aa-4579-4011-9996-a7b554c474da",
   "metadata": {},
   "source": [
    "### Plot Training History"
   ]
  },
  {
   "cell_type": "code",
   "execution_count": null,
   "id": "0bf52ed8-3e1c-44a0-905b-e5dc8a8ebefb",
   "metadata": {},
   "outputs": [],
   "source": [
    "def plot_training_history_rnn(history):\n",
    "    \"\"\"\n",
    "    Plots the accuracy and loss curves from the RNN training history.\n",
    "    \"\"\"\n",
    "    plt.figure(figsize=(12, 5))\n",
    "    \n",
    "    # Subplot 1: Accuracy\n",
    "    plt.subplot(1, 2, 1)\n",
    "    plt.plot(history.history['accuracy'], label='Train Accuracy', marker='o')\n",
    "    plt.plot(history.history['val_accuracy'], label='Val Accuracy', marker='o')\n",
    "    plt.title('RNN: Training & Validation Accuracy')\n",
    "    plt.xlabel('Epoch')\n",
    "    plt.ylabel('Accuracy')\n",
    "    plt.legend()\n",
    "    \n",
    "    # Subplot 2: Loss\n",
    "    plt.subplot(1, 2, 2)\n",
    "    plt.plot(history.history['loss'], label='Train Loss', marker='o')\n",
    "    plt.plot(history.history['val_loss'], label='Val Loss', marker='o')\n",
    "    plt.title('RNN: Training & Validation Loss')\n",
    "    plt.xlabel('Epoch')\n",
    "    plt.ylabel('Loss')\n",
    "    plt.legend()\n",
    "\n",
    "    plt.tight_layout()\n",
    "    plt.show()\n",
    "\n",
    "plot_training_history_rnn(history_rnn)"
   ]
  },
  {
   "cell_type": "markdown",
   "id": "3ac8f923-8bca-4f35-a3ca-bd36e9fa49b7",
   "metadata": {},
   "source": [
    "## LSTM"
   ]
  },
  {
   "cell_type": "code",
   "execution_count": 52,
   "id": "e3780d42",
   "metadata": {},
   "outputs": [
    {
     "name": "stdout",
     "output_type": "stream",
     "text": [
      "Epoch 1/10\n",
      "3456/3456 [==============================] - 67s 19ms/step - loss: 1.0608 - accuracy: 0.4466 - val_loss: 1.0611 - val_accuracy: 0.4467\n",
      "Epoch 2/10\n",
      "3456/3456 [==============================] - 64s 19ms/step - loss: 1.0599 - accuracy: 0.4467 - val_loss: 1.0594 - val_accuracy: 0.4467\n",
      "Epoch 3/10\n",
      "3456/3456 [==============================] - 66s 19ms/step - loss: 1.0598 - accuracy: 0.4467 - val_loss: 1.0596 - val_accuracy: 0.4467\n",
      "Epoch 4/10\n",
      "3456/3456 [==============================] - 66s 19ms/step - loss: 1.0598 - accuracy: 0.4467 - val_loss: 1.0596 - val_accuracy: 0.4467\n",
      "Epoch 5/10\n",
      "3456/3456 [==============================] - 66s 19ms/step - loss: 1.0597 - accuracy: 0.4467 - val_loss: 1.0596 - val_accuracy: 0.4467\n",
      "Epoch 6/10\n",
      "3456/3456 [==============================] - 66s 19ms/step - loss: 1.0597 - accuracy: 0.4467 - val_loss: 1.0594 - val_accuracy: 0.4467\n",
      "Epoch 7/10\n",
      "3456/3456 [==============================] - 66s 19ms/step - loss: 1.0596 - accuracy: 0.4467 - val_loss: 1.0599 - val_accuracy: 0.4467\n",
      "Epoch 8/10\n",
      "3456/3456 [==============================] - 65s 19ms/step - loss: 1.0596 - accuracy: 0.4467 - val_loss: 1.0597 - val_accuracy: 0.4467\n",
      "Epoch 9/10\n",
      "3456/3456 [==============================] - 65s 19ms/step - loss: 1.0596 - accuracy: 0.4467 - val_loss: 1.0594 - val_accuracy: 0.4467\n",
      "Epoch 10/10\n",
      "3456/3456 [==============================] - 64s 18ms/step - loss: 1.0596 - accuracy: 0.4467 - val_loss: 1.0595 - val_accuracy: 0.4467\n"
     ]
    }
   ],
   "source": [
    "def build_lstm_model():\n",
    "    \"\"\"\n",
    "    Build an LSTM model with manually defined hyperparameters for text classification.\n",
    "    :return: Compiled Keras model\n",
    "    \"\"\"\n",
    "    model = Sequential()\n",
    "    \n",
    "    # Embedding layer with fixed embedding dimensions\n",
    "    model.add(Embedding(\n",
    "        input_dim=vocab_size,        # Vocabulary size\n",
    "        output_dim=128,             # Set embedding dimensions manually\n",
    "        input_length=input_length   # Input sequence length\n",
    "    ))\n",
    "    \n",
    "    # LSTM layer with fixed number of units\n",
    "    model.add(LSTM(\n",
    "        units=128,                  # Set LSTM units manually\n",
    "        return_sequences=False, \n",
    "        activation='tanh'           # Activation function\n",
    "    ))\n",
    "    \n",
    "    # Dropout layer with fixed dropout rate\n",
    "    model.add(Dropout(0.5))         # Set dropout rate manually\n",
    "\n",
    "    # Dense layer with fixed number of units\n",
    "    model.add(Dense(\n",
    "        units=64,                   # Set Dense layer units manually\n",
    "        activation='relu'           # Activation function\n",
    "    ))\n",
    "\n",
    "    # Output layer\n",
    "    model.add(Dense(num_classes, activation='softmax'))  # Softmax for multi-class classification\n",
    "    \n",
    "    # Compile the model with manually set learning rate\n",
    "    model.compile(\n",
    "        optimizer=Adam(learning_rate=0.001),  # Set learning rate manually\n",
    "        loss='sparse_categorical_crossentropy',  # Use sparse categorical crossentropy for integer labels\n",
    "        metrics=['accuracy']                   # Track accuracy\n",
    "    )\n",
    "    \n",
    "    return model\n",
    "\n",
    "# Build the model\n",
    "model = build_lstm_model()\n",
    "\n",
    "# Train the model\n",
    "history = model.fit(\n",
    "    X_train_pad, \n",
    "    y_train_enc, \n",
    "    validation_data=(X_val_pad, y_val_enc),\n",
    "    epochs=10,           # Set number of epochs manually\n",
    "    batch_size=32,       # Set batch size manually\n",
    "    verbose=1            # Show training progress\n",
    ")"
   ]
  },
  {
   "cell_type": "code",
   "execution_count": 34,
   "id": "b0b69984-35e5-440a-a244-9169bbb08e72",
   "metadata": {},
   "outputs": [],
   "source": [
    "from tensorflow.keras.models import Sequential\n",
    "from tensorflow.keras.layers import Embedding, LSTM, Dense, Dropout\n",
    "from tensorflow.keras.optimizers import Adam\n",
    "import keras_tuner as kt"
   ]
  },
  {
   "cell_type": "code",
   "execution_count": 43,
   "id": "5cc6b156-a724-446a-8669-2efa85fd6f81",
   "metadata": {},
   "outputs": [],
   "source": [
    "def build_lstm_model(hp):\n",
    "    \"\"\"\n",
    "    Build an LSTM model with tunable hyperparameters for text classification.\n",
    "    :param hp: Hyperparameter object from Keras Tuner\n",
    "    :return: Compiled Keras model\n",
    "    \"\"\"\n",
    "    model = Sequential()\n",
    "    \n",
    "    # Embedding layer with tunable embedding dimensions\n",
    "    model.add(Embedding(\n",
    "        input_dim=vocab_size,\n",
    "        output_dim=hp.Choice('embedding_dim', [50, 100, 200]),  # Tune embedding dimensions\n",
    "        input_length=input_length\n",
    "    ))\n",
    "    \n",
    "    # LSTM layer with tunable units\n",
    "    model.add(LSTM(\n",
    "        units=hp.Choice('lstm_units', [64, 128, 256]),  # Tune number of units in LSTM\n",
    "        return_sequences=False, \n",
    "        activation='tanh'\n",
    "    ))\n",
    "    \n",
    "    # Dropout layer with tunable dropout rate\n",
    "    model.add(Dropout(hp.Choice('dropout', [0.3, 0.5, 0.7])))\n",
    "\n",
    "    # Dense layer with tunable units\n",
    "    model.add(Dense(\n",
    "        units=hp.Choice('dense_units', [32, 64, 128]),  # Tune number of units in Dense layer\n",
    "        activation='relu'\n",
    "    ))\n",
    "\n",
    "    # Output layer\n",
    "    model.add(Dense(num_classes, activation='softmax'))\n",
    "    \n",
    "    # Compile the model with a tunable learning rate\n",
    "    model.compile(\n",
    "        optimizer=Adam(learning_rate=hp.Choice('learning_rate', [1e-2, 1e-3, 1e-4])),  # Tune learning rate\n",
    "        loss='sparse_categorical_crossentropy',\n",
    "        metrics=['accuracy']\n",
    "    )\n",
    "    \n",
    "    return model"
   ]
  },
  {
   "cell_type": "code",
   "execution_count": 44,
   "id": "a4af33fe",
   "metadata": {},
   "outputs": [],
   "source": [
    "import shutil\n",
    "\n",
    "# Define the tuner directory path\n",
    "tuner_results_dir = 'lstm_tuning_results/lstm_text_classification'\n",
    "\n",
    "# Delete the directory and its contents\n",
    "shutil.rmtree(tuner_results_dir, ignore_errors=True)\n"
   ]
  },
  {
   "cell_type": "markdown",
   "id": "ce0504e2-4faa-4f4a-8fae-3ebc73b92e89",
   "metadata": {},
   "source": [
    "### Initialize the Keras Tuner"
   ]
  },
  {
   "cell_type": "code",
   "execution_count": 45,
   "id": "942e4a6e-584f-432a-bf77-69c24ee26505",
   "metadata": {},
   "outputs": [],
   "source": [
    "# Initialize the tuner\n",
    "tuner = kt.RandomSearch(\n",
    "    build_lstm_model,  # Pass the model-building function\n",
    "    objective='val_accuracy',  # Optimize for validation accuracy\n",
    "    max_trials=10,  # Number of combinations to try\n",
    "    directory='lstm_tuning_results',  # Save tuning logs here\n",
    "    project_name='lstm_text_classification'  # Name of the project\n",
    ")"
   ]
  },
  {
   "cell_type": "markdown",
   "id": "9d587da7-c91d-42ba-850e-4c8d040ab2b5",
   "metadata": {},
   "source": [
    "### Hyperparameter Search"
   ]
  },
  {
   "cell_type": "code",
   "execution_count": 46,
   "id": "e63c4c1a-fc61-4287-8905-bd9a69d2aaf8",
   "metadata": {},
   "outputs": [
    {
     "name": "stdout",
     "output_type": "stream",
     "text": [
      "\n",
      "Search: Running Trial #1\n",
      "\n",
      "Value             |Best Value So Far |Hyperparameter\n",
      "200               |200               |embedding_dim\n",
      "64                |64                |lstm_units\n",
      "0.3               |0.3               |dropout\n",
      "64                |64                |dense_units\n",
      "0.01              |0.01              |learning_rate\n",
      "\n",
      "Epoch 1/5\n",
      "3456/3456 [==============================] - 50s 14ms/step - loss: 1.0606 - accuracy: 0.4462 - val_loss: 1.0607 - val_accuracy: 0.4467\n",
      "Epoch 2/5\n",
      " 253/3456 [=>............................] - ETA: 42s - loss: 1.0609 - accuracy: 0.4444"
     ]
    },
    {
     "ename": "KeyboardInterrupt",
     "evalue": "",
     "output_type": "error",
     "traceback": [
      "\u001b[1;31m---------------------------------------------------------------------------\u001b[0m",
      "\u001b[1;31mKeyboardInterrupt\u001b[0m                         Traceback (most recent call last)",
      "Cell \u001b[1;32mIn[46], line 2\u001b[0m\n\u001b[0;32m      1\u001b[0m \u001b[38;5;66;03m# Perform the hyperparameter search\u001b[39;00m\n\u001b[1;32m----> 2\u001b[0m \u001b[43mtuner\u001b[49m\u001b[38;5;241;43m.\u001b[39;49m\u001b[43msearch\u001b[49m\u001b[43m(\u001b[49m\n\u001b[0;32m      3\u001b[0m \u001b[43m    \u001b[49m\u001b[43mX_train_pad\u001b[49m\u001b[43m,\u001b[49m\u001b[43m \u001b[49m\n\u001b[0;32m      4\u001b[0m \u001b[43m    \u001b[49m\u001b[43my_train_enc\u001b[49m\u001b[43m,\u001b[49m\u001b[43m \u001b[49m\n\u001b[0;32m      5\u001b[0m \u001b[43m    \u001b[49m\u001b[43mvalidation_data\u001b[49m\u001b[38;5;241;43m=\u001b[39;49m\u001b[43m(\u001b[49m\u001b[43mX_val_pad\u001b[49m\u001b[43m,\u001b[49m\u001b[43m \u001b[49m\u001b[43my_val_enc\u001b[49m\u001b[43m)\u001b[49m\u001b[43m,\u001b[49m\n\u001b[0;32m      6\u001b[0m \u001b[43m    \u001b[49m\u001b[43mepochs\u001b[49m\u001b[38;5;241;43m=\u001b[39;49m\u001b[38;5;241;43m5\u001b[39;49m\u001b[43m,\u001b[49m\u001b[43m  \u001b[49m\u001b[38;5;66;43;03m# You can increase this for better tuning\u001b[39;49;00m\n\u001b[0;32m      7\u001b[0m \u001b[43m    \u001b[49m\u001b[43mbatch_size\u001b[49m\u001b[38;5;241;43m=\u001b[39;49m\u001b[38;5;241;43m32\u001b[39;49m\u001b[43m,\u001b[49m\u001b[43m  \u001b[49m\u001b[38;5;66;43;03m# Fixed batch size for now; can also tune this\u001b[39;49;00m\n\u001b[0;32m      8\u001b[0m \u001b[43m    \u001b[49m\u001b[43mverbose\u001b[49m\u001b[38;5;241;43m=\u001b[39;49m\u001b[38;5;241;43m1\u001b[39;49m\n\u001b[0;32m      9\u001b[0m \u001b[43m)\u001b[49m\n",
      "File \u001b[1;32mc:\\Users\\admin\\anaconda3\\envs\\GPU_based\\lib\\site-packages\\keras_tuner\\src\\engine\\base_tuner.py:234\u001b[0m, in \u001b[0;36mBaseTuner.search\u001b[1;34m(self, *fit_args, **fit_kwargs)\u001b[0m\n\u001b[0;32m    231\u001b[0m         \u001b[38;5;28;01mcontinue\u001b[39;00m\n\u001b[0;32m    233\u001b[0m     \u001b[38;5;28mself\u001b[39m\u001b[38;5;241m.\u001b[39mon_trial_begin(trial)\n\u001b[1;32m--> 234\u001b[0m     \u001b[38;5;28;43mself\u001b[39;49m\u001b[38;5;241;43m.\u001b[39;49m\u001b[43m_try_run_and_update_trial\u001b[49m\u001b[43m(\u001b[49m\u001b[43mtrial\u001b[49m\u001b[43m,\u001b[49m\u001b[43m \u001b[49m\u001b[38;5;241;43m*\u001b[39;49m\u001b[43mfit_args\u001b[49m\u001b[43m,\u001b[49m\u001b[43m \u001b[49m\u001b[38;5;241;43m*\u001b[39;49m\u001b[38;5;241;43m*\u001b[39;49m\u001b[43mfit_kwargs\u001b[49m\u001b[43m)\u001b[49m\n\u001b[0;32m    235\u001b[0m     \u001b[38;5;28mself\u001b[39m\u001b[38;5;241m.\u001b[39mon_trial_end(trial)\n\u001b[0;32m    236\u001b[0m \u001b[38;5;28mself\u001b[39m\u001b[38;5;241m.\u001b[39mon_search_end()\n",
      "File \u001b[1;32mc:\\Users\\admin\\anaconda3\\envs\\GPU_based\\lib\\site-packages\\keras_tuner\\src\\engine\\base_tuner.py:274\u001b[0m, in \u001b[0;36mBaseTuner._try_run_and_update_trial\u001b[1;34m(self, trial, *fit_args, **fit_kwargs)\u001b[0m\n\u001b[0;32m    272\u001b[0m \u001b[38;5;28;01mdef\u001b[39;00m \u001b[38;5;21m_try_run_and_update_trial\u001b[39m(\u001b[38;5;28mself\u001b[39m, trial, \u001b[38;5;241m*\u001b[39mfit_args, \u001b[38;5;241m*\u001b[39m\u001b[38;5;241m*\u001b[39mfit_kwargs):\n\u001b[0;32m    273\u001b[0m     \u001b[38;5;28;01mtry\u001b[39;00m:\n\u001b[1;32m--> 274\u001b[0m         \u001b[38;5;28;43mself\u001b[39;49m\u001b[38;5;241;43m.\u001b[39;49m\u001b[43m_run_and_update_trial\u001b[49m\u001b[43m(\u001b[49m\u001b[43mtrial\u001b[49m\u001b[43m,\u001b[49m\u001b[43m \u001b[49m\u001b[38;5;241;43m*\u001b[39;49m\u001b[43mfit_args\u001b[49m\u001b[43m,\u001b[49m\u001b[43m \u001b[49m\u001b[38;5;241;43m*\u001b[39;49m\u001b[38;5;241;43m*\u001b[39;49m\u001b[43mfit_kwargs\u001b[49m\u001b[43m)\u001b[49m\n\u001b[0;32m    275\u001b[0m         trial\u001b[38;5;241m.\u001b[39mstatus \u001b[38;5;241m=\u001b[39m trial_module\u001b[38;5;241m.\u001b[39mTrialStatus\u001b[38;5;241m.\u001b[39mCOMPLETED\n\u001b[0;32m    276\u001b[0m         \u001b[38;5;28;01mreturn\u001b[39;00m\n",
      "File \u001b[1;32mc:\\Users\\admin\\anaconda3\\envs\\GPU_based\\lib\\site-packages\\keras_tuner\\src\\engine\\base_tuner.py:239\u001b[0m, in \u001b[0;36mBaseTuner._run_and_update_trial\u001b[1;34m(self, trial, *fit_args, **fit_kwargs)\u001b[0m\n\u001b[0;32m    238\u001b[0m \u001b[38;5;28;01mdef\u001b[39;00m \u001b[38;5;21m_run_and_update_trial\u001b[39m(\u001b[38;5;28mself\u001b[39m, trial, \u001b[38;5;241m*\u001b[39mfit_args, \u001b[38;5;241m*\u001b[39m\u001b[38;5;241m*\u001b[39mfit_kwargs):\n\u001b[1;32m--> 239\u001b[0m     results \u001b[38;5;241m=\u001b[39m \u001b[38;5;28;43mself\u001b[39;49m\u001b[38;5;241;43m.\u001b[39;49m\u001b[43mrun_trial\u001b[49m\u001b[43m(\u001b[49m\u001b[43mtrial\u001b[49m\u001b[43m,\u001b[49m\u001b[43m \u001b[49m\u001b[38;5;241;43m*\u001b[39;49m\u001b[43mfit_args\u001b[49m\u001b[43m,\u001b[49m\u001b[43m \u001b[49m\u001b[38;5;241;43m*\u001b[39;49m\u001b[38;5;241;43m*\u001b[39;49m\u001b[43mfit_kwargs\u001b[49m\u001b[43m)\u001b[49m\n\u001b[0;32m    240\u001b[0m     \u001b[38;5;28;01mif\u001b[39;00m \u001b[38;5;28mself\u001b[39m\u001b[38;5;241m.\u001b[39moracle\u001b[38;5;241m.\u001b[39mget_trial(trial\u001b[38;5;241m.\u001b[39mtrial_id)\u001b[38;5;241m.\u001b[39mmetrics\u001b[38;5;241m.\u001b[39mexists(\n\u001b[0;32m    241\u001b[0m         \u001b[38;5;28mself\u001b[39m\u001b[38;5;241m.\u001b[39moracle\u001b[38;5;241m.\u001b[39mobjective\u001b[38;5;241m.\u001b[39mname\n\u001b[0;32m    242\u001b[0m     ):\n\u001b[0;32m    243\u001b[0m         \u001b[38;5;66;03m# The oracle is updated by calling `self.oracle.update_trial()` in\u001b[39;00m\n\u001b[0;32m    244\u001b[0m         \u001b[38;5;66;03m# `Tuner.run_trial()`. For backward compatibility, we support this\u001b[39;00m\n\u001b[0;32m    245\u001b[0m         \u001b[38;5;66;03m# use case. No further action needed in this case.\u001b[39;00m\n\u001b[0;32m    246\u001b[0m         warnings\u001b[38;5;241m.\u001b[39mwarn(\n\u001b[0;32m    247\u001b[0m             \u001b[38;5;124m\"\u001b[39m\u001b[38;5;124mThe use case of calling \u001b[39m\u001b[38;5;124m\"\u001b[39m\n\u001b[0;32m    248\u001b[0m             \u001b[38;5;124m\"\u001b[39m\u001b[38;5;124m`self.oracle.update_trial(trial_id, metrics)` \u001b[39m\u001b[38;5;124m\"\u001b[39m\n\u001b[1;32m   (...)\u001b[0m\n\u001b[0;32m    254\u001b[0m             stacklevel\u001b[38;5;241m=\u001b[39m\u001b[38;5;241m2\u001b[39m,\n\u001b[0;32m    255\u001b[0m         )\n",
      "File \u001b[1;32mc:\\Users\\admin\\anaconda3\\envs\\GPU_based\\lib\\site-packages\\keras_tuner\\src\\engine\\tuner.py:314\u001b[0m, in \u001b[0;36mTuner.run_trial\u001b[1;34m(self, trial, *args, **kwargs)\u001b[0m\n\u001b[0;32m    312\u001b[0m     callbacks\u001b[38;5;241m.\u001b[39mappend(model_checkpoint)\n\u001b[0;32m    313\u001b[0m     copied_kwargs[\u001b[38;5;124m\"\u001b[39m\u001b[38;5;124mcallbacks\u001b[39m\u001b[38;5;124m\"\u001b[39m] \u001b[38;5;241m=\u001b[39m callbacks\n\u001b[1;32m--> 314\u001b[0m     obj_value \u001b[38;5;241m=\u001b[39m \u001b[38;5;28;43mself\u001b[39;49m\u001b[38;5;241;43m.\u001b[39;49m\u001b[43m_build_and_fit_model\u001b[49m\u001b[43m(\u001b[49m\u001b[43mtrial\u001b[49m\u001b[43m,\u001b[49m\u001b[43m \u001b[49m\u001b[38;5;241;43m*\u001b[39;49m\u001b[43margs\u001b[49m\u001b[43m,\u001b[49m\u001b[43m \u001b[49m\u001b[38;5;241;43m*\u001b[39;49m\u001b[38;5;241;43m*\u001b[39;49m\u001b[43mcopied_kwargs\u001b[49m\u001b[43m)\u001b[49m\n\u001b[0;32m    316\u001b[0m     histories\u001b[38;5;241m.\u001b[39mappend(obj_value)\n\u001b[0;32m    317\u001b[0m \u001b[38;5;28;01mreturn\u001b[39;00m histories\n",
      "File \u001b[1;32mc:\\Users\\admin\\anaconda3\\envs\\GPU_based\\lib\\site-packages\\keras_tuner\\src\\engine\\tuner.py:233\u001b[0m, in \u001b[0;36mTuner._build_and_fit_model\u001b[1;34m(self, trial, *args, **kwargs)\u001b[0m\n\u001b[0;32m    231\u001b[0m hp \u001b[38;5;241m=\u001b[39m trial\u001b[38;5;241m.\u001b[39mhyperparameters\n\u001b[0;32m    232\u001b[0m model \u001b[38;5;241m=\u001b[39m \u001b[38;5;28mself\u001b[39m\u001b[38;5;241m.\u001b[39m_try_build(hp)\n\u001b[1;32m--> 233\u001b[0m results \u001b[38;5;241m=\u001b[39m \u001b[38;5;28;43mself\u001b[39;49m\u001b[38;5;241;43m.\u001b[39;49m\u001b[43mhypermodel\u001b[49m\u001b[38;5;241;43m.\u001b[39;49m\u001b[43mfit\u001b[49m\u001b[43m(\u001b[49m\u001b[43mhp\u001b[49m\u001b[43m,\u001b[49m\u001b[43m \u001b[49m\u001b[43mmodel\u001b[49m\u001b[43m,\u001b[49m\u001b[43m \u001b[49m\u001b[38;5;241;43m*\u001b[39;49m\u001b[43margs\u001b[49m\u001b[43m,\u001b[49m\u001b[43m \u001b[49m\u001b[38;5;241;43m*\u001b[39;49m\u001b[38;5;241;43m*\u001b[39;49m\u001b[43mkwargs\u001b[49m\u001b[43m)\u001b[49m\n\u001b[0;32m    235\u001b[0m \u001b[38;5;66;03m# Save the build config for model loading later.\u001b[39;00m\n\u001b[0;32m    236\u001b[0m \u001b[38;5;28;01mif\u001b[39;00m backend\u001b[38;5;241m.\u001b[39mconfig\u001b[38;5;241m.\u001b[39mmulti_backend():\n",
      "File \u001b[1;32mc:\\Users\\admin\\anaconda3\\envs\\GPU_based\\lib\\site-packages\\keras_tuner\\src\\engine\\hypermodel.py:149\u001b[0m, in \u001b[0;36mHyperModel.fit\u001b[1;34m(self, hp, model, *args, **kwargs)\u001b[0m\n\u001b[0;32m    125\u001b[0m \u001b[38;5;28;01mdef\u001b[39;00m \u001b[38;5;21mfit\u001b[39m(\u001b[38;5;28mself\u001b[39m, hp, model, \u001b[38;5;241m*\u001b[39margs, \u001b[38;5;241m*\u001b[39m\u001b[38;5;241m*\u001b[39mkwargs):\n\u001b[0;32m    126\u001b[0m \u001b[38;5;250m    \u001b[39m\u001b[38;5;124;03m\"\"\"Train the model.\u001b[39;00m\n\u001b[0;32m    127\u001b[0m \n\u001b[0;32m    128\u001b[0m \u001b[38;5;124;03m    Args:\u001b[39;00m\n\u001b[1;32m   (...)\u001b[0m\n\u001b[0;32m    147\u001b[0m \u001b[38;5;124;03m        If return a float, it should be the `objective` value.\u001b[39;00m\n\u001b[0;32m    148\u001b[0m \u001b[38;5;124;03m    \"\"\"\u001b[39;00m\n\u001b[1;32m--> 149\u001b[0m     \u001b[38;5;28;01mreturn\u001b[39;00m \u001b[43mmodel\u001b[49m\u001b[38;5;241;43m.\u001b[39;49m\u001b[43mfit\u001b[49m\u001b[43m(\u001b[49m\u001b[38;5;241;43m*\u001b[39;49m\u001b[43margs\u001b[49m\u001b[43m,\u001b[49m\u001b[43m \u001b[49m\u001b[38;5;241;43m*\u001b[39;49m\u001b[38;5;241;43m*\u001b[39;49m\u001b[43mkwargs\u001b[49m\u001b[43m)\u001b[49m\n",
      "File \u001b[1;32mc:\\Users\\admin\\anaconda3\\envs\\GPU_based\\lib\\site-packages\\keras\\utils\\traceback_utils.py:65\u001b[0m, in \u001b[0;36mfilter_traceback.<locals>.error_handler\u001b[1;34m(*args, **kwargs)\u001b[0m\n\u001b[0;32m     63\u001b[0m filtered_tb \u001b[38;5;241m=\u001b[39m \u001b[38;5;28;01mNone\u001b[39;00m\n\u001b[0;32m     64\u001b[0m \u001b[38;5;28;01mtry\u001b[39;00m:\n\u001b[1;32m---> 65\u001b[0m     \u001b[38;5;28;01mreturn\u001b[39;00m \u001b[43mfn\u001b[49m\u001b[43m(\u001b[49m\u001b[38;5;241;43m*\u001b[39;49m\u001b[43margs\u001b[49m\u001b[43m,\u001b[49m\u001b[43m \u001b[49m\u001b[38;5;241;43m*\u001b[39;49m\u001b[38;5;241;43m*\u001b[39;49m\u001b[43mkwargs\u001b[49m\u001b[43m)\u001b[49m\n\u001b[0;32m     66\u001b[0m \u001b[38;5;28;01mexcept\u001b[39;00m \u001b[38;5;167;01mException\u001b[39;00m \u001b[38;5;28;01mas\u001b[39;00m e:\n\u001b[0;32m     67\u001b[0m     filtered_tb \u001b[38;5;241m=\u001b[39m _process_traceback_frames(e\u001b[38;5;241m.\u001b[39m__traceback__)\n",
      "File \u001b[1;32mc:\\Users\\admin\\anaconda3\\envs\\GPU_based\\lib\\site-packages\\keras\\engine\\training.py:1564\u001b[0m, in \u001b[0;36mModel.fit\u001b[1;34m(self, x, y, batch_size, epochs, verbose, callbacks, validation_split, validation_data, shuffle, class_weight, sample_weight, initial_epoch, steps_per_epoch, validation_steps, validation_batch_size, validation_freq, max_queue_size, workers, use_multiprocessing)\u001b[0m\n\u001b[0;32m   1556\u001b[0m \u001b[38;5;28;01mwith\u001b[39;00m tf\u001b[38;5;241m.\u001b[39mprofiler\u001b[38;5;241m.\u001b[39mexperimental\u001b[38;5;241m.\u001b[39mTrace(\n\u001b[0;32m   1557\u001b[0m     \u001b[38;5;124m\"\u001b[39m\u001b[38;5;124mtrain\u001b[39m\u001b[38;5;124m\"\u001b[39m,\n\u001b[0;32m   1558\u001b[0m     epoch_num\u001b[38;5;241m=\u001b[39mepoch,\n\u001b[1;32m   (...)\u001b[0m\n\u001b[0;32m   1561\u001b[0m     _r\u001b[38;5;241m=\u001b[39m\u001b[38;5;241m1\u001b[39m,\n\u001b[0;32m   1562\u001b[0m ):\n\u001b[0;32m   1563\u001b[0m     callbacks\u001b[38;5;241m.\u001b[39mon_train_batch_begin(step)\n\u001b[1;32m-> 1564\u001b[0m     tmp_logs \u001b[38;5;241m=\u001b[39m \u001b[38;5;28;43mself\u001b[39;49m\u001b[38;5;241;43m.\u001b[39;49m\u001b[43mtrain_function\u001b[49m\u001b[43m(\u001b[49m\u001b[43miterator\u001b[49m\u001b[43m)\u001b[49m\n\u001b[0;32m   1565\u001b[0m     \u001b[38;5;28;01mif\u001b[39;00m data_handler\u001b[38;5;241m.\u001b[39mshould_sync:\n\u001b[0;32m   1566\u001b[0m         context\u001b[38;5;241m.\u001b[39masync_wait()\n",
      "File \u001b[1;32mc:\\Users\\admin\\anaconda3\\envs\\GPU_based\\lib\\site-packages\\tensorflow\\python\\util\\traceback_utils.py:150\u001b[0m, in \u001b[0;36mfilter_traceback.<locals>.error_handler\u001b[1;34m(*args, **kwargs)\u001b[0m\n\u001b[0;32m    148\u001b[0m filtered_tb \u001b[38;5;241m=\u001b[39m \u001b[38;5;28;01mNone\u001b[39;00m\n\u001b[0;32m    149\u001b[0m \u001b[38;5;28;01mtry\u001b[39;00m:\n\u001b[1;32m--> 150\u001b[0m   \u001b[38;5;28;01mreturn\u001b[39;00m \u001b[43mfn\u001b[49m\u001b[43m(\u001b[49m\u001b[38;5;241;43m*\u001b[39;49m\u001b[43margs\u001b[49m\u001b[43m,\u001b[49m\u001b[43m \u001b[49m\u001b[38;5;241;43m*\u001b[39;49m\u001b[38;5;241;43m*\u001b[39;49m\u001b[43mkwargs\u001b[49m\u001b[43m)\u001b[49m\n\u001b[0;32m    151\u001b[0m \u001b[38;5;28;01mexcept\u001b[39;00m \u001b[38;5;167;01mException\u001b[39;00m \u001b[38;5;28;01mas\u001b[39;00m e:\n\u001b[0;32m    152\u001b[0m   filtered_tb \u001b[38;5;241m=\u001b[39m _process_traceback_frames(e\u001b[38;5;241m.\u001b[39m__traceback__)\n",
      "File \u001b[1;32mc:\\Users\\admin\\anaconda3\\envs\\GPU_based\\lib\\site-packages\\tensorflow\\python\\eager\\def_function.py:915\u001b[0m, in \u001b[0;36mFunction.__call__\u001b[1;34m(self, *args, **kwds)\u001b[0m\n\u001b[0;32m    912\u001b[0m compiler \u001b[38;5;241m=\u001b[39m \u001b[38;5;124m\"\u001b[39m\u001b[38;5;124mxla\u001b[39m\u001b[38;5;124m\"\u001b[39m \u001b[38;5;28;01mif\u001b[39;00m \u001b[38;5;28mself\u001b[39m\u001b[38;5;241m.\u001b[39m_jit_compile \u001b[38;5;28;01melse\u001b[39;00m \u001b[38;5;124m\"\u001b[39m\u001b[38;5;124mnonXla\u001b[39m\u001b[38;5;124m\"\u001b[39m\n\u001b[0;32m    914\u001b[0m \u001b[38;5;28;01mwith\u001b[39;00m OptionalXlaContext(\u001b[38;5;28mself\u001b[39m\u001b[38;5;241m.\u001b[39m_jit_compile):\n\u001b[1;32m--> 915\u001b[0m   result \u001b[38;5;241m=\u001b[39m \u001b[38;5;28;43mself\u001b[39;49m\u001b[38;5;241;43m.\u001b[39;49m\u001b[43m_call\u001b[49m\u001b[43m(\u001b[49m\u001b[38;5;241;43m*\u001b[39;49m\u001b[43margs\u001b[49m\u001b[43m,\u001b[49m\u001b[43m \u001b[49m\u001b[38;5;241;43m*\u001b[39;49m\u001b[38;5;241;43m*\u001b[39;49m\u001b[43mkwds\u001b[49m\u001b[43m)\u001b[49m\n\u001b[0;32m    917\u001b[0m new_tracing_count \u001b[38;5;241m=\u001b[39m \u001b[38;5;28mself\u001b[39m\u001b[38;5;241m.\u001b[39mexperimental_get_tracing_count()\n\u001b[0;32m    918\u001b[0m without_tracing \u001b[38;5;241m=\u001b[39m (tracing_count \u001b[38;5;241m==\u001b[39m new_tracing_count)\n",
      "File \u001b[1;32mc:\\Users\\admin\\anaconda3\\envs\\GPU_based\\lib\\site-packages\\tensorflow\\python\\eager\\def_function.py:947\u001b[0m, in \u001b[0;36mFunction._call\u001b[1;34m(self, *args, **kwds)\u001b[0m\n\u001b[0;32m    944\u001b[0m   \u001b[38;5;28mself\u001b[39m\u001b[38;5;241m.\u001b[39m_lock\u001b[38;5;241m.\u001b[39mrelease()\n\u001b[0;32m    945\u001b[0m   \u001b[38;5;66;03m# In this case we have created variables on the first call, so we run the\u001b[39;00m\n\u001b[0;32m    946\u001b[0m   \u001b[38;5;66;03m# defunned version which is guaranteed to never create variables.\u001b[39;00m\n\u001b[1;32m--> 947\u001b[0m   \u001b[38;5;28;01mreturn\u001b[39;00m \u001b[38;5;28;43mself\u001b[39;49m\u001b[38;5;241;43m.\u001b[39;49m\u001b[43m_stateless_fn\u001b[49m\u001b[43m(\u001b[49m\u001b[38;5;241;43m*\u001b[39;49m\u001b[43margs\u001b[49m\u001b[43m,\u001b[49m\u001b[43m \u001b[49m\u001b[38;5;241;43m*\u001b[39;49m\u001b[38;5;241;43m*\u001b[39;49m\u001b[43mkwds\u001b[49m\u001b[43m)\u001b[49m  \u001b[38;5;66;03m# pylint: disable=not-callable\u001b[39;00m\n\u001b[0;32m    948\u001b[0m \u001b[38;5;28;01melif\u001b[39;00m \u001b[38;5;28mself\u001b[39m\u001b[38;5;241m.\u001b[39m_stateful_fn \u001b[38;5;129;01mis\u001b[39;00m \u001b[38;5;129;01mnot\u001b[39;00m \u001b[38;5;28;01mNone\u001b[39;00m:\n\u001b[0;32m    949\u001b[0m   \u001b[38;5;66;03m# Release the lock early so that multiple threads can perform the call\u001b[39;00m\n\u001b[0;32m    950\u001b[0m   \u001b[38;5;66;03m# in parallel.\u001b[39;00m\n\u001b[0;32m    951\u001b[0m   \u001b[38;5;28mself\u001b[39m\u001b[38;5;241m.\u001b[39m_lock\u001b[38;5;241m.\u001b[39mrelease()\n",
      "File \u001b[1;32mc:\\Users\\admin\\anaconda3\\envs\\GPU_based\\lib\\site-packages\\tensorflow\\python\\eager\\function.py:2496\u001b[0m, in \u001b[0;36mFunction.__call__\u001b[1;34m(self, *args, **kwargs)\u001b[0m\n\u001b[0;32m   2493\u001b[0m \u001b[38;5;28;01mwith\u001b[39;00m \u001b[38;5;28mself\u001b[39m\u001b[38;5;241m.\u001b[39m_lock:\n\u001b[0;32m   2494\u001b[0m   (graph_function,\n\u001b[0;32m   2495\u001b[0m    filtered_flat_args) \u001b[38;5;241m=\u001b[39m \u001b[38;5;28mself\u001b[39m\u001b[38;5;241m.\u001b[39m_maybe_define_function(args, kwargs)\n\u001b[1;32m-> 2496\u001b[0m \u001b[38;5;28;01mreturn\u001b[39;00m \u001b[43mgraph_function\u001b[49m\u001b[38;5;241;43m.\u001b[39;49m\u001b[43m_call_flat\u001b[49m\u001b[43m(\u001b[49m\n\u001b[0;32m   2497\u001b[0m \u001b[43m    \u001b[49m\u001b[43mfiltered_flat_args\u001b[49m\u001b[43m,\u001b[49m\u001b[43m \u001b[49m\u001b[43mcaptured_inputs\u001b[49m\u001b[38;5;241;43m=\u001b[39;49m\u001b[43mgraph_function\u001b[49m\u001b[38;5;241;43m.\u001b[39;49m\u001b[43mcaptured_inputs\u001b[49m\u001b[43m)\u001b[49m\n",
      "File \u001b[1;32mc:\\Users\\admin\\anaconda3\\envs\\GPU_based\\lib\\site-packages\\tensorflow\\python\\eager\\function.py:1862\u001b[0m, in \u001b[0;36mConcreteFunction._call_flat\u001b[1;34m(self, args, captured_inputs, cancellation_manager)\u001b[0m\n\u001b[0;32m   1858\u001b[0m possible_gradient_type \u001b[38;5;241m=\u001b[39m gradients_util\u001b[38;5;241m.\u001b[39mPossibleTapeGradientTypes(args)\n\u001b[0;32m   1859\u001b[0m \u001b[38;5;28;01mif\u001b[39;00m (possible_gradient_type \u001b[38;5;241m==\u001b[39m gradients_util\u001b[38;5;241m.\u001b[39mPOSSIBLE_GRADIENT_TYPES_NONE\n\u001b[0;32m   1860\u001b[0m     \u001b[38;5;129;01mand\u001b[39;00m executing_eagerly):\n\u001b[0;32m   1861\u001b[0m   \u001b[38;5;66;03m# No tape is watching; skip to running the function.\u001b[39;00m\n\u001b[1;32m-> 1862\u001b[0m   \u001b[38;5;28;01mreturn\u001b[39;00m \u001b[38;5;28mself\u001b[39m\u001b[38;5;241m.\u001b[39m_build_call_outputs(\u001b[38;5;28;43mself\u001b[39;49m\u001b[38;5;241;43m.\u001b[39;49m\u001b[43m_inference_function\u001b[49m\u001b[38;5;241;43m.\u001b[39;49m\u001b[43mcall\u001b[49m\u001b[43m(\u001b[49m\n\u001b[0;32m   1863\u001b[0m \u001b[43m      \u001b[49m\u001b[43mctx\u001b[49m\u001b[43m,\u001b[49m\u001b[43m \u001b[49m\u001b[43margs\u001b[49m\u001b[43m,\u001b[49m\u001b[43m \u001b[49m\u001b[43mcancellation_manager\u001b[49m\u001b[38;5;241;43m=\u001b[39;49m\u001b[43mcancellation_manager\u001b[49m\u001b[43m)\u001b[49m)\n\u001b[0;32m   1864\u001b[0m forward_backward \u001b[38;5;241m=\u001b[39m \u001b[38;5;28mself\u001b[39m\u001b[38;5;241m.\u001b[39m_select_forward_and_backward_functions(\n\u001b[0;32m   1865\u001b[0m     args,\n\u001b[0;32m   1866\u001b[0m     possible_gradient_type,\n\u001b[0;32m   1867\u001b[0m     executing_eagerly)\n\u001b[0;32m   1868\u001b[0m forward_function, args_with_tangents \u001b[38;5;241m=\u001b[39m forward_backward\u001b[38;5;241m.\u001b[39mforward()\n",
      "File \u001b[1;32mc:\\Users\\admin\\anaconda3\\envs\\GPU_based\\lib\\site-packages\\tensorflow\\python\\eager\\function.py:499\u001b[0m, in \u001b[0;36m_EagerDefinedFunction.call\u001b[1;34m(self, ctx, args, cancellation_manager)\u001b[0m\n\u001b[0;32m    497\u001b[0m \u001b[38;5;28;01mwith\u001b[39;00m _InterpolateFunctionError(\u001b[38;5;28mself\u001b[39m):\n\u001b[0;32m    498\u001b[0m   \u001b[38;5;28;01mif\u001b[39;00m cancellation_manager \u001b[38;5;129;01mis\u001b[39;00m \u001b[38;5;28;01mNone\u001b[39;00m:\n\u001b[1;32m--> 499\u001b[0m     outputs \u001b[38;5;241m=\u001b[39m \u001b[43mexecute\u001b[49m\u001b[38;5;241;43m.\u001b[39;49m\u001b[43mexecute\u001b[49m\u001b[43m(\u001b[49m\n\u001b[0;32m    500\u001b[0m \u001b[43m        \u001b[49m\u001b[38;5;28;43mstr\u001b[39;49m\u001b[43m(\u001b[49m\u001b[38;5;28;43mself\u001b[39;49m\u001b[38;5;241;43m.\u001b[39;49m\u001b[43msignature\u001b[49m\u001b[38;5;241;43m.\u001b[39;49m\u001b[43mname\u001b[49m\u001b[43m)\u001b[49m\u001b[43m,\u001b[49m\n\u001b[0;32m    501\u001b[0m \u001b[43m        \u001b[49m\u001b[43mnum_outputs\u001b[49m\u001b[38;5;241;43m=\u001b[39;49m\u001b[38;5;28;43mself\u001b[39;49m\u001b[38;5;241;43m.\u001b[39;49m\u001b[43m_num_outputs\u001b[49m\u001b[43m,\u001b[49m\n\u001b[0;32m    502\u001b[0m \u001b[43m        \u001b[49m\u001b[43minputs\u001b[49m\u001b[38;5;241;43m=\u001b[39;49m\u001b[43margs\u001b[49m\u001b[43m,\u001b[49m\n\u001b[0;32m    503\u001b[0m \u001b[43m        \u001b[49m\u001b[43mattrs\u001b[49m\u001b[38;5;241;43m=\u001b[39;49m\u001b[43mattrs\u001b[49m\u001b[43m,\u001b[49m\n\u001b[0;32m    504\u001b[0m \u001b[43m        \u001b[49m\u001b[43mctx\u001b[49m\u001b[38;5;241;43m=\u001b[39;49m\u001b[43mctx\u001b[49m\u001b[43m)\u001b[49m\n\u001b[0;32m    505\u001b[0m   \u001b[38;5;28;01melse\u001b[39;00m:\n\u001b[0;32m    506\u001b[0m     outputs \u001b[38;5;241m=\u001b[39m execute\u001b[38;5;241m.\u001b[39mexecute_with_cancellation(\n\u001b[0;32m    507\u001b[0m         \u001b[38;5;28mstr\u001b[39m(\u001b[38;5;28mself\u001b[39m\u001b[38;5;241m.\u001b[39msignature\u001b[38;5;241m.\u001b[39mname),\n\u001b[0;32m    508\u001b[0m         num_outputs\u001b[38;5;241m=\u001b[39m\u001b[38;5;28mself\u001b[39m\u001b[38;5;241m.\u001b[39m_num_outputs,\n\u001b[1;32m   (...)\u001b[0m\n\u001b[0;32m    511\u001b[0m         ctx\u001b[38;5;241m=\u001b[39mctx,\n\u001b[0;32m    512\u001b[0m         cancellation_manager\u001b[38;5;241m=\u001b[39mcancellation_manager)\n",
      "File \u001b[1;32mc:\\Users\\admin\\anaconda3\\envs\\GPU_based\\lib\\site-packages\\tensorflow\\python\\eager\\execute.py:54\u001b[0m, in \u001b[0;36mquick_execute\u001b[1;34m(op_name, num_outputs, inputs, attrs, ctx, name)\u001b[0m\n\u001b[0;32m     52\u001b[0m \u001b[38;5;28;01mtry\u001b[39;00m:\n\u001b[0;32m     53\u001b[0m   ctx\u001b[38;5;241m.\u001b[39mensure_initialized()\n\u001b[1;32m---> 54\u001b[0m   tensors \u001b[38;5;241m=\u001b[39m \u001b[43mpywrap_tfe\u001b[49m\u001b[38;5;241;43m.\u001b[39;49m\u001b[43mTFE_Py_Execute\u001b[49m\u001b[43m(\u001b[49m\u001b[43mctx\u001b[49m\u001b[38;5;241;43m.\u001b[39;49m\u001b[43m_handle\u001b[49m\u001b[43m,\u001b[49m\u001b[43m \u001b[49m\u001b[43mdevice_name\u001b[49m\u001b[43m,\u001b[49m\u001b[43m \u001b[49m\u001b[43mop_name\u001b[49m\u001b[43m,\u001b[49m\n\u001b[0;32m     55\u001b[0m \u001b[43m                                      \u001b[49m\u001b[43minputs\u001b[49m\u001b[43m,\u001b[49m\u001b[43m \u001b[49m\u001b[43mattrs\u001b[49m\u001b[43m,\u001b[49m\u001b[43m \u001b[49m\u001b[43mnum_outputs\u001b[49m\u001b[43m)\u001b[49m\n\u001b[0;32m     56\u001b[0m \u001b[38;5;28;01mexcept\u001b[39;00m core\u001b[38;5;241m.\u001b[39m_NotOkStatusException \u001b[38;5;28;01mas\u001b[39;00m e:\n\u001b[0;32m     57\u001b[0m   \u001b[38;5;28;01mif\u001b[39;00m name \u001b[38;5;129;01mis\u001b[39;00m \u001b[38;5;129;01mnot\u001b[39;00m \u001b[38;5;28;01mNone\u001b[39;00m:\n",
      "\u001b[1;31mKeyboardInterrupt\u001b[0m: "
     ]
    }
   ],
   "source": [
    "# Perform the hyperparameter search\n",
    "tuner.search(\n",
    "    X_train_pad, \n",
    "    y_train_enc, \n",
    "    validation_data=(X_val_pad, y_val_enc),\n",
    "    epochs=5,  # You can increase this for better tuning\n",
    "    batch_size=32,  # Fixed batch size for now; can also tune this\n",
    "    verbose=1\n",
    ")"
   ]
  },
  {
   "cell_type": "code",
   "execution_count": 38,
   "id": "4eae7908",
   "metadata": {},
   "outputs": [
    {
     "name": "stdout",
     "output_type": "stream",
     "text": [
      "Best Embedding Dimension: 50\n",
      "Best LSTM Units: 128\n",
      "Best Dense Units: 128\n",
      "Best Dropout Rate: 0.3\n",
      "Best Learning Rate: 0.0001\n"
     ]
    }
   ],
   "source": [
    "best_hps = tuner.get_best_hyperparameters(num_trials=1)[0]\n",
    "\n",
    "print(f\"Best Embedding Dimension: {best_hps.get('embedding_dim')}\")\n",
    "print(f\"Best LSTM Units: {best_hps.get('lstm_units')}\")\n",
    "print(f\"Best Dense Units: {best_hps.get('dense_units')}\")\n",
    "print(f\"Best Dropout Rate: {best_hps.get('dropout')}\")\n",
    "print(f\"Best Learning Rate: {best_hps.get('learning_rate')}\")"
   ]
  },
  {
   "cell_type": "markdown",
   "id": "25040ff7-8100-4dee-a376-3dee768650d0",
   "metadata": {},
   "source": [
    "### Train the model"
   ]
  },
  {
   "cell_type": "code",
   "execution_count": null,
   "id": "7f3de74f-6762-475d-aaa2-54bb6a7f81f9",
   "metadata": {},
   "outputs": [],
   "source": [
    "best_model = tuner.hypermodel.build(best_hps)\n",
    "\n",
    "# Train the best model\n",
    "history = best_model.fit(\n",
    "    X_train_pad, \n",
    "    y_train_enc,\n",
    "    validation_data=(X_val_pad, y_val_enc),\n",
    "    epochs=5,  # Train for more epochs with the best configuration\n",
    "    batch_size=32,  # Fixed for now\n",
    "    verbose=1\n",
    ")"
   ]
  },
  {
   "cell_type": "markdown",
   "id": "0f2983bb-3ba2-441c-a4a9-693da84aaf9b",
   "metadata": {},
   "source": [
    "### Evaluate the test set"
   ]
  },
  {
   "cell_type": "code",
   "execution_count": null,
   "id": "00de78b9-bd7e-4a5c-a935-4c604841f590",
   "metadata": {},
   "outputs": [],
   "source": [
    "# Predictions\n",
    "y_pred_probs = best_model.predict(X_test_pad)  # Use the best_model from hyperparameter tuning\n",
    "y_pred = np.argmax(y_pred_probs, axis=1)  # Convert probabilities to class predictions\n",
    "\n",
    "# Metrics\n",
    "accuracy = accuracy_score(y_test_enc, y_pred)\n",
    "precision = precision_score(y_test_enc, y_pred, average='weighted', zero_division=0)\n",
    "recall = recall_score(y_test_enc, y_pred, average='weighted', zero_division=0)\n",
    "f1 = f1_score(y_test_enc, y_pred, average='weighted', zero_division=0)\n",
    "\n",
    "print(\"Test Accuracy:  {:.4f}\".format(accuracy))\n",
    "print(\"Test Precision: {:.4f}\".format(precision))\n",
    "print(\"Test Recall:    {:.4f}\".format(recall))\n",
    "print(\"Test F1-score:  {:.4f}\".format(f1))\n",
    "\n",
    "# Classification Report\n",
    "print(\"\\nClassification Report:\")\n",
    "print(classification_report(y_test_enc, y_pred, zero_division=0))\n",
    "\n",
    "# Confusion Matrix\n",
    "cm = confusion_matrix(y_test_enc, y_pred)\n",
    "plt.figure(figsize=(6, 4))\n",
    "sns.heatmap(cm, annot=True, fmt='d', cmap='Greens', xticklabels=np.unique(y_test_enc), yticklabels=np.unique(y_test_enc))\n",
    "plt.title('LSTM Confusion Matrix')\n",
    "plt.xlabel('Predicted')\n",
    "plt.ylabel('True')\n",
    "plt.show()"
   ]
  },
  {
   "cell_type": "markdown",
   "id": "afbf0d60-99dd-42d7-ab4b-45a3731b8f74",
   "metadata": {},
   "source": [
    "### Plot the training history"
   ]
  },
  {
   "cell_type": "code",
   "execution_count": null,
   "id": "71353c9c-7bec-4f0a-9b15-e9f65f243e26",
   "metadata": {},
   "outputs": [],
   "source": [
    "def plot_training_history(history):\n",
    "    \"\"\"\n",
    "    Plots the accuracy and loss curves from the training history.\n",
    "    \"\"\"\n",
    "    # Accuracy\n",
    "    plt.figure(figsize=(12, 5))\n",
    "    \n",
    "    # Subplot 1: Accuracy\n",
    "    plt.subplot(1, 2, 1)\n",
    "    plt.plot(history.history['accuracy'], label='Train Accuracy', marker='o')\n",
    "    plt.plot(history.history['val_accuracy'], label='Val Accuracy', marker='o')\n",
    "    plt.title('Training & Validation Accuracy')\n",
    "    plt.xlabel('Epoch')\n",
    "    plt.ylabel('Accuracy')\n",
    "    plt.legend()\n",
    "    \n",
    "    # Subplot 2: Loss\n",
    "    plt.subplot(1, 2, 2)\n",
    "    plt.plot(history.history['loss'], label='Train Loss', marker='o')\n",
    "    plt.plot(history.history['val_loss'], label='Val Loss', marker='o')\n",
    "    plt.title('Training & Validation Loss')\n",
    "    plt.xlabel('Epoch')\n",
    "    plt.ylabel('Loss')\n",
    "    plt.legend()\n",
    "    \n",
    "    plt.tight_layout()\n",
    "    plt.show()\n",
    "\n",
    "plot_training_history(history)"
   ]
  },
  {
   "cell_type": "markdown",
   "id": "8c615917",
   "metadata": {},
   "source": [
    "## Bert"
   ]
  },
  {
   "cell_type": "code",
   "execution_count": 7,
   "id": "8d1b3f38",
   "metadata": {},
   "outputs": [
    {
     "name": "stdout",
     "output_type": "stream",
     "text": [
      "Collecting transformers\n",
      "  Using cached transformers-4.48.1-py3-none-any.whl.metadata (44 kB)\n",
      "Collecting filelock (from transformers)\n",
      "  Downloading filelock-3.17.0-py3-none-any.whl.metadata (2.9 kB)\n",
      "Collecting huggingface-hub<1.0,>=0.24.0 (from transformers)\n",
      "  Using cached huggingface_hub-0.27.1-py3-none-any.whl.metadata (13 kB)\n",
      "Requirement already satisfied: numpy>=1.17 in c:\\users\\admin\\anaconda3\\envs\\test\\lib\\site-packages (from transformers) (2.2.2)\n",
      "Requirement already satisfied: packaging>=20.0 in c:\\users\\admin\\anaconda3\\envs\\test\\lib\\site-packages (from transformers) (24.2)\n",
      "Collecting pyyaml>=5.1 (from transformers)\n",
      "  Downloading PyYAML-6.0.2-cp313-cp313-win_amd64.whl.metadata (2.1 kB)\n",
      "Requirement already satisfied: regex!=2019.12.17 in c:\\users\\admin\\anaconda3\\envs\\test\\lib\\site-packages (from transformers) (2024.11.6)\n",
      "Requirement already satisfied: requests in c:\\users\\admin\\anaconda3\\envs\\test\\lib\\site-packages (from transformers) (2.32.3)\n",
      "Collecting tokenizers<0.22,>=0.21 (from transformers)\n",
      "  Using cached tokenizers-0.21.0-cp39-abi3-win_amd64.whl.metadata (6.9 kB)\n",
      "Collecting safetensors>=0.4.1 (from transformers)\n",
      "  Using cached safetensors-0.5.2-cp38-abi3-win_amd64.whl.metadata (3.9 kB)\n",
      "Requirement already satisfied: tqdm>=4.27 in c:\\users\\admin\\anaconda3\\envs\\test\\lib\\site-packages (from transformers) (4.67.1)\n",
      "Collecting fsspec>=2023.5.0 (from huggingface-hub<1.0,>=0.24.0->transformers)\n",
      "  Downloading fsspec-2024.12.0-py3-none-any.whl.metadata (11 kB)\n",
      "Requirement already satisfied: typing-extensions>=3.7.4.3 in c:\\users\\admin\\anaconda3\\envs\\test\\lib\\site-packages (from huggingface-hub<1.0,>=0.24.0->transformers) (4.12.2)\n",
      "Requirement already satisfied: colorama in c:\\users\\admin\\anaconda3\\envs\\test\\lib\\site-packages (from tqdm>=4.27->transformers) (0.4.6)\n",
      "Requirement already satisfied: charset-normalizer<4,>=2 in c:\\users\\admin\\anaconda3\\envs\\test\\lib\\site-packages (from requests->transformers) (3.4.1)\n",
      "Requirement already satisfied: idna<4,>=2.5 in c:\\users\\admin\\anaconda3\\envs\\test\\lib\\site-packages (from requests->transformers) (3.10)\n",
      "Requirement already satisfied: urllib3<3,>=1.21.1 in c:\\users\\admin\\anaconda3\\envs\\test\\lib\\site-packages (from requests->transformers) (2.3.0)\n",
      "Requirement already satisfied: certifi>=2017.4.17 in c:\\users\\admin\\anaconda3\\envs\\test\\lib\\site-packages (from requests->transformers) (2024.12.14)\n",
      "Downloading transformers-4.48.1-py3-none-any.whl (9.7 MB)\n",
      "   ---------------------------------------- 0.0/9.7 MB ? eta -:--:--\n",
      "   ---- ----------------------------------- 1.0/9.7 MB 6.5 MB/s eta 0:00:02\n",
      "   ---------- ----------------------------- 2.6/9.7 MB 7.0 MB/s eta 0:00:02\n",
      "   ------------------ --------------------- 4.5/9.7 MB 7.6 MB/s eta 0:00:01\n",
      "   -------------------------- ------------- 6.3/9.7 MB 8.0 MB/s eta 0:00:01\n",
      "   --------------------------------- ------ 8.1/9.7 MB 8.3 MB/s eta 0:00:01\n",
      "   ---------------------------------------- 9.7/9.7 MB 8.5 MB/s eta 0:00:00\n",
      "Using cached huggingface_hub-0.27.1-py3-none-any.whl (450 kB)\n",
      "Downloading PyYAML-6.0.2-cp313-cp313-win_amd64.whl (156 kB)\n",
      "Using cached safetensors-0.5.2-cp38-abi3-win_amd64.whl (303 kB)\n",
      "Using cached tokenizers-0.21.0-cp39-abi3-win_amd64.whl (2.4 MB)\n",
      "Downloading filelock-3.17.0-py3-none-any.whl (16 kB)\n",
      "Downloading fsspec-2024.12.0-py3-none-any.whl (183 kB)\n",
      "Installing collected packages: safetensors, pyyaml, fsspec, filelock, huggingface-hub, tokenizers, transformers\n",
      "Successfully installed filelock-3.17.0 fsspec-2024.12.0 huggingface-hub-0.27.1 pyyaml-6.0.2 safetensors-0.5.2 tokenizers-0.21.0 transformers-4.48.1\n",
      "Note: you may need to restart the kernel to use updated packages.\n"
     ]
    }
   ],
   "source": [
    "pip install transformers"
   ]
  },
  {
   "cell_type": "markdown",
   "id": "89f3879f",
   "metadata": {},
   "source": [
    "### Prepare the Data for BERT"
   ]
  },
  {
   "cell_type": "code",
   "execution_count": 68,
   "id": "320a2769",
   "metadata": {},
   "outputs": [],
   "source": [
    "from transformers import BertTokenizer\n",
    "import tensorflow as tf\n",
    "\n",
    "# Load BERT tokenizer\n",
    "bert_tokenizer = BertTokenizer.from_pretrained('bert-base-uncased')\n",
    "\n",
    "# Tokenize texts and prepare input for BERT\n",
    "def prepare_bert_inputs(texts, tokenizer, max_len):\n",
    "    inputs = tokenizer(\n",
    "        texts,\n",
    "        max_length=max_len,\n",
    "        padding='max_length',\n",
    "        truncation=True,\n",
    "        return_tensors=\"tf\"\n",
    "    )\n",
    "    return inputs['input_ids'], inputs['attention_mask']\n",
    "\n",
    "# Convert your data into BERT-compatible inputs\n",
    "X_train_input_ids, X_train_attention_masks = prepare_bert_inputs(X_train_texts, bert_tokenizer, max_len)\n",
    "X_val_input_ids, X_val_attention_masks = prepare_bert_inputs(X_val_texts, bert_tokenizer, max_len)\n",
    "X_test_input_ids, X_test_attention_masks = prepare_bert_inputs(X_test_texts, bert_tokenizer, max_len)\n",
    "\n",
    "# Ensure labels are integers\n",
    "if y_train.dtype != int:\n",
    "    y_train_enc = y_train_enc\n",
    "    y_val_enc = y_val_enc\n",
    "    y_test_enc = y_test_enc\n",
    "else:\n",
    "    y_train_enc, y_val_enc, y_test_enc = y_train, y_val, y_test"
   ]
  },
  {
   "cell_type": "markdown",
   "id": "ec6699d5",
   "metadata": {},
   "source": [
    "### Load Pretrained BERT Model"
   ]
  },
  {
   "cell_type": "code",
   "execution_count": 69,
   "id": "d575b030",
   "metadata": {},
   "outputs": [
    {
     "name": "stderr",
     "output_type": "stream",
     "text": [
      "All PyTorch model weights were used when initializing TFBertForSequenceClassification.\n",
      "\n",
      "Some weights or buffers of the TF 2.0 model TFBertForSequenceClassification were not initialized from the PyTorch model and are newly initialized: ['classifier.weight', 'classifier.bias']\n",
      "You should probably TRAIN this model on a down-stream task to be able to use it for predictions and inference.\n"
     ]
    }
   ],
   "source": [
    "from transformers import TFBertForSequenceClassification\n",
    "\n",
    "# Define the BERT model for sequence classification\n",
    "num_labels = len(set(y_train_enc.numpy()))  # Number of unique classes\n",
    "bert_model = TFBertForSequenceClassification.from_pretrained('bert-base-uncased', num_labels=num_labels)"
   ]
  },
  {
   "cell_type": "markdown",
   "id": "43522dc3",
   "metadata": {},
   "source": [
    "### Compile and Train the Model"
   ]
  },
  {
   "cell_type": "code",
   "execution_count": null,
   "id": "9723d7f7",
   "metadata": {},
   "outputs": [
    {
     "name": "stdout",
     "output_type": "stream",
     "text": [
      "Epoch 1/3\n"
     ]
    },
    {
     "ename": "AttributeError",
     "evalue": "in user code:\n\n    File \"c:\\Users\\admin\\anaconda3\\envs\\GPU_based\\lib\\site-packages\\keras\\engine\\training.py\", line 1160, in train_function  *\n        return step_function(self, iterator)\n    File \"c:\\Users\\admin\\anaconda3\\envs\\GPU_based\\lib\\site-packages\\keras\\engine\\training.py\", line 1146, in step_function  **\n        outputs = model.distribute_strategy.run(run_step, args=(data,))\n    File \"c:\\Users\\admin\\anaconda3\\envs\\GPU_based\\lib\\site-packages\\keras\\engine\\training.py\", line 1135, in run_step  **\n        outputs = model.train_step(data)\n    File \"c:\\Users\\admin\\anaconda3\\envs\\GPU_based\\lib\\site-packages\\transformers\\modeling_tf_utils.py\", line 1630, in train_step\n        y_pred = y_pred[1]\n\n    AttributeError: module 'keras.utils' has no attribute 'unpack_x_y_sample_weight'\n",
     "output_type": "error",
     "traceback": [
      "\u001b[1;31m---------------------------------------------------------------------------\u001b[0m",
      "\u001b[1;31mAttributeError\u001b[0m                            Traceback (most recent call last)",
      "Cell \u001b[1;32mIn[70], line 9\u001b[0m\n\u001b[0;32m      6\u001b[0m bert_model\u001b[38;5;241m.\u001b[39mcompile(optimizer\u001b[38;5;241m=\u001b[39moptimizer, loss\u001b[38;5;241m=\u001b[39mloss, metrics\u001b[38;5;241m=\u001b[39mmetrics)\n\u001b[0;32m      8\u001b[0m \u001b[38;5;66;03m# Train the model with TensorFlow 2.10 compatible inputs\u001b[39;00m\n\u001b[1;32m----> 9\u001b[0m history \u001b[38;5;241m=\u001b[39m \u001b[43mbert_model\u001b[49m\u001b[38;5;241;43m.\u001b[39;49m\u001b[43mfit\u001b[49m\u001b[43m(\u001b[49m\n\u001b[0;32m     10\u001b[0m \u001b[43m    \u001b[49m\u001b[43m{\u001b[49m\n\u001b[0;32m     11\u001b[0m \u001b[43m        \u001b[49m\u001b[38;5;124;43m\"\u001b[39;49m\u001b[38;5;124;43minput_ids\u001b[39;49m\u001b[38;5;124;43m\"\u001b[39;49m\u001b[43m:\u001b[49m\u001b[43m \u001b[49m\u001b[43mX_train_input_ids\u001b[49m\u001b[43m,\u001b[49m\n\u001b[0;32m     12\u001b[0m \u001b[43m        \u001b[49m\u001b[38;5;124;43m\"\u001b[39;49m\u001b[38;5;124;43mattention_mask\u001b[39;49m\u001b[38;5;124;43m\"\u001b[39;49m\u001b[43m:\u001b[49m\u001b[43m \u001b[49m\u001b[43mX_train_attention_masks\u001b[49m\n\u001b[0;32m     13\u001b[0m \u001b[43m    \u001b[49m\u001b[43m}\u001b[49m\u001b[43m,\u001b[49m\n\u001b[0;32m     14\u001b[0m \u001b[43m    \u001b[49m\u001b[43my_train_enc\u001b[49m\u001b[43m,\u001b[49m\n\u001b[0;32m     15\u001b[0m \u001b[43m    \u001b[49m\u001b[43mvalidation_data\u001b[49m\u001b[38;5;241;43m=\u001b[39;49m\u001b[43m(\u001b[49m\n\u001b[0;32m     16\u001b[0m \u001b[43m        \u001b[49m\u001b[43m{\u001b[49m\n\u001b[0;32m     17\u001b[0m \u001b[43m            \u001b[49m\u001b[38;5;124;43m\"\u001b[39;49m\u001b[38;5;124;43minput_ids\u001b[39;49m\u001b[38;5;124;43m\"\u001b[39;49m\u001b[43m:\u001b[49m\u001b[43m \u001b[49m\u001b[43mX_val_input_ids\u001b[49m\u001b[43m,\u001b[49m\n\u001b[0;32m     18\u001b[0m \u001b[43m            \u001b[49m\u001b[38;5;124;43m\"\u001b[39;49m\u001b[38;5;124;43mattention_mask\u001b[39;49m\u001b[38;5;124;43m\"\u001b[39;49m\u001b[43m:\u001b[49m\u001b[43m \u001b[49m\u001b[43mX_val_attention_masks\u001b[49m\n\u001b[0;32m     19\u001b[0m \u001b[43m        \u001b[49m\u001b[43m}\u001b[49m\u001b[43m,\u001b[49m\n\u001b[0;32m     20\u001b[0m \u001b[43m        \u001b[49m\u001b[43my_val_enc\u001b[49m\n\u001b[0;32m     21\u001b[0m \u001b[43m    \u001b[49m\u001b[43m)\u001b[49m\u001b[43m,\u001b[49m\n\u001b[0;32m     22\u001b[0m \u001b[43m    \u001b[49m\u001b[43mepochs\u001b[49m\u001b[38;5;241;43m=\u001b[39;49m\u001b[38;5;241;43m3\u001b[39;49m\u001b[43m,\u001b[49m\n\u001b[0;32m     23\u001b[0m \u001b[43m    \u001b[49m\u001b[43mbatch_size\u001b[49m\u001b[38;5;241;43m=\u001b[39;49m\u001b[38;5;241;43m16\u001b[39;49m\n\u001b[0;32m     24\u001b[0m \u001b[43m)\u001b[49m\n",
      "File \u001b[1;32mc:\\Users\\admin\\anaconda3\\envs\\GPU_based\\lib\\site-packages\\transformers\\modeling_tf_utils.py:1229\u001b[0m, in \u001b[0;36mTFPreTrainedModel.fit\u001b[1;34m(self, *args, **kwargs)\u001b[0m\n\u001b[0;32m   1226\u001b[0m \u001b[38;5;129m@functools\u001b[39m\u001b[38;5;241m.\u001b[39mwraps(keras\u001b[38;5;241m.\u001b[39mModel\u001b[38;5;241m.\u001b[39mfit)\n\u001b[0;32m   1227\u001b[0m \u001b[38;5;28;01mdef\u001b[39;00m \u001b[38;5;21mfit\u001b[39m(\u001b[38;5;28mself\u001b[39m, \u001b[38;5;241m*\u001b[39margs, \u001b[38;5;241m*\u001b[39m\u001b[38;5;241m*\u001b[39mkwargs):\n\u001b[0;32m   1228\u001b[0m     args, kwargs \u001b[38;5;241m=\u001b[39m convert_batch_encoding(\u001b[38;5;241m*\u001b[39margs, \u001b[38;5;241m*\u001b[39m\u001b[38;5;241m*\u001b[39mkwargs)\n\u001b[1;32m-> 1229\u001b[0m     \u001b[38;5;28;01mreturn\u001b[39;00m \u001b[38;5;28;43msuper\u001b[39;49m\u001b[43m(\u001b[49m\u001b[43m)\u001b[49m\u001b[38;5;241;43m.\u001b[39;49m\u001b[43mfit\u001b[49m\u001b[43m(\u001b[49m\u001b[38;5;241;43m*\u001b[39;49m\u001b[43margs\u001b[49m\u001b[43m,\u001b[49m\u001b[43m \u001b[49m\u001b[38;5;241;43m*\u001b[39;49m\u001b[38;5;241;43m*\u001b[39;49m\u001b[43mkwargs\u001b[49m\u001b[43m)\u001b[49m\n",
      "File \u001b[1;32mc:\\Users\\admin\\anaconda3\\envs\\GPU_based\\lib\\site-packages\\keras\\utils\\traceback_utils.py:70\u001b[0m, in \u001b[0;36mfilter_traceback.<locals>.error_handler\u001b[1;34m(*args, **kwargs)\u001b[0m\n\u001b[0;32m     67\u001b[0m     filtered_tb \u001b[38;5;241m=\u001b[39m _process_traceback_frames(e\u001b[38;5;241m.\u001b[39m__traceback__)\n\u001b[0;32m     68\u001b[0m     \u001b[38;5;66;03m# To get the full stack trace, call:\u001b[39;00m\n\u001b[0;32m     69\u001b[0m     \u001b[38;5;66;03m# `tf.debugging.disable_traceback_filtering()`\u001b[39;00m\n\u001b[1;32m---> 70\u001b[0m     \u001b[38;5;28;01mraise\u001b[39;00m e\u001b[38;5;241m.\u001b[39mwith_traceback(filtered_tb) \u001b[38;5;28;01mfrom\u001b[39;00m \u001b[38;5;28;01mNone\u001b[39;00m\n\u001b[0;32m     71\u001b[0m \u001b[38;5;28;01mfinally\u001b[39;00m:\n\u001b[0;32m     72\u001b[0m     \u001b[38;5;28;01mdel\u001b[39;00m filtered_tb\n",
      "File \u001b[1;32m~\\AppData\\Local\\Temp\\__autograph_generated_fileq8na_ae4.py:15\u001b[0m, in \u001b[0;36mouter_factory.<locals>.inner_factory.<locals>.tf__train_function\u001b[1;34m(iterator)\u001b[0m\n\u001b[0;32m     13\u001b[0m \u001b[38;5;28;01mtry\u001b[39;00m:\n\u001b[0;32m     14\u001b[0m     do_return \u001b[38;5;241m=\u001b[39m \u001b[38;5;28;01mTrue\u001b[39;00m\n\u001b[1;32m---> 15\u001b[0m     retval_ \u001b[38;5;241m=\u001b[39m ag__\u001b[38;5;241m.\u001b[39mconverted_call(ag__\u001b[38;5;241m.\u001b[39mld(step_function), (ag__\u001b[38;5;241m.\u001b[39mld(\u001b[38;5;28mself\u001b[39m), ag__\u001b[38;5;241m.\u001b[39mld(iterator)), \u001b[38;5;28;01mNone\u001b[39;00m, fscope)\n\u001b[0;32m     16\u001b[0m \u001b[38;5;28;01mexcept\u001b[39;00m:\n\u001b[0;32m     17\u001b[0m     do_return \u001b[38;5;241m=\u001b[39m \u001b[38;5;28;01mFalse\u001b[39;00m\n",
      "File \u001b[1;32mc:\\Users\\admin\\anaconda3\\envs\\GPU_based\\lib\\site-packages\\transformers\\modeling_tf_utils.py:1630\u001b[0m, in \u001b[0;36mTFPreTrainedModel.train_step\u001b[1;34m(self, data)\u001b[0m\n\u001b[0;32m   1627\u001b[0m \u001b[38;5;28;01mif\u001b[39;00m \u001b[38;5;129;01mnot\u001b[39;00m \u001b[38;5;28mself\u001b[39m\u001b[38;5;241m.\u001b[39m_using_dummy_loss \u001b[38;5;129;01mand\u001b[39;00m parse(tf\u001b[38;5;241m.\u001b[39m__version__) \u001b[38;5;241m<\u001b[39m parse(\u001b[38;5;124m\"\u001b[39m\u001b[38;5;124m2.11.0\u001b[39m\u001b[38;5;124m\"\u001b[39m):\n\u001b[0;32m   1628\u001b[0m     \u001b[38;5;66;03m# Newer TF train steps leave this out\u001b[39;00m\n\u001b[0;32m   1629\u001b[0m     data \u001b[38;5;241m=\u001b[39m expand_1d(data)\n\u001b[1;32m-> 1630\u001b[0m x, y, sample_weight \u001b[38;5;241m=\u001b[39m \u001b[43mkeras\u001b[49m\u001b[38;5;241;43m.\u001b[39;49m\u001b[43mutils\u001b[49m\u001b[38;5;241;43m.\u001b[39;49m\u001b[43munpack_x_y_sample_weight\u001b[49m(data)\n\u001b[0;32m   1631\u001b[0m \u001b[38;5;66;03m# If the inputs are mutable dictionaries, make a shallow copy of them because we will modify\u001b[39;00m\n\u001b[0;32m   1632\u001b[0m \u001b[38;5;66;03m# them during input/label pre-processing. This avoids surprising the user by wrecking their data.\u001b[39;00m\n\u001b[0;32m   1633\u001b[0m \u001b[38;5;66;03m# In addition, modifying mutable Python inputs makes XLA compilation impossible.\u001b[39;00m\n\u001b[0;32m   1634\u001b[0m \u001b[38;5;28;01mif\u001b[39;00m \u001b[38;5;28misinstance\u001b[39m(x, \u001b[38;5;28mdict\u001b[39m):\n",
      "\u001b[1;31mAttributeError\u001b[0m: in user code:\n\n    File \"c:\\Users\\admin\\anaconda3\\envs\\GPU_based\\lib\\site-packages\\keras\\engine\\training.py\", line 1160, in train_function  *\n        return step_function(self, iterator)\n    File \"c:\\Users\\admin\\anaconda3\\envs\\GPU_based\\lib\\site-packages\\keras\\engine\\training.py\", line 1146, in step_function  **\n        outputs = model.distribute_strategy.run(run_step, args=(data,))\n    File \"c:\\Users\\admin\\anaconda3\\envs\\GPU_based\\lib\\site-packages\\keras\\engine\\training.py\", line 1135, in run_step  **\n        outputs = model.train_step(data)\n    File \"c:\\Users\\admin\\anaconda3\\envs\\GPU_based\\lib\\site-packages\\transformers\\modeling_tf_utils.py\", line 1630, in train_step\n        y_pred = y_pred[1]\n\n    AttributeError: module 'keras.utils' has no attribute 'unpack_x_y_sample_weight'\n"
     ]
    }
   ],
   "source": [
    "# Compile the model\n",
    "optimizer = tf.keras.optimizers.Adam(learning_rate=5e-5)  # Standard learning rate for BERT\n",
    "loss = tf.keras.losses.SparseCategoricalCrossentropy(from_logits=True)  # Use Sparse for integer labels\n",
    "metrics = ['accuracy']\n",
    "\n",
    "bert_model.compile(optimizer=optimizer, loss=loss, metrics=metrics)\n",
    "\n",
    "# Train the model\n",
    "history = bert_model.fit(\n",
    "    [X_train_input_ids, X_train_attention_masks], y_train_enc,  # Inputs and labels\n",
    "    validation_data=([X_val_input_ids, X_val_attention_masks], y_val_enc),\n",
    "    epochs=3,  # Adjust based on your needs\n",
    "    batch_size=16  # Use a smaller batch size due to high memory requirements of BERT\n",
    ")"
   ]
  },
  {
   "cell_type": "code",
   "execution_count": 1,
   "id": "62cc8d69",
   "metadata": {},
   "outputs": [
    {
     "ename": "ModuleNotFoundError",
     "evalue": "No module named 'numpy'",
     "output_type": "error",
     "traceback": [
      "\u001b[1;31m---------------------------------------------------------------------------\u001b[0m",
      "\u001b[1;31mModuleNotFoundError\u001b[0m                       Traceback (most recent call last)",
      "Cell \u001b[1;32mIn[1], line 1\u001b[0m\n\u001b[1;32m----> 1\u001b[0m \u001b[38;5;28;01mimport\u001b[39;00m\u001b[38;5;250m \u001b[39m\u001b[38;5;21;01mnumpy\u001b[39;00m\u001b[38;5;250m \u001b[39m\u001b[38;5;28;01mas\u001b[39;00m\u001b[38;5;250m \u001b[39m\u001b[38;5;21;01mnp\u001b[39;00m\n\u001b[0;32m      2\u001b[0m \u001b[38;5;28;01mimport\u001b[39;00m\u001b[38;5;250m \u001b[39m\u001b[38;5;21;01mtensorflow\u001b[39;00m\u001b[38;5;250m \u001b[39m\u001b[38;5;28;01mas\u001b[39;00m\u001b[38;5;250m \u001b[39m\u001b[38;5;21;01mtf\u001b[39;00m\n\u001b[0;32m      3\u001b[0m \u001b[38;5;28;01mfrom\u001b[39;00m\u001b[38;5;250m \u001b[39m\u001b[38;5;21;01mtransformers\u001b[39;00m\u001b[38;5;250m \u001b[39m\u001b[38;5;28;01mimport\u001b[39;00m BertTokenizer, TFBertForSequenceClassification\n",
      "\u001b[1;31mModuleNotFoundError\u001b[0m: No module named 'numpy'"
     ]
    }
   ],
   "source": [
    "import numpy as np\n",
    "import tensorflow as tf\n",
    "from transformers import BertTokenizer, TFBertForSequenceClassification\n",
    "from sklearn.metrics import classification_report\n",
    "\n",
    "# ---------------------------------------------------------\n",
    "# 1. LOAD/ENCODE TEXT\n",
    "# ---------------------------------------------------------\n",
    "# Suppose you have your original text data in lists:\n",
    "#   X_train_texts, X_val_texts, X_test_texts\n",
    "# and corresponding integer-encoded labels:\n",
    "#   y_train_enc, y_val_enc, y_test_enc  \n",
    "# If you still have string-based labels, apply LabelEncoder\n",
    "# or your code snippet for label encoding beforehand.\n",
    "\n",
    "# Choose a BERT checkpoint. \"bert-base-uncased\" is common\n",
    "model_name = 'bert-base-uncased'\n",
    "\n",
    "# Load BERT tokenizer\n",
    "tokenizer = BertTokenizer.from_pretrained(model_name)\n",
    "\n",
    "# Tokenize your dataset using the BERT tokenizer\n",
    "# Return tf Tensors to be directly fed into a tf model\n",
    "train_encodings = tokenizer(\n",
    "    X_train_texts,\n",
    "    truncation=True,\n",
    "    padding=True,\n",
    "    max_length=128,           # You can adjust\n",
    "    return_tensors='tf'\n",
    ")\n",
    "val_encodings = tokenizer(\n",
    "    X_val_texts,\n",
    "    truncation=True,\n",
    "    padding=True,\n",
    "    max_length=128,\n",
    "    return_tensors='tf'\n",
    ")\n",
    "test_encodings = tokenizer(\n",
    "    X_test_texts,\n",
    "    truncation=True,\n",
    "    padding=True,\n",
    "    max_length=128,\n",
    "    return_tensors='tf'\n",
    ")\n",
    "\n",
    "# Convert labels to tf Tensors\n",
    "y_train_enc = np.array(y_train_enc)\n",
    "y_val_enc   = np.array(y_val_enc)\n",
    "y_test_enc  = np.array(y_test_enc)\n",
    "\n",
    "# ---------------------------------------------------------\n",
    "# 2. PREPARE TF DATASET\n",
    "# ---------------------------------------------------------\n",
    "# Create TensorFlow Datasets (optional but recommended for large-scale training)\n",
    "train_dataset = tf.data.Dataset.from_tensor_slices((\n",
    "    dict(train_encodings),\n",
    "    y_train_enc\n",
    "))\n",
    "val_dataset = tf.data.Dataset.from_tensor_slices((\n",
    "    dict(val_encodings),\n",
    "    y_val_enc\n",
    "))\n",
    "test_dataset = tf.data.Dataset.from_tensor_slices((\n",
    "    dict(test_encodings),\n",
    "    y_test_enc\n",
    "))\n",
    "\n",
    "# Batch the datasets\n",
    "batch_size = 16  # Adjust based on your GPU memory\n",
    "train_dataset = train_dataset.shuffle(len(y_train_enc)).batch(batch_size)\n",
    "val_dataset   = val_dataset.batch(batch_size)\n",
    "test_dataset  = test_dataset.batch(batch_size)\n",
    "\n",
    "# ---------------------------------------------------------\n",
    "# 3. BUILD & COMPILE THE MODEL\n",
    "# ---------------------------------------------------------\n",
    "# Load a pre-trained BERT model for sequence classification\n",
    "# num_labels = number of distinct classes (e.g., 2 for binary, 3 for tri-class)\n",
    "num_labels = len(np.unique(y_train_enc))\n",
    "model = TFBertForSequenceClassification.from_pretrained(model_name, num_labels=num_labels)\n",
    "\n",
    "# Define your optimizer, loss, and metrics\n",
    "# AdamW is recommended for Transformers\n",
    "optimizer = tf.keras.optimizers.Adam(learning_rate=3e-5)\n",
    "loss = tf.keras.losses.SparseCategoricalCrossentropy(from_logits=True)\n",
    "metrics = ['accuracy']\n",
    "\n",
    "model.compile(\n",
    "    optimizer=optimizer,\n",
    "    loss=loss,\n",
    "    metrics=metrics\n",
    ")\n",
    "\n",
    "# ---------------------------------------------------------\n",
    "# 4. TRAIN THE MODEL\n",
    "# ---------------------------------------------------------\n",
    "epochs = 2  # Increase if you have more data & GPU resources\n",
    "history = model.fit(\n",
    "    train_dataset,\n",
    "    validation_data=val_dataset,\n",
    "    epochs=epochs\n",
    ")\n",
    "\n",
    "# ---------------------------------------------------------\n",
    "# 5. EVALUATE ON TEST SET\n",
    "# ---------------------------------------------------------\n",
    "# Get predictions\n",
    "test_predictions = model.predict(test_dataset)\n",
    "# test_predictions.logits has shape [num_samples, num_labels]\n",
    "y_pred = np.argmax(test_predictions.logits, axis=1)\n",
    "\n",
    "# Evaluate\n",
    "print(\"Classification Report on Test Set:\")\n",
    "print(classification_report(y_test_enc, y_pred))"
   ]
  },
  {
   "cell_type": "markdown",
   "id": "4c7f6fd7",
   "metadata": {},
   "source": [
    "### Evaluate the Model"
   ]
  },
  {
   "cell_type": "code",
   "execution_count": null,
   "id": "ba6e3ad1",
   "metadata": {},
   "outputs": [],
   "source": [
    "# Predictions\n",
    "y_pred_probs = bert_model.predict(X_test_pad)  # Use the best_model from hyperparameter tuning\n",
    "y_pred = np.argmax(y_pred_probs, axis=1)  # Convert probabilities to class predictions\n",
    "\n",
    "# Metrics\n",
    "accuracy = accuracy_score(y_test_enc, y_pred)\n",
    "precision = precision_score(y_test_enc, y_pred, average='weighted', zero_division=0)\n",
    "recall = recall_score(y_test_enc, y_pred, average='weighted', zero_division=0)\n",
    "f1 = f1_score(y_test_enc, y_pred, average='weighted', zero_division=0)\n",
    "\n",
    "print(\"Test Accuracy:  {:.4f}\".format(accuracy))\n",
    "print(\"Test Precision: {:.4f}\".format(precision))\n",
    "print(\"Test Recall:    {:.4f}\".format(recall))\n",
    "print(\"Test F1-score:  {:.4f}\".format(f1))\n",
    "\n",
    "# Classification Report\n",
    "print(\"\\nClassification Report:\")\n",
    "print(classification_report(y_test_enc, y_pred, zero_division=0))\n",
    "\n",
    "# Confusion Matrix\n",
    "cm = confusion_matrix(y_test_enc, y_pred)\n",
    "plt.figure(figsize=(6, 4))\n",
    "sns.heatmap(cm, annot=True, fmt='d', cmap='Greens', xticklabels=np.unique(y_test_enc), yticklabels=np.unique(y_test_enc))\n",
    "plt.title('LSTM Confusion Matrix')\n",
    "plt.xlabel('Predicted')\n",
    "plt.ylabel('True')\n",
    "plt.show()"
   ]
  },
  {
   "cell_type": "code",
   "execution_count": null,
   "id": "1c317712",
   "metadata": {},
   "outputs": [],
   "source": [
    "def plot_training_history(history):\n",
    "    \"\"\"\n",
    "    Plots the accuracy and loss curves from the training history.\n",
    "    \"\"\"\n",
    "    # Accuracy\n",
    "    plt.figure(figsize=(12, 5))\n",
    "    \n",
    "    # Subplot 1: Accuracy\n",
    "    plt.subplot(1, 2, 1)\n",
    "    plt.plot(history.history['accuracy'], label='Train Accuracy', marker='o')\n",
    "    plt.plot(history.history['val_accuracy'], label='Val Accuracy', marker='o')\n",
    "    plt.title('Training & Validation Accuracy')\n",
    "    plt.xlabel('Epoch')\n",
    "    plt.ylabel('Accuracy')\n",
    "    plt.legend()\n",
    "    \n",
    "    # Subplot 2: Loss\n",
    "    plt.subplot(1, 2, 2)\n",
    "    plt.plot(history.history['loss'], label='Train Loss', marker='o')\n",
    "    plt.plot(history.history['val_loss'], label='Val Loss', marker='o')\n",
    "    plt.title('Training & Validation Loss')\n",
    "    plt.xlabel('Epoch')\n",
    "    plt.ylabel('Loss')\n",
    "    plt.legend()\n",
    "    \n",
    "    plt.tight_layout()\n",
    "    plt.show()\n",
    "\n",
    "plot_training_history(history)"
   ]
  },
  {
   "cell_type": "markdown",
   "id": "59d91a71-a5b6-4be0-9e87-dc16b79f0de9",
   "metadata": {},
   "source": [
    "## FinBert"
   ]
  },
  {
   "cell_type": "markdown",
   "id": "254fcb27",
   "metadata": {},
   "source": []
  },
  {
   "cell_type": "code",
   "execution_count": null,
   "id": "0c399a3b-d24d-4ba6-8bf6-2cbf532f59ea",
   "metadata": {},
   "outputs": [],
   "source": [
    "import numpy as np\n",
    "import pandas as pd\n",
    "import torch\n",
    "import evaluate\n",
    "import matplotlib.pyplot as plt\n",
    "import seaborn as sns\n",
    "\n",
    "from sklearn.metrics import confusion_matrix\n",
    "from transformers import AutoTokenizer, AutoModelForSequenceClassification, TrainingArguments, Trainer\n",
    "from datasets import Dataset, DatasetDict"
   ]
  },
  {
   "cell_type": "code",
   "execution_count": null,
   "id": "c25bae49-884a-42cd-ab6d-a54630097ba4",
   "metadata": {},
   "outputs": [],
   "source": [
    "train_df = pd.DataFrame({\n",
    "    'text': df_x_train['Cleaned_Tweet'].tolist(),\n",
    "    'label': y_train_enc\n",
    "})\n",
    "val_df = pd.DataFrame({\n",
    "    'text': df_x_validate['Cleaned_Tweet'].tolist(),\n",
    "    'label': y_val_enc\n",
    "})\n",
    "test_df = pd.DataFrame({\n",
    "    'text': df_x_test['Cleaned_Tweet'].tolist(),\n",
    "    'label': y_test_enc\n",
    "})\n",
    "\n",
    "hf_train_dataset = Dataset.from_pandas(train_df)\n",
    "hf_val_dataset   = Dataset.from_pandas(val_df)\n",
    "hf_test_dataset  = Dataset.from_pandas(test_df)\n",
    "\n",
    "dataset_dict = DatasetDict({\n",
    "    'train': hf_train_dataset,\n",
    "    'validation': hf_val_dataset,\n",
    "    'test': hf_test_dataset\n",
    "})"
   ]
  },
  {
   "cell_type": "markdown",
   "id": "9795b58f-208a-4fab-ab51-2002d9e0e5b9",
   "metadata": {},
   "source": [
    "### Load FinBERT tokenizer & model"
   ]
  },
  {
   "cell_type": "code",
   "execution_count": null,
   "id": "b99b9a38-f8f0-4839-904a-b0dd3f3f4e2b",
   "metadata": {},
   "outputs": [],
   "source": [
    "model_name = \"ProsusAI/finbert\"\n",
    "tokenizer = AutoTokenizer.from_pretrained(model_name)\n",
    "model = AutoModelForSequenceClassification.from_pretrained(model_name, num_labels=len(np.unique(y_train_enc)))"
   ]
  },
  {
   "cell_type": "markdown",
   "id": "9273438d-80fb-4cce-a70f-e361c53c842e",
   "metadata": {},
   "source": [
    "### Tokenize function"
   ]
  },
  {
   "cell_type": "code",
   "execution_count": null,
   "id": "01ce5d44-ec70-4594-9f94-5c620dee7152",
   "metadata": {},
   "outputs": [],
   "source": [
    "def tokenize_function(example):\n",
    "    return tokenizer(example['text'], truncation=True, padding='max_length', max_length=128)\n",
    "\n",
    "tokenized_dataset = dataset_dict.map(tokenize_function, batched=True)"
   ]
  },
  {
   "cell_type": "code",
   "execution_count": null,
   "id": "3f09a2ff-d768-4b70-9582-caeb6bf714bf",
   "metadata": {},
   "outputs": [],
   "source": [
    "# Set format for Pytorch\n",
    "tokenized_dataset.set_format(\"torch\")"
   ]
  },
  {
   "cell_type": "markdown",
   "id": "396dcda5-0c0a-4611-ae2a-0e2233a5d69b",
   "metadata": {},
   "source": [
    "### Define Metric Function"
   ]
  },
  {
   "cell_type": "code",
   "execution_count": null,
   "id": "dc15b765-6e3c-43ee-895e-f9082472bacb",
   "metadata": {},
   "outputs": [],
   "source": [
    "accuracy_metric  = evaluate.load(\"accuracy\")\n",
    "precision_metric = evaluate.load(\"precision\")\n",
    "recall_metric    = evaluate.load(\"recall\")\n",
    "f1_metric        = evaluate.load(\"f1\")\n",
    "\n",
    "def compute_metrics(eval_pred):\n",
    "    logits, labels = eval_pred\n",
    "    predictions = np.argmax(logits, axis=-1)\n",
    "    \n",
    "    acc  = accuracy_metric.compute(predictions=predictions, references=labels)\n",
    "    prec = precision_metric.compute(predictions=predictions, references=labels, average='weighted')\n",
    "    rec  = recall_metric.compute(predictions=predictions, references=labels, average='weighted')\n",
    "    f1   = f1_metric.compute(predictions=predictions, references=labels, average='weighted')\n",
    "    \n",
    "    return {\n",
    "        \"accuracy\": acc[\"accuracy\"],\n",
    "        \"precision\": prec[\"precision\"],\n",
    "        \"recall\": rec[\"recall\"],\n",
    "        \"f1\": f1[\"f1\"]\n",
    "    }"
   ]
  },
  {
   "cell_type": "markdown",
   "id": "33b1019c-3be1-4f04-a8ef-927533862670",
   "metadata": {},
   "source": [
    "### Training"
   ]
  },
  {
   "cell_type": "code",
   "execution_count": null,
   "id": "7e96fe9c-c26c-4b56-9329-68262627dfcd",
   "metadata": {},
   "outputs": [],
   "source": [
    "training_args = TrainingArguments(\n",
    "    output_dir=\"finbert-sentiment-checkpoints\",\n",
    "    evaluation_strategy=\"epoch\",     # Evaluate every epoch\n",
    "    save_strategy=\"epoch\",           # Save checkpoints every epoch\n",
    "    learning_rate=2e-5,\n",
    "    per_device_train_batch_size=8,\n",
    "    per_device_eval_batch_size=8,\n",
    "    num_train_epochs=3,\n",
    "    weight_decay=0.01,\n",
    "    logging_dir=\"finbert-logs\",\n",
    "    load_best_model_at_end=True,\n",
    "    metric_for_best_model=\"f1\"       # We'll use F1 to pick best model\n",
    ")"
   ]
  },
  {
   "cell_type": "code",
   "execution_count": null,
   "id": "f7ff0ea9-dc57-4b5e-a9aa-b2bb38ce986f",
   "metadata": {},
   "outputs": [],
   "source": [
    "trainer = Trainer(\n",
    "    model=model,\n",
    "    args=training_args,\n",
    "    train_dataset=tokenized_dataset[\"train\"],\n",
    "    eval_dataset=tokenized_dataset[\"validation\"],\n",
    "    tokenizer=tokenizer,\n",
    "    compute_metrics=compute_metrics\n",
    ")"
   ]
  },
  {
   "cell_type": "code",
   "execution_count": null,
   "id": "f42092a7-6fcf-4ffc-a881-0136a4aef8ca",
   "metadata": {},
   "outputs": [],
   "source": [
    "train_result = trainer.train()\n",
    "trainer.save_model(\"finbert-sentiment-model\")  # Save final model"
   ]
  },
  {
   "cell_type": "markdown",
   "id": "dad0b943-4c71-41f0-8b2b-faa348b321c6",
   "metadata": {},
   "source": [
    "### Evaluate on Validation and Test set\n"
   ]
  },
  {
   "cell_type": "code",
   "execution_count": null,
   "id": "d5f0480b-93b5-4e09-8b4a-27c0c58797bd",
   "metadata": {},
   "outputs": [],
   "source": [
    "print(\"Validation Set Evaluation:\")\n",
    "val_metrics = trainer.evaluate(eval_dataset=tokenized_dataset[\"validation\"])\n",
    "print(val_metrics)\n",
    "\n",
    "print(\"\\nTest Set Evaluation:\")\n",
    "test_metrics = trainer.evaluate(eval_dataset=tokenized_dataset[\"test\"])\n",
    "print(test_metrics)"
   ]
  },
  {
   "cell_type": "markdown",
   "id": "d5507373-06fe-4d5c-a45c-bf73896e11d8",
   "metadata": {},
   "source": [
    "### Predictions"
   ]
  },
  {
   "cell_type": "code",
   "execution_count": null,
   "id": "eef6e65a-1f91-4d61-a038-b209c53bc2c1",
   "metadata": {},
   "outputs": [],
   "source": [
    "predictions_output = trainer.predict(tokenized_dataset[\"test\"])\n",
    "logits = predictions_output.predictions\n",
    "labels = predictions_output.label_ids\n",
    "\n",
    "predictions = np.argmax(logits, axis=-1)\n",
    "\n",
    "# Confusion matrix\n",
    "cm = confusion_matrix(labels, predictions)\n",
    "plt.figure(figsize=(6,4))\n",
    "sns.heatmap(cm, annot=True, fmt='d', cmap='Blues')\n",
    "plt.title('FinBERT Confusion Matrix')\n",
    "plt.xlabel('Predicted')\n",
    "plt.ylabel('True')\n",
    "plt.show()\n",
    "\n",
    "# If you want classification report via sklearn:\n",
    "from sklearn.metrics import classification_report\n",
    "print(\"Classification Report (Test Set):\")\n",
    "print(classification_report(labels, predictions, zero_division=0))"
   ]
  },
  {
   "cell_type": "markdown",
   "id": "fd7fe7ff-24cd-4b3c-81ef-25c9a499ab8f",
   "metadata": {},
   "source": [
    "## Reddit"
   ]
  },
  {
   "cell_type": "markdown",
   "id": "afc2f8cb-bb07-46ee-94db-9fca4561bd0d",
   "metadata": {},
   "source": [
    "### Data Cleaning"
   ]
  },
  {
   "cell_type": "code",
   "execution_count": 137,
   "id": "46c1f792-c4ec-4017-b321-25a962a9dc1a",
   "metadata": {},
   "outputs": [],
   "source": [
    "# Function to clean tweets\n",
    "\n",
    "# Convert all entries in 'comment' column to strings\n",
    "df_reddit['comment'] = df_reddit['comment'].astype(str)\n",
    "\n",
    "# Convert all entries in 'text' column to strings\n",
    "df_reddit['Cleaned_Comment'] = df_reddit['comment'].astype(str)\n",
    "\n",
    "def clean_comment(comment):\n",
    "    # Remove mentions (@username)\n",
    "    comment = re.sub(r'@\\w+', '', comment)\n",
    "    # Remove URLs\n",
    "    comment = re.sub(r'http\\S+|www\\S+|https\\S+', '', comment, flags=re.MULTILINE)\n",
    "    # Remove special characters, numbers, and punctuations\n",
    "    comment = re.sub(r'\\W', ' ', comment)\n",
    "    # Remove extra spaces\n",
    "    comment = re.sub(r'\\s+', ' ', comment).strip()\n",
    "    # Convert to lowercase\n",
    "    comment = comment.lower()\n",
    "    return comment\n",
    "\n",
    "# Apply the cleaning function to the 'Tweet' column\n",
    "df_reddit['Cleaned_Comment'] = df_reddit['comment'].apply(clean_comment)"
   ]
  },
  {
   "cell_type": "code",
   "execution_count": 139,
   "id": "424583c2-371b-44b5-b6c7-0dd59b33ad40",
   "metadata": {},
   "outputs": [],
   "source": [
    "# Tokenization\n",
    "df_reddit['Tokens'] = df_reddit['Cleaned_Comment'].apply(word_tokenize)\n",
    "\n",
    "# Removing Stopwords \n",
    "stop_words = set(stopwords.words('english'))\n",
    "df_reddit['Tokens'] = df_reddit['Tokens'].apply(lambda x: [word for word in x if word not in stop_words])\n",
    "\n",
    "# Lemmatization\n",
    "lemmatizer = WordNetLemmatizer()\n",
    "df_reddit['Tokens'] = df_reddit['Tokens'].apply(lambda x: [lemmatizer.lemmatize(word) for word in x])"
   ]
  },
  {
   "cell_type": "code",
   "execution_count": null,
   "id": "3dfaa705-8638-4183-ad86-b8a116679e85",
   "metadata": {},
   "outputs": [],
   "source": []
  },
  {
   "cell_type": "markdown",
   "id": "0b4d191e-7c3d-4d43-9307-871e8735d5b8",
   "metadata": {},
   "source": [
    "## Financial News"
   ]
  },
  {
   "cell_type": "code",
   "execution_count": null,
   "id": "9a4630b4-3868-4aff-bdd2-3291486f24da",
   "metadata": {},
   "outputs": [],
   "source": [
    "df_news.head()"
   ]
  },
  {
   "cell_type": "code",
   "execution_count": null,
   "id": "d5bb3f6f-b4df-4813-845a-d3a6cda31de0",
   "metadata": {},
   "outputs": [],
   "source": []
  },
  {
   "cell_type": "code",
   "execution_count": null,
   "id": "c317568e-c37a-46c3-9716-82a3274bc728",
   "metadata": {},
   "outputs": [],
   "source": []
  }
 ],
 "metadata": {
  "kernelspec": {
   "display_name": "test",
   "language": "python",
   "name": "python3"
  },
  "language_info": {
   "codemirror_mode": {
    "name": "ipython",
    "version": 3
   },
   "file_extension": ".py",
   "mimetype": "text/x-python",
   "name": "python",
   "nbconvert_exporter": "python",
   "pygments_lexer": "ipython3",
   "version": "3.13.1"
  }
 },
 "nbformat": 4,
 "nbformat_minor": 5
}

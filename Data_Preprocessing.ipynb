{
 "cells": [
  {
   "cell_type": "markdown",
   "id": "33802498-16aa-4f6c-ba80-bc88728cef25",
   "metadata": {},
   "source": [
    "# Data Collection"
   ]
  },
  {
   "cell_type": "code",
   "execution_count": 4,
   "id": "115a81c1-ab8f-4ba1-a8a8-e31f0f840acb",
   "metadata": {},
   "outputs": [
    {
     "name": "stdout",
     "output_type": "stream",
     "text": [
      "Requirement already satisfied: numpy in c:\\users\\admin\\anaconda3\\envs\\gpu_based\\lib\\site-packages (1.24.4)\n",
      "Requirement already satisfied: pandas in c:\\users\\admin\\anaconda3\\envs\\gpu_based\\lib\\site-packages (2.0.3)\n",
      "Requirement already satisfied: scikit-learn in c:\\users\\admin\\anaconda3\\envs\\gpu_based\\lib\\site-packages (1.3.2)\n",
      "Requirement already satisfied: nltk in c:\\users\\admin\\anaconda3\\envs\\gpu_based\\lib\\site-packages (3.9.1)\n",
      "Requirement already satisfied: keras in c:\\users\\admin\\anaconda3\\envs\\gpu_based\\lib\\site-packages (2.10.0)\n",
      "Requirement already satisfied: statsmodels in c:\\users\\admin\\anaconda3\\envs\\gpu_based\\lib\\site-packages (0.14.1)\n",
      "Requirement already satisfied: tqdm in c:\\users\\admin\\anaconda3\\envs\\gpu_based\\lib\\site-packages (4.67.1)\n",
      "Requirement already satisfied: matplotlib in c:\\users\\admin\\anaconda3\\envs\\gpu_based\\lib\\site-packages (3.7.5)\n",
      "Requirement already satisfied: graphviz in c:\\users\\admin\\anaconda3\\envs\\gpu_based\\lib\\site-packages (0.20.3)\n",
      "Requirement already satisfied: python-dateutil>=2.8.2 in c:\\users\\admin\\anaconda3\\envs\\gpu_based\\lib\\site-packages (from pandas) (2.9.0)\n",
      "Requirement already satisfied: pytz>=2020.1 in c:\\users\\admin\\anaconda3\\envs\\gpu_based\\lib\\site-packages (from pandas) (2024.2)\n",
      "Requirement already satisfied: tzdata>=2022.1 in c:\\users\\admin\\anaconda3\\envs\\gpu_based\\lib\\site-packages (from pandas) (2024.2)\n",
      "Requirement already satisfied: scipy>=1.5.0 in c:\\users\\admin\\anaconda3\\envs\\gpu_based\\lib\\site-packages (from scikit-learn) (1.10.1)\n",
      "Requirement already satisfied: joblib>=1.1.1 in c:\\users\\admin\\anaconda3\\envs\\gpu_based\\lib\\site-packages (from scikit-learn) (1.4.2)\n",
      "Requirement already satisfied: threadpoolctl>=2.0.0 in c:\\users\\admin\\anaconda3\\envs\\gpu_based\\lib\\site-packages (from scikit-learn) (3.5.0)\n",
      "Requirement already satisfied: click in c:\\users\\admin\\anaconda3\\envs\\gpu_based\\lib\\site-packages (from nltk) (8.1.8)\n",
      "Requirement already satisfied: regex>=2021.8.3 in c:\\users\\admin\\anaconda3\\envs\\gpu_based\\lib\\site-packages (from nltk) (2024.11.6)\n",
      "Requirement already satisfied: patsy>=0.5.4 in c:\\users\\admin\\anaconda3\\envs\\gpu_based\\lib\\site-packages (from statsmodels) (1.0.1)\n",
      "Requirement already satisfied: packaging>=21.3 in c:\\users\\admin\\anaconda3\\envs\\gpu_based\\lib\\site-packages (from statsmodels) (24.2)\n",
      "Requirement already satisfied: colorama in c:\\users\\admin\\anaconda3\\envs\\gpu_based\\lib\\site-packages (from tqdm) (0.4.6)\n",
      "Requirement already satisfied: contourpy>=1.0.1 in c:\\users\\admin\\anaconda3\\envs\\gpu_based\\lib\\site-packages (from matplotlib) (1.1.1)\n",
      "Requirement already satisfied: cycler>=0.10 in c:\\users\\admin\\anaconda3\\envs\\gpu_based\\lib\\site-packages (from matplotlib) (0.12.1)\n",
      "Requirement already satisfied: fonttools>=4.22.0 in c:\\users\\admin\\anaconda3\\envs\\gpu_based\\lib\\site-packages (from matplotlib) (4.55.3)\n",
      "Requirement already satisfied: kiwisolver>=1.0.1 in c:\\users\\admin\\anaconda3\\envs\\gpu_based\\lib\\site-packages (from matplotlib) (1.4.7)\n",
      "Requirement already satisfied: pillow>=6.2.0 in c:\\users\\admin\\anaconda3\\envs\\gpu_based\\lib\\site-packages (from matplotlib) (10.4.0)\n",
      "Requirement already satisfied: pyparsing>=2.3.1 in c:\\users\\admin\\anaconda3\\envs\\gpu_based\\lib\\site-packages (from matplotlib) (3.1.4)\n",
      "Requirement already satisfied: importlib-resources>=3.2.0 in c:\\users\\admin\\anaconda3\\envs\\gpu_based\\lib\\site-packages (from matplotlib) (6.4.5)\n",
      "Requirement already satisfied: zipp>=3.1.0 in c:\\users\\admin\\anaconda3\\envs\\gpu_based\\lib\\site-packages (from importlib-resources>=3.2.0->matplotlib) (3.20.2)\n",
      "Requirement already satisfied: six>=1.5 in c:\\users\\admin\\anaconda3\\envs\\gpu_based\\lib\\site-packages (from python-dateutil>=2.8.2->pandas) (1.16.0)\n",
      "Note: you may need to restart the kernel to use updated packages.\n"
     ]
    }
   ],
   "source": [
    "pip install numpy pandas scikit-learn nltk keras statsmodels tqdm matplotlib graphviz"
   ]
  },
  {
   "cell_type": "code",
   "execution_count": 5,
   "id": "bf7f313b-fd8e-4dfb-a5f4-7ac0c97ede2d",
   "metadata": {},
   "outputs": [
    {
     "name": "stdout",
     "output_type": "stream",
     "text": [
      "Requirement already satisfied: transformers in c:\\users\\admin\\anaconda3\\envs\\gpu_based\\lib\\site-packages (4.46.3)\n",
      "Requirement already satisfied: datasets in c:\\users\\admin\\anaconda3\\envs\\gpu_based\\lib\\site-packages (3.1.0)\n",
      "Requirement already satisfied: evaluate in c:\\users\\admin\\anaconda3\\envs\\gpu_based\\lib\\site-packages (0.4.3)\n",
      "Requirement already satisfied: torch in c:\\users\\admin\\anaconda3\\envs\\gpu_based\\lib\\site-packages (2.4.1)\n",
      "Requirement already satisfied: filelock in c:\\users\\admin\\anaconda3\\envs\\gpu_based\\lib\\site-packages (from transformers) (3.16.1)\n",
      "Requirement already satisfied: huggingface-hub<1.0,>=0.23.2 in c:\\users\\admin\\anaconda3\\envs\\gpu_based\\lib\\site-packages (from transformers) (0.27.1)\n",
      "Requirement already satisfied: numpy>=1.17 in c:\\users\\admin\\anaconda3\\envs\\gpu_based\\lib\\site-packages (from transformers) (1.24.4)\n",
      "Requirement already satisfied: packaging>=20.0 in c:\\users\\admin\\anaconda3\\envs\\gpu_based\\lib\\site-packages (from transformers) (24.2)\n",
      "Requirement already satisfied: pyyaml>=5.1 in c:\\users\\admin\\anaconda3\\envs\\gpu_based\\lib\\site-packages (from transformers) (6.0.2)\n",
      "Requirement already satisfied: regex!=2019.12.17 in c:\\users\\admin\\anaconda3\\envs\\gpu_based\\lib\\site-packages (from transformers) (2024.11.6)\n",
      "Requirement already satisfied: requests in c:\\users\\admin\\anaconda3\\envs\\gpu_based\\lib\\site-packages (from transformers) (2.32.3)\n",
      "Requirement already satisfied: tokenizers<0.21,>=0.20 in c:\\users\\admin\\anaconda3\\envs\\gpu_based\\lib\\site-packages (from transformers) (0.20.3)\n",
      "Requirement already satisfied: safetensors>=0.4.1 in c:\\users\\admin\\anaconda3\\envs\\gpu_based\\lib\\site-packages (from transformers) (0.5.2)\n",
      "Requirement already satisfied: tqdm>=4.27 in c:\\users\\admin\\anaconda3\\envs\\gpu_based\\lib\\site-packages (from transformers) (4.67.1)\n",
      "Requirement already satisfied: pyarrow>=15.0.0 in c:\\users\\admin\\anaconda3\\envs\\gpu_based\\lib\\site-packages (from datasets) (17.0.0)\n",
      "Requirement already satisfied: dill<0.3.9,>=0.3.0 in c:\\users\\admin\\anaconda3\\envs\\gpu_based\\lib\\site-packages (from datasets) (0.3.8)\n",
      "Requirement already satisfied: pandas in c:\\users\\admin\\anaconda3\\envs\\gpu_based\\lib\\site-packages (from datasets) (2.0.3)\n",
      "Requirement already satisfied: xxhash in c:\\users\\admin\\anaconda3\\envs\\gpu_based\\lib\\site-packages (from datasets) (3.5.0)\n",
      "Requirement already satisfied: multiprocess<0.70.17 in c:\\users\\admin\\anaconda3\\envs\\gpu_based\\lib\\site-packages (from datasets) (0.70.16)\n",
      "Requirement already satisfied: fsspec<=2024.9.0,>=2023.1.0 in c:\\users\\admin\\anaconda3\\envs\\gpu_based\\lib\\site-packages (from fsspec[http]<=2024.9.0,>=2023.1.0->datasets) (2024.9.0)\n",
      "Requirement already satisfied: aiohttp in c:\\users\\admin\\anaconda3\\envs\\gpu_based\\lib\\site-packages (from datasets) (3.10.11)\n",
      "Requirement already satisfied: typing-extensions>=4.8.0 in c:\\users\\admin\\anaconda3\\envs\\gpu_based\\lib\\site-packages (from torch) (4.12.2)\n",
      "Requirement already satisfied: sympy in c:\\users\\admin\\anaconda3\\envs\\gpu_based\\lib\\site-packages (from torch) (1.13.3)\n",
      "Requirement already satisfied: networkx in c:\\users\\admin\\anaconda3\\envs\\gpu_based\\lib\\site-packages (from torch) (3.1)\n",
      "Requirement already satisfied: jinja2 in c:\\users\\admin\\anaconda3\\envs\\gpu_based\\lib\\site-packages (from torch) (3.1.5)\n",
      "Requirement already satisfied: aiohappyeyeballs>=2.3.0 in c:\\users\\admin\\anaconda3\\envs\\gpu_based\\lib\\site-packages (from aiohttp->datasets) (2.4.4)\n",
      "Requirement already satisfied: aiosignal>=1.1.2 in c:\\users\\admin\\anaconda3\\envs\\gpu_based\\lib\\site-packages (from aiohttp->datasets) (1.3.1)\n",
      "Requirement already satisfied: attrs>=17.3.0 in c:\\users\\admin\\anaconda3\\envs\\gpu_based\\lib\\site-packages (from aiohttp->datasets) (24.3.0)\n",
      "Requirement already satisfied: frozenlist>=1.1.1 in c:\\users\\admin\\anaconda3\\envs\\gpu_based\\lib\\site-packages (from aiohttp->datasets) (1.5.0)\n",
      "Requirement already satisfied: multidict<7.0,>=4.5 in c:\\users\\admin\\anaconda3\\envs\\gpu_based\\lib\\site-packages (from aiohttp->datasets) (6.1.0)\n",
      "Requirement already satisfied: yarl<2.0,>=1.12.0 in c:\\users\\admin\\anaconda3\\envs\\gpu_based\\lib\\site-packages (from aiohttp->datasets) (1.15.2)\n",
      "Requirement already satisfied: async-timeout<6.0,>=4.0 in c:\\users\\admin\\anaconda3\\envs\\gpu_based\\lib\\site-packages (from aiohttp->datasets) (5.0.1)\n",
      "Requirement already satisfied: charset-normalizer<4,>=2 in c:\\users\\admin\\anaconda3\\envs\\gpu_based\\lib\\site-packages (from requests->transformers) (3.4.1)\n",
      "Requirement already satisfied: idna<4,>=2.5 in c:\\users\\admin\\anaconda3\\envs\\gpu_based\\lib\\site-packages (from requests->transformers) (3.10)\n",
      "Requirement already satisfied: urllib3<3,>=1.21.1 in c:\\users\\admin\\anaconda3\\envs\\gpu_based\\lib\\site-packages (from requests->transformers) (2.2.3)\n",
      "Requirement already satisfied: certifi>=2017.4.17 in c:\\users\\admin\\anaconda3\\envs\\gpu_based\\lib\\site-packages (from requests->transformers) (2024.12.14)\n",
      "Requirement already satisfied: colorama in c:\\users\\admin\\anaconda3\\envs\\gpu_based\\lib\\site-packages (from tqdm>=4.27->transformers) (0.4.6)\n",
      "Requirement already satisfied: MarkupSafe>=2.0 in c:\\users\\admin\\anaconda3\\envs\\gpu_based\\lib\\site-packages (from jinja2->torch) (2.1.5)\n",
      "Requirement already satisfied: python-dateutil>=2.8.2 in c:\\users\\admin\\anaconda3\\envs\\gpu_based\\lib\\site-packages (from pandas->datasets) (2.9.0)\n",
      "Requirement already satisfied: pytz>=2020.1 in c:\\users\\admin\\anaconda3\\envs\\gpu_based\\lib\\site-packages (from pandas->datasets) (2024.2)\n",
      "Requirement already satisfied: tzdata>=2022.1 in c:\\users\\admin\\anaconda3\\envs\\gpu_based\\lib\\site-packages (from pandas->datasets) (2024.2)\n",
      "Requirement already satisfied: mpmath<1.4,>=1.1.0 in c:\\users\\admin\\anaconda3\\envs\\gpu_based\\lib\\site-packages (from sympy->torch) (1.3.0)\n",
      "Requirement already satisfied: six>=1.5 in c:\\users\\admin\\anaconda3\\envs\\gpu_based\\lib\\site-packages (from python-dateutil>=2.8.2->pandas->datasets) (1.16.0)\n",
      "Requirement already satisfied: propcache>=0.2.0 in c:\\users\\admin\\anaconda3\\envs\\gpu_based\\lib\\site-packages (from yarl<2.0,>=1.12.0->aiohttp->datasets) (0.2.0)\n",
      "Note: you may need to restart the kernel to use updated packages.\n"
     ]
    }
   ],
   "source": [
    "pip install transformers datasets evaluate torch"
   ]
  },
  {
   "cell_type": "code",
   "execution_count": 6,
   "id": "9fd58ce1",
   "metadata": {},
   "outputs": [
    {
     "name": "stdout",
     "output_type": "stream",
     "text": [
      "Requirement already satisfied: seaborn in c:\\users\\admin\\anaconda3\\envs\\gpu_based\\lib\\site-packages (0.13.2)\n",
      "Requirement already satisfied: numpy!=1.24.0,>=1.20 in c:\\users\\admin\\anaconda3\\envs\\gpu_based\\lib\\site-packages (from seaborn) (1.24.4)\n",
      "Requirement already satisfied: pandas>=1.2 in c:\\users\\admin\\anaconda3\\envs\\gpu_based\\lib\\site-packages (from seaborn) (2.0.3)\n",
      "Requirement already satisfied: matplotlib!=3.6.1,>=3.4 in c:\\users\\admin\\anaconda3\\envs\\gpu_based\\lib\\site-packages (from seaborn) (3.7.5)\n",
      "Requirement already satisfied: contourpy>=1.0.1 in c:\\users\\admin\\anaconda3\\envs\\gpu_based\\lib\\site-packages (from matplotlib!=3.6.1,>=3.4->seaborn) (1.1.1)\n",
      "Requirement already satisfied: cycler>=0.10 in c:\\users\\admin\\anaconda3\\envs\\gpu_based\\lib\\site-packages (from matplotlib!=3.6.1,>=3.4->seaborn) (0.12.1)\n",
      "Requirement already satisfied: fonttools>=4.22.0 in c:\\users\\admin\\anaconda3\\envs\\gpu_based\\lib\\site-packages (from matplotlib!=3.6.1,>=3.4->seaborn) (4.55.3)\n",
      "Requirement already satisfied: kiwisolver>=1.0.1 in c:\\users\\admin\\anaconda3\\envs\\gpu_based\\lib\\site-packages (from matplotlib!=3.6.1,>=3.4->seaborn) (1.4.7)\n",
      "Requirement already satisfied: packaging>=20.0 in c:\\users\\admin\\anaconda3\\envs\\gpu_based\\lib\\site-packages (from matplotlib!=3.6.1,>=3.4->seaborn) (24.2)\n",
      "Requirement already satisfied: pillow>=6.2.0 in c:\\users\\admin\\anaconda3\\envs\\gpu_based\\lib\\site-packages (from matplotlib!=3.6.1,>=3.4->seaborn) (10.4.0)\n",
      "Requirement already satisfied: pyparsing>=2.3.1 in c:\\users\\admin\\anaconda3\\envs\\gpu_based\\lib\\site-packages (from matplotlib!=3.6.1,>=3.4->seaborn) (3.1.4)\n",
      "Requirement already satisfied: python-dateutil>=2.7 in c:\\users\\admin\\anaconda3\\envs\\gpu_based\\lib\\site-packages (from matplotlib!=3.6.1,>=3.4->seaborn) (2.9.0)\n",
      "Requirement already satisfied: importlib-resources>=3.2.0 in c:\\users\\admin\\anaconda3\\envs\\gpu_based\\lib\\site-packages (from matplotlib!=3.6.1,>=3.4->seaborn) (6.4.5)\n",
      "Requirement already satisfied: pytz>=2020.1 in c:\\users\\admin\\anaconda3\\envs\\gpu_based\\lib\\site-packages (from pandas>=1.2->seaborn) (2024.2)\n",
      "Requirement already satisfied: tzdata>=2022.1 in c:\\users\\admin\\anaconda3\\envs\\gpu_based\\lib\\site-packages (from pandas>=1.2->seaborn) (2024.2)\n",
      "Requirement already satisfied: zipp>=3.1.0 in c:\\users\\admin\\anaconda3\\envs\\gpu_based\\lib\\site-packages (from importlib-resources>=3.2.0->matplotlib!=3.6.1,>=3.4->seaborn) (3.20.2)\n",
      "Requirement already satisfied: six>=1.5 in c:\\users\\admin\\anaconda3\\envs\\gpu_based\\lib\\site-packages (from python-dateutil>=2.7->matplotlib!=3.6.1,>=3.4->seaborn) (1.16.0)\n",
      "Note: you may need to restart the kernel to use updated packages.\n"
     ]
    }
   ],
   "source": [
    "pip install seaborn"
   ]
  },
  {
   "cell_type": "code",
   "execution_count": 7,
   "id": "fe955823-84ea-4b8e-8116-251a8ef6fea9",
   "metadata": {},
   "outputs": [
    {
     "name": "stdout",
     "output_type": "stream",
     "text": [
      "Requirement already satisfied: tf-keras in c:\\users\\admin\\anaconda3\\envs\\gpu_based\\lib\\site-packages (2.15.0)\n",
      "Note: you may need to restart the kernel to use updated packages.\n"
     ]
    }
   ],
   "source": [
    "pip install tf-keras"
   ]
  },
  {
   "cell_type": "code",
   "execution_count": 8,
   "id": "da56fdfe-ad2a-46e6-9440-0c88ab6316b5",
   "metadata": {},
   "outputs": [
    {
     "name": "stdout",
     "output_type": "stream",
     "text": [
      "Requirement already satisfied: keras-tuner in c:\\users\\admin\\anaconda3\\envs\\gpu_based\\lib\\site-packages (1.4.7)\n",
      "Requirement already satisfied: keras in c:\\users\\admin\\anaconda3\\envs\\gpu_based\\lib\\site-packages (from keras-tuner) (2.10.0)\n",
      "Requirement already satisfied: packaging in c:\\users\\admin\\anaconda3\\envs\\gpu_based\\lib\\site-packages (from keras-tuner) (24.2)\n",
      "Requirement already satisfied: requests in c:\\users\\admin\\anaconda3\\envs\\gpu_based\\lib\\site-packages (from keras-tuner) (2.32.3)\n",
      "Requirement already satisfied: kt-legacy in c:\\users\\admin\\anaconda3\\envs\\gpu_based\\lib\\site-packages (from keras-tuner) (1.0.5)\n",
      "Requirement already satisfied: charset-normalizer<4,>=2 in c:\\users\\admin\\anaconda3\\envs\\gpu_based\\lib\\site-packages (from requests->keras-tuner) (3.4.1)\n",
      "Requirement already satisfied: idna<4,>=2.5 in c:\\users\\admin\\anaconda3\\envs\\gpu_based\\lib\\site-packages (from requests->keras-tuner) (3.10)\n",
      "Requirement already satisfied: urllib3<3,>=1.21.1 in c:\\users\\admin\\anaconda3\\envs\\gpu_based\\lib\\site-packages (from requests->keras-tuner) (2.2.3)\n",
      "Requirement already satisfied: certifi>=2017.4.17 in c:\\users\\admin\\anaconda3\\envs\\gpu_based\\lib\\site-packages (from requests->keras-tuner) (2024.12.14)\n",
      "Note: you may need to restart the kernel to use updated packages.\n"
     ]
    }
   ],
   "source": [
    "pip install keras-tuner"
   ]
  },
  {
   "cell_type": "code",
   "execution_count": 5,
   "id": "a4c614f2-c302-41c8-82be-4edc5fc10299",
   "metadata": {},
   "outputs": [],
   "source": [
    "import pandas as pd\n",
    "import re\n",
    "import nltk\n",
    "from nltk.tokenize import word_tokenize\n",
    "from nltk.corpus import stopwords\n",
    "from nltk.stem import WordNetLemmatizer"
   ]
  },
  {
   "cell_type": "code",
   "execution_count": 6,
   "id": "50a35162-b231-4836-b753-435e0eee263a",
   "metadata": {},
   "outputs": [],
   "source": [
    "df_x = pd.read_csv('Twitter_data.csv')\n",
    "df_reddit = pd.read_csv('Reddit_data.csv')\n",
    "df_news = pd.read_csv('News.csv')\n"
   ]
  },
  {
   "cell_type": "markdown",
   "id": "dd2314fe-e21b-47ee-b68e-5ff502fe775a",
   "metadata": {},
   "source": [
    "## X(Twitter)"
   ]
  },
  {
   "cell_type": "markdown",
   "id": "c01baff4-e35b-4fcf-be98-4f6259790009",
   "metadata": {},
   "source": [
    "### Data Cleaning"
   ]
  },
  {
   "cell_type": "code",
   "execution_count": 26,
   "id": "aa722272-6dae-4ffb-9f4e-8a3727cacba4",
   "metadata": {},
   "outputs": [],
   "source": [
    "valid_values = {0, 1, -1}\n",
    "df_x = df_x[df_x['category'].isin(valid_values)]"
   ]
  },
  {
   "cell_type": "code",
   "execution_count": 27,
   "id": "e3a08d3b-6d8f-4275-b300-e0d3bd1fc2f3",
   "metadata": {},
   "outputs": [],
   "source": [
    "# Function to clean tweets\n",
    "\n",
    "# Convert all entries in 'text' column to strings\n",
    "df_x['text'] = df_x['text'].astype(str)\n",
    "\n",
    "def clean_tweet(tweet):\n",
    "    # Remove mentions (@username)\n",
    "    tweet = re.sub(r'@\\w+', '', tweet)\n",
    "    # Remove URLs\n",
    "    tweet = re.sub(r'http\\S+|www\\S+|https\\S+', '', tweet, flags=re.MULTILINE)\n",
    "    # Remove special characters, numbers, and punctuations\n",
    "    tweet = re.sub(r'\\W', ' ', tweet)\n",
    "    # Remove extra spaces\n",
    "    tweet = re.sub(r'\\s+', ' ', tweet).strip()\n",
    "    # Convert to lowercase\n",
    "    tweet = tweet.lower()\n",
    "    return tweet\n",
    "\n",
    "# Apply the cleaning function to the 'Tweet' column\n",
    "df_x['Cleaned_Tweet'] = df_x['text'].apply(clean_tweet)"
   ]
  },
  {
   "cell_type": "code",
   "execution_count": 28,
   "id": "adb5c45d-3504-4e06-8aad-d5c6f8edd2d0",
   "metadata": {},
   "outputs": [
    {
     "name": "stderr",
     "output_type": "stream",
     "text": [
      "[nltk_data] Downloading package punkt to\n",
      "[nltk_data]     C:\\Users\\admin\\AppData\\Roaming\\nltk_data...\n",
      "[nltk_data]   Package punkt is already up-to-date!\n",
      "[nltk_data] Downloading package punkt_tab to\n",
      "[nltk_data]     C:\\Users\\admin\\AppData\\Roaming\\nltk_data...\n",
      "[nltk_data]   Package punkt_tab is already up-to-date!\n",
      "[nltk_data] Downloading package stopwords to\n",
      "[nltk_data]     C:\\Users\\admin\\AppData\\Roaming\\nltk_data...\n",
      "[nltk_data]   Package stopwords is already up-to-date!\n",
      "[nltk_data] Downloading package wordnet to\n",
      "[nltk_data]     C:\\Users\\admin\\AppData\\Roaming\\nltk_data...\n",
      "[nltk_data]   Package wordnet is already up-to-date!\n"
     ]
    }
   ],
   "source": [
    "# Tokenization\n",
    "nltk.download('punkt')\n",
    "nltk.download('punkt_tab')\n",
    "df_x['Tokens'] = df_x['Cleaned_Tweet'].apply(word_tokenize)\n",
    "\n",
    "\n",
    "# Removing Stopwords \n",
    "nltk.download('stopwords')\n",
    "stop_words = set(stopwords.words('english'))\n",
    "df_x['Tokens'] = df_x['Tokens'].apply(lambda x: [word for word in x if word not in stop_words])\n",
    "\n",
    "# Lemmatization\n",
    "nltk.download('wordnet')\n",
    "lemmatizer = WordNetLemmatizer()\n",
    "df_x['Tokens'] = df_x['Tokens'].apply(lambda x: [lemmatizer.lemmatize(word) for word in x])"
   ]
  },
  {
   "cell_type": "code",
   "execution_count": 29,
   "id": "bee9069c-6c72-4222-bff2-cd7359c19dd8",
   "metadata": {},
   "outputs": [
    {
     "data": {
      "text/html": [
       "<div>\n",
       "<style scoped>\n",
       "    .dataframe tbody tr th:only-of-type {\n",
       "        vertical-align: middle;\n",
       "    }\n",
       "\n",
       "    .dataframe tbody tr th {\n",
       "        vertical-align: top;\n",
       "    }\n",
       "\n",
       "    .dataframe thead th {\n",
       "        text-align: right;\n",
       "    }\n",
       "</style>\n",
       "<table border=\"1\" class=\"dataframe\">\n",
       "  <thead>\n",
       "    <tr style=\"text-align: right;\">\n",
       "      <th></th>\n",
       "      <th>text</th>\n",
       "      <th>category</th>\n",
       "      <th>Cleaned_Tweet</th>\n",
       "      <th>Tokens</th>\n",
       "    </tr>\n",
       "  </thead>\n",
       "  <tbody>\n",
       "    <tr>\n",
       "      <th>0</th>\n",
       "      <td>when modi promised “minimum government maximum...</td>\n",
       "      <td>-1.0</td>\n",
       "      <td>modi promised minimum government maximum gover...</td>\n",
       "      <td>[modi, promised, minimum, government, maximum,...</td>\n",
       "    </tr>\n",
       "    <tr>\n",
       "      <th>1</th>\n",
       "      <td>talk all the nonsense and continue all the dra...</td>\n",
       "      <td>0.0</td>\n",
       "      <td>talk nonsense continue drama vote modi</td>\n",
       "      <td>[talk, nonsense, continue, drama, vote, modi]</td>\n",
       "    </tr>\n",
       "    <tr>\n",
       "      <th>2</th>\n",
       "      <td>what did just say vote for modi  welcome bjp t...</td>\n",
       "      <td>1.0</td>\n",
       "      <td>say vote modi welcome bjp told rahul main camp...</td>\n",
       "      <td>[say, vote, modi, welcome, bjp, told, rahul, m...</td>\n",
       "    </tr>\n",
       "    <tr>\n",
       "      <th>3</th>\n",
       "      <td>asking his supporters prefix chowkidar their n...</td>\n",
       "      <td>1.0</td>\n",
       "      <td>asking supporter prefix chowkidar name modi gr...</td>\n",
       "      <td>[asking, supporter, prefix, chowkidar, name, m...</td>\n",
       "    </tr>\n",
       "    <tr>\n",
       "      <th>4</th>\n",
       "      <td>answer who among these the most powerful world...</td>\n",
       "      <td>1.0</td>\n",
       "      <td>answer among powerful world leader today trump...</td>\n",
       "      <td>[answer, among, powerful, world, leader, today...</td>\n",
       "    </tr>\n",
       "  </tbody>\n",
       "</table>\n",
       "</div>"
      ],
      "text/plain": [
       "                                                text  category  \\\n",
       "0  when modi promised “minimum government maximum...      -1.0   \n",
       "1  talk all the nonsense and continue all the dra...       0.0   \n",
       "2  what did just say vote for modi  welcome bjp t...       1.0   \n",
       "3  asking his supporters prefix chowkidar their n...       1.0   \n",
       "4  answer who among these the most powerful world...       1.0   \n",
       "\n",
       "                                       Cleaned_Tweet  \\\n",
       "0  modi promised minimum government maximum gover...   \n",
       "1             talk nonsense continue drama vote modi   \n",
       "2  say vote modi welcome bjp told rahul main camp...   \n",
       "3  asking supporter prefix chowkidar name modi gr...   \n",
       "4  answer among powerful world leader today trump...   \n",
       "\n",
       "                                              Tokens  \n",
       "0  [modi, promised, minimum, government, maximum,...  \n",
       "1      [talk, nonsense, continue, drama, vote, modi]  \n",
       "2  [say, vote, modi, welcome, bjp, told, rahul, m...  \n",
       "3  [asking, supporter, prefix, chowkidar, name, m...  \n",
       "4  [answer, among, powerful, world, leader, today...  "
      ]
     },
     "execution_count": 29,
     "metadata": {},
     "output_type": "execute_result"
    }
   ],
   "source": [
    "df_x['Cleaned_Tweet'] = df_x['Tokens'].apply(lambda x: ' '.join(x))\n",
    "df_x = df_x.dropna(subset=['Cleaned_Tweet'])\n",
    "df_x = df_x.drop_duplicates(subset=['Cleaned_Tweet'])\n",
    "\n",
    "df_x.head()"
   ]
  },
  {
   "cell_type": "markdown",
   "id": "9c9d2fb5-37aa-462c-b87e-eb7ed73af08b",
   "metadata": {},
   "source": [
    "## Data Splitting"
   ]
  },
  {
   "cell_type": "code",
   "execution_count": 30,
   "id": "0e7587a5-fa90-45a4-a5a8-6dc7a940643f",
   "metadata": {},
   "outputs": [],
   "source": [
    "from sklearn.model_selection import train_test_split"
   ]
  },
  {
   "cell_type": "code",
   "execution_count": 31,
   "id": "8af4afaf-b013-40aa-9536-67825c84e430",
   "metadata": {},
   "outputs": [],
   "source": [
    "# Split into train (70%) and temp (30%)\n",
    "df_train, df_temp = train_test_split(\n",
    "    df_x, test_size=0.3, random_state=42, stratify=df_x['category']\n",
    ")\n",
    "\n",
    "\n",
    "# Split the temp dataset into validate (15%) and test (15%)\n",
    "df_validate, df_test = train_test_split(\n",
    "    df_temp, test_size=0.5, random_state=42, stratify=df_temp['category']\n",
    ")"
   ]
  },
  {
   "cell_type": "markdown",
   "id": "1364ad94-3af4-49f3-a5a4-2a6903f070ac",
   "metadata": {},
   "source": [
    "## Sentiment Analysis"
   ]
  },
  {
   "cell_type": "code",
   "execution_count": 32,
   "id": "801c7a8a-1790-45c6-ad48-9747a634b64d",
   "metadata": {},
   "outputs": [],
   "source": [
    "import numpy as np\n",
    "import pandas as pd\n",
    "import re\n",
    "import nltk\n",
    "import matplotlib.pyplot as plt\n",
    "import seaborn as sns\n",
    "\n",
    "# Deep learning imports\n",
    "import tensorflow as tf\n",
    "from tensorflow.keras.preprocessing.text import Tokenizer\n",
    "from tensorflow.keras.preprocessing.sequence import pad_sequences\n",
    "from tensorflow.keras.models import Sequential\n",
    "from tensorflow.keras.layers import Embedding, Conv1D, GlobalMaxPooling1D, Dense, Dropout\n",
    "from tensorflow.keras.optimizers import Adam\n",
    "\n",
    "# Sklearn imports for label encoding and metrics\n",
    "from sklearn.preprocessing import LabelEncoder\n",
    "from sklearn.metrics import accuracy_score, precision_score, recall_score, f1_score, classification_report, confusion_matrix"
   ]
  },
  {
   "cell_type": "markdown",
   "id": "fc84c330",
   "metadata": {},
   "source": [
    "### Preparing GPU"
   ]
  },
  {
   "cell_type": "code",
   "execution_count": 14,
   "id": "7c277566",
   "metadata": {},
   "outputs": [
    {
     "name": "stdout",
     "output_type": "stream",
     "text": [
      "2.10.0\n",
      "/device:GPU:0\n",
      "<function set_visible_devices at 0x000002B2EE9B4670>\n",
      "<function set_visible_devices at 0x000002B2EE9B4670>\n",
      "GPU: [PhysicalDevice(name='/physical_device:GPU:0', device_type='GPU')]\n",
      "CPU: [PhysicalDevice(name='/physical_device:CPU:0', device_type='CPU')]\n",
      "[PhysicalDevice(name='/physical_device:GPU:0', device_type='GPU')]\n",
      "WARNING:tensorflow:From C:\\Users\\admin\\AppData\\Local\\Temp\\ipykernel_932\\1943151892.py:8: is_gpu_available (from tensorflow.python.framework.test_util) is deprecated and will be removed in a future version.\n",
      "Instructions for updating:\n",
      "Use `tf.config.list_physical_devices('GPU')` instead.\n",
      "True\n",
      "Num GPUs Available:  1\n"
     ]
    }
   ],
   "source": [
    "print(tf.__version__)\n",
    "print(tf.test.gpu_device_name())\n",
    "print(tf.config.experimental.set_visible_devices)\n",
    "print(tf.config.experimental.set_visible_devices)\n",
    "print('GPU:', tf.config.list_physical_devices('GPU'))\n",
    "print('CPU:', tf.config.list_physical_devices(device_type='CPU'))\n",
    "print(tf.config.list_physical_devices('GPU'))\n",
    "print(tf.test.is_gpu_available())\n",
    "print(\"Num GPUs Available: \", len(tf.config.experimental.list_physical_devices('GPU')))\n"
   ]
  },
  {
   "cell_type": "code",
   "execution_count": 15,
   "id": "a3dd1386",
   "metadata": {},
   "outputs": [
    {
     "name": "stdout",
     "output_type": "stream",
     "text": [
      "tf.Tensor([[32.]], shape=(1, 1), dtype=float32)\n",
      "TensorFlow is using: /job:localhost/replica:0/task:0/device:GPU:0\n"
     ]
    }
   ],
   "source": [
    "import tensorflow as tf\n",
    "\n",
    "# Perform a simple operation\n",
    "a = tf.constant([[1.0, 2.0, 3.0]])\n",
    "b = tf.constant([[4.0], [5.0], [6.0]])\n",
    "c = tf.matmul(a, b)\n",
    "\n",
    "print(c)\n",
    "print(\"TensorFlow is using:\", c.device)"
   ]
  },
  {
   "cell_type": "markdown",
   "id": "004b8c08-bb73-447c-a50e-e5e843907583",
   "metadata": {},
   "source": [
    "### Data Preparation"
   ]
  },
  {
   "cell_type": "code",
   "execution_count": 25,
   "id": "0163aaa9-4fe8-452d-89dc-ee45fad41404",
   "metadata": {},
   "outputs": [],
   "source": [
    "# Extract texts and labels\n",
    "X_train_texts = df_train['Cleaned_Tweet'].tolist()\n",
    "X_val_texts   = df_validate['Cleaned_Tweet'].tolist()\n",
    "X_test_texts  = df_test['Cleaned_Tweet'].tolist()\n",
    "\n",
    "y_train = df_train['category'].values\n",
    "y_val   = df_validate['category'].values\n",
    "y_test  = df_test['category'].values\n",
    "\n",
    "# If your labels are numeric (-1, 0, 1), no need for LabelEncoder; otherwise, encode them\n",
    "if y_train.dtype != int:  # Encode only if not already integers\n",
    "    label_encoder = LabelEncoder()\n",
    "    label_encoder.fit(y_train)  # Fit on train set\n",
    "    y_train_enc = label_encoder.transform(y_train)\n",
    "    y_val_enc   = label_encoder.transform(y_val)\n",
    "    y_test_enc  = label_encoder.transform(y_test)\n",
    "\n",
    "# Tokenize texts\n",
    "tokenizer = Tokenizer(num_words=10000, lower=True, oov_token=\"<OOV>\")\n",
    "tokenizer.fit_on_texts(X_train_texts)\n",
    "\n",
    "# Convert texts to sequences\n",
    "X_train_seq = tokenizer.texts_to_sequences(X_train_texts)\n",
    "X_val_seq   = tokenizer.texts_to_sequences(X_val_texts)\n",
    "X_test_seq  = tokenizer.texts_to_sequences(X_test_texts)\n",
    "\n",
    "# Define a predefined max length for padding\n",
    "max_len = 200  # You can use a fixed max length (e.g., 200 tokens)\n",
    "\n",
    "# Pad sequences\n",
    "X_train_pad = pad_sequences(X_train_seq, maxlen=max_len, padding='post', truncating='post')\n",
    "X_val_pad   = pad_sequences(X_val_seq, maxlen=max_len, padding='post', truncating='post')\n",
    "X_test_pad  = pad_sequences(X_test_seq, maxlen=max_len, padding='post', truncating='post')"
   ]
  },
  {
   "cell_type": "markdown",
   "id": "1dcfd4c8-a8dc-4e34-841d-dee31a01fc34",
   "metadata": {},
   "source": [
    "## Logistic Regression"
   ]
  },
  {
   "cell_type": "code",
   "execution_count": 17,
   "id": "66e43fc4-475a-4a4f-ba01-179b3fca49a0",
   "metadata": {},
   "outputs": [],
   "source": [
    "from sklearn.model_selection import train_test_split\n",
    "from sklearn.feature_extraction.text import TfidfVectorizer\n",
    "from sklearn.linear_model import LogisticRegression\n",
    "from sklearn.model_selection import GridSearchCV"
   ]
  },
  {
   "cell_type": "markdown",
   "id": "5e94207a-cf7c-4ad1-a988-855bba8d5b75",
   "metadata": {},
   "source": [
    "### TF–IDF Vectorization"
   ]
  },
  {
   "cell_type": "code",
   "execution_count": 21,
   "id": "d5842467-5286-4b14-a748-82c15dd36df5",
   "metadata": {},
   "outputs": [],
   "source": [
    "tfidf_vectorizer = TfidfVectorizer(\n",
    "    lowercase=True,\n",
    "    max_features=10000,           # You can tune this\n",
    "    ngram_range=(1, 2),           # You can tune this as well\n",
    "    stop_words='english'          # Optionally set stopwords\n",
    ")\n",
    "\n",
    "X_train_tfidf = tfidf_vectorizer.fit_transform(X_train_texts)\n",
    "X_val_tfidf   = tfidf_vectorizer.transform(X_val_texts)\n",
    "X_test_tfidf  = tfidf_vectorizer.transform(X_test_texts)"
   ]
  },
  {
   "cell_type": "markdown",
   "id": "a110e473-c7e5-45e3-aa41-9106947b3130",
   "metadata": {},
   "source": [
    "### Logistic Regression + Regularization"
   ]
  },
  {
   "cell_type": "code",
   "execution_count": 22,
   "id": "397632c6-6e94-4c9c-92e1-07de96cd1a50",
   "metadata": {},
   "outputs": [
    {
     "name": "stdout",
     "output_type": "stream",
     "text": [
      "Fitting 5 folds for each of 3 candidates, totalling 15 fits\n",
      "[CV 1/5] END C=0.1, penalty=l2, solver=liblinear;, score=0.707 total time=   0.6s\n",
      "[CV 2/5] END C=0.1, penalty=l2, solver=liblinear;, score=0.704 total time=   0.5s\n",
      "[CV 3/5] END C=0.1, penalty=l2, solver=liblinear;, score=0.705 total time=   0.4s\n",
      "[CV 4/5] END C=0.1, penalty=l2, solver=liblinear;, score=0.703 total time=   0.4s\n",
      "[CV 5/5] END C=0.1, penalty=l2, solver=liblinear;, score=0.705 total time=   0.4s\n",
      "[CV 1/5] END C=1.0, penalty=l2, solver=liblinear;, score=0.814 total time=   0.7s\n",
      "[CV 2/5] END C=1.0, penalty=l2, solver=liblinear;, score=0.811 total time=   0.8s\n",
      "[CV 3/5] END C=1.0, penalty=l2, solver=liblinear;, score=0.808 total time=   0.8s\n",
      "[CV 4/5] END C=1.0, penalty=l2, solver=liblinear;, score=0.814 total time=   0.8s\n",
      "[CV 5/5] END C=1.0, penalty=l2, solver=liblinear;, score=0.812 total time=   0.8s\n",
      "[CV 1/5] END C=10.0, penalty=l2, solver=liblinear;, score=0.831 total time=   1.4s\n",
      "[CV 2/5] END C=10.0, penalty=l2, solver=liblinear;, score=0.827 total time=   1.3s\n",
      "[CV 3/5] END C=10.0, penalty=l2, solver=liblinear;, score=0.826 total time=   1.4s\n",
      "[CV 4/5] END C=10.0, penalty=l2, solver=liblinear;, score=0.833 total time=   1.4s\n",
      "[CV 5/5] END C=10.0, penalty=l2, solver=liblinear;, score=0.831 total time=   1.4s\n"
     ]
    }
   ],
   "source": [
    "# Define hyperparameter grid\n",
    "param_grid = {\n",
    "    'C': [0.1, 1.0, 10.0],  # Fewer values for C\n",
    "    'penalty': ['l2'],      # Use only L2 regularization\n",
    "    'solver': ['liblinear'] # Use only one solver\n",
    "}\n",
    "\n",
    "# Perform Grid Search with Logistic Regression\n",
    "grid_search = GridSearchCV(\n",
    "    LogisticRegression(max_iter=1000, random_state=42),  # Base model\n",
    "    param_grid,\n",
    "    scoring='f1_macro',  # Optimize for F1-score\n",
    "    cv=5,              # 5-fold cross-validation\n",
    "    verbose=3\n",
    ")\n",
    "\n",
    "# Fit the grid search\n",
    "grid_search.fit(X_train_tfidf, y_train_enc)\n",
    "\n",
    "# Best model based on grid search\n",
    "best_log_reg_model = grid_search.best_estimator_\n",
    "\n",
    "# Predict on validation set using the best model\n",
    "y_val_pred = best_log_reg_model.predict(X_val_tfidf)"
   ]
  },
  {
   "cell_type": "markdown",
   "id": "43b6e02a-2a92-46be-b686-4626a723370a",
   "metadata": {},
   "source": [
    "### Evaluation on the Validation Set"
   ]
  },
  {
   "cell_type": "code",
   "execution_count": 23,
   "id": "2afb5fc6-d04f-4d9e-a0f5-0f1fe28e0cff",
   "metadata": {},
   "outputs": [
    {
     "name": "stdout",
     "output_type": "stream",
     "text": [
      "Validation Accuracy : 0.8408812729498164\n",
      "Validation Precision: 0.8378150524695088\n",
      "Validation Recall   : 0.8314237656950976\n",
      "Validation F1-score : 0.8323228235068134\n",
      "\n",
      "Validation Classification Report:\n",
      "              precision    recall  f1-score   support\n",
      "\n",
      "           0       0.83      0.75      0.79      5219\n",
      "           1       0.80      0.92      0.86      7890\n",
      "           2       0.88      0.83      0.86     10584\n",
      "\n",
      "    accuracy                           0.84     23693\n",
      "   macro avg       0.84      0.83      0.83     23693\n",
      "weighted avg       0.84      0.84      0.84     23693\n",
      "\n"
     ]
    }
   ],
   "source": [
    "val_accuracy = accuracy_score(y_val_enc, y_val_pred)\n",
    "val_precision = precision_score(y_val_enc, y_val_pred, average='macro')\n",
    "val_recall = recall_score(y_val_enc, y_val_pred, average='macro')\n",
    "val_f1 = f1_score(y_val_enc, y_val_pred, average='macro')\n",
    "\n",
    "print(\"Validation Accuracy :\", val_accuracy)\n",
    "print(\"Validation Precision:\", val_precision)\n",
    "print(\"Validation Recall   :\", val_recall)\n",
    "print(\"Validation F1-score :\", val_f1)\n",
    "print(\"\\nValidation Classification Report:\")\n",
    "print(classification_report(y_val_enc, y_val_pred))"
   ]
  },
  {
   "cell_type": "markdown",
   "id": "0ac6de0d-40c7-4f82-b0a1-65b4ee5dea94",
   "metadata": {},
   "source": [
    "### Final Evaluation on the Testing Set"
   ]
  },
  {
   "cell_type": "code",
   "execution_count": 24,
   "id": "99539198-d1fb-4d0a-9d66-9f9958714643",
   "metadata": {},
   "outputs": [
    {
     "name": "stdout",
     "output_type": "stream",
     "text": [
      "\n",
      "Test Accuracy : 0.8442155911028574\n",
      "Test Precision: 0.8404415407459357\n",
      "Test Recall   : 0.8336222100589916\n",
      "Test F1-score : 0.8348850834684973\n",
      "\n",
      "Test Classification Report:\n",
      "              precision    recall  f1-score   support\n",
      "\n",
      "           0       0.83      0.74      0.78      5220\n",
      "           1       0.81      0.92      0.86      7889\n",
      "           2       0.88      0.84      0.86     10584\n",
      "\n",
      "    accuracy                           0.84     23693\n",
      "   macro avg       0.84      0.83      0.83     23693\n",
      "weighted avg       0.85      0.84      0.84     23693\n",
      "\n"
     ]
    },
    {
     "data": {
      "image/png": "[encoded data removed]",
      "text/plain": [
       "<Figure size 640x480 with 2 Axes>"
      ]
     },
     "metadata": {},
     "output_type": "display_data"
    }
   ],
   "source": [
    "y_test_pred = best_log_reg_model.predict(X_test_tfidf)\n",
    "\n",
    "test_accuracy = accuracy_score(y_test_enc, y_test_pred)\n",
    "test_precision = precision_score(y_test_enc, y_test_pred, average='macro')\n",
    "test_recall = recall_score(y_test_enc, y_test_pred, average='macro')\n",
    "test_f1 = f1_score(y_test_enc, y_test_pred, average='macro')\n",
    "\n",
    "print(\"\\nTest Accuracy :\", test_accuracy)\n",
    "print(\"Test Precision:\", test_precision)\n",
    "print(\"Test Recall   :\", test_recall)\n",
    "print(\"Test F1-score :\", test_f1)\n",
    "print(\"\\nTest Classification Report:\")\n",
    "print(classification_report(y_test_enc, y_test_pred))\n",
    "\n",
    "cm = confusion_matrix(y_test_enc, y_test_pred)\n",
    "sns.heatmap(cm, annot=True, fmt='d', cmap='Reds')\n",
    "plt.title(\"Confusion Matrix - Logistic Regression\")\n",
    "plt.xlabel(\"Predicted Label\")\n",
    "plt.ylabel(\"True Label\")\n",
    "plt.show()"
   ]
  },
  {
   "cell_type": "markdown",
   "id": "48d5bfe7-d2ad-4216-821f-e0cf88b347d5",
   "metadata": {},
   "source": [
    "## SVM"
   ]
  },
  {
   "cell_type": "code",
   "execution_count": 25,
   "id": "d5e9cb55-8706-446a-a5ca-6621029732eb",
   "metadata": {},
   "outputs": [],
   "source": [
    "from sklearn.svm import SVC  # Support Vector Classifier"
   ]
  },
  {
   "cell_type": "markdown",
   "id": "b1e8a89c-d170-4aff-b49e-b90ca312e35c",
   "metadata": {},
   "source": [
    "### TF–IDF Vectorization"
   ]
  },
  {
   "cell_type": "code",
   "execution_count": 26,
   "id": "89aa3567-ce7c-4bcb-93d4-5c255f7d82b1",
   "metadata": {},
   "outputs": [],
   "source": [
    "tfidf_vectorizer = TfidfVectorizer(\n",
    "    lowercase=True,\n",
    "    max_features=10000,    # Tune as needed\n",
    "    ngram_range=(1, 2),    # Optionally use bigrams\n",
    "    stop_words='english'   # Can remove if you don't want to remove stop words\n",
    ")\n",
    "\n",
    "X_train_tfidf = tfidf_vectorizer.fit_transform(X_train_texts)\n",
    "X_val_tfidf   = tfidf_vectorizer.transform(X_val_texts)\n",
    "X_test_tfidf  = tfidf_vectorizer.transform(X_test_texts)"
   ]
  },
  {
   "cell_type": "markdown",
   "id": "655dbc5a-d25c-453e-b5b1-63fac4d40282",
   "metadata": {},
   "source": [
    "### SVM Classifier"
   ]
  },
  {
   "cell_type": "code",
   "execution_count": 27,
   "id": "47a011c7-7ad1-487e-a283-2bd217505b65",
   "metadata": {},
   "outputs": [],
   "source": [
    "from sklearn.svm import LinearSVC"
   ]
  },
  {
   "cell_type": "code",
   "execution_count": 28,
   "id": "0a20a809-42e1-4251-b9de-98d9268037be",
   "metadata": {},
   "outputs": [
    {
     "name": "stderr",
     "output_type": "stream",
     "text": [
      "c:\\Users\\admin\\anaconda3\\envs\\GPU_based\\lib\\site-packages\\sklearn\\svm\\_classes.py:32: FutureWarning: The default value of `dual` will change from `True` to `'auto'` in 1.5. Set the value of `dual` explicitly to suppress the warning.\n",
      "  warnings.warn(\n"
     ]
    },
    {
     "name": "stdout",
     "output_type": "stream",
     "text": [
      "[LibLinear]"
     ]
    },
    {
     "data": {
      "text/html": [
       "<style>#sk-container-id-1 {color: black;}#sk-container-id-1 pre{padding: 0;}#sk-container-id-1 div.sk-toggleable {background-color: white;}#sk-container-id-1 label.sk-toggleable__label {cursor: pointer;display: block;width: 100%;margin-bottom: 0;padding: 0.3em;box-sizing: border-box;text-align: center;}#sk-container-id-1 label.sk-toggleable__label-arrow:before {content: \"▸\";float: left;margin-right: 0.25em;color: #696969;}#sk-container-id-1 label.sk-toggleable__label-arrow:hover:before {color: black;}#sk-container-id-1 div.sk-estimator:hover label.sk-toggleable__label-arrow:before {color: black;}#sk-container-id-1 div.sk-toggleable__content {max-height: 0;max-width: 0;overflow: hidden;text-align: left;background-color: #f0f8ff;}#sk-container-id-1 div.sk-toggleable__content pre {margin: 0.2em;color: black;border-radius: 0.25em;background-color: #f0f8ff;}#sk-container-id-1 input.sk-toggleable__control:checked~div.sk-toggleable__content {max-height: 200px;max-width: 100%;overflow: auto;}#sk-container-id-1 input.sk-toggleable__control:checked~label.sk-toggleable__label-arrow:before {content: \"▾\";}#sk-container-id-1 div.sk-estimator input.sk-toggleable__control:checked~label.sk-toggleable__label {background-color: #d4ebff;}#sk-container-id-1 div.sk-label input.sk-toggleable__control:checked~label.sk-toggleable__label {background-color: #d4ebff;}#sk-container-id-1 input.sk-hidden--visually {border: 0;clip: rect(1px 1px 1px 1px);clip: rect(1px, 1px, 1px, 1px);height: 1px;margin: -1px;overflow: hidden;padding: 0;position: absolute;width: 1px;}#sk-container-id-1 div.sk-estimator {font-family: monospace;background-color: #f0f8ff;border: 1px dotted black;border-radius: 0.25em;box-sizing: border-box;margin-bottom: 0.5em;}#sk-container-id-1 div.sk-estimator:hover {background-color: #d4ebff;}#sk-container-id-1 div.sk-parallel-item::after {content: \"\";width: 100%;border-bottom: 1px solid gray;flex-grow: 1;}#sk-container-id-1 div.sk-label:hover label.sk-toggleable__label {background-color: #d4ebff;}#sk-container-id-1 div.sk-serial::before {content: \"\";position: absolute;border-left: 1px solid gray;box-sizing: border-box;top: 0;bottom: 0;left: 50%;z-index: 0;}#sk-container-id-1 div.sk-serial {display: flex;flex-direction: column;align-items: center;background-color: white;padding-right: 0.2em;padding-left: 0.2em;position: relative;}#sk-container-id-1 div.sk-item {position: relative;z-index: 1;}#sk-container-id-1 div.sk-parallel {display: flex;align-items: stretch;justify-content: center;background-color: white;position: relative;}#sk-container-id-1 div.sk-item::before, #sk-container-id-1 div.sk-parallel-item::before {content: \"\";position: absolute;border-left: 1px solid gray;box-sizing: border-box;top: 0;bottom: 0;left: 50%;z-index: -1;}#sk-container-id-1 div.sk-parallel-item {display: flex;flex-direction: column;z-index: 1;position: relative;background-color: white;}#sk-container-id-1 div.sk-parallel-item:first-child::after {align-self: flex-end;width: 50%;}#sk-container-id-1 div.sk-parallel-item:last-child::after {align-self: flex-start;width: 50%;}#sk-container-id-1 div.sk-parallel-item:only-child::after {width: 0;}#sk-container-id-1 div.sk-dashed-wrapped {border: 1px dashed gray;margin: 0 0.4em 0.5em 0.4em;box-sizing: border-box;padding-bottom: 0.4em;background-color: white;}#sk-container-id-1 div.sk-label label {font-family: monospace;font-weight: bold;display: inline-block;line-height: 1.2em;}#sk-container-id-1 div.sk-label-container {text-align: center;}#sk-container-id-1 div.sk-container {/* jupyter's `normalize.less` sets `[hidden] { display: none; }` but bootstrap.min.css set `[hidden] { display: none !important; }` so we also need the `!important` here to be able to override the default hidden behavior on the sphinx rendered scikit-learn.org. See: https://github.com/scikit-learn/scikit-learn/issues/21755 */display: inline-block !important;position: relative;}#sk-container-id-1 div.sk-text-repr-fallback {display: none;}</style><div id=\"sk-container-id-1\" class=\"sk-top-container\"><div class=\"sk-text-repr-fallback\"><pre>LinearSVC(random_state=42, verbose=1)</pre><b>In a Jupyter environment, please rerun this cell to show the HTML representation or trust the notebook. <br />On GitHub, the HTML representation is unable to render, please try loading this page with nbviewer.org.</b></div><div class=\"sk-container\" hidden><div class=\"sk-item\"><div class=\"sk-estimator sk-toggleable\"><input class=\"sk-toggleable__control sk-hidden--visually\" id=\"sk-estimator-id-1\" type=\"checkbox\" checked><label for=\"sk-estimator-id-1\" class=\"sk-toggleable__label sk-toggleable__label-arrow\">LinearSVC</label><div class=\"sk-toggleable__content\"><pre>LinearSVC(random_state=42, verbose=1)</pre></div></div></div></div></div>"
      ],
      "text/plain": [
       "LinearSVC(random_state=42, verbose=1)"
      ]
     },
     "execution_count": 28,
     "metadata": {},
     "output_type": "execute_result"
    }
   ],
   "source": [
    "svm_model = LinearSVC(\n",
    "    C=1.0,             # Regularization parameter\n",
    "    random_state=42,\n",
    "    verbose=1          # Enable progress updates\n",
    ")\n",
    "\n",
    "# Fit the model\n",
    "svm_model.fit(X_train_tfidf, y_train_enc)"
   ]
  },
  {
   "cell_type": "code",
   "execution_count": 29,
   "id": "c53d2513-af87-4a8a-9488-c2fcf0fedcda",
   "metadata": {},
   "outputs": [],
   "source": [
    "# Predict on validation\n",
    "y_val_pred = svm_model.predict(X_val_tfidf)"
   ]
  },
  {
   "cell_type": "markdown",
   "id": "26ad85a9-fee7-44b8-a970-5b9c2b4fb730",
   "metadata": {},
   "source": [
    "### Evaluate on the Validation Set"
   ]
  },
  {
   "cell_type": "code",
   "execution_count": 30,
   "id": "ae73e4f9-fd44-4aca-b391-a4038b2c8f4e",
   "metadata": {},
   "outputs": [
    {
     "name": "stdout",
     "output_type": "stream",
     "text": [
      "Validation Accuracy : 0.8438357320727641\n",
      "Validation Precision: 0.8410558539313872\n",
      "Validation Recall   : 0.8352862232164604\n",
      "Validation F1-score : 0.8353427348409098\n",
      "\n",
      "Validation Classification Report:\n",
      "              precision    recall  f1-score   support\n",
      "\n",
      "           0       0.83      0.75      0.79      5219\n",
      "           1       0.80      0.93      0.86      7890\n",
      "           2       0.89      0.83      0.86     10584\n",
      "\n",
      "    accuracy                           0.84     23693\n",
      "   macro avg       0.84      0.84      0.84     23693\n",
      "weighted avg       0.85      0.84      0.84     23693\n",
      "\n"
     ]
    }
   ],
   "source": [
    "# Evaluate on validation set\n",
    "val_accuracy = accuracy_score(y_val_enc, y_val_pred)\n",
    "val_precision = precision_score(y_val_enc, y_val_pred, average='macro')\n",
    "val_recall = recall_score(y_val_enc, y_val_pred, average='macro')\n",
    "val_f1 = f1_score(y_val_enc, y_val_pred, average='macro')\n",
    "\n",
    "print(\"Validation Accuracy :\", val_accuracy)\n",
    "print(\"Validation Precision:\", val_precision)\n",
    "print(\"Validation Recall   :\", val_recall)\n",
    "print(\"Validation F1-score :\", val_f1)\n",
    "print(\"\\nValidation Classification Report:\")\n",
    "print(classification_report(y_val_enc, y_val_pred))\n"
   ]
  },
  {
   "cell_type": "markdown",
   "id": "16db98fc-7bf0-4da4-9a85-fa10bbf227db",
   "metadata": {},
   "source": [
    "### Final Evaluation on Testing Data"
   ]
  },
  {
   "cell_type": "code",
   "execution_count": 31,
   "id": "c20b53d8-6240-4824-afb6-42177fe7cd7b",
   "metadata": {},
   "outputs": [
    {
     "name": "stdout",
     "output_type": "stream",
     "text": [
      "\n",
      "Test Accuracy : 0.8475077026969992\n",
      "Test Precision: 0.8438519310045303\n",
      "Test Recall   : 0.8377480099708272\n",
      "Test F1-score : 0.8382317763707815\n",
      "\n",
      "Test Classification Report:\n",
      "              precision    recall  f1-score   support\n",
      "\n",
      "           0       0.83      0.75      0.79      5220\n",
      "           1       0.81      0.93      0.86      7889\n",
      "           2       0.89      0.83      0.86     10584\n",
      "\n",
      "    accuracy                           0.85     23693\n",
      "   macro avg       0.84      0.84      0.84     23693\n",
      "weighted avg       0.85      0.85      0.85     23693\n",
      "\n"
     ]
    },
    {
     "data": {
      "image/png": "[encoded data removed]",
      "text/plain": [
       "<Figure size 640x480 with 2 Axes>"
      ]
     },
     "metadata": {},
     "output_type": "display_data"
    }
   ],
   "source": [
    "y_test_pred = svm_model.predict(X_test_tfidf)\n",
    "\n",
    "test_accuracy = accuracy_score(y_test_enc, y_test_pred)\n",
    "test_precision = precision_score(y_test_enc, y_test_pred, average='macro')\n",
    "test_recall = recall_score(y_test_enc, y_test_pred, average='macro')\n",
    "test_f1 = f1_score(y_test_enc, y_test_pred, average='macro')\n",
    "\n",
    "print(\"\\nTest Accuracy :\", test_accuracy)\n",
    "print(\"Test Precision:\", test_precision)\n",
    "print(\"Test Recall   :\", test_recall)\n",
    "print(\"Test F1-score :\", test_f1)\n",
    "print(\"\\nTest Classification Report:\")\n",
    "print(classification_report(y_test_enc, y_test_pred))\n",
    "\n",
    "cm = confusion_matrix(y_test_enc, y_test_pred)\n",
    "sns.heatmap(cm, annot=True, fmt='d', cmap='Reds')\n",
    "plt.title(\"Confusion Matrix - SVM\")\n",
    "plt.xlabel(\"Predicted Label\")\n",
    "plt.ylabel(\"True Label\")\n",
    "plt.show()\n"
   ]
  },
  {
   "cell_type": "markdown",
   "id": "ae9c1ecf-986e-49cd-8298-a398f76ddd43",
   "metadata": {},
   "source": [
    "## CNN"
   ]
  },
  {
   "cell_type": "code",
   "execution_count": 19,
   "id": "4e00c6b2-7960-4d40-9b03-70bbb99c3633",
   "metadata": {},
   "outputs": [],
   "source": [
    "from tensorflow.keras.models import Sequential\n",
    "from tensorflow.keras.layers import Embedding, Conv1D, GlobalMaxPooling1D, Dense, Dropout\n",
    "from tensorflow.keras.optimizers import Adam\n",
    "import keras_tuner as kt"
   ]
  },
  {
   "cell_type": "markdown",
   "id": "f237b1e1-c868-4d23-8a23-fb4b7303f442",
   "metadata": {},
   "source": [
    "### Build CNN Model"
   ]
  },
  {
   "cell_type": "code",
   "execution_count": 18,
   "id": "a31ecc52-623e-48bb-95ea-ff4bcd5f7535",
   "metadata": {},
   "outputs": [],
   "source": [
    "# Define global variables\n",
    "vocab_size = 10000  # Vocabulary size\n",
    "input_length = max_len  # Maximum length of padded sequences\n",
    "num_classes = len(np.unique(y_train_enc))  # Number of output classes"
   ]
  },
  {
   "cell_type": "code",
   "execution_count": 34,
   "id": "a8c6b034-2fae-4e39-b4c7-6f700d9d1904",
   "metadata": {},
   "outputs": [],
   "source": [
    "def build_model(hp):\n",
    "    \"\"\"\n",
    "    Build a CNN model with tunable hyperparameters for text classification.\n",
    "    :param hp: Hyperparameter object from Keras Tuner\n",
    "    :return: Compiled Keras model\n",
    "    \"\"\"\n",
    "    model = Sequential()\n",
    "\n",
    "    # Embedding layer\n",
    "    model.add(Embedding(\n",
    "        input_dim=vocab_size,\n",
    "        output_dim=hp.Choice('embedding_dim', [50, 100, 200]),  # Tune embedding dimensions\n",
    "        input_length=input_length\n",
    "    ))\n",
    "    \n",
    "    # Convolutional layer\n",
    "    model.add(Conv1D(\n",
    "        filters=hp.Choice('filters', [64, 128, 256]),   # Tune number of filters\n",
    "        kernel_size=hp.Choice('kernel_size', [3, 5, 7]), # Tune kernel size\n",
    "        activation='relu'\n",
    "    ))\n",
    "    model.add(GlobalMaxPooling1D())\n",
    "    \n",
    "    # Dense layer\n",
    "    model.add(Dense(\n",
    "        hp.Choice('dense_units', [32, 64, 128]),  # Tune number of units in Dense layer\n",
    "        activation='relu'\n",
    "    ))\n",
    "    model.add(Dropout(hp.Choice('dropout', [0.3, 0.5, 0.7])))  # Tune dropout rate\n",
    "    \n",
    "    # Output layer\n",
    "    model.add(Dense(num_classes, activation='softmax'))\n",
    "    \n",
    "    # Compile the model\n",
    "    model.compile(\n",
    "        optimizer=Adam(learning_rate=hp.Choice('learning_rate', [1e-2, 1e-3, 1e-4])),  # Tune learning rate\n",
    "        loss='sparse_categorical_crossentropy',\n",
    "        metrics=['accuracy']\n",
    "    )\n",
    "    \n",
    "    return model"
   ]
  },
  {
   "cell_type": "markdown",
   "id": "3ddfa850-659d-438c-b85f-4d19c0d86a6c",
   "metadata": {},
   "source": [
    "### Setup Keras Tuner"
   ]
  },
  {
   "cell_type": "code",
   "execution_count": 35,
   "id": "4aa17c4a-f302-4673-9cec-ab49bb07c14c",
   "metadata": {},
   "outputs": [],
   "source": [
    "tuner = kt.RandomSearch(\n",
    "    build_model,  # Pass the model-building function\n",
    "    objective='val_accuracy',  # Optimize for validation accuracy\n",
    "    max_trials=10,             # Number of hyperparameter combinations to try\n",
    "    executions_per_trial=1,    # Number of times to train each model configuration\n",
    "    directory='tuning_results',  # Folder to save tuning logs\n",
    "    project_name='cnn_text_classification'\n",
    ")"
   ]
  },
  {
   "cell_type": "markdown",
   "id": "63de5209-5b04-4af1-b923-c253edd89d44",
   "metadata": {},
   "source": [
    "### Hyperparameter Search"
   ]
  },
  {
   "cell_type": "code",
   "execution_count": 36,
   "id": "bda90d02-a7aa-4033-9aff-bc0c94f40329",
   "metadata": {},
   "outputs": [
    {
     "name": "stdout",
     "output_type": "stream",
     "text": [
      "Trial 10 Complete [00h 01m 01s]\n",
      "val_accuracy: 0.8987886905670166\n",
      "\n",
      "Best val_accuracy So Far: 0.9030515551567078\n",
      "Total elapsed time: 00h 10m 56s\n"
     ]
    }
   ],
   "source": [
    "tuner.search(\n",
    "    X_train_pad, \n",
    "    y_train_enc,\n",
    "    validation_data=(X_val_pad, y_val_enc),\n",
    "    epochs=5,  # You can increase this to allow more training for each trial\n",
    "    batch_size=32,  # Fixed for now, or you can also tune it\n",
    "    verbose=1\n",
    ")"
   ]
  },
  {
   "cell_type": "code",
   "execution_count": 37,
   "id": "ede224f0-7505-41e9-a426-bc23c4ff290f",
   "metadata": {},
   "outputs": [
    {
     "name": "stdout",
     "output_type": "stream",
     "text": [
      "Best Embedding Dimension: 200\n",
      "Best Number of Filters: 256\n",
      "Best Kernel Size: 3\n",
      "Best Dense Units: 64\n",
      "Best Dropout Rate: 0.5\n",
      "Best Learning Rate: 0.0001\n"
     ]
    }
   ],
   "source": [
    "best_hps = tuner.get_best_hyperparameters(num_trials=1)[0]\n",
    "\n",
    "print(f\"Best Embedding Dimension: {best_hps.get('embedding_dim')}\")\n",
    "print(f\"Best Number of Filters: {best_hps.get('filters')}\")\n",
    "print(f\"Best Kernel Size: {best_hps.get('kernel_size')}\")\n",
    "print(f\"Best Dense Units: {best_hps.get('dense_units')}\")\n",
    "print(f\"Best Dropout Rate: {best_hps.get('dropout')}\")\n",
    "print(f\"Best Learning Rate: {best_hps.get('learning_rate')}\")"
   ]
  },
  {
   "cell_type": "markdown",
   "id": "ebeceb0b-3c11-4649-b208-ddeb8bab8fd4",
   "metadata": {},
   "source": [
    "### Train the Model"
   ]
  },
  {
   "cell_type": "code",
   "execution_count": 38,
   "id": "a95f45c7-da7e-42e7-ae87-0a58911518e6",
   "metadata": {},
   "outputs": [
    {
     "name": "stdout",
     "output_type": "stream",
     "text": [
      "Epoch 1/5\n",
      "3456/3456 [==============================] - 13s 4ms/step - loss: 0.6032 - accuracy: 0.7603 - val_loss: 0.3450 - val_accuracy: 0.8895\n",
      "Epoch 2/5\n",
      "3456/3456 [==============================] - 12s 4ms/step - loss: 0.3264 - accuracy: 0.9006 - val_loss: 0.3148 - val_accuracy: 0.9013\n",
      "Epoch 3/5\n",
      "3456/3456 [==============================] - 12s 4ms/step - loss: 0.2856 - accuracy: 0.9129 - val_loss: 0.3118 - val_accuracy: 0.9017\n",
      "Epoch 4/5\n",
      "3456/3456 [==============================] - 12s 4ms/step - loss: 0.2555 - accuracy: 0.9220 - val_loss: 0.3223 - val_accuracy: 0.8940\n",
      "Epoch 5/5\n",
      "3456/3456 [==============================] - 13s 4ms/step - loss: 0.2252 - accuracy: 0.9319 - val_loss: 0.3278 - val_accuracy: 0.8991\n"
     ]
    }
   ],
   "source": [
    "best_model = tuner.hypermodel.build(best_hps)\n",
    "\n",
    "# Train the best model\n",
    "history = best_model.fit(\n",
    "    X_train_pad, \n",
    "    y_train_enc,\n",
    "    validation_data=(X_val_pad, y_val_enc),\n",
    "    epochs=5,  # Train for more epochs with the best configuration\n",
    "    batch_size=32,  # Fixed for now\n",
    "    verbose=1\n",
    ")"
   ]
  },
  {
   "cell_type": "markdown",
   "id": "da3edbbf-5062-4ecc-8218-52614d30605d",
   "metadata": {},
   "source": [
    "### Evaluate the test set"
   ]
  },
  {
   "cell_type": "code",
   "execution_count": 39,
   "id": "9031021a-108e-4e24-a82b-4697d8b15bf2",
   "metadata": {},
   "outputs": [
    {
     "name": "stdout",
     "output_type": "stream",
     "text": [
      "741/741 [==============================] - 1s 835us/step\n",
      "Test Accuracy:  0.9013\n",
      "Test Precision: 0.9015\n",
      "Test Recall:    0.9013\n",
      "Test F1-score:  0.9011\n",
      "\n",
      "Classification Report:\n",
      "              precision    recall  f1-score   support\n",
      "\n",
      "           0       0.85      0.84      0.85      5220\n",
      "           1       0.90      0.94      0.92      7889\n",
      "           2       0.93      0.90      0.91     10584\n",
      "\n",
      "    accuracy                           0.90     23693\n",
      "   macro avg       0.89      0.90      0.89     23693\n",
      "weighted avg       0.90      0.90      0.90     23693\n",
      "\n"
     ]
    },
    {
     "data": {
      "image/png": "[encoded data removed]",
      "text/plain": [
       "<Figure size 600x400 with 2 Axes>"
      ]
     },
     "metadata": {},
     "output_type": "display_data"
    }
   ],
   "source": [
    "# Predictions\n",
    "y_pred_probs = best_model.predict(X_test_pad)  # Use the best_model from hyperparameter tuning\n",
    "y_pred = np.argmax(y_pred_probs, axis=1)  # Convert probabilities to class predictions\n",
    "\n",
    "# Metrics\n",
    "accuracy = accuracy_score(y_test_enc, y_pred)\n",
    "precision = precision_score(y_test_enc, y_pred, average='weighted', zero_division=0)\n",
    "recall = recall_score(y_test_enc, y_pred, average='weighted', zero_division=0)\n",
    "f1 = f1_score(y_test_enc, y_pred, average='weighted', zero_division=0)\n",
    "\n",
    "print(\"Test Accuracy:  {:.4f}\".format(accuracy))\n",
    "print(\"Test Precision: {:.4f}\".format(precision))\n",
    "print(\"Test Recall:    {:.4f}\".format(recall))\n",
    "print(\"Test F1-score:  {:.4f}\".format(f1))\n",
    "\n",
    "# Classification Report\n",
    "print(\"\\nClassification Report:\")\n",
    "print(classification_report(y_test_enc, y_pred, zero_division=0))\n",
    "\n",
    "# Confusion Matrix\n",
    "cm = confusion_matrix(y_test_enc, y_pred)\n",
    "plt.figure(figsize=(6, 4))\n",
    "sns.heatmap(cm, annot=True, fmt='d', cmap='Greens', xticklabels=np.unique(y_test_enc), yticklabels=np.unique(y_test_enc))\n",
    "plt.title('CNN Confusion Matrix')\n",
    "plt.xlabel('Predicted')\n",
    "plt.ylabel('True')\n",
    "plt.show()"
   ]
  },
  {
   "cell_type": "markdown",
   "id": "cc0e2372-2ffc-4e10-a327-b3963deca047",
   "metadata": {},
   "source": [
    "### Plot Training History"
   ]
  },
  {
   "cell_type": "code",
   "execution_count": 40,
   "id": "82a3df35-fa44-4e96-8d53-0988b9478502",
   "metadata": {},
   "outputs": [
    {
     "data": {
      "image/png": "[encoded data removed]",
      "text/plain": [
       "<Figure size 1200x500 with 2 Axes>"
      ]
     },
     "metadata": {},
     "output_type": "display_data"
    }
   ],
   "source": [
    "def plot_training_history(history):\n",
    "    \"\"\"\n",
    "    Plots the accuracy and loss curves from the training history.\n",
    "    \"\"\"\n",
    "    # Accuracy\n",
    "    plt.figure(figsize=(12, 5))\n",
    "    \n",
    "    # Subplot 1: Accuracy\n",
    "    plt.subplot(1, 2, 1)\n",
    "    plt.plot(history.history['accuracy'], label='Train Accuracy', marker='o')\n",
    "    plt.plot(history.history['val_accuracy'], label='Val Accuracy', marker='o')\n",
    "    plt.title('Training & Validation Accuracy')\n",
    "    plt.xlabel('Epoch')\n",
    "    plt.ylabel('Accuracy')\n",
    "    plt.legend()\n",
    "    \n",
    "    # Subplot 2: Loss\n",
    "    plt.subplot(1, 2, 2)\n",
    "    plt.plot(history.history['loss'], label='Train Loss', marker='o')\n",
    "    plt.plot(history.history['val_loss'], label='Val Loss', marker='o')\n",
    "    plt.title('Training & Validation Loss')\n",
    "    plt.xlabel('Epoch')\n",
    "    plt.ylabel('Loss')\n",
    "    plt.legend()\n",
    "    \n",
    "    plt.tight_layout()\n",
    "    plt.show()\n",
    "\n",
    "plot_training_history(history)"
   ]
  },
  {
   "cell_type": "markdown",
   "id": "4229e1f5-458f-4169-9cf6-081b26c214f4",
   "metadata": {},
   "source": [
    "## RNN (Abandoned)"
   ]
  },
  {
   "cell_type": "code",
   "execution_count": null,
   "id": "1868f8fc-d0e2-4606-bb82-22bbb88f7504",
   "metadata": {},
   "outputs": [],
   "source": [
    "from tensorflow.keras.layers import Embedding, SimpleRNN, Dense, Dropout"
   ]
  },
  {
   "cell_type": "code",
   "execution_count": null,
   "id": "7563ab7e-3a63-4eff-9d75-46a812d01d76",
   "metadata": {},
   "outputs": [],
   "source": [
    "# Hyperparameters\n",
    "vocab_size    = 10000   # Should match the tokenizer.num_words if used\n",
    "embedding_dim = 100\n",
    "input_length  = X_train_pad.shape[1]  # The max_len used for padding\n",
    "num_classes   = len(np.unique(y_train_enc))"
   ]
  },
  {
   "cell_type": "markdown",
   "id": "1ce047d3-5efc-41c7-a560-da5edd0a5818",
   "metadata": {},
   "source": [
    "### Build RNN Model "
   ]
  },
  {
   "cell_type": "code",
   "execution_count": null,
   "id": "7bdbae1a-caa9-4322-a7ec-3b09353f6f40",
   "metadata": {},
   "outputs": [],
   "source": [
    "def build_rnn_model(vocab_size, embedding_dim, input_length, num_classes):\n",
    "    \"\"\"\n",
    "    Build a simple RNN model for text classification.\n",
    "    :param vocab_size: size of vocabulary for embedding layer\n",
    "    :param embedding_dim: dimension of the embeddings\n",
    "    :param input_length: maximum length of input sequences\n",
    "    :param num_classes: number of output classes\n",
    "    :return: compiled Keras model\n",
    "    \"\"\"\n",
    "    model = Sequential()\n",
    "    model.add(Embedding(input_dim=vocab_size, \n",
    "                        output_dim=embedding_dim, \n",
    "                        input_length=input_length))\n",
    "    \n",
    "    # Simple Recurrent Layer\n",
    "    model.add(SimpleRNN(128, activation='relu'))  \n",
    "    # You can also try activation='tanh' or different units\n",
    "\n",
    "    model.add(Dropout(0.5))\n",
    "    model.add(Dense(64, activation='relu'))\n",
    "    \n",
    "    # Output layer\n",
    "    model.add(Dense(num_classes, activation='softmax'))\n",
    "    \n",
    "    model.compile(\n",
    "        loss='sparse_categorical_crossentropy',\n",
    "        optimizer=Adam(learning_rate=1e-3),\n",
    "        metrics=['accuracy']\n",
    "    )\n",
    "    return model"
   ]
  },
  {
   "cell_type": "markdown",
   "id": "da5ad350-10cc-405e-8a0c-77a0f221d71c",
   "metadata": {},
   "source": [
    "### Train the Model"
   ]
  },
  {
   "cell_type": "code",
   "execution_count": null,
   "id": "dbaec641-cb45-4837-b503-432a5786dea8",
   "metadata": {},
   "outputs": [],
   "source": [
    "rnn_model = build_rnn_model(vocab_size, embedding_dim, input_length, num_classes)\n",
    "rnn_model.build(input_shape=(None, input_length))\n",
    "print(rnn_model.summary())\n",
    "\n",
    "batch_size = 32\n",
    "epochs     = 5\n",
    "\n",
    "history_rnn = rnn_model.fit(\n",
    "    X_train_pad, \n",
    "    y_train_enc, \n",
    "    validation_data=(X_val_pad, y_val_enc),\n",
    "    batch_size=batch_size,\n",
    "    epochs=epochs,\n",
    "    verbose=1\n",
    ")\n"
   ]
  },
  {
   "cell_type": "markdown",
   "id": "2eddc095-9db7-40e3-a620-854ccdf0c3c7",
   "metadata": {},
   "source": [
    "### Evaluate on Test Set"
   ]
  },
  {
   "cell_type": "code",
   "execution_count": null,
   "id": "55dacf02-81db-493e-a06b-126084715105",
   "metadata": {},
   "outputs": [],
   "source": [
    "y_pred_probs_rnn = rnn_model.predict(X_test_pad)\n",
    "y_pred_rnn        = np.argmax(y_pred_probs_rnn, axis=1)\n",
    "\n",
    "# Calculate metrics\n",
    "accuracy_rnn  = accuracy_score(y_test_enc, y_pred_rnn)\n",
    "precision_rnn = precision_score(y_test_enc, y_pred_rnn, average='weighted', zero_division=0)\n",
    "recall_rnn    = recall_score(y_test_enc, y_pred_rnn, average='weighted', zero_division=0)\n",
    "f1_rnn        = f1_score(y_test_enc, y_pred_rnn, average='weighted', zero_division=0)\n",
    "\n",
    "print(\"RNN Test Accuracy:  {:.4f}\".format(accuracy_rnn))\n",
    "print(\"RNN Test Precision: {:.4f}\".format(precision_rnn))\n",
    "print(\"RNN Test Recall:    {:.4f}\".format(recall_rnn))\n",
    "print(\"RNN Test F1-score:  {:.4f}\".format(f1_rnn))\n",
    "\n",
    "print(\"\\nRNN Classification Report:\")\n",
    "print(classification_report(y_test_enc, y_pred_rnn, zero_division=0))\n",
    "\n",
    "# Confusion Matrix\n",
    "cm_rnn = confusion_matrix(y_test_enc, y_pred_rnn)\n",
    "plt.figure(figsize=(6,4))\n",
    "sns.heatmap(cm_rnn, annot=True, fmt='d', cmap='Blues')\n",
    "plt.title('RNN Confusion Matrix')\n",
    "plt.xlabel('Predicted')\n",
    "plt.ylabel('True')\n",
    "plt.show()"
   ]
  },
  {
   "cell_type": "markdown",
   "id": "3c77b0aa-4579-4011-9996-a7b554c474da",
   "metadata": {},
   "source": [
    "### Plot Training History"
   ]
  },
  {
   "cell_type": "code",
   "execution_count": null,
   "id": "0bf52ed8-3e1c-44a0-905b-e5dc8a8ebefb",
   "metadata": {},
   "outputs": [],
   "source": [
    "def plot_training_history_rnn(history):\n",
    "    \"\"\"\n",
    "    Plots the accuracy and loss curves from the RNN training history.\n",
    "    \"\"\"\n",
    "    plt.figure(figsize=(12, 5))\n",
    "    \n",
    "    # Subplot 1: Accuracy\n",
    "    plt.subplot(1, 2, 1)\n",
    "    plt.plot(history.history['accuracy'], label='Train Accuracy', marker='o')\n",
    "    plt.plot(history.history['val_accuracy'], label='Val Accuracy', marker='o')\n",
    "    plt.title('RNN: Training & Validation Accuracy')\n",
    "    plt.xlabel('Epoch')\n",
    "    plt.ylabel('Accuracy')\n",
    "    plt.legend()\n",
    "    \n",
    "    # Subplot 2: Loss\n",
    "    plt.subplot(1, 2, 2)\n",
    "    plt.plot(history.history['loss'], label='Train Loss', marker='o')\n",
    "    plt.plot(history.history['val_loss'], label='Val Loss', marker='o')\n",
    "    plt.title('RNN: Training & Validation Loss')\n",
    "    plt.xlabel('Epoch')\n",
    "    plt.ylabel('Loss')\n",
    "    plt.legend()\n",
    "\n",
    "    plt.tight_layout()\n",
    "    plt.show()\n",
    "\n",
    "plot_training_history_rnn(history_rnn)"
   ]
  },
  {
   "cell_type": "markdown",
   "id": "3ac8f923-8bca-4f35-a3ca-bd36e9fa49b7",
   "metadata": {},
   "source": [
    "## LSTM"
   ]
  },
  {
   "cell_type": "code",
   "execution_count": 20,
   "id": "b0b69984-35e5-440a-a244-9169bbb08e72",
   "metadata": {},
   "outputs": [],
   "source": [
    "from tensorflow.keras.models import Sequential\n",
    "from tensorflow.keras.layers import Embedding, LSTM, Dense, Dropout\n",
    "from tensorflow.keras.optimizers import Adam\n",
    "import keras_tuner as kt"
   ]
  },
  {
   "cell_type": "code",
   "execution_count": 21,
   "id": "5cc6b156-a724-446a-8669-2efa85fd6f81",
   "metadata": {},
   "outputs": [],
   "source": [
    "def build_lstm_model(hp):\n",
    "    \"\"\"\n",
    "    Build an LSTM model with tunable hyperparameters for text classification.\n",
    "    :param hp: Hyperparameter object from Keras Tuner\n",
    "    :return: Compiled Keras model\n",
    "    \"\"\"\n",
    "    model = Sequential()\n",
    "    \n",
    "    # Embedding layer with tunable embedding dimensions\n",
    "    model.add(Embedding(\n",
    "        input_dim=vocab_size,\n",
    "        output_dim=hp.Choice('embedding_dim', [5000, 10000, 20000]),  # Tune embedding dimensions\n",
    "        input_length=input_length\n",
    "    ))\n",
    "    \n",
    "    # LSTM layer with tunable units\n",
    "    model.add(LSTM(\n",
    "        units=hp.Choice('lstm_units', [64, 128, 256]),  # Tune number of units in LSTM\n",
    "        return_sequences=False, \n",
    "        activation='tanh'\n",
    "    ))\n",
    "    \n",
    "    # Dropout layer with tunable dropout rate\n",
    "    model.add(Dropout(hp.Choice('dropout', [0.3, 0.5, 0.7])))\n",
    "\n",
    "    # Dense layer with tunable units\n",
    "    model.add(Dense(\n",
    "        units=hp.Choice('dense_units', [32, 64, 128]),  # Tune number of units in Dense layer\n",
    "        activation='relu'\n",
    "    ))\n",
    "\n",
    "    # Output layer\n",
    "    model.add(Dense(num_classes, activation='softmax'))\n",
    "    \n",
    "    # Compile the model with a tunable learning rate\n",
    "    model.compile(\n",
    "        optimizer=Adam(learning_rate=hp.Choice('learning_rate', [1e-2, 1e-3, 1e-4])),  # Tune learning rate\n",
    "        loss='sparse_categorical_crossentropy',\n",
    "        metrics=['accuracy']\n",
    "    )\n",
    "    \n",
    "    return model"
   ]
  },
  {
   "cell_type": "markdown",
   "id": "ce0504e2-4faa-4f4a-8fae-3ebc73b92e89",
   "metadata": {},
   "source": [
    "### Initialize the Keras Tuner"
   ]
  },
  {
   "cell_type": "code",
   "execution_count": 22,
   "id": "942e4a6e-584f-432a-bf77-69c24ee26505",
   "metadata": {},
   "outputs": [
    {
     "name": "stdout",
     "output_type": "stream",
     "text": [
      "Reloading Tuner from lstm_tuning_results\\lstm_text_classification\\tuner0.json\n"
     ]
    }
   ],
   "source": [
    "# Initialize the tuner\n",
    "tuner = kt.RandomSearch(\n",
    "    build_lstm_model,  # Pass the model-building function\n",
    "    objective='val_accuracy',  # Optimize for validation accuracy\n",
    "    max_trials=10,  # Number of combinations to try\n",
    "    directory='lstm_tuning_results',  # Save tuning logs here\n",
    "    project_name='lstm_text_classification'  # Name of the project\n",
    ")"
   ]
  },
  {
   "cell_type": "markdown",
   "id": "9d587da7-c91d-42ba-850e-4c8d040ab2b5",
   "metadata": {},
   "source": [
    "### Hyperparameter Search"
   ]
  },
  {
   "cell_type": "code",
   "execution_count": 23,
   "id": "e63c4c1a-fc61-4287-8905-bd9a69d2aaf8",
   "metadata": {},
   "outputs": [
    {
     "name": "stdout",
     "output_type": "stream",
     "text": [
      "Trial 10 Complete [00h 05m 35s]\n",
      "val_accuracy: 0.44671422243118286\n",
      "\n",
      "Best val_accuracy So Far: 0.44671422243118286\n",
      "Total elapsed time: 01h 06m 28s\n"
     ]
    }
   ],
   "source": [
    "# Perform the hyperparameter search\n",
    "tuner.search(\n",
    "    X_train_pad, \n",
    "    y_train_enc, \n",
    "    validation_data=(X_val_pad, y_val_enc),\n",
    "    epochs=5,  # You can increase this for better tuning\n",
    "    batch_size=32,  # Fixed batch size for now; can also tune this\n",
    "    verbose=1\n",
    ")"
   ]
  },
  {
   "cell_type": "code",
   "execution_count": 34,
   "id": "4eae7908",
   "metadata": {},
   "outputs": [
    {
     "name": "stdout",
     "output_type": "stream",
     "text": [
      "Best Embedding Dimension: 200\n",
      "Best LSTM Units: 128\n",
      "Best Dense Units: 128\n",
      "Best Dropout Rate: 0.5\n",
      "Best Learning Rate: 0.001\n"
     ]
    }
   ],
   "source": [
    "best_hps = tuner.get_best_hyperparameters(num_trials=1)[0]\n",
    "\n",
    "print(f\"Best Embedding Dimension: {best_hps.get('embedding_dim')}\")\n",
    "print(f\"Best LSTM Units: {best_hps.get('lstm_units')}\")\n",
    "print(f\"Best Dense Units: {best_hps.get('dense_units')}\")\n",
    "print(f\"Best Dropout Rate: {best_hps.get('dropout')}\")\n",
    "print(f\"Best Learning Rate: {best_hps.get('learning_rate')}\")"
   ]
  },
  {
   "cell_type": "markdown",
   "id": "25040ff7-8100-4dee-a376-3dee768650d0",
   "metadata": {},
   "source": [
    "### Train the model"
   ]
  },
  {
   "cell_type": "code",
   "execution_count": 35,
   "id": "7f3de74f-6762-475d-aaa2-54bb6a7f81f9",
   "metadata": {},
   "outputs": [
    {
     "name": "stdout",
     "output_type": "stream",
     "text": [
      "Epoch 1/5\n",
      "3456/3456 [==============================] - 66s 19ms/step - loss: 1.0610 - accuracy: 0.4466 - val_loss: 1.0595 - val_accuracy: 0.4467\n",
      "Epoch 2/5\n",
      "3456/3456 [==============================] - 67s 19ms/step - loss: 1.0600 - accuracy: 0.4467 - val_loss: 1.0595 - val_accuracy: 0.4467\n",
      "Epoch 3/5\n",
      "3456/3456 [==============================] - 64s 19ms/step - loss: 1.0599 - accuracy: 0.4466 - val_loss: 1.0596 - val_accuracy: 0.4467\n",
      "Epoch 4/5\n",
      "3456/3456 [==============================] - 64s 18ms/step - loss: 1.0598 - accuracy: 0.4467 - val_loss: 1.0596 - val_accuracy: 0.4467\n",
      "Epoch 5/5\n",
      "3456/3456 [==============================] - 63s 18ms/step - loss: 1.0597 - accuracy: 0.4467 - val_loss: 1.0594 - val_accuracy: 0.4467\n"
     ]
    }
   ],
   "source": [
    "best_model = tuner.hypermodel.build(best_hps)\n",
    "\n",
    "# Train the best model\n",
    "history = best_model.fit(\n",
    "    X_train_pad, \n",
    "    y_train_enc,\n",
    "    validation_data=(X_val_pad, y_val_enc),\n",
    "    epochs=5,  # Train for more epochs with the best configuration\n",
    "    batch_size=32,  # Fixed for now\n",
    "    verbose=1\n",
    ")"
   ]
  },
  {
   "cell_type": "markdown",
   "id": "0f2983bb-3ba2-441c-a4a9-693da84aaf9b",
   "metadata": {},
   "source": [
    "### Evaluate the test set"
   ]
  },
  {
   "cell_type": "code",
   "execution_count": 36,
   "id": "00de78b9-bd7e-4a5c-a935-4c604841f590",
   "metadata": {},
   "outputs": [
    {
     "name": "stdout",
     "output_type": "stream",
     "text": [
      "741/741 [==============================] - 5s 7ms/step\n",
      "Test Accuracy:  0.4467\n",
      "Test Precision: 0.1996\n",
      "Test Recall:    0.4467\n",
      "Test F1-score:  0.2759\n",
      "\n",
      "Classification Report:\n",
      "              precision    recall  f1-score   support\n",
      "\n",
      "           0       0.00      0.00      0.00      5220\n",
      "           1       0.00      0.00      0.00      7889\n",
      "           2       0.45      1.00      0.62     10584\n",
      "\n",
      "    accuracy                           0.45     23693\n",
      "   macro avg       0.15      0.33      0.21     23693\n",
      "weighted avg       0.20      0.45      0.28     23693\n",
      "\n"
     ]
    },
    {
     "data": {
      "image/png": "[encoded data removed]",
      "text/plain": [
       "<Figure size 600x400 with 2 Axes>"
      ]
     },
     "metadata": {},
     "output_type": "display_data"
    }
   ],
   "source": [
    "# Predictions\n",
    "y_pred_probs = best_model.predict(X_test_pad)  # Use the best_model from hyperparameter tuning\n",
    "y_pred = np.argmax(y_pred_probs, axis=1)  # Convert probabilities to class predictions\n",
    "\n",
    "# Metrics\n",
    "accuracy = accuracy_score(y_test_enc, y_pred)\n",
    "precision = precision_score(y_test_enc, y_pred, average='weighted', zero_division=0)\n",
    "recall = recall_score(y_test_enc, y_pred, average='weighted', zero_division=0)\n",
    "f1 = f1_score(y_test_enc, y_pred, average='weighted', zero_division=0)\n",
    "\n",
    "print(\"Test Accuracy:  {:.4f}\".format(accuracy))\n",
    "print(\"Test Precision: {:.4f}\".format(precision))\n",
    "print(\"Test Recall:    {:.4f}\".format(recall))\n",
    "print(\"Test F1-score:  {:.4f}\".format(f1))\n",
    "\n",
    "# Classification Report\n",
    "print(\"\\nClassification Report:\")\n",
    "print(classification_report(y_test_enc, y_pred, zero_division=0))\n",
    "\n",
    "# Confusion Matrix\n",
    "cm = confusion_matrix(y_test_enc, y_pred)\n",
    "plt.figure(figsize=(6, 4))\n",
    "sns.heatmap(cm, annot=True, fmt='d', cmap='Greens', xticklabels=np.unique(y_test_enc), yticklabels=np.unique(y_test_enc))\n",
    "plt.title('LSTM Confusion Matrix')\n",
    "plt.xlabel('Predicted')\n",
    "plt.ylabel('True')\n",
    "plt.show()"
   ]
  },
  {
   "cell_type": "markdown",
   "id": "afbf0d60-99dd-42d7-ab4b-45a3731b8f74",
   "metadata": {},
   "source": [
    "### Plot the training history"
   ]
  },
  {
   "cell_type": "code",
   "execution_count": 39,
   "id": "71353c9c-7bec-4f0a-9b15-e9f65f243e26",
   "metadata": {},
   "outputs": [
    {
     "data": {
      "image/png": "[encoded data removed]",
      "text/plain": [
       "<Figure size 1200x500 with 2 Axes>"
      ]
     },
     "metadata": {},
     "output_type": "display_data"
    }
   ],
   "source": [
    "def plot_training_history(history):\n",
    "    \"\"\"\n",
    "    Plots the accuracy and loss curves from the training history.\n",
    "    \"\"\"\n",
    "    # Accuracy\n",
    "    plt.figure(figsize=(12, 5))\n",
    "    \n",
    "    # Subplot 1: Accuracy\n",
    "    plt.subplot(1, 2, 1)\n",
    "    plt.plot(history.history['accuracy'], label='Train Accuracy', marker='o')\n",
    "    plt.plot(history.history['val_accuracy'], label='Val Accuracy', marker='o')\n",
    "    plt.title('Training & Validation Accuracy')\n",
    "    plt.xlabel('Epoch')\n",
    "    plt.ylabel('Accuracy')\n",
    "    plt.legend()\n",
    "    \n",
    "    # Subplot 2: Loss\n",
    "    plt.subplot(1, 2, 2)\n",
    "    plt.plot(history.history['loss'], label='Train Loss', marker='o')\n",
    "    plt.plot(history.history['val_loss'], label='Val Loss', marker='o')\n",
    "    plt.title('Training & Validation Loss')\n",
    "    plt.xlabel('Epoch')\n",
    "    plt.ylabel('Loss')\n",
    "    plt.legend()\n",
    "    \n",
    "    plt.tight_layout()\n",
    "    plt.show()\n",
    "\n",
    "plot_training_history(history)"
   ]
  },
  {
   "cell_type": "markdown",
   "id": "59d91a71-a5b6-4be0-9e87-dc16b79f0de9",
   "metadata": {},
   "source": [
    "## FinBert"
   ]
  },
  {
   "cell_type": "code",
   "execution_count": null,
   "id": "0c399a3b-d24d-4ba6-8bf6-2cbf532f59ea",
   "metadata": {},
   "outputs": [],
   "source": [
    "import numpy as np\n",
    "import pandas as pd\n",
    "import torch\n",
    "import evaluate\n",
    "import matplotlib.pyplot as plt\n",
    "import seaborn as sns\n",
    "\n",
    "from sklearn.metrics import confusion_matrix\n",
    "from transformers import AutoTokenizer, AutoModelForSequenceClassification, TrainingArguments, Trainer\n",
    "from datasets import Dataset, DatasetDict"
   ]
  },
  {
   "cell_type": "code",
   "execution_count": null,
   "id": "c25bae49-884a-42cd-ab6d-a54630097ba4",
   "metadata": {},
   "outputs": [],
   "source": [
    "train_df = pd.DataFrame({\n",
    "    'text': df_x_train['Cleaned_Tweet'].tolist(),\n",
    "    'label': y_train_enc\n",
    "})\n",
    "val_df = pd.DataFrame({\n",
    "    'text': df_x_validate['Cleaned_Tweet'].tolist(),\n",
    "    'label': y_val_enc\n",
    "})\n",
    "test_df = pd.DataFrame({\n",
    "    'text': df_x_test['Cleaned_Tweet'].tolist(),\n",
    "    'label': y_test_enc\n",
    "})\n",
    "\n",
    "hf_train_dataset = Dataset.from_pandas(train_df)\n",
    "hf_val_dataset   = Dataset.from_pandas(val_df)\n",
    "hf_test_dataset  = Dataset.from_pandas(test_df)\n",
    "\n",
    "dataset_dict = DatasetDict({\n",
    "    'train': hf_train_dataset,\n",
    "    'validation': hf_val_dataset,\n",
    "    'test': hf_test_dataset\n",
    "})"
   ]
  },
  {
   "cell_type": "markdown",
   "id": "9795b58f-208a-4fab-ab51-2002d9e0e5b9",
   "metadata": {},
   "source": [
    "### Load FinBERT tokenizer & model"
   ]
  },
  {
   "cell_type": "code",
   "execution_count": null,
   "id": "b99b9a38-f8f0-4839-904a-b0dd3f3f4e2b",
   "metadata": {},
   "outputs": [],
   "source": [
    "model_name = \"ProsusAI/finbert\"\n",
    "tokenizer = AutoTokenizer.from_pretrained(model_name)\n",
    "model = AutoModelForSequenceClassification.from_pretrained(model_name, num_labels=len(np.unique(y_train_enc)))"
   ]
  },
  {
   "cell_type": "markdown",
   "id": "9273438d-80fb-4cce-a70f-e361c53c842e",
   "metadata": {},
   "source": [
    "### Tokenize function"
   ]
  },
  {
   "cell_type": "code",
   "execution_count": null,
   "id": "01ce5d44-ec70-4594-9f94-5c620dee7152",
   "metadata": {},
   "outputs": [],
   "source": [
    "def tokenize_function(example):\n",
    "    return tokenizer(example['text'], truncation=True, padding='max_length', max_length=128)\n",
    "\n",
    "tokenized_dataset = dataset_dict.map(tokenize_function, batched=True)"
   ]
  },
  {
   "cell_type": "code",
   "execution_count": null,
   "id": "3f09a2ff-d768-4b70-9582-caeb6bf714bf",
   "metadata": {},
   "outputs": [],
   "source": [
    "# Set format for Pytorch\n",
    "tokenized_dataset.set_format(\"torch\")"
   ]
  },
  {
   "cell_type": "markdown",
   "id": "396dcda5-0c0a-4611-ae2a-0e2233a5d69b",
   "metadata": {},
   "source": [
    "### Define Metric Function"
   ]
  },
  {
   "cell_type": "code",
   "execution_count": null,
   "id": "dc15b765-6e3c-43ee-895e-f9082472bacb",
   "metadata": {},
   "outputs": [],
   "source": [
    "accuracy_metric  = evaluate.load(\"accuracy\")\n",
    "precision_metric = evaluate.load(\"precision\")\n",
    "recall_metric    = evaluate.load(\"recall\")\n",
    "f1_metric        = evaluate.load(\"f1\")\n",
    "\n",
    "def compute_metrics(eval_pred):\n",
    "    logits, labels = eval_pred\n",
    "    predictions = np.argmax(logits, axis=-1)\n",
    "    \n",
    "    acc  = accuracy_metric.compute(predictions=predictions, references=labels)\n",
    "    prec = precision_metric.compute(predictions=predictions, references=labels, average='weighted')\n",
    "    rec  = recall_metric.compute(predictions=predictions, references=labels, average='weighted')\n",
    "    f1   = f1_metric.compute(predictions=predictions, references=labels, average='weighted')\n",
    "    \n",
    "    return {\n",
    "        \"accuracy\": acc[\"accuracy\"],\n",
    "        \"precision\": prec[\"precision\"],\n",
    "        \"recall\": rec[\"recall\"],\n",
    "        \"f1\": f1[\"f1\"]\n",
    "    }"
   ]
  },
  {
   "cell_type": "markdown",
   "id": "33b1019c-3be1-4f04-a8ef-927533862670",
   "metadata": {},
   "source": [
    "### Training"
   ]
  },
  {
   "cell_type": "code",
   "execution_count": null,
   "id": "7e96fe9c-c26c-4b56-9329-68262627dfcd",
   "metadata": {},
   "outputs": [],
   "source": [
    "training_args = TrainingArguments(\n",
    "    output_dir=\"finbert-sentiment-checkpoints\",\n",
    "    evaluation_strategy=\"epoch\",     # Evaluate every epoch\n",
    "    save_strategy=\"epoch\",           # Save checkpoints every epoch\n",
    "    learning_rate=2e-5,\n",
    "    per_device_train_batch_size=8,\n",
    "    per_device_eval_batch_size=8,\n",
    "    num_train_epochs=3,\n",
    "    weight_decay=0.01,\n",
    "    logging_dir=\"finbert-logs\",\n",
    "    load_best_model_at_end=True,\n",
    "    metric_for_best_model=\"f1\"       # We'll use F1 to pick best model\n",
    ")"
   ]
  },
  {
   "cell_type": "code",
   "execution_count": null,
   "id": "f7ff0ea9-dc57-4b5e-a9aa-b2bb38ce986f",
   "metadata": {},
   "outputs": [],
   "source": [
    "trainer = Trainer(\n",
    "    model=model,\n",
    "    args=training_args,\n",
    "    train_dataset=tokenized_dataset[\"train\"],\n",
    "    eval_dataset=tokenized_dataset[\"validation\"],\n",
    "    tokenizer=tokenizer,\n",
    "    compute_metrics=compute_metrics\n",
    ")"
   ]
  },
  {
   "cell_type": "code",
   "execution_count": null,
   "id": "f42092a7-6fcf-4ffc-a881-0136a4aef8ca",
   "metadata": {},
   "outputs": [],
   "source": [
    "train_result = trainer.train()\n",
    "trainer.save_model(\"finbert-sentiment-model\")  # Save final model"
   ]
  },
  {
   "cell_type": "markdown",
   "id": "dad0b943-4c71-41f0-8b2b-faa348b321c6",
   "metadata": {},
   "source": [
    "### Evaluate on Validation and Test set\n"
   ]
  },
  {
   "cell_type": "code",
   "execution_count": null,
   "id": "d5f0480b-93b5-4e09-8b4a-27c0c58797bd",
   "metadata": {},
   "outputs": [],
   "source": [
    "print(\"Validation Set Evaluation:\")\n",
    "val_metrics = trainer.evaluate(eval_dataset=tokenized_dataset[\"validation\"])\n",
    "print(val_metrics)\n",
    "\n",
    "print(\"\\nTest Set Evaluation:\")\n",
    "test_metrics = trainer.evaluate(eval_dataset=tokenized_dataset[\"test\"])\n",
    "print(test_metrics)"
   ]
  },
  {
   "cell_type": "markdown",
   "id": "d5507373-06fe-4d5c-a45c-bf73896e11d8",
   "metadata": {},
   "source": [
    "### Predictions"
   ]
  },
  {
   "cell_type": "code",
   "execution_count": null,
   "id": "eef6e65a-1f91-4d61-a038-b209c53bc2c1",
   "metadata": {},
   "outputs": [],
   "source": [
    "predictions_output = trainer.predict(tokenized_dataset[\"test\"])\n",
    "logits = predictions_output.predictions\n",
    "labels = predictions_output.label_ids\n",
    "\n",
    "predictions = np.argmax(logits, axis=-1)\n",
    "\n",
    "# Confusion matrix\n",
    "cm = confusion_matrix(labels, predictions)\n",
    "plt.figure(figsize=(6,4))\n",
    "sns.heatmap(cm, annot=True, fmt='d', cmap='Blues')\n",
    "plt.title('FinBERT Confusion Matrix')\n",
    "plt.xlabel('Predicted')\n",
    "plt.ylabel('True')\n",
    "plt.show()\n",
    "\n",
    "# If you want classification report via sklearn:\n",
    "from sklearn.metrics import classification_report\n",
    "print(\"Classification Report (Test Set):\")\n",
    "print(classification_report(labels, predictions, zero_division=0))"
   ]
  },
  {
   "cell_type": "markdown",
   "id": "fd7fe7ff-24cd-4b3c-81ef-25c9a499ab8f",
   "metadata": {},
   "source": [
    "## Reddit"
   ]
  },
  {
   "cell_type": "markdown",
   "id": "afc2f8cb-bb07-46ee-94db-9fca4561bd0d",
   "metadata": {},
   "source": [
    "### Data Cleaning"
   ]
  },
  {
   "cell_type": "code",
   "execution_count": 137,
   "id": "46c1f792-c4ec-4017-b321-25a962a9dc1a",
   "metadata": {},
   "outputs": [],
   "source": [
    "# Function to clean tweets\n",
    "\n",
    "# Convert all entries in 'comment' column to strings\n",
    "df_reddit['comment'] = df_reddit['comment'].astype(str)\n",
    "\n",
    "# Convert all entries in 'text' column to strings\n",
    "df_reddit['Cleaned_Comment'] = df_reddit['comment'].astype(str)\n",
    "\n",
    "def clean_comment(comment):\n",
    "    # Remove mentions (@username)\n",
    "    comment = re.sub(r'@\\w+', '', comment)\n",
    "    # Remove URLs\n",
    "    comment = re.sub(r'http\\S+|www\\S+|https\\S+', '', comment, flags=re.MULTILINE)\n",
    "    # Remove special characters, numbers, and punctuations\n",
    "    comment = re.sub(r'\\W', ' ', comment)\n",
    "    # Remove extra spaces\n",
    "    comment = re.sub(r'\\s+', ' ', comment).strip()\n",
    "    # Convert to lowercase\n",
    "    comment = comment.lower()\n",
    "    return comment\n",
    "\n",
    "# Apply the cleaning function to the 'Tweet' column\n",
    "df_reddit['Cleaned_Comment'] = df_reddit['comment'].apply(clean_comment)"
   ]
  },
  {
   "cell_type": "code",
   "execution_count": 139,
   "id": "424583c2-371b-44b5-b6c7-0dd59b33ad40",
   "metadata": {},
   "outputs": [],
   "source": [
    "# Tokenization\n",
    "df_reddit['Tokens'] = df_reddit['Cleaned_Comment'].apply(word_tokenize)\n",
    "\n",
    "# Removing Stopwords \n",
    "stop_words = set(stopwords.words('english'))\n",
    "df_reddit['Tokens'] = df_reddit['Tokens'].apply(lambda x: [word for word in x if word not in stop_words])\n",
    "\n",
    "# Lemmatization\n",
    "lemmatizer = WordNetLemmatizer()\n",
    "df_reddit['Tokens'] = df_reddit['Tokens'].apply(lambda x: [lemmatizer.lemmatize(word) for word in x])"
   ]
  },
  {
   "cell_type": "code",
   "execution_count": null,
   "id": "3dfaa705-8638-4183-ad86-b8a116679e85",
   "metadata": {},
   "outputs": [],
   "source": []
  },
  {
   "cell_type": "markdown",
   "id": "0b4d191e-7c3d-4d43-9307-871e8735d5b8",
   "metadata": {},
   "source": [
    "## Financial News"
   ]
  },
  {
   "cell_type": "code",
   "execution_count": null,
   "id": "9a4630b4-3868-4aff-bdd2-3291486f24da",
   "metadata": {},
   "outputs": [],
   "source": [
    "df_news.head()"
   ]
  },
  {
   "cell_type": "code",
   "execution_count": null,
   "id": "d5bb3f6f-b4df-4813-845a-d3a6cda31de0",
   "metadata": {},
   "outputs": [],
   "source": []
  },
  {
   "cell_type": "code",
   "execution_count": null,
   "id": "c317568e-c37a-46c3-9716-82a3274bc728",
   "metadata": {},
   "outputs": [],
   "source": []
  }
 ],
 "metadata": {
  "kernelspec": {
   "display_name": "GPU_based",
   "language": "python",
   "name": "python3"
  },
  "language_info": {
   "codemirror_mode": {
    "name": "ipython",
    "version": 3
   },
   "file_extension": ".py",
   "mimetype": "text/x-python",
   "name": "python",
   "nbconvert_exporter": "python",
   "pygments_lexer": "ipython3",
   "version": "3.8.18"
  }
 },
 "nbformat": 4,
 "nbformat_minor": 5
}
